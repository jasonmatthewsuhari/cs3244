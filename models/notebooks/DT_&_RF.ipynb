{
 "cells": [
  {
   "cell_type": "markdown",
   "metadata": {
    "id": "5YLHxtVPFoCc"
   },
   "source": [
    "# Importing Libraris"
   ]
  },
  {
   "cell_type": "code",
   "execution_count": 1,
   "metadata": {
    "id": "6aF-6hPpFuwj"
   },
   "outputs": [],
   "source": [
    "import pandas as pd\n",
    "import numpy as np\n",
    "import matplotlib.pyplot as plt\n",
    "import os\n",
    "\n",
    "from sklearn.tree import DecisionTreeClassifier\n",
    "from sklearn.ensemble import RandomForestClassifier, ExtraTreesClassifier\n",
    "import xgboost as xgb\n",
    "import lightgbm as lgb\n",
    "from lightgbm import LGBMClassifier\n",
    "from catboost import CatBoostClassifier\n",
    "from sklearn.model_selection import train_test_split, RandomizedSearchCV, GridSearchCV\n",
    "from sklearn.metrics import accuracy_score, f1_score\n",
    "\n",
    "import joblib\n",
    "from joblib import Parallel, delayed"
   ]
  },
  {
   "cell_type": "markdown",
   "metadata": {
    "id": "RuChsQv9Fv6q"
   },
   "source": [
    "# Loading Data"
   ]
  },
  {
   "cell_type": "code",
   "execution_count": 17,
   "metadata": {
    "id": "GFUgDQgys6hA"
   },
   "outputs": [],
   "source": [
    "# Load dataset\n",
    "train_df = pd.read_csv(\"../../data/train_with_bert_embeddings.csv\")\n",
    "valid_df = pd.read_csv(\"../../data/valid_with_bert_embeddings.csv\")\n",
    "test_df = pd.read_csv(\"../../data/test_with_bert_embeddings.csv\")\n",
    "\n",
    "# Load the pre-saved embeddings\n",
    "train_embeddings = np.load(\"../../data/train_bert_embeddings.npy\")\n",
    "valid_embeddings = np.load(\"../../data/valid_bert_embeddings.npy\")\n",
    "test_embeddings = np.load(\"../../data/test_bert_embeddings.npy\")"
   ]
  },
  {
   "cell_type": "code",
   "execution_count": 19,
   "metadata": {
    "colab": {
     "base_uri": "https://localhost:8080/"
    },
    "id": "5dOEYyvmxRZ5",
    "outputId": "98afa1eb-a9e9-422a-95d0-d918016750f8"
   },
   "outputs": [
    {
     "name": "stdout",
     "output_type": "stream",
     "text": [
      "(133999, 4)\n",
      "                                                text  label  \\\n",
      "0                    Nobody go to Walmart in sulphur      2   \n",
      "1   @emberlhamon @MLidak welcome to the ugly club!!       2   \n",
      "2                      getting to help coach jr high      2   \n",
      "3  Yo Gotti and Black Youngsta on stage we all th...      2   \n",
      "4  @spenceribarra just making sure I haven't been...      2   \n",
      "\n",
      "         embedding_file  embedding_index  \n",
      "0  train_embeddings.npy                0  \n",
      "1  train_embeddings.npy                1  \n",
      "2  train_embeddings.npy                2  \n",
      "3  train_embeddings.npy                3  \n",
      "4  train_embeddings.npy                4  \n"
     ]
    }
   ],
   "source": [
    "# Checking Shape of Train_df\n",
    "print(train_df.shape)\n",
    "print(train_df.head())"
   ]
  },
  {
   "cell_type": "markdown",
   "metadata": {
    "id": "KyRwMNFxy965"
   },
   "source": [
    "# Prepare Features and Labels"
   ]
  },
  {
   "cell_type": "code",
   "execution_count": 21,
   "metadata": {
    "colab": {
     "base_uri": "https://localhost:8080/"
    },
    "id": "Z5gDh5k9ylmE",
    "outputId": "c699d016-7fe0-4075-a3ff-a17cc71c1a8d"
   },
   "outputs": [
    {
     "name": "stdout",
     "output_type": "stream",
     "text": [
      "(133999, 768)\n",
      "(133999,)\n",
      "(17223, 768)\n",
      "(17223,)\n",
      "(17063, 768)\n",
      "(17063,)\n"
     ]
    }
   ],
   "source": [
    "# Features\n",
    "X_train = train_embeddings\n",
    "y_train = train_df['label'].values\n",
    "\n",
    "X_valid = valid_embeddings\n",
    "y_valid = valid_df['label'].values\n",
    "\n",
    "X_test = test_embeddings\n",
    "y_test = test_df['label'].values\n",
    "\n",
    "print(X_train.shape)\n",
    "print(y_train.shape)\n",
    "print(X_valid.shape)\n",
    "print(y_valid.shape)\n",
    "print(X_test.shape)\n",
    "print(y_test.shape)"
   ]
  },
  {
   "cell_type": "markdown",
   "metadata": {
    "id": "eHU_6fyP0Hxg"
   },
   "source": [
    "# Create a Baseline Model and Evaluate"
   ]
  },
  {
   "cell_type": "code",
   "execution_count": 36,
   "metadata": {
    "colab": {
     "base_uri": "https://localhost:8080/"
    },
    "id": "9ZLICHKn0KDy",
    "outputId": "3443e851-b73f-46ba-a54e-89d9fa505f28"
   },
   "outputs": [
    {
     "name": "stdout",
     "output_type": "stream",
     "text": [
      "Train F1 Macro: 0.9803631507990213\n",
      "Validation F1 Macro: 0.30058928404900354\n",
      "Test F1 Macro: 0.2991464218183951\n"
     ]
    }
   ],
   "source": [
    "clf = DecisionTreeClassifier(random_state=42)\n",
    "clf.fit(X_train, y_train)\n",
    "\n",
    "# Evaluate on the train set\n",
    "y_train_pred = clf.predict(X_train)\n",
    "train_f1_macro = f1_score(y_train, y_train_pred, average='macro')  \n",
    "print(\"Train F1 Macro:\", train_f1_macro)\n",
    "\n",
    "# Evaluate on the validation set\n",
    "y_valid_pred = clf.predict(X_valid)\n",
    "valid_f1_macro = f1_score(y_valid, y_valid_pred, average='macro')  \n",
    "print(\"Validation F1 Macro:\", valid_f1_macro)\n",
    "\n",
    "# Evaluate on the test set\n",
    "y_test_pred = clf.predict(X_test)\n",
    "test_f1_macro = f1_score(y_test, y_test_pred, average='macro')  \n",
    "print(\"Test F1 Macro:\", test_f1_macro)\n",
    "\n",
    "# The model overfits on the train data"
   ]
  },
  {
   "cell_type": "markdown",
   "metadata": {
    "id": "S3foyLNk3JGG"
   },
   "source": [
    "# pre-Pruning (Hyperparameter Tuning)"
   ]
  },
  {
   "cell_type": "code",
   "execution_count": 37,
   "metadata": {
    "colab": {
     "base_uri": "https://localhost:8080/",
     "height": 356
    },
    "id": "xkPGohJdbzbv",
    "outputId": "ce31ef0b-e484-4d8a-eed2-c2ae000e0083"
   },
   "outputs": [
    {
     "name": "stdout",
     "output_type": "stream",
     "text": [
      "Best Parameters from training: {'min_samples_split': 5, 'min_samples_leaf': 2, 'max_depth': 10}\n",
      "Train F1 Macro: 0.39898199457267347\n",
      "Validation F1 Macro: 0.32963359180509455\n",
      "Test F1 Macro: 0.32488802165596287\n"
     ]
    }
   ],
   "source": [
    "# Using RandomGridSearch this time\n",
    "param_grid = {\n",
    "    'max_depth': [None, 10, 20, 30],\n",
    "    'min_samples_split': [2, 5, 10],\n",
    "    'min_samples_leaf': [1, 2, 4],\n",
    "}\n",
    "\n",
    "# Use RandomizedSearchCV on the training set\n",
    "random_search = RandomizedSearchCV(clf, param_distributions=param_grid,\n",
    "                                   n_iter=20, cv=5, scoring='f1_macro',\n",
    "                                   random_state=42, n_jobs=12)\n",
    "random_search.fit(X_train, y_train)\n",
    "\n",
    "print(\"Best Parameters from training:\", random_search.best_params_)\n",
    "\n",
    "# Evaluate on the train set\n",
    "train_f1_macro = f1_score(y_train, random_search.best_estimator_.predict(X_train), average='macro')\n",
    "print(\"Train F1 Macro:\", train_f1_macro)\n",
    "\n",
    "# Evaluate on the validation set\n",
    "valid_f1_macro = f1_score(y_valid, random_search.best_estimator_.predict(X_valid), average='macro')\n",
    "print(\"Validation F1 Macro:\", valid_f1_macro)\n",
    "\n",
    "# Evaluate on the test set\n",
    "test_f1_macro = f1_score(y_test, random_search.best_estimator_.predict(X_test), average='macro')\n",
    "print(\"Test F1 Macro:\", test_f1_macro)"
   ]
  },
  {
   "cell_type": "markdown",
   "metadata": {
    "id": "8TiBEqRL6Gtu"
   },
   "source": [
    "# post-Pruning (cost-complexity pruning)"
   ]
  },
  {
   "cell_type": "code",
   "execution_count": 29,
   "metadata": {},
   "outputs": [
    {
     "name": "stdout",
     "output_type": "stream",
     "text": [
      "Number of candidate alphas: 25009\n",
      "Number of unique candidate alphas: 9003\n"
     ]
    }
   ],
   "source": [
    "path = clf.cost_complexity_pruning_path(X_train, y_train)\n",
    "ccp_alphas = path.ccp_alphas\n",
    "impurities = path.impurities\n",
    "\n",
    "print(\"Number of candidate alphas:\", len(ccp_alphas))\n",
    "# Too much alphas to try, we'll randomly select 40 alphas\n",
    "\n",
    "ccp_alphas = ccp_alphas[:-1]\n",
    "ccp_alphas = np.maximum(ccp_alphas, 0)\n",
    "\n",
    "# number of unique alphas\n",
    "unique_alphas = np.unique(ccp_alphas)\n",
    "unique_alphas = np.sort(unique_alphas)\n",
    "print(\"Number of unique candidate alphas:\", len(unique_alphas))"
   ]
  },
  {
   "cell_type": "code",
   "execution_count": 30,
   "metadata": {
    "id": "r8ogU-ADbzbv"
   },
   "outputs": [
    {
     "name": "stdout",
     "output_type": "stream",
     "text": [
      "Number of candidate alphas being used: 40\n",
      "Sampled alphas: [0.00000000e+00 7.41964061e-06 1.45327086e-05 2.02357213e-05\n",
      " 2.45630831e-05 2.67742244e-05 2.83969769e-05 3.00800046e-05\n",
      " 3.15093562e-05 3.28647688e-05 3.40798563e-05 3.51814992e-05\n",
      " 3.63343706e-05 3.74144092e-05 3.87057498e-05 4.01966397e-05\n",
      " 4.19423597e-05 4.40589500e-05 4.73884133e-05 5.43787612e-05\n",
      " 1.22075708e-04 1.28071454e-04 1.30399421e-04 1.39564609e-04\n",
      " 1.48818151e-04 1.58060369e-04 1.66461794e-04 1.74557827e-04\n",
      " 1.87859278e-04 1.90287806e-04 2.22135331e-04 2.26546936e-04\n",
      " 2.46118457e-04 2.77752241e-04 2.94560671e-04 4.04949838e-04\n",
      " 5.29769884e-04 6.22888228e-04 9.07964838e-04 2.41981878e-03]\n",
      "Alpha: 0.00000 | Train F1 Macro: 0.9804 | Validation F1 Macro: 0.3006\n",
      "Alpha: 0.00001 | Train F1 Macro: 0.9795 | Validation F1 Macro: 0.3011\n",
      "Alpha: 0.00001 | Train F1 Macro: 0.9000 | Validation F1 Macro: 0.2983\n",
      "Alpha: 0.00002 | Train F1 Macro: 0.8637 | Validation F1 Macro: 0.3016\n",
      "Alpha: 0.00002 | Train F1 Macro: 0.8363 | Validation F1 Macro: 0.3041\n",
      "Alpha: 0.00003 | Train F1 Macro: 0.8153 | Validation F1 Macro: 0.3061\n",
      "Alpha: 0.00003 | Train F1 Macro: 0.7951 | Validation F1 Macro: 0.3074\n",
      "Alpha: 0.00003 | Train F1 Macro: 0.7769 | Validation F1 Macro: 0.3087\n",
      "Alpha: 0.00003 | Train F1 Macro: 0.7576 | Validation F1 Macro: 0.3112\n",
      "Alpha: 0.00003 | Train F1 Macro: 0.7374 | Validation F1 Macro: 0.3118\n",
      "Alpha: 0.00003 | Train F1 Macro: 0.7165 | Validation F1 Macro: 0.3121\n",
      "Alpha: 0.00004 | Train F1 Macro: 0.6960 | Validation F1 Macro: 0.3128\n",
      "Alpha: 0.00004 | Train F1 Macro: 0.6732 | Validation F1 Macro: 0.3127\n",
      "Alpha: 0.00004 | Train F1 Macro: 0.6464 | Validation F1 Macro: 0.3159\n",
      "Alpha: 0.00004 | Train F1 Macro: 0.6193 | Validation F1 Macro: 0.3171\n",
      "Alpha: 0.00004 | Train F1 Macro: 0.5890 | Validation F1 Macro: 0.3202\n",
      "Alpha: 0.00004 | Train F1 Macro: 0.5485 | Validation F1 Macro: 0.3210\n",
      "Alpha: 0.00004 | Train F1 Macro: 0.5022 | Validation F1 Macro: 0.3222\n",
      "Alpha: 0.00005 | Train F1 Macro: 0.4539 | Validation F1 Macro: 0.3243\n",
      "Alpha: 0.00005 | Train F1 Macro: 0.3998 | Validation F1 Macro: 0.3258\n",
      "Alpha: 0.00012 | Train F1 Macro: 0.3309 | Validation F1 Macro: 0.3180\n",
      "Alpha: 0.00013 | Train F1 Macro: 0.3271 | Validation F1 Macro: 0.3176\n",
      "Alpha: 0.00013 | Train F1 Macro: 0.3242 | Validation F1 Macro: 0.3143\n",
      "Alpha: 0.00014 | Train F1 Macro: 0.3215 | Validation F1 Macro: 0.3108\n",
      "Alpha: 0.00015 | Train F1 Macro: 0.3205 | Validation F1 Macro: 0.3105\n",
      "Alpha: 0.00016 | Train F1 Macro: 0.3211 | Validation F1 Macro: 0.3121\n",
      "Alpha: 0.00017 | Train F1 Macro: 0.3211 | Validation F1 Macro: 0.3116\n",
      "Alpha: 0.00017 | Train F1 Macro: 0.3168 | Validation F1 Macro: 0.3080\n",
      "Alpha: 0.00019 | Train F1 Macro: 0.3141 | Validation F1 Macro: 0.3064\n",
      "Alpha: 0.00019 | Train F1 Macro: 0.3122 | Validation F1 Macro: 0.3050\n",
      "Alpha: 0.00022 | Train F1 Macro: 0.3122 | Validation F1 Macro: 0.3052\n",
      "Alpha: 0.00023 | Train F1 Macro: 0.3046 | Validation F1 Macro: 0.2987\n",
      "Alpha: 0.00025 | Train F1 Macro: 0.2966 | Validation F1 Macro: 0.2915\n",
      "Alpha: 0.00028 | Train F1 Macro: 0.2958 | Validation F1 Macro: 0.2920\n",
      "Alpha: 0.00029 | Train F1 Macro: 0.2951 | Validation F1 Macro: 0.2911\n",
      "Alpha: 0.00040 | Train F1 Macro: 0.2869 | Validation F1 Macro: 0.2835\n",
      "Alpha: 0.00053 | Train F1 Macro: 0.2598 | Validation F1 Macro: 0.2601\n",
      "Alpha: 0.00062 | Train F1 Macro: 0.2274 | Validation F1 Macro: 0.2276\n",
      "Alpha: 0.00091 | Train F1 Macro: 0.2214 | Validation F1 Macro: 0.2212\n",
      "Alpha: 0.00242 | Train F1 Macro: 0.2176 | Validation F1 Macro: 0.2179\n",
      "\n",
      "Optimal ccp_alpha: 5.437876117574884e-05\n",
      "Best Train F1 Macro with optimal alpha: 0.3998487436298074\n",
      "Validation F1 Macro with optimal alpha: 0.3258142388702093\n",
      "Test F1 Macro with optimal alpha: 0.32749482753461373\n"
     ]
    },
    {
     "data": {
      "image/png": "[encoded data removed]",
      "text/plain": [
       "<Figure size 800x600 with 1 Axes>"
      ]
     },
     "metadata": {},
     "output_type": "display_data"
    }
   ],
   "source": [
    "# The distribution of the alphas is not even, so we can't just randomly sampling it or choose with uniform step size\n",
    "num_samples_last = 20  # from the last 100\n",
    "num_samples_rest = 20  # from the rest of the alphas\n",
    "\n",
    "last_100 = unique_alphas[-100:]\n",
    "rest = unique_alphas[:-100]\n",
    "\n",
    "step_last = len(last_100) // num_samples_last\n",
    "sampled_last = last_100[::step_last][:num_samples_last]\n",
    "\n",
    "step_rest = len(rest) // num_samples_rest\n",
    "sampled_rest = rest[::step_rest][:num_samples_rest]\n",
    "\n",
    "# Combine the two samples and sort them\n",
    "sampled_alphas = np.sort(np.concatenate((sampled_rest, sampled_last)))\n",
    "print(\"Number of candidate alphas being used:\", len(sampled_alphas))\n",
    "print(\"Sampled alphas:\", sampled_alphas)\n",
    "\n",
    "def train_tree(ccp_alpha):\n",
    "    clf_temp = DecisionTreeClassifier(random_state=42, ccp_alpha=ccp_alpha)\n",
    "    clf_temp.fit(X_train, y_train)\n",
    "    return clf_temp\n",
    "\n",
    "# Parallelize the training over candidate alphas using more cores\n",
    "clfs = Parallel(n_jobs=12)(delayed(train_tree)(alpha) for alpha in sampled_alphas)\n",
    "\n",
    "# Compute training and validation F1 macro score for each pruned tree\n",
    "train_scores = [f1_score(y_train, clf_temp.predict(X_train), average='macro') for clf_temp in clfs]\n",
    "valid_scores = [f1_score(y_valid, clf_temp.predict(X_valid), average='macro') for clf_temp in clfs]\n",
    "\n",
    "# Print train and validation F1 macro score for each candidate alpha\n",
    "for alpha, train_f1, valid_f1 in zip(sampled_alphas, train_scores, valid_scores):\n",
    "    print(f\"Alpha: {alpha:.5f} | Train F1 Macro: {train_f1:.4f} | Validation F1 Macro: {valid_f1:.4f}\")\n",
    "\n",
    "# Select the alpha that gives the highest validation accuracy\n",
    "optimal_idx = np.argmax(valid_scores)\n",
    "optimal_alpha = sampled_alphas[optimal_idx]\n",
    "best_clf = clfs[optimal_idx]\n",
    "\n",
    "print(\"\\nOptimal ccp_alpha:\", optimal_alpha)\n",
    "print(\"Best Train F1 Macro with optimal alpha:\", train_scores[optimal_idx])\n",
    "print(\"Validation F1 Macro with optimal alpha:\", valid_scores[optimal_idx])\n",
    "\n",
    "# Evaluate the best pruned tree on the test set\n",
    "test_f1 = f1_score(y_test, best_clf.predict(X_test), average='macro')\n",
    "print(\"Test F1 Macro with optimal alpha:\", test_f1)\n",
    "\n",
    "# Plot validation F1 macro score vs effective alpha\n",
    "plt.figure(figsize=(8, 6))\n",
    "plt.plot(sampled_alphas, valid_scores, marker='o', drawstyle=\"steps-post\")\n",
    "plt.xlabel(\"Effective Alpha (ccp_alpha)\")\n",
    "plt.ylabel(\"Validation F1 Macro Score\")\n",
    "plt.title(\"Validation F1 Macro vs. Effective Alpha\")\n",
    "plt.show()"
   ]
  },
  {
   "cell_type": "markdown",
   "metadata": {
    "id": "P5ORMeXQp5f2"
   },
   "source": [
    "# Bagging"
   ]
  },
  {
   "cell_type": "code",
   "execution_count": 11,
   "metadata": {
    "id": "NKCHrxgap_X-"
   },
   "outputs": [],
   "source": [
    "# Since the model perform very badly on test set and overfit on train set,\n",
    "# we will use bagging to reduce the overfitting. I decide to try\n",
    "# Random Forest and ExtraTreesClassifier"
   ]
  },
  {
   "cell_type": "markdown",
   "metadata": {
    "id": "_qBpLdIzqHwA"
   },
   "source": [
    "## Random Forest"
   ]
  },
  {
   "cell_type": "code",
   "execution_count": 38,
   "metadata": {
    "id": "VLjPElIt06jw"
   },
   "outputs": [
    {
     "name": "stdout",
     "output_type": "stream",
     "text": [
      "Random Forest Classifier:\n",
      "Train F1 Macro: 0.9803525890587028\n",
      "Validation F1 Macro: 0.39177597452161317\n",
      "Test F1 Macro: 0.3822561655889298\n"
     ]
    }
   ],
   "source": [
    "rf = RandomForestClassifier(random_state=42, n_jobs=12)\n",
    "rf.fit(X_train, y_train)\n",
    "\n",
    "# Evaluate on the train set using F1 macro score\n",
    "train_f1_rf = f1_score(y_train, rf.predict(X_train), average='macro')\n",
    "valid_f1_rf = f1_score(y_valid, rf.predict(X_valid), average='macro')\n",
    "test_f1_rf = f1_score(y_test, rf.predict(X_test), average='macro')\n",
    "\n",
    "print(\"Random Forest Classifier:\")\n",
    "print(\"Train F1 Macro:\", train_f1_rf)\n",
    "print(\"Validation F1 Macro:\", valid_f1_rf)\n",
    "print(\"Test F1 Macro:\", test_f1_rf)"
   ]
  },
  {
   "cell_type": "markdown",
   "metadata": {},
   "source": [
    "### Hyperparameter Tuning Random Forest"
   ]
  },
  {
   "cell_type": "code",
   "execution_count": 9,
   "metadata": {},
   "outputs": [
    {
     "name": "stdout",
     "output_type": "stream",
     "text": [
      "Fitting 5 folds for each of 20 candidates, totalling 100 fits\n",
      "Best parameters: {'n_estimators': 50, 'min_samples_split': 5, 'min_samples_leaf': 1, 'max_features': 'sqrt', 'max_depth': 20}\n",
      "Best f1_macro score on training (via cross-validation): 0.36117332423650766\n",
      "Train F1 Macro: 0.9771162244965051\n",
      "Validation F1 Macro: 0.3795003142484644\n",
      "Test F1 Macro: 0.37526386167109754\n"
     ]
    }
   ],
   "source": [
    "param_grid = {\n",
    "    'max_depth': [20, 30, 40],  \n",
    "    'min_samples_split': [2, 5, 10],\n",
    "    'min_samples_leaf': [1, 2, 4],\n",
    "    'max_features': ['sqrt', 'log2', None],\n",
    "    'n_estimators': [10, 20, 30, 40, 50]\n",
    "}\n",
    "\n",
    "rf = RandomForestClassifier(random_state=42, n_jobs=13)\n",
    "\n",
    "# Use GridSearchCV with f1_score (macro) as the scoring metric\n",
    "random_search_rf = RandomizedSearchCV(rf, param_distributions=param_grid,\n",
    "                                      n_iter=20, cv=5, scoring='f1_macro',\n",
    "                                      n_jobs=15, verbose=2, random_state=42)\n",
    "random_search_rf.fit(X_train, y_train)\n",
    "\n",
    "print(\"Best parameters:\", random_search_rf.best_params_)\n",
    "print(\"Best f1_macro score on training (via cross-validation):\", random_search_rf.best_score_)\n",
    "\n",
    "# Retrieve the best estimator\n",
    "best_rf = random_search_rf.best_estimator_\n",
    "\n",
    "# Evaluate training F1 macro score\n",
    "train_f1 = f1_score(y_train, best_rf.predict(X_train), average='macro')\n",
    "print(\"Train F1 Macro:\", train_f1)\n",
    "\n",
    "# Evaluate on validation and test sets using F1 macro score\n",
    "valid_f1 = f1_score(y_valid, best_rf.predict(X_valid), average='macro')\n",
    "test_f1 = f1_score(y_test, best_rf.predict(X_test), average='macro')\n",
    "\n",
    "print(\"Validation F1 Macro:\", valid_f1)\n",
    "print(\"Test F1 Macro:\", test_f1)"
   ]
  },
  {
   "cell_type": "code",
   "execution_count": 10,
   "metadata": {},
   "outputs": [
    {
     "name": "stdout",
     "output_type": "stream",
     "text": [
      "Testing with 50 trees...\n",
      "Train f1_macro with 50 trees: 0.9771162244965051\n",
      "Validation f1_macro with 50 trees: 0.3795003142484644\n",
      "Test f1_macro with 50 trees: 0.37526386167109754\n",
      "--------------------------------------------------\n",
      "Testing with 100 trees...\n",
      "Train f1_macro with 100 trees: 0.9781728065340267\n",
      "Validation f1_macro with 100 trees: 0.3955553662612075\n",
      "Test f1_macro with 100 trees: 0.38601928622288767\n",
      "--------------------------------------------------\n",
      "Testing with 150 trees...\n",
      "Train f1_macro with 150 trees: 0.9783596478133259\n",
      "Validation f1_macro with 150 trees: 0.3968769519749288\n",
      "Test f1_macro with 150 trees: 0.38901628407645944\n",
      "--------------------------------------------------\n",
      "Testing with 200 trees...\n",
      "Train f1_macro with 200 trees: 0.9784975452204019\n",
      "Validation f1_macro with 200 trees: 0.39611296414514297\n",
      "Test f1_macro with 200 trees: 0.3914977040699569\n",
      "--------------------------------------------------\n",
      "Testing with 300 trees...\n",
      "Train f1_macro with 300 trees: 0.9786919284991891\n",
      "Validation f1_macro with 300 trees: 0.399847092930563\n",
      "Test f1_macro with 300 trees: 0.39518475439234424\n",
      "--------------------------------------------------\n",
      "Testing with 400 trees...\n",
      "Train f1_macro with 400 trees: 0.9787832753172745\n",
      "Validation f1_macro with 400 trees: 0.39972675862255336\n",
      "Test f1_macro with 400 trees: 0.395294399991434\n",
      "--------------------------------------------------\n",
      "Testing with 500 trees...\n",
      "Train f1_macro with 500 trees: 0.9788426486011824\n",
      "Validation f1_macro with 500 trees: 0.3987565437811543\n",
      "Test f1_macro with 500 trees: 0.3966788102478732\n",
      "--------------------------------------------------\n"
     ]
    }
   ],
   "source": [
    "# from previous, we decided not to use so many trees for doing the hyperparameter tuning since it takes quite a long time\n",
    "# because the three is rather big I have experimented with other configuration and got the result that larger number of trees generaylly\n",
    "# results in better performance. \n",
    "# Let's try with the previous combination but increase the number of trees \n",
    "\n",
    "best_params = {\n",
    "    'max_depth': 20,  \n",
    "    'min_samples_split': 5,  \n",
    "    'min_samples_leaf': 1,  \n",
    "    'max_features': 'sqrt'  \n",
    "}\n",
    "\n",
    "# Create a new RandomForestClassifier with the best parameters\n",
    "rf = RandomForestClassifier(random_state=42, n_jobs=15, **best_params)\n",
    "\n",
    "# Try 50 and 100 trees \n",
    "for n_estimators in [50, 100, 150, 200, 300, 400, \n",
    "                     500]:\n",
    "    print(f\"Testing with {n_estimators} trees...\")\n",
    "    rf.set_params(n_estimators=n_estimators)\n",
    "    rf.fit(X_train, y_train)\n",
    "\n",
    "    # Evaluate training accuracy\n",
    "    train_f1 = f1_score(y_train, rf.predict(X_train), average='macro')\n",
    "    print(f\"Train f1_macro with {n_estimators} trees:\", train_f1)\n",
    "\n",
    "    # Evaluate on validation and test sets\n",
    "    valid_f1 = f1_score(y_valid, rf.predict(X_valid), average='macro')\n",
    "    test_f1 = f1_score(y_test, rf.predict(X_test), average='macro')\n",
    "\n",
    "    print(f\"Validation f1_macro with {n_estimators} trees:\", valid_f1)\n",
    "    print(f\"Test f1_macro with {n_estimators} trees:\", test_f1)\n",
    "    print(\"-\" * 50)"
   ]
  },
  {
   "cell_type": "markdown",
   "metadata": {
    "id": "VC1xvLRP1NfQ"
   },
   "source": [
    "## Extra Trees Classifier"
   ]
  },
  {
   "cell_type": "code",
   "execution_count": 31,
   "metadata": {
    "id": "0V9TRsK21RmR"
   },
   "outputs": [
    {
     "name": "stdout",
     "output_type": "stream",
     "text": [
      "\n",
      "Extra Trees Classifier:\n",
      "Train F1: 0.9803631507990213\n",
      "Validation F1: 0.37752078482311796\n",
      "Test F1: 0.37886126163655465\n"
     ]
    }
   ],
   "source": [
    "et = ExtraTreesClassifier(random_state=42, n_jobs=12)\n",
    "et.fit(X_train, y_train)\n",
    "\n",
    "train_f1_et = f1_score(y_train, et.predict(X_train), average='macro')\n",
    "valid_f1_et = f1_score(y_valid, et.predict(X_valid), average='macro')\n",
    "test_f1_et = f1_score(y_test, et.predict(X_test), average='macro')\n",
    "\n",
    "print(\"\\nExtra Trees Classifier:\")\n",
    "print(\"Train F1:\", train_f1_et)\n",
    "print(\"Validation F1:\", valid_f1_et)\n",
    "print(\"Test F1:\", test_f1_et)"
   ]
  },
  {
   "cell_type": "markdown",
   "metadata": {},
   "source": [
    "### Hyperparameter Tuning Extra Trees Classifier"
   ]
  },
  {
   "cell_type": "code",
   "execution_count": 32,
   "metadata": {},
   "outputs": [
    {
     "name": "stdout",
     "output_type": "stream",
     "text": [
      "Fitting 5 folds for each of 20 candidates, totalling 100 fits\n",
      "Best parameters for ExtraTreesClassifier: {'n_estimators': 50, 'min_samples_split': 2, 'min_samples_leaf': 1, 'max_features': None, 'max_depth': 40}\n",
      "Best f1_macro score on training (via CV): 0.366883534692572\n",
      "\n",
      "ExtraTreesClassifier Performance:\n",
      "Train F1: 0.9803620012822197\n",
      "Validation F1: 0.380674538091914\n",
      "Test F1: 0.3779224970564577\n"
     ]
    }
   ],
   "source": [
    "param_grid_et = {\n",
    "    'max_depth': [20, 30, 40],  \n",
    "    'min_samples_split': [2, 5, 10],\n",
    "    'min_samples_leaf': [1, 2, 4],\n",
    "    'max_features': ['sqrt', 'log2', None],\n",
    "    'n_estimators': [10, 20, 30, 40, 50]\n",
    "}\n",
    "\n",
    "# Instantiate the ExtraTreesClassifier with all available cores\n",
    "et = ExtraTreesClassifier(random_state=42, n_jobs=13)\n",
    "\n",
    "# Use RandomizedSearchCV to sample 20 random combinations from the grid\n",
    "random_search_et = RandomizedSearchCV(estimator=et, \n",
    "                                      param_distributions=param_grid_et,\n",
    "                                      n_iter=20, \n",
    "                                      cv=5, \n",
    "                                      scoring='f1_macro', \n",
    "                                      n_jobs=15, \n",
    "                                      verbose=2, \n",
    "                                      random_state=42)\n",
    "random_search_et.fit(X_train, y_train)\n",
    "\n",
    "print(\"Best parameters for ExtraTreesClassifier:\", random_search_et.best_params_)\n",
    "print(\"Best f1_macro score on training (via CV):\", random_search_et.best_score_)\n",
    "\n",
    "# Retrieve the best estimator\n",
    "best_et = random_search_et.best_estimator_\n",
    "\n",
    "# Evaluate performance on training, validation, and test sets\n",
    "train_f1_et = f1_score(y_train, best_et.predict(X_train), average='macro')\n",
    "valid_f1_et = f1_score(y_valid, best_et.predict(X_valid), average='macro')\n",
    "test_f1_et = f1_score(y_test, best_et.predict(X_test), average='macro')\n",
    "\n",
    "print(\"\\nExtraTreesClassifier Performance:\")\n",
    "print(\"Train F1:\", train_f1_et)\n",
    "print(\"Validation F1:\", valid_f1_et)\n",
    "print(\"Test F1:\", test_f1_et)"
   ]
  },
  {
   "cell_type": "code",
   "execution_count": 25,
   "metadata": {},
   "outputs": [
    {
     "name": "stdout",
     "output_type": "stream",
     "text": [
      "Testing with 50 trees...\n",
      "Train f1_macro with 50 trees: 0.9803620012822197\n",
      "Validation f1_macro with 50 trees: 0.38072867312337044\n",
      "Test f1_macro with 50 trees: 0.3779224970564577\n",
      "--------------------------------------------------\n",
      "Testing with 100 trees...\n",
      "Train f1_macro with 100 trees: 0.980361982938964\n",
      "Validation f1_macro with 100 trees: 0.3912729336104591\n",
      "Test f1_macro with 100 trees: 0.38561468793614784\n",
      "--------------------------------------------------\n",
      "Testing with 150 trees...\n",
      "Train f1_macro with 150 trees: 0.9803623828080333\n",
      "Validation f1_macro with 150 trees: 0.3925393989714635\n",
      "Test f1_macro with 150 trees: 0.39270728864347476\n",
      "--------------------------------------------------\n",
      "Testing with 200 trees...\n",
      "Train f1_macro with 200 trees: 0.9803626993948834\n",
      "Validation f1_macro with 200 trees: 0.397937874734465\n",
      "Test f1_macro with 200 trees: 0.3940872271702866\n",
      "--------------------------------------------------\n",
      "Testing with 300 trees...\n",
      "Train f1_macro with 300 trees: 0.980363611114296\n",
      "Validation f1_macro with 300 trees: 0.3992252602787459\n",
      "Test f1_macro with 300 trees: 0.39460773417040595\n",
      "--------------------------------------------------\n",
      "Testing with 400 trees...\n",
      "Train f1_macro with 400 trees: 0.9803630456654236\n",
      "Validation f1_macro with 400 trees: 0.4016787435249475\n",
      "Test f1_macro with 400 trees: 0.39698406231096084\n",
      "--------------------------------------------------\n",
      "Testing with 500 trees...\n",
      "Train f1_macro with 500 trees: 0.9803629201375831\n",
      "Validation f1_macro with 500 trees: 0.40502391204912935\n",
      "Test f1_macro with 500 trees: 0.3993453949910372\n",
      "--------------------------------------------------\n"
     ]
    }
   ],
   "source": [
    "# We did same thing as we did in Random Forest \n",
    "best_params_et = {\n",
    "    'max_depth': 40,\n",
    "    'min_samples_split': 2,\n",
    "    'min_samples_leaf': 1,\n",
    "    'max_features': None  \n",
    "}\n",
    "\n",
    "# Create the ExtraTreesClassifier with the best parameters\n",
    "et = ExtraTreesClassifier(random_state=42, n_jobs=15, **best_params_et)\n",
    "\n",
    "# Try different n_estimators\n",
    "for n_estimators in [50, 100, 150, 200, 300, 400, 500]:\n",
    "    print(f\"Testing with {n_estimators} trees...\")\n",
    "    et.set_params(n_estimators=n_estimators)\n",
    "    et.fit(X_train, y_train)\n",
    "\n",
    "    # Evaluate training F1 macro score\n",
    "    train_f1_et = f1_score(y_train, et.predict(X_train), average='macro')\n",
    "    print(f\"Train f1_macro with {n_estimators} trees:\", train_f1_et)\n",
    "\n",
    "    # Evaluate on validation and test sets\n",
    "    valid_f1_et = f1_score(y_valid, et.predict(X_valid), average='macro')\n",
    "    test_f1_et = f1_score(y_test, et.predict(X_test), average='macro')\n",
    "\n",
    "    print(f\"Validation f1_macro with {n_estimators} trees:\", valid_f1_et)\n",
    "    print(f\"Test f1_macro with {n_estimators} trees:\", test_f1_et)\n",
    "    print(\"-\" * 50)\n"
   ]
  },
  {
   "cell_type": "code",
   "execution_count": 23,
   "metadata": {},
   "outputs": [],
   "source": [
    "# We have tried:\n",
    "# 1. Used base Decision Tree model\n",
    "# 2. Did pre-pruning and post-pruning on base model Decision Tree\n",
    "# 3. Used Baseline RandomForestClassifier\n",
    "# 4. Hyperparameter-tuned Random forest automatically and manually\n",
    "# 5. Used baseline model Extra Tree Classifierr\n",
    "# 6. Hyperparameter-tuned Extra Tree Classifier\n",
    "# After each of the above methods, we still can't get F1 macro score above 40%. But we should try to use boosting algorithm also."
   ]
  },
  {
   "cell_type": "markdown",
   "metadata": {},
   "source": [
    "# Boosting"
   ]
  },
  {
   "cell_type": "markdown",
   "metadata": {},
   "source": [
    "## XGBoost"
   ]
  },
  {
   "cell_type": "code",
   "execution_count": 26,
   "metadata": {},
   "outputs": [
    {
     "name": "stdout",
     "output_type": "stream",
     "text": [
      "XGBoost Classifier:\n",
      "Train F1 Macro: 0.7242639369247231\n",
      "Validation F1 Macro: 0.4185626986522181\n",
      "Test F1 Macro: 0.41542303776268785\n"
     ]
    }
   ],
   "source": [
    "# Create an XGBoost model \n",
    "xgb_model = xgb.XGBClassifier(random_state=42)\n",
    "xgb_model.fit(X_train, y_train)\n",
    "\n",
    "# Evaluate on the train set using F1 macro score\n",
    "train_f1_xgb = f1_score(y_train, xgb_model.predict(X_train), average='macro')\n",
    "valid_f1_xgb = f1_score(y_valid, xgb_model.predict(X_valid), average='macro')\n",
    "test_f1_xgb = f1_score(y_test, xgb_model.predict(X_test), average='macro')\n",
    "\n",
    "# Print the results\n",
    "print(\"XGBoost Classifier:\")\n",
    "print(\"Train F1 Macro:\", train_f1_xgb)\n",
    "print(\"Validation F1 Macro:\", valid_f1_xgb)\n",
    "print(\"Test F1 Macro:\", test_f1_xgb)"
   ]
  },
  {
   "cell_type": "markdown",
   "metadata": {},
   "source": [
    "### Hyperparameter Tuning XGBoost"
   ]
  },
  {
   "cell_type": "code",
   "execution_count": null,
   "metadata": {},
   "outputs": [
    {
     "name": "stdout",
     "output_type": "stream",
     "text": [
      "Fitting 5 folds for each of 10 candidates, totalling 50 fits\n"
     ]
    }
   ],
   "source": [
    "# Too expensive to run\n",
    "param_grid_xgb = {\n",
    "    'max_depth': [3, 5, 7, 10], \n",
    "    'learning_rate': [0.01, 0.05, 0.1, 0.2], \n",
    "    'n_estimators': [10, 20, 30, 40, 50], \n",
    "    'subsample': [0.7, 0.8, 0.9, 1.0], \n",
    "    'colsample_bytree': [0.7, 0.8, 0.9, 1.0], \n",
    "    'min_child_weight': [1, 3, 5], \n",
    "}\n",
    "\n",
    "# Instantiate the XGBoost model\n",
    "xgb_model = xgb.XGBClassifier(random_state=42, n_jobs = 15)\n",
    "\n",
    "random_search_xgb = RandomizedSearchCV(estimator=xgb_model, \n",
    "                                       param_distributions=param_grid_xgb,\n",
    "                                       n_iter=20, \n",
    "                                       cv=5, \n",
    "                                       scoring='f1_macro', \n",
    "                                       n_jobs=15, \n",
    "                                       verbose=2, \n",
    "                                       random_state=42)\n",
    "\n",
    "# Fit the RandomizedSearchCV on the training data\n",
    "random_search_xgb.fit(X_train, y_train)\n",
    "\n",
    "# Print the best hyperparameters and F1 macro score\n",
    "print(\"Best parameters for XGBoost:\", random_search_xgb.best_params_)\n",
    "print(\"Best f1_macro score on training (via CV):\", random_search_xgb.best_score_)\n",
    "\n",
    "# Retrieve the best estimator\n",
    "best_xgb = random_search_xgb.best_estimator_\n",
    "\n",
    "# Evaluate performance on training, validation, and test sets\n",
    "train_f1_xgb = f1_score(y_train, best_xgb.predict(X_train), average='macro')\n",
    "valid_f1_xgb = f1_score(y_valid, best_xgb.predict(X_valid), average='macro')\n",
    "test_f1_xgb = f1_score(y_test, best_xgb.predict(X_test), average='macro')\n",
    "\n",
    "print(\"\\nXGBoost Performance:\")\n",
    "print(\"Train F1 Macro:\", train_f1_xgb)\n",
    "print(\"Validation F1 Macro:\", valid_f1_xgb)\n",
    "print(\"Test F1 Macro:\", test_f1_xgb)\n"
   ]
  },
  {
   "cell_type": "markdown",
   "metadata": {},
   "source": [
    "## LightGBM"
   ]
  },
  {
   "cell_type": "code",
   "execution_count": 27,
   "metadata": {},
   "outputs": [
    {
     "name": "stdout",
     "output_type": "stream",
     "text": [
      "[LightGBM] [Info] Auto-choosing col-wise multi-threading, the overhead of testing was 0.465463 seconds.\n",
      "You can set `force_col_wise=true` to remove the overhead.\n",
      "[LightGBM] [Info] Total Bins 195840\n",
      "[LightGBM] [Info] Number of data points in the train set: 133999, number of used features: 768\n",
      "[LightGBM] [Info] Start training from score -1.451534\n",
      "[LightGBM] [Info] Start training from score -1.574669\n",
      "[LightGBM] [Info] Start training from score -1.750195\n",
      "[LightGBM] [Info] Start training from score -1.574813\n",
      "[LightGBM] [Info] Start training from score -1.726384\n",
      "LightGBM Classifier:\n",
      "Train F1 Macro: 0.5470800753220519\n",
      "Validation F1 Macro: 0.4172750022337962\n",
      "Test F1 Macro: 0.41226252163345034\n"
     ]
    }
   ],
   "source": [
    "# Create a LightGBM model\n",
    "lgb_model = LGBMClassifier(random_state=42)\n",
    "lgb_model.fit(X_train, y_train)\n",
    "\n",
    "# Evaluate on the train set using F1 macro score\n",
    "train_f1_lgb = f1_score(y_train, lgb_model.predict(X_train), average='macro')\n",
    "valid_f1_lgb = f1_score(y_valid, lgb_model.predict(X_valid), average='macro')\n",
    "test_f1_lgb = f1_score(y_test, lgb_model.predict(X_test), average='macro')\n",
    "\n",
    "# Print the results\n",
    "print(\"LightGBM Classifier:\")\n",
    "print(\"Train F1 Macro:\", train_f1_lgb)\n",
    "print(\"Validation F1 Macro:\", valid_f1_lgb)\n",
    "print(\"Test F1 Macro:\", test_f1_lgb)"
   ]
  },
  {
   "cell_type": "markdown",
   "metadata": {},
   "source": [
    "## CatBoost"
   ]
  },
  {
   "cell_type": "code",
   "execution_count": 31,
   "metadata": {},
   "outputs": [
    {
     "name": "stdout",
     "output_type": "stream",
     "text": [
      "CatBoost Classifier:\n",
      "Train F1 Macro: 0.5831124128686713\n",
      "Validation F1 Macro: 0.42747445934765677\n",
      "Test F1 Macro: 0.42427452831988655\n"
     ]
    }
   ],
   "source": [
    "# Create a CatBoost model \n",
    "cat_model = CatBoostClassifier(random_state=42, verbose=0)\n",
    "cat_model.fit(X_train, y_train)\n",
    "\n",
    "# Evaluate on the train set using F1 macro score\n",
    "train_f1_cat = f1_score(y_train, cat_model.predict(X_train), average='macro')\n",
    "valid_f1_cat = f1_score(y_valid, cat_model.predict(X_valid), average='macro')\n",
    "test_f1_cat = f1_score(y_test, cat_model.predict(X_test), average='macro')\n",
    "\n",
    "# Print the results\n",
    "print(\"CatBoost Classifier:\")\n",
    "print(\"Train F1 Macro:\", train_f1_cat)\n",
    "print(\"Validation F1 Macro:\", valid_f1_cat)\n",
    "print(\"Test F1 Macro:\", test_f1_cat)"
   ]
  },
  {
   "cell_type": "markdown",
   "metadata": {},
   "source": [
    "# Saving the Model"
   ]
  },
  {
   "cell_type": "code",
   "execution_count": 25,
   "metadata": {},
   "outputs": [
    {
     "data": {
      "text/html": [
       "<style>#sk-container-id-1 {\n",
       "  /* Definition of color scheme common for light and dark mode */\n",
       "  --sklearn-color-text: black;\n",
       "  --sklearn-color-line: gray;\n",
       "  /* Definition of color scheme for unfitted estimators */\n",
       "  --sklearn-color-unfitted-level-0: #fff5e6;\n",
       "  --sklearn-color-unfitted-level-1: #f6e4d2;\n",
       "  --sklearn-color-unfitted-level-2: #ffe0b3;\n",
       "  --sklearn-color-unfitted-level-3: chocolate;\n",
       "  /* Definition of color scheme for fitted estimators */\n",
       "  --sklearn-color-fitted-level-0: #f0f8ff;\n",
       "  --sklearn-color-fitted-level-1: #d4ebff;\n",
       "  --sklearn-color-fitted-level-2: #b3dbfd;\n",
       "  --sklearn-color-fitted-level-3: cornflowerblue;\n",
       "\n",
       "  /* Specific color for light theme */\n",
       "  --sklearn-color-text-on-default-background: var(--sg-text-color, var(--theme-code-foreground, var(--jp-content-font-color1, black)));\n",
       "  --sklearn-color-background: var(--sg-background-color, var(--theme-background, var(--jp-layout-color0, white)));\n",
       "  --sklearn-color-border-box: var(--sg-text-color, var(--theme-code-foreground, var(--jp-content-font-color1, black)));\n",
       "  --sklearn-color-icon: #696969;\n",
       "\n",
       "  @media (prefers-color-scheme: dark) {\n",
       "    /* Redefinition of color scheme for dark theme */\n",
       "    --sklearn-color-text-on-default-background: var(--sg-text-color, var(--theme-code-foreground, var(--jp-content-font-color1, white)));\n",
       "    --sklearn-color-background: var(--sg-background-color, var(--theme-background, var(--jp-layout-color0, #111)));\n",
       "    --sklearn-color-border-box: var(--sg-text-color, var(--theme-code-foreground, var(--jp-content-font-color1, white)));\n",
       "    --sklearn-color-icon: #878787;\n",
       "  }\n",
       "}\n",
       "\n",
       "#sk-container-id-1 {\n",
       "  color: var(--sklearn-color-text);\n",
       "}\n",
       "\n",
       "#sk-container-id-1 pre {\n",
       "  padding: 0;\n",
       "}\n",
       "\n",
       "#sk-container-id-1 input.sk-hidden--visually {\n",
       "  border: 0;\n",
       "  clip: rect(1px 1px 1px 1px);\n",
       "  clip: rect(1px, 1px, 1px, 1px);\n",
       "  height: 1px;\n",
       "  margin: -1px;\n",
       "  overflow: hidden;\n",
       "  padding: 0;\n",
       "  position: absolute;\n",
       "  width: 1px;\n",
       "}\n",
       "\n",
       "#sk-container-id-1 div.sk-dashed-wrapped {\n",
       "  border: 1px dashed var(--sklearn-color-line);\n",
       "  margin: 0 0.4em 0.5em 0.4em;\n",
       "  box-sizing: border-box;\n",
       "  padding-bottom: 0.4em;\n",
       "  background-color: var(--sklearn-color-background);\n",
       "}\n",
       "\n",
       "#sk-container-id-1 div.sk-container {\n",
       "  /* jupyter's `normalize.less` sets `[hidden] { display: none; }`\n",
       "     but bootstrap.min.css set `[hidden] { display: none !important; }`\n",
       "     so we also need the `!important` here to be able to override the\n",
       "     default hidden behavior on the sphinx rendered scikit-learn.org.\n",
       "     See: https://github.com/scikit-learn/scikit-learn/issues/21755 */\n",
       "  display: inline-block !important;\n",
       "  position: relative;\n",
       "}\n",
       "\n",
       "#sk-container-id-1 div.sk-text-repr-fallback {\n",
       "  display: none;\n",
       "}\n",
       "\n",
       "div.sk-parallel-item,\n",
       "div.sk-serial,\n",
       "div.sk-item {\n",
       "  /* draw centered vertical line to link estimators */\n",
       "  background-image: linear-gradient(var(--sklearn-color-text-on-default-background), var(--sklearn-color-text-on-default-background));\n",
       "  background-size: 2px 100%;\n",
       "  background-repeat: no-repeat;\n",
       "  background-position: center center;\n",
       "}\n",
       "\n",
       "/* Parallel-specific style estimator block */\n",
       "\n",
       "#sk-container-id-1 div.sk-parallel-item::after {\n",
       "  content: \"\";\n",
       "  width: 100%;\n",
       "  border-bottom: 2px solid var(--sklearn-color-text-on-default-background);\n",
       "  flex-grow: 1;\n",
       "}\n",
       "\n",
       "#sk-container-id-1 div.sk-parallel {\n",
       "  display: flex;\n",
       "  align-items: stretch;\n",
       "  justify-content: center;\n",
       "  background-color: var(--sklearn-color-background);\n",
       "  position: relative;\n",
       "}\n",
       "\n",
       "#sk-container-id-1 div.sk-parallel-item {\n",
       "  display: flex;\n",
       "  flex-direction: column;\n",
       "}\n",
       "\n",
       "#sk-container-id-1 div.sk-parallel-item:first-child::after {\n",
       "  align-self: flex-end;\n",
       "  width: 50%;\n",
       "}\n",
       "\n",
       "#sk-container-id-1 div.sk-parallel-item:last-child::after {\n",
       "  align-self: flex-start;\n",
       "  width: 50%;\n",
       "}\n",
       "\n",
       "#sk-container-id-1 div.sk-parallel-item:only-child::after {\n",
       "  width: 0;\n",
       "}\n",
       "\n",
       "/* Serial-specific style estimator block */\n",
       "\n",
       "#sk-container-id-1 div.sk-serial {\n",
       "  display: flex;\n",
       "  flex-direction: column;\n",
       "  align-items: center;\n",
       "  background-color: var(--sklearn-color-background);\n",
       "  padding-right: 1em;\n",
       "  padding-left: 1em;\n",
       "}\n",
       "\n",
       "\n",
       "/* Toggleable style: style used for estimator/Pipeline/ColumnTransformer box that is\n",
       "clickable and can be expanded/collapsed.\n",
       "- Pipeline and ColumnTransformer use this feature and define the default style\n",
       "- Estimators will overwrite some part of the style using the `sk-estimator` class\n",
       "*/\n",
       "\n",
       "/* Pipeline and ColumnTransformer style (default) */\n",
       "\n",
       "#sk-container-id-1 div.sk-toggleable {\n",
       "  /* Default theme specific background. It is overwritten whether we have a\n",
       "  specific estimator or a Pipeline/ColumnTransformer */\n",
       "  background-color: var(--sklearn-color-background);\n",
       "}\n",
       "\n",
       "/* Toggleable label */\n",
       "#sk-container-id-1 label.sk-toggleable__label {\n",
       "  cursor: pointer;\n",
       "  display: block;\n",
       "  width: 100%;\n",
       "  margin-bottom: 0;\n",
       "  padding: 0.5em;\n",
       "  box-sizing: border-box;\n",
       "  text-align: center;\n",
       "}\n",
       "\n",
       "#sk-container-id-1 label.sk-toggleable__label-arrow:before {\n",
       "  /* Arrow on the left of the label */\n",
       "  content: \"▸\";\n",
       "  float: left;\n",
       "  margin-right: 0.25em;\n",
       "  color: var(--sklearn-color-icon);\n",
       "}\n",
       "\n",
       "#sk-container-id-1 label.sk-toggleable__label-arrow:hover:before {\n",
       "  color: var(--sklearn-color-text);\n",
       "}\n",
       "\n",
       "/* Toggleable content - dropdown */\n",
       "\n",
       "#sk-container-id-1 div.sk-toggleable__content {\n",
       "  max-height: 0;\n",
       "  max-width: 0;\n",
       "  overflow: hidden;\n",
       "  text-align: left;\n",
       "  /* unfitted */\n",
       "  background-color: var(--sklearn-color-unfitted-level-0);\n",
       "}\n",
       "\n",
       "#sk-container-id-1 div.sk-toggleable__content.fitted {\n",
       "  /* fitted */\n",
       "  background-color: var(--sklearn-color-fitted-level-0);\n",
       "}\n",
       "\n",
       "#sk-container-id-1 div.sk-toggleable__content pre {\n",
       "  margin: 0.2em;\n",
       "  border-radius: 0.25em;\n",
       "  color: var(--sklearn-color-text);\n",
       "  /* unfitted */\n",
       "  background-color: var(--sklearn-color-unfitted-level-0);\n",
       "}\n",
       "\n",
       "#sk-container-id-1 div.sk-toggleable__content.fitted pre {\n",
       "  /* unfitted */\n",
       "  background-color: var(--sklearn-color-fitted-level-0);\n",
       "}\n",
       "\n",
       "#sk-container-id-1 input.sk-toggleable__control:checked~div.sk-toggleable__content {\n",
       "  /* Expand drop-down */\n",
       "  max-height: 200px;\n",
       "  max-width: 100%;\n",
       "  overflow: auto;\n",
       "}\n",
       "\n",
       "#sk-container-id-1 input.sk-toggleable__control:checked~label.sk-toggleable__label-arrow:before {\n",
       "  content: \"▾\";\n",
       "}\n",
       "\n",
       "/* Pipeline/ColumnTransformer-specific style */\n",
       "\n",
       "#sk-container-id-1 div.sk-label input.sk-toggleable__control:checked~label.sk-toggleable__label {\n",
       "  color: var(--sklearn-color-text);\n",
       "  background-color: var(--sklearn-color-unfitted-level-2);\n",
       "}\n",
       "\n",
       "#sk-container-id-1 div.sk-label.fitted input.sk-toggleable__control:checked~label.sk-toggleable__label {\n",
       "  background-color: var(--sklearn-color-fitted-level-2);\n",
       "}\n",
       "\n",
       "/* Estimator-specific style */\n",
       "\n",
       "/* Colorize estimator box */\n",
       "#sk-container-id-1 div.sk-estimator input.sk-toggleable__control:checked~label.sk-toggleable__label {\n",
       "  /* unfitted */\n",
       "  background-color: var(--sklearn-color-unfitted-level-2);\n",
       "}\n",
       "\n",
       "#sk-container-id-1 div.sk-estimator.fitted input.sk-toggleable__control:checked~label.sk-toggleable__label {\n",
       "  /* fitted */\n",
       "  background-color: var(--sklearn-color-fitted-level-2);\n",
       "}\n",
       "\n",
       "#sk-container-id-1 div.sk-label label.sk-toggleable__label,\n",
       "#sk-container-id-1 div.sk-label label {\n",
       "  /* The background is the default theme color */\n",
       "  color: var(--sklearn-color-text-on-default-background);\n",
       "}\n",
       "\n",
       "/* On hover, darken the color of the background */\n",
       "#sk-container-id-1 div.sk-label:hover label.sk-toggleable__label {\n",
       "  color: var(--sklearn-color-text);\n",
       "  background-color: var(--sklearn-color-unfitted-level-2);\n",
       "}\n",
       "\n",
       "/* Label box, darken color on hover, fitted */\n",
       "#sk-container-id-1 div.sk-label.fitted:hover label.sk-toggleable__label.fitted {\n",
       "  color: var(--sklearn-color-text);\n",
       "  background-color: var(--sklearn-color-fitted-level-2);\n",
       "}\n",
       "\n",
       "/* Estimator label */\n",
       "\n",
       "#sk-container-id-1 div.sk-label label {\n",
       "  font-family: monospace;\n",
       "  font-weight: bold;\n",
       "  display: inline-block;\n",
       "  line-height: 1.2em;\n",
       "}\n",
       "\n",
       "#sk-container-id-1 div.sk-label-container {\n",
       "  text-align: center;\n",
       "}\n",
       "\n",
       "/* Estimator-specific */\n",
       "#sk-container-id-1 div.sk-estimator {\n",
       "  font-family: monospace;\n",
       "  border: 1px dotted var(--sklearn-color-border-box);\n",
       "  border-radius: 0.25em;\n",
       "  box-sizing: border-box;\n",
       "  margin-bottom: 0.5em;\n",
       "  /* unfitted */\n",
       "  background-color: var(--sklearn-color-unfitted-level-0);\n",
       "}\n",
       "\n",
       "#sk-container-id-1 div.sk-estimator.fitted {\n",
       "  /* fitted */\n",
       "  background-color: var(--sklearn-color-fitted-level-0);\n",
       "}\n",
       "\n",
       "/* on hover */\n",
       "#sk-container-id-1 div.sk-estimator:hover {\n",
       "  /* unfitted */\n",
       "  background-color: var(--sklearn-color-unfitted-level-2);\n",
       "}\n",
       "\n",
       "#sk-container-id-1 div.sk-estimator.fitted:hover {\n",
       "  /* fitted */\n",
       "  background-color: var(--sklearn-color-fitted-level-2);\n",
       "}\n",
       "\n",
       "/* Specification for estimator info (e.g. \"i\" and \"?\") */\n",
       "\n",
       "/* Common style for \"i\" and \"?\" */\n",
       "\n",
       ".sk-estimator-doc-link,\n",
       "a:link.sk-estimator-doc-link,\n",
       "a:visited.sk-estimator-doc-link {\n",
       "  float: right;\n",
       "  font-size: smaller;\n",
       "  line-height: 1em;\n",
       "  font-family: monospace;\n",
       "  background-color: var(--sklearn-color-background);\n",
       "  border-radius: 1em;\n",
       "  height: 1em;\n",
       "  width: 1em;\n",
       "  text-decoration: none !important;\n",
       "  margin-left: 1ex;\n",
       "  /* unfitted */\n",
       "  border: var(--sklearn-color-unfitted-level-1) 1pt solid;\n",
       "  color: var(--sklearn-color-unfitted-level-1);\n",
       "}\n",
       "\n",
       ".sk-estimator-doc-link.fitted,\n",
       "a:link.sk-estimator-doc-link.fitted,\n",
       "a:visited.sk-estimator-doc-link.fitted {\n",
       "  /* fitted */\n",
       "  border: var(--sklearn-color-fitted-level-1) 1pt solid;\n",
       "  color: var(--sklearn-color-fitted-level-1);\n",
       "}\n",
       "\n",
       "/* On hover */\n",
       "div.sk-estimator:hover .sk-estimator-doc-link:hover,\n",
       ".sk-estimator-doc-link:hover,\n",
       "div.sk-label-container:hover .sk-estimator-doc-link:hover,\n",
       ".sk-estimator-doc-link:hover {\n",
       "  /* unfitted */\n",
       "  background-color: var(--sklearn-color-unfitted-level-3);\n",
       "  color: var(--sklearn-color-background);\n",
       "  text-decoration: none;\n",
       "}\n",
       "\n",
       "div.sk-estimator.fitted:hover .sk-estimator-doc-link.fitted:hover,\n",
       ".sk-estimator-doc-link.fitted:hover,\n",
       "div.sk-label-container:hover .sk-estimator-doc-link.fitted:hover,\n",
       ".sk-estimator-doc-link.fitted:hover {\n",
       "  /* fitted */\n",
       "  background-color: var(--sklearn-color-fitted-level-3);\n",
       "  color: var(--sklearn-color-background);\n",
       "  text-decoration: none;\n",
       "}\n",
       "\n",
       "/* Span, style for the box shown on hovering the info icon */\n",
       ".sk-estimator-doc-link span {\n",
       "  display: none;\n",
       "  z-index: 9999;\n",
       "  position: relative;\n",
       "  font-weight: normal;\n",
       "  right: .2ex;\n",
       "  padding: .5ex;\n",
       "  margin: .5ex;\n",
       "  width: min-content;\n",
       "  min-width: 20ex;\n",
       "  max-width: 50ex;\n",
       "  color: var(--sklearn-color-text);\n",
       "  box-shadow: 2pt 2pt 4pt #999;\n",
       "  /* unfitted */\n",
       "  background: var(--sklearn-color-unfitted-level-0);\n",
       "  border: .5pt solid var(--sklearn-color-unfitted-level-3);\n",
       "}\n",
       "\n",
       ".sk-estimator-doc-link.fitted span {\n",
       "  /* fitted */\n",
       "  background: var(--sklearn-color-fitted-level-0);\n",
       "  border: var(--sklearn-color-fitted-level-3);\n",
       "}\n",
       "\n",
       ".sk-estimator-doc-link:hover span {\n",
       "  display: block;\n",
       "}\n",
       "\n",
       "/* \"?\"-specific style due to the `<a>` HTML tag */\n",
       "\n",
       "#sk-container-id-1 a.estimator_doc_link {\n",
       "  float: right;\n",
       "  font-size: 1rem;\n",
       "  line-height: 1em;\n",
       "  font-family: monospace;\n",
       "  background-color: var(--sklearn-color-background);\n",
       "  border-radius: 1rem;\n",
       "  height: 1rem;\n",
       "  width: 1rem;\n",
       "  text-decoration: none;\n",
       "  /* unfitted */\n",
       "  color: var(--sklearn-color-unfitted-level-1);\n",
       "  border: var(--sklearn-color-unfitted-level-1) 1pt solid;\n",
       "}\n",
       "\n",
       "#sk-container-id-1 a.estimator_doc_link.fitted {\n",
       "  /* fitted */\n",
       "  border: var(--sklearn-color-fitted-level-1) 1pt solid;\n",
       "  color: var(--sklearn-color-fitted-level-1);\n",
       "}\n",
       "\n",
       "/* On hover */\n",
       "#sk-container-id-1 a.estimator_doc_link:hover {\n",
       "  /* unfitted */\n",
       "  background-color: var(--sklearn-color-unfitted-level-3);\n",
       "  color: var(--sklearn-color-background);\n",
       "  text-decoration: none;\n",
       "}\n",
       "\n",
       "#sk-container-id-1 a.estimator_doc_link.fitted:hover {\n",
       "  /* fitted */\n",
       "  background-color: var(--sklearn-color-fitted-level-3);\n",
       "}\n",
       "</style><div id=\"sk-container-id-1\" class=\"sk-top-container\"><div class=\"sk-text-repr-fallback\"><pre>ExtraTreesClassifier(max_depth=40, max_features=None, n_estimators=500,\n",
       "                     n_jobs=15, random_state=42)</pre><b>In a Jupyter environment, please rerun this cell to show the HTML representation or trust the notebook. <br />On GitHub, the HTML representation is unable to render, please try loading this page with nbviewer.org.</b></div><div class=\"sk-container\" hidden><div class=\"sk-item\"><div class=\"sk-estimator fitted sk-toggleable\"><input class=\"sk-toggleable__control sk-hidden--visually\" id=\"sk-estimator-id-1\" type=\"checkbox\" checked><label for=\"sk-estimator-id-1\" class=\"sk-toggleable__label fitted sk-toggleable__label-arrow fitted\">&nbsp;&nbsp;ExtraTreesClassifier<a class=\"sk-estimator-doc-link fitted\" rel=\"noreferrer\" target=\"_blank\" href=\"https://scikit-learn.org/1.4/modules/generated/sklearn.ensemble.ExtraTreesClassifier.html\">?<span>Documentation for ExtraTreesClassifier</span></a><span class=\"sk-estimator-doc-link fitted\">i<span>Fitted</span></span></label><div class=\"sk-toggleable__content fitted\"><pre>ExtraTreesClassifier(max_depth=40, max_features=None, n_estimators=500,\n",
       "                     n_jobs=15, random_state=42)</pre></div> </div></div></div></div>"
      ],
      "text/plain": [
       "ExtraTreesClassifier(max_depth=40, max_features=None, n_estimators=500,\n",
       "                     n_jobs=15, random_state=42)"
      ]
     },
     "execution_count": 25,
     "metadata": {},
     "output_type": "execute_result"
    }
   ],
   "source": [
    "# Decision Tree\n",
    "best_params = {\n",
    "    'max_depth': 10, \n",
    "    'min_samples_split': 5, \n",
    "    'min_samples_leaf': 2\n",
    "}\n",
    "DecisionTree_model = DecisionTreeClassifier(random_state=42, **best_params)\n",
    "DecisionTree_model.fit(X_train, y_train)\n",
    "\n",
    "# Random Forest \n",
    "best_params = {\n",
    "    'max_depth': 20,  \n",
    "    'min_samples_split': 5,  \n",
    "    'min_samples_leaf': 1,  \n",
    "    'max_features': 'sqrt',\n",
    "    'n_estimators': 500\n",
    "}\n",
    "RandomForest_model = RandomForestClassifier(random_state=42, n_jobs=15, **best_params)\n",
    "RandomForest_model.fit(X_train, y_train)\n",
    "\n",
    "# Extra Tree Classifier\n",
    "best_params = {\n",
    "    'n_estimators': 500, \n",
    "    'min_samples_split': 2, \n",
    "    'min_samples_leaf': 1, \n",
    "    'max_features': None, \n",
    "    'max_depth': 40\n",
    "}\n",
    "\n",
    "ExtraTreeClassifier_model = ExtraTreesClassifier(random_state=42, n_jobs=15, **best_params)\n",
    "ExtraTreeClassifier_model.fit(X_train, y_train)"
   ]
  },
  {
   "cell_type": "code",
   "execution_count": 32,
   "metadata": {},
   "outputs": [
    {
     "name": "stdout",
     "output_type": "stream",
     "text": [
      "Model saved to: ../Decision_Tree.pkl\n",
      "Model saved to: ../Random_Forest.pkl\n",
      "Model saved to: ../Extra_Tree_Classifier.pkl\n",
      "Model saved to: ../XGBoost.pkl\n",
      "Model saved to: ../LightGBM.pkl\n",
      "Model saved to: ../CatBoost.pkl\n"
     ]
    }
   ],
   "source": [
    "# Decision Tree\n",
    "DecisionTree = \"../Decision_Tree.pkl\"\n",
    "joblib.dump(DecisionTree_model, DecisionTree)\n",
    "print(f\"Model saved to: {DecisionTree}\")\n",
    "\n",
    "# Random Forest\n",
    "RandomForest = \"../Random_Forest.pkl\"\n",
    "joblib.dump(RandomForest_model, RandomForest)\n",
    "print(f\"Model saved to: {RandomForest}\")\n",
    "\n",
    "# Extra Tree Classifier\n",
    "ExtraTreeClassifier = \"../Extra_Tree_Classifier.pkl\"\n",
    "joblib.dump(ExtraTreeClassifier_model, ExtraTreeClassifier)\n",
    "print(f\"Model saved to: {ExtraTreeClassifier}\")\n",
    "\n",
    "# XGBoost\n",
    "XGBoost = \"../XGBoost.pkl\"\n",
    "joblib.dump(xgb_model, XGBoost)\n",
    "print(f\"Model saved to: {XGBoost}\")\n",
    "\n",
    "# LightGBM\n",
    "LightGBM = \"../LightGBM.pkl\"\n",
    "joblib.dump(lgb_model, LightGBM)\n",
    "print(f\"Model saved to: {LightGBM}\")\n",
    "\n",
    "# CatBoost\n",
    "CatBoost = \"../CatBoost.pkl\"\n",
    "joblib.dump(cat_model, CatBoost)\n",
    "print(f\"Model saved to: {CatBoost}\")"
   ]
  }
 ],
 "metadata": {
  "colab": {
   "provenance": []
  },
  "kernelspec": {
   "display_name": "Python 3 (ipykernel)",
   "language": "python",
   "name": "python3"
  },
  "language_info": {
   "codemirror_mode": {
    "name": "ipython",
    "version": 3
   },
   "file_extension": ".py",
   "mimetype": "text/x-python",
   "name": "python",
   "nbconvert_exporter": "python",
   "pygments_lexer": "ipython3",
   "version": "3.12.4"
  }
 },
 "nbformat": 4,
 "nbformat_minor": 4
}
