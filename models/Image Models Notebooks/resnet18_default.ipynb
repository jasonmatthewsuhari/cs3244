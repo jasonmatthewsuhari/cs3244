{
 "cells": [
  {
   "cell_type": "code",
   "execution_count": 1,
   "metadata": {},
   "outputs": [],
   "source": [
    "import torch\n",
    "import torchvision.models as models\n",
    "import torch.nn as nn\n",
    "import torch.optim as optim\n",
    "from torchvision import transforms, datasets\n",
    "from torch.utils.data import DataLoader, Dataset\n",
    "from torch.nn.functional import sigmoid\n",
    "from sklearn.metrics import precision_score, recall_score, f1_score, confusion_matrix\n",
    "\n",
    "import numpy as np"
   ]
  },
  {
   "cell_type": "code",
   "execution_count": 2,
   "metadata": {},
   "outputs": [],
   "source": [
    "class EmojiDataset(Dataset):\n",
    "    def __init__(self, rgb_images, edge_images, labels, transform=None):\n",
    "        self.rgb_images = rgb_images  # (num, 224, 224, 3)\n",
    "        self.edge_images = np.expand_dims(edge_images, axis=-1)  # Ensure (num, 224, 224, 1)\n",
    "        self.labels = labels  # (num, 11)\n",
    "        self.transform = transform\n",
    "\n",
    "    def __len__(self):\n",
    "        return len(self.rgb_images)\n",
    "\n",
    "    def __getitem__(self, idx):\n",
    "        # Convert to PyTorch tensors\n",
    "        rgb = torch.tensor(self.rgb_images[idx], dtype=torch.float32)\n",
    "        edge = torch.tensor(self.edge_images[idx], dtype=torch.float32)\n",
    "        label = torch.tensor(self.labels[idx], dtype=torch.float32)\n",
    "\n",
    "        # Permute from (H, W, C) → (C, H, W)\n",
    "        rgb = rgb.permute(2, 0, 1)  # (3, 224, 224)\n",
    "        edge = edge.permute(2, 0, 1)  # (1, 224, 224)\n",
    "        # Concatenate along channel dimension\n",
    "        combined = torch.cat((rgb, edge), dim=0)  # (4, 224, 224)\n",
    "        # Normalize image pixels to [0,1]\n",
    "        combined /= 255.0\n",
    "\n",
    "        if self.transform:\n",
    "            combined = self.transform(combined)\n",
    "        \n",
    "        return combined, label"
   ]
  },
  {
   "cell_type": "code",
   "execution_count": 3,
   "metadata": {},
   "outputs": [
    {
     "name": "stdout",
     "output_type": "stream",
     "text": [
      "(109176, 224, 224, 3) uint8 <class 'numpy.ndarray'> (224, 224, 3)\n",
      "(109176, 224, 224) uint8 <class 'numpy.ndarray'> (224, 224)\n",
      "(109176, 11) int64 <class 'numpy.ndarray'> [0 0 0 0 1 0 0 0 0 0 0] 1\n"
     ]
    }
   ],
   "source": [
    "# Load images and labels\n",
    "rgb_train= np.load(\"img_train_plaintext_top11_rgb.npy\")  # Shape: (num_train, 224, 224, 3)\n",
    "edges_train = np.load(\"img_train_plaintext_top11_edges.npy\")  # Shape: (num_train, 224, 224)\n",
    "labels_train = np.load(\"img_train_plaintext_top11_labels.npy\")  # Shape: (num_train, 11) - Multi-label one-hot\n",
    "\n",
    "rgb_valid= np.load(\"img_valid_plaintext_top11_rgb.npy\")  # Shape: (num_valid, 224, 224, 3)\n",
    "edges_valid = np.load(\"img_valid_plaintext_top11_edges.npy\")  # Shape: (num_valid, 224, 224)\n",
    "labels_valid = np.load(\"img_valid_plaintext_top11_labels.npy\")  # Shape: (num_valid, 11)\n",
    "\n",
    "rgb_test = np.load(\"img_test_plaintext_top11_rgb.npy\")  # Shape: (num_valid, 224, 224, 3)\n",
    "edges_test = np.load(\"img_test_plaintext_top11_edges.npy\")  # Shape: (num_valid, 224, 224)\n",
    "labels_test = np.load(\"img_test_plaintext_top11_labels.npy\")  # Shape: (num_valid, 11)\n",
    "\n",
    "print(rgb_train.shape, rgb_train.dtype, type(rgb_train[0]), rgb_train[0].shape)\n",
    "print(edges_train.shape, edges_train.dtype, type(edges_train[0]), edges_train[0].shape)\n",
    "print(labels_train.shape, labels_train.dtype, type(labels_train[0]), labels_train[0], labels_train[0][4])"
   ]
  },
  {
   "cell_type": "code",
   "execution_count": 4,
   "metadata": {},
   "outputs": [],
   "source": [
    "# Define transformations (optional)\n",
    "transform = transforms.Compose([\n",
    "    transforms.RandomHorizontalFlip(),  # Data augmentation\n",
    "    transforms.RandomRotation(10),\n",
    "])\n",
    "\n",
    "# Create Dataset instances\n",
    "train_dataset = EmojiDataset(rgb_train, edges_train, labels_train, transform=transform)\n",
    "valid_dataset = EmojiDataset(rgb_valid, edges_valid, labels_valid, transform=None)\n",
    "test_dataset = EmojiDataset(rgb_test, edges_test, labels_test, transform=None)\n",
    "\n",
    "# Create DataLoaders\n",
    "batch_size = 32  # Adjust as needed\n",
    "train_loader = DataLoader(train_dataset, batch_size=batch_size, shuffle=True)\n",
    "valid_loader = DataLoader(valid_dataset, batch_size=batch_size, shuffle=False)\n",
    "test_loader = DataLoader(test_dataset, batch_size=batch_size, shuffle=False)"
   ]
  },
  {
   "cell_type": "code",
   "execution_count": 5,
   "metadata": {},
   "outputs": [
    {
     "name": "stdout",
     "output_type": "stream",
     "text": [
      "Single image shape: torch.Size([4, 224, 224])\n",
      "Single label shape: torch.Size([11])\n"
     ]
    }
   ],
   "source": [
    "combined, label = train_dataset[0]\n",
    "\n",
    "print(\"Single image shape:\", combined.shape)  # Expected: (4, 224, 224)\n",
    "print(\"Single label shape:\", label.shape)  # Expected: (11,)"
   ]
  },
  {
   "cell_type": "code",
   "execution_count": 6,
   "metadata": {},
   "outputs": [
    {
     "name": "stdout",
     "output_type": "stream",
     "text": [
      "Batch image shape: torch.Size([32, 4, 224, 224])\n",
      "Batch label shape: torch.Size([32, 11])\n"
     ]
    }
   ],
   "source": [
    "for combined, labels in train_loader:\n",
    "    print(\"Batch image shape:\", combined.shape)  # Expected: (32, 4, 224, 224)\n",
    "    print(\"Batch label shape:\", labels.shape)  # Expected: (32, 11)\n",
    "    break"
   ]
  },
  {
   "cell_type": "code",
   "execution_count": 7,
   "metadata": {},
   "outputs": [
    {
     "name": "stdout",
     "output_type": "stream",
     "text": [
      "ResNet(\n",
      "  (conv1): Conv2d(4, 64, kernel_size=(7, 7), stride=(2, 2), padding=(3, 3), bias=False)\n",
      "  (bn1): BatchNorm2d(64, eps=1e-05, momentum=0.1, affine=True, track_running_stats=True)\n",
      "  (relu): ReLU(inplace=True)\n",
      "  (maxpool): MaxPool2d(kernel_size=3, stride=2, padding=1, dilation=1, ceil_mode=False)\n",
      "  (layer1): Sequential(\n",
      "    (0): BasicBlock(\n",
      "      (conv1): Conv2d(64, 64, kernel_size=(3, 3), stride=(1, 1), padding=(1, 1), bias=False)\n",
      "      (bn1): BatchNorm2d(64, eps=1e-05, momentum=0.1, affine=True, track_running_stats=True)\n",
      "      (relu): ReLU(inplace=True)\n",
      "      (conv2): Conv2d(64, 64, kernel_size=(3, 3), stride=(1, 1), padding=(1, 1), bias=False)\n",
      "      (bn2): BatchNorm2d(64, eps=1e-05, momentum=0.1, affine=True, track_running_stats=True)\n",
      "    )\n",
      "    (1): BasicBlock(\n",
      "      (conv1): Conv2d(64, 64, kernel_size=(3, 3), stride=(1, 1), padding=(1, 1), bias=False)\n",
      "      (bn1): BatchNorm2d(64, eps=1e-05, momentum=0.1, affine=True, track_running_stats=True)\n",
      "      (relu): ReLU(inplace=True)\n",
      "      (conv2): Conv2d(64, 64, kernel_size=(3, 3), stride=(1, 1), padding=(1, 1), bias=False)\n",
      "      (bn2): BatchNorm2d(64, eps=1e-05, momentum=0.1, affine=True, track_running_stats=True)\n",
      "    )\n",
      "  )\n",
      "  (layer2): Sequential(\n",
      "    (0): BasicBlock(\n",
      "      (conv1): Conv2d(64, 128, kernel_size=(3, 3), stride=(2, 2), padding=(1, 1), bias=False)\n",
      "      (bn1): BatchNorm2d(128, eps=1e-05, momentum=0.1, affine=True, track_running_stats=True)\n",
      "      (relu): ReLU(inplace=True)\n",
      "      (conv2): Conv2d(128, 128, kernel_size=(3, 3), stride=(1, 1), padding=(1, 1), bias=False)\n",
      "      (bn2): BatchNorm2d(128, eps=1e-05, momentum=0.1, affine=True, track_running_stats=True)\n",
      "      (downsample): Sequential(\n",
      "        (0): Conv2d(64, 128, kernel_size=(1, 1), stride=(2, 2), bias=False)\n",
      "        (1): BatchNorm2d(128, eps=1e-05, momentum=0.1, affine=True, track_running_stats=True)\n",
      "      )\n",
      "    )\n",
      "    (1): BasicBlock(\n",
      "      (conv1): Conv2d(128, 128, kernel_size=(3, 3), stride=(1, 1), padding=(1, 1), bias=False)\n",
      "      (bn1): BatchNorm2d(128, eps=1e-05, momentum=0.1, affine=True, track_running_stats=True)\n",
      "      (relu): ReLU(inplace=True)\n",
      "      (conv2): Conv2d(128, 128, kernel_size=(3, 3), stride=(1, 1), padding=(1, 1), bias=False)\n",
      "      (bn2): BatchNorm2d(128, eps=1e-05, momentum=0.1, affine=True, track_running_stats=True)\n",
      "    )\n",
      "  )\n",
      "  (layer3): Sequential(\n",
      "    (0): BasicBlock(\n",
      "      (conv1): Conv2d(128, 256, kernel_size=(3, 3), stride=(2, 2), padding=(1, 1), bias=False)\n",
      "      (bn1): BatchNorm2d(256, eps=1e-05, momentum=0.1, affine=True, track_running_stats=True)\n",
      "      (relu): ReLU(inplace=True)\n",
      "      (conv2): Conv2d(256, 256, kernel_size=(3, 3), stride=(1, 1), padding=(1, 1), bias=False)\n",
      "      (bn2): BatchNorm2d(256, eps=1e-05, momentum=0.1, affine=True, track_running_stats=True)\n",
      "      (downsample): Sequential(\n",
      "        (0): Conv2d(128, 256, kernel_size=(1, 1), stride=(2, 2), bias=False)\n",
      "        (1): BatchNorm2d(256, eps=1e-05, momentum=0.1, affine=True, track_running_stats=True)\n",
      "      )\n",
      "    )\n",
      "    (1): BasicBlock(\n",
      "      (conv1): Conv2d(256, 256, kernel_size=(3, 3), stride=(1, 1), padding=(1, 1), bias=False)\n",
      "      (bn1): BatchNorm2d(256, eps=1e-05, momentum=0.1, affine=True, track_running_stats=True)\n",
      "      (relu): ReLU(inplace=True)\n",
      "      (conv2): Conv2d(256, 256, kernel_size=(3, 3), stride=(1, 1), padding=(1, 1), bias=False)\n",
      "      (bn2): BatchNorm2d(256, eps=1e-05, momentum=0.1, affine=True, track_running_stats=True)\n",
      "    )\n",
      "  )\n",
      "  (layer4): Sequential(\n",
      "    (0): BasicBlock(\n",
      "      (conv1): Conv2d(256, 512, kernel_size=(3, 3), stride=(2, 2), padding=(1, 1), bias=False)\n",
      "      (bn1): BatchNorm2d(512, eps=1e-05, momentum=0.1, affine=True, track_running_stats=True)\n",
      "      (relu): ReLU(inplace=True)\n",
      "      (conv2): Conv2d(512, 512, kernel_size=(3, 3), stride=(1, 1), padding=(1, 1), bias=False)\n",
      "      (bn2): BatchNorm2d(512, eps=1e-05, momentum=0.1, affine=True, track_running_stats=True)\n",
      "      (downsample): Sequential(\n",
      "        (0): Conv2d(256, 512, kernel_size=(1, 1), stride=(2, 2), bias=False)\n",
      "        (1): BatchNorm2d(512, eps=1e-05, momentum=0.1, affine=True, track_running_stats=True)\n",
      "      )\n",
      "    )\n",
      "    (1): BasicBlock(\n",
      "      (conv1): Conv2d(512, 512, kernel_size=(3, 3), stride=(1, 1), padding=(1, 1), bias=False)\n",
      "      (bn1): BatchNorm2d(512, eps=1e-05, momentum=0.1, affine=True, track_running_stats=True)\n",
      "      (relu): ReLU(inplace=True)\n",
      "      (conv2): Conv2d(512, 512, kernel_size=(3, 3), stride=(1, 1), padding=(1, 1), bias=False)\n",
      "      (bn2): BatchNorm2d(512, eps=1e-05, momentum=0.1, affine=True, track_running_stats=True)\n",
      "    )\n",
      "  )\n",
      "  (avgpool): AdaptiveAvgPool2d(output_size=(1, 1))\n",
      "  (fc): Linear(in_features=512, out_features=11, bias=True)\n",
      ")\n",
      "cuda\n"
     ]
    }
   ],
   "source": [
    "# Load Pretrained ResNet18\n",
    "model = models.resnet18(weights=\"DEFAULT\")\n",
    "\n",
    "num_classes = 11  # Top 11\n",
    "\n",
    "# Modify for 4-channel (RGB + Edge)\n",
    "model.conv1 = nn.Conv2d(4, 64, kernel_size=7, stride=2, padding=3, bias=False)\n",
    "# Modify the last layer\n",
    "model.fc = nn.Linear(model.fc.in_features, num_classes)\n",
    "print(model)\n",
    "\n",
    "# Move model to GPU\n",
    "# Move model to GPU\n",
    "device = torch.device(\"cuda\" if torch.cuda.is_available() else \"cpu\")\n",
    "print(device)\n",
    "model = model.to(device)"
   ]
  },
  {
   "cell_type": "code",
   "execution_count": null,
   "metadata": {},
   "outputs": [
    {
     "name": "stdout",
     "output_type": "stream",
     "text": [
      "Epoch 1, Train Loss: 0.2787556831549159 , Valid Loss: 0.2773095531359551\n",
      "Epoch 2, Train Loss: 0.27650247249153964 , Valid Loss: 0.2781507902675205\n",
      "Epoch 3, Train Loss: 0.2754123801363311 , Valid Loss: 0.27448580796441074\n",
      "Epoch 4, Train Loss: 0.2741419828659555 , Valid Loss: 0.2734218432553231\n",
      "Epoch 5, Train Loss: 0.2729766061103707 , Valid Loss: 0.2757518571757135\n",
      "Epoch 6, Train Loss: 0.2721671901145406 , Valid Loss: 0.27263734698610964\n",
      "Epoch 7, Train Loss: 0.2711031407310004 , Valid Loss: 0.27047455208326776\n",
      "Epoch 8, Train Loss: 0.26994411812402996 , Valid Loss: 0.27007317748019305\n",
      "Epoch 9, Train Loss: 0.2686281468968179 , Valid Loss: 0.2698407728205282\n"
     ]
    }
   ],
   "source": [
    "# Define loss function & optimizer\n",
    "criterion = nn.BCEWithLogitsLoss()  # Multi-label loss function\n",
    "optimizer = optim.Adam(model.parameters(), lr=0.001)\n",
    "\n",
    "# Training Loop\n",
    "num_epochs = 20  # Adjust as needed\n",
    "\n",
    "for epoch in range(num_epochs):\n",
    "    model.train()\n",
    "    train_loss = 0.0\n",
    "\n",
    "    for images, labels in train_loader:\n",
    "        images, labels = images.to(device), labels.to(device)\n",
    "\n",
    "        optimizer.zero_grad()\n",
    "        outputs = model(images)\n",
    "\n",
    "        loss = criterion(outputs, labels) \n",
    "        loss.backward()\n",
    "        optimizer.step()\n",
    "\n",
    "        train_loss += loss.item()\n",
    "\n",
    "    # After each epoch, validate on the validation set\n",
    "    model.eval()  # Set model to evaluation mode\n",
    "    valid_loss = 0.0\n",
    "    with torch.no_grad():  # Disable gradient calculation for validation\n",
    "        for images, labels in valid_loader:\n",
    "            images, labels = images.to(device), labels.to(device) \n",
    "\n",
    "            outputs = model(images)\n",
    "            loss = criterion(outputs, labels)\n",
    "\n",
    "            valid_loss += loss.item()\n",
    "    print(f\"Epoch {epoch+1}, Train Loss: {train_loss/len(train_loader)} , Valid Loss: {valid_loss/len(valid_loader)}\")\n",
    "    "
   ]
  },
  {
   "cell_type": "code",
   "execution_count": null,
   "metadata": {},
   "outputs": [
    {
     "name": "stdout",
     "output_type": "stream",
     "text": [
      "Threshold: 0.3\n"
     ]
    },
    {
     "name": "stderr",
     "output_type": "stream",
     "text": [
      "c:\\Users\\Admin\\AppData\\Local\\Programs\\Python\\Python313\\Lib\\site-packages\\sklearn\\metrics\\_classification.py:1565: UndefinedMetricWarning: Precision is ill-defined and being set to 0.0 in labels with no predicted samples. Use `zero_division` parameter to control this behavior.\n",
      "  _warn_prf(average, modifier, f\"{metric.capitalize()} is\", len(result))\n"
     ]
    },
    {
     "name": "stdout",
     "output_type": "stream",
     "text": [
      "Test Accuracy: 88.57%\n",
      "Test Precision: 35.91%\n",
      "Test Recall: 13.42%\n",
      "Test F1: 14.95% \n",
      "\n",
      "Threshold: 0.5\n"
     ]
    },
    {
     "name": "stderr",
     "output_type": "stream",
     "text": [
      "c:\\Users\\Admin\\AppData\\Local\\Programs\\Python\\Python313\\Lib\\site-packages\\sklearn\\metrics\\_classification.py:1565: UndefinedMetricWarning: Precision is ill-defined and being set to 0.0 in labels with no predicted samples. Use `zero_division` parameter to control this behavior.\n",
      "  _warn_prf(average, modifier, f\"{metric.capitalize()} is\", len(result))\n"
     ]
    },
    {
     "name": "stdout",
     "output_type": "stream",
     "text": [
      "Test Accuracy: 90.34%\n",
      "Test Precision: 48.77%\n",
      "Test Recall: 4.52%\n",
      "Test F1: 7.92% \n",
      "\n",
      "Threshold: 0.7\n",
      "Test Accuracy: 90.40%\n",
      "Test Precision: 59.07%\n",
      "Test Recall: 2.62%\n",
      "Test F1: 4.99% \n",
      "\n"
     ]
    },
    {
     "name": "stderr",
     "output_type": "stream",
     "text": [
      "c:\\Users\\Admin\\AppData\\Local\\Programs\\Python\\Python313\\Lib\\site-packages\\sklearn\\metrics\\_classification.py:1565: UndefinedMetricWarning: Precision is ill-defined and being set to 0.0 in labels with no predicted samples. Use `zero_division` parameter to control this behavior.\n",
      "  _warn_prf(average, modifier, f\"{metric.capitalize()} is\", len(result))\n"
     ]
    }
   ],
   "source": [
    "model.eval()\n",
    "\n",
    "for threshold in (0.3, 0.5, 0.7):\n",
    "    print(f\"Threshold: {threshold}\")\n",
    "    \n",
    "    total = 0\n",
    "    correct = 0\n",
    "    all_preds = []\n",
    "    all_labels = []\n",
    "    \n",
    "    with torch.no_grad():\n",
    "        for images, labels in test_loader:\n",
    "            images, labels = images.to(device), labels.to(device)\n",
    "\n",
    "            outputs = model(images)\n",
    "            # Convert logits to probabilities\n",
    "            probs = sigmoid(outputs)  \n",
    "            # Convert logits to binary, \n",
    "            # Threshold at 0.5 (adjustable) to get binary labels\n",
    "            predicted = (probs > threshold).float()\n",
    "            \n",
    "            # Store predictions and actual labels\n",
    "            all_preds.append(predicted.cpu().numpy())\n",
    "            all_labels.append(labels.cpu().numpy())\n",
    "            \n",
    "            correct += (predicted == labels).sum().item()\n",
    "            total += labels.numel()  # Count total number of elements\n",
    "\n",
    "    # Convert list of numpy arrays into a single numpy array\n",
    "    all_preds = np.vstack(all_preds)\n",
    "    all_labels = np.vstack(all_labels)\n",
    "\n",
    "    # Compute confusion matrix, precision, and recall for each label (emoji)\n",
    "    accuracy = 100 * correct / total\n",
    "    precision = 100 * precision_score(all_labels, all_preds, average=\"macro\")  # Use 'macro' for multi-label\n",
    "    recall = 100 * recall_score(all_labels, all_preds, average=\"macro\")\n",
    "    f1 = 100 * f1_score(all_labels, all_preds, average=\"macro\")\n",
    "\n",
    "    print(f\"Test Accuracy: {accuracy:.2f}%\")\n",
    "    print(f\"Test Precision: {precision:.2f}%\")\n",
    "    print(f\"Test Recall: {recall:.2f}%\")\n",
    "    print(f\"Test F1: {f1:.2f}% \\n\")"
   ]
  }
 ],
 "metadata": {
  "kernelspec": {
   "display_name": "Python 3",
   "language": "python",
   "name": "python3"
  },
  "language_info": {
   "codemirror_mode": {
    "name": "ipython",
    "version": 3
   },
   "file_extension": ".py",
   "mimetype": "text/x-python",
   "name": "python",
   "nbconvert_exporter": "python",
   "pygments_lexer": "ipython3",
   "version": "3.13.2"
  }
 },
 "nbformat": 4,
 "nbformat_minor": 2
}
