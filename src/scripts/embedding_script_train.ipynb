{
 "cells": [
  {
   "cell_type": "code",
   "execution_count": 29,
   "id": "186cfff6-d3b2-493a-8a70-48109146df61",
   "metadata": {},
   "outputs": [],
   "source": [
    "import pandas as pd\n",
    "import numpy as np\n"
   ]
  },
  {
   "cell_type": "code",
   "execution_count": 2,
   "id": "ea22b82b-0351-47a5-a606-cd2638523230",
   "metadata": {},
   "outputs": [],
   "source": [
    "#read in data from ckcherry github\n",
    "train = pd.read_csv(\"./full_train_preprocessed_subset.csv\",low_memory = False)\n",
    "test = pd.read_csv(\"./full_test_preprocessed_subset.csv\",low_memory = False)\n",
    "valid = pd.read_csv(\"./full_val_preprocessed_subset.csv\",low_memory = False)"
   ]
  },
  {
   "cell_type": "code",
   "execution_count": 17,
   "id": "c4e288f6-d887-4278-aee0-b3274898f66f",
   "metadata": {},
   "outputs": [
    {
     "name": "stdout",
     "output_type": "stream",
     "text": [
      "   Unnamed: 0  annotations                                               text  \\\n",
      "0       11801         1384                    Nobody go to Walmart in sulphur   \n",
      "1       11802         1384   @emberlhamon @MLidak welcome to the ugly club!!    \n",
      "2       11803         1384                      getting to help coach jr high   \n",
      "3       11804         1384  Yo Gotti and Black Youngsta on stage we all th...   \n",
      "4       11805         1384  @spenceribarra just making sure I haven't been...   \n",
      "\n",
      "  hashtag                                             tokens  upper_case  \\\n",
      "0     NaN             ['nobody', 'go', 'walmart', 'sulphur']           2   \n",
      "1     NaN                        ['welcome', 'ugly', 'club']           2   \n",
      "2     NaN         ['getting', 'help', 'coach', 'jr', 'high']           0   \n",
      "3     NaN  ['yo', 'gotti', 'black', 'youngsta', 'stage', ...           4   \n",
      "4     NaN           ['making', 'sure', 'havent', 'replaced']           1   \n",
      "\n",
      "   num_digits  num_hashtags  num_words  average_word_length  positive  \\\n",
      "0           0             1          6             4.333333       0.0   \n",
      "1           0             1          8             5.125000       0.0   \n",
      "2           0             1          6             4.000000       0.0   \n",
      "3           0             1         13             3.692308       0.0   \n",
      "4           0             1          9             5.333333       0.0   \n",
      "\n",
      "   neutral  negative  compound  label  \n",
      "0      1.0       0.0       0.0      2  \n",
      "1      1.0       0.0       0.0      2  \n",
      "2      1.0       0.0       0.0      2  \n",
      "3      1.0       0.0       0.0      2  \n",
      "4      1.0       0.0       0.0      2  \n"
     ]
    }
   ],
   "source": [
    "#check structure of train data\n",
    "print(train.head())"
   ]
  },
  {
   "cell_type": "code",
   "execution_count": 4,
   "id": "f114809f-101c-4c31-a381-b9a58aa2be7e",
   "metadata": {},
   "outputs": [
    {
     "name": "stdout",
     "output_type": "stream",
     "text": [
      "Requirement already satisfied: transformers in /opt/anaconda3/lib/python3.12/site-packages (4.49.0)\n",
      "Requirement already satisfied: filelock in /opt/anaconda3/lib/python3.12/site-packages (from transformers) (3.13.1)\n",
      "Requirement already satisfied: huggingface-hub<1.0,>=0.26.0 in /opt/anaconda3/lib/python3.12/site-packages (from transformers) (0.29.3)\n",
      "Requirement already satisfied: numpy>=1.17 in /opt/anaconda3/lib/python3.12/site-packages (from transformers) (1.26.4)\n",
      "Requirement already satisfied: packaging>=20.0 in /opt/anaconda3/lib/python3.12/site-packages (from transformers) (23.2)\n",
      "Requirement already satisfied: pyyaml>=5.1 in /opt/anaconda3/lib/python3.12/site-packages (from transformers) (6.0.1)\n",
      "Requirement already satisfied: regex!=2019.12.17 in /opt/anaconda3/lib/python3.12/site-packages (from transformers) (2023.10.3)\n",
      "Requirement already satisfied: requests in /opt/anaconda3/lib/python3.12/site-packages (from transformers) (2.32.2)\n",
      "Requirement already satisfied: tokenizers<0.22,>=0.21 in /opt/anaconda3/lib/python3.12/site-packages (from transformers) (0.21.1)\n",
      "Requirement already satisfied: safetensors>=0.4.1 in /opt/anaconda3/lib/python3.12/site-packages (from transformers) (0.5.3)\n",
      "Requirement already satisfied: tqdm>=4.27 in /opt/anaconda3/lib/python3.12/site-packages (from transformers) (4.66.4)\n",
      "Requirement already satisfied: fsspec>=2023.5.0 in /opt/anaconda3/lib/python3.12/site-packages (from huggingface-hub<1.0,>=0.26.0->transformers) (2024.3.1)\n",
      "Requirement already satisfied: typing-extensions>=3.7.4.3 in /opt/anaconda3/lib/python3.12/site-packages (from huggingface-hub<1.0,>=0.26.0->transformers) (4.11.0)\n",
      "Requirement already satisfied: charset-normalizer<4,>=2 in /opt/anaconda3/lib/python3.12/site-packages (from requests->transformers) (2.0.4)\n",
      "Requirement already satisfied: idna<4,>=2.5 in /opt/anaconda3/lib/python3.12/site-packages (from requests->transformers) (3.7)\n",
      "Requirement already satisfied: urllib3<3,>=1.21.1 in /opt/anaconda3/lib/python3.12/site-packages (from requests->transformers) (2.2.2)\n",
      "Requirement already satisfied: certifi>=2017.4.17 in /opt/anaconda3/lib/python3.12/site-packages (from requests->transformers) (2024.7.4)\n",
      "Requirement already satisfied: torch in /opt/anaconda3/lib/python3.12/site-packages (2.6.0)\n",
      "Requirement already satisfied: filelock in /opt/anaconda3/lib/python3.12/site-packages (from torch) (3.13.1)\n",
      "Requirement already satisfied: typing-extensions>=4.10.0 in /opt/anaconda3/lib/python3.12/site-packages (from torch) (4.11.0)\n",
      "Requirement already satisfied: networkx in /opt/anaconda3/lib/python3.12/site-packages (from torch) (3.2.1)\n",
      "Requirement already satisfied: jinja2 in /opt/anaconda3/lib/python3.12/site-packages (from torch) (3.1.4)\n",
      "Requirement already satisfied: fsspec in /opt/anaconda3/lib/python3.12/site-packages (from torch) (2024.3.1)\n",
      "Requirement already satisfied: setuptools in /opt/anaconda3/lib/python3.12/site-packages (from torch) (69.5.1)\n",
      "Requirement already satisfied: sympy==1.13.1 in /opt/anaconda3/lib/python3.12/site-packages (from torch) (1.13.1)\n",
      "Requirement already satisfied: mpmath<1.4,>=1.1.0 in /opt/anaconda3/lib/python3.12/site-packages (from sympy==1.13.1->torch) (1.3.0)\n",
      "Requirement already satisfied: MarkupSafe>=2.0 in /opt/anaconda3/lib/python3.12/site-packages (from jinja2->torch) (2.1.3)\n"
     ]
    }
   ],
   "source": [
    "!pip install transformers\n",
    "!pip install torch"
   ]
  },
  {
   "cell_type": "code",
   "execution_count": 5,
   "id": "6b7eb67c-5646-4182-9dd1-4e294ff67a51",
   "metadata": {},
   "outputs": [],
   "source": [
    "from transformers import BertTokenizer, BertModel\n",
    "import torch"
   ]
  },
  {
   "cell_type": "code",
   "execution_count": 6,
   "id": "767bd66d-a46d-4dca-9aea-52914e8d2390",
   "metadata": {},
   "outputs": [
    {
     "data": {
      "application/vnd.jupyter.widget-view+json": {
       "model_id": "166e40f2c56345d786a96d5d4083b4f6",
       "version_major": 2,
       "version_minor": 0
      },
      "text/plain": [
       "model.safetensors:  31%|###       | 136M/440M [00:00<?, ?B/s]"
      ]
     },
     "metadata": {},
     "output_type": "display_data"
    }
   ],
   "source": [
    "# Load pre-trained model and tokenizer\n",
    "model_name = 'bert-base-uncased'\n",
    "tokenizer = BertTokenizer.from_pretrained(model_name)\n",
    "model = BertModel.from_pretrained(model_name)\n",
    "\n",
    "\n",
    "def get_bert_embedding(text):\n",
    "    inputs = tokenizer(text, return_tensors='pt', truncation=True, padding=True, max_length=512)\n",
    "    outputs = model(**inputs)\n",
    "    # Get the embeddings from the last hidden state (batch_size, sequence_length, embedding_dim)\n",
    "    embeddings = outputs.last_hidden_state\n",
    "    # Average over token embeddings to get a single sentence embedding\n",
    "    sentence_embedding = embeddings.mean(dim=1).squeeze().detach().numpy()\n",
    "    return sentence_embedding"
   ]
  },
  {
   "cell_type": "code",
   "execution_count": 7,
   "id": "a0b948fc-a2b6-4151-9732-d6d271d1aa66",
   "metadata": {},
   "outputs": [
    {
     "name": "stdout",
     "output_type": "stream",
     "text": [
      "[ 8.03204998e-02  1.22918054e-01  1.26589581e-01 -2.66374886e-01\n",
      "  1.77689239e-01 -2.71641701e-01  3.53137285e-01  4.87102926e-01\n",
      " -3.98947775e-01 -1.69440776e-01 -2.50249863e-01 -4.00821030e-01\n",
      " -1.73789874e-01  5.81908487e-02 -1.16118103e-01 -1.81075349e-01\n",
      "  8.15083832e-02  6.11187220e-02  3.20318490e-01  2.56247699e-01\n",
      " -9.03702378e-02  2.68987194e-02  2.25703232e-02  3.41205776e-01\n",
      "  2.90913552e-01  4.92615253e-03  3.70574817e-02  4.45242316e-01\n",
      " -6.71408847e-02 -3.03447127e-01  2.84514278e-01  1.84140772e-01\n",
      "  2.68895179e-01  2.71409571e-01 -1.42630070e-01 -4.19640839e-02\n",
      " -1.83588117e-01  1.02859318e-01 -2.58117169e-01  2.05545366e-01\n",
      "  9.95807499e-02 -4.46917951e-01  1.91553026e-01  2.78909393e-02\n",
      "  2.06930533e-01 -7.05694199e-01 -3.48678321e-01  1.65436417e-03\n",
      "  4.39676255e-01 -4.04285043e-02 -7.68633708e-02  4.88362640e-01\n",
      "  7.35179484e-02 -9.41370577e-02 -2.15701088e-01  5.04661441e-01\n",
      " -2.93146610e-01 -4.07490999e-01 -1.45578116e-01 -2.18072414e-01\n",
      "  1.12465948e-01  1.36503130e-02 -1.77182466e-01 -4.47123736e-01\n",
      "  1.36398345e-01  1.74291313e-01 -1.77047044e-01  4.67256814e-01\n",
      " -5.21898746e-01 -3.22710797e-02 -6.74903393e-04 -3.28782767e-01\n",
      "  3.69527340e-02 -6.48820624e-02 -8.73964429e-02 -3.90744768e-02\n",
      " -1.90012425e-01  1.31653965e-01  5.89331724e-02 -4.86497134e-02\n",
      " -3.31478029e-01  3.83848161e-01  2.07816690e-01  6.32134497e-01\n",
      "  1.91321760e-01  9.40801203e-02 -8.61529261e-02  4.92722280e-02\n",
      " -4.55571741e-01  3.17059547e-01 -4.21446741e-01 -1.61475241e-01\n",
      " -1.08275928e-01  1.08112857e-01  4.56849962e-01 -1.41063914e-01\n",
      " -9.90403816e-02  1.55558378e-01 -4.25188810e-01  1.30713075e-01\n",
      " -1.06464997e-01 -6.03539586e-01  2.37262145e-01  3.26635182e-01\n",
      " -1.10942908e-02  6.74325675e-02  1.84253648e-01 -6.04091361e-02\n",
      "  1.08658716e-01  3.91967893e-02  1.91157669e-01 -4.15732771e-01\n",
      " -1.75238237e-01 -2.33598545e-01 -8.00654516e-02  2.65948117e-01\n",
      "  3.05711925e-01  1.76951602e-01 -5.39876148e-03  1.47959784e-01\n",
      " -2.00738728e-01 -3.12188506e-01  3.04869041e-02  8.27172399e-01\n",
      " -9.96821187e-03  2.41874501e-01 -2.60317206e-01 -9.49818790e-02\n",
      "  6.91279173e-02 -3.28708768e-01 -3.24848518e-02  6.51596904e-01\n",
      "  4.86018896e-01 -5.25385976e-01 -6.19731843e-03 -6.12568781e-02\n",
      "  2.32300013e-01 -1.69553220e-01 -4.26109105e-01 -1.80835813e-01\n",
      "  9.90711004e-02  2.90277362e-01  9.28339511e-02  1.95060059e-01\n",
      "  9.77595896e-02 -1.09898299e-03 -3.72074753e-01  2.06137136e-01\n",
      " -9.28853378e-02 -1.41651198e-01 -1.76291674e-01  2.42868289e-01\n",
      " -3.71214122e-01 -2.00967491e-01 -3.20565194e-01 -1.75082251e-01\n",
      " -6.02189481e-01  1.90276667e-01  2.37651616e-01  3.60980988e-01\n",
      "  2.02891052e-01 -2.23021060e-01 -4.52206105e-01  4.61396515e-01\n",
      " -5.21948695e-01 -1.17252335e-01  4.79860097e-01  7.72912383e-01\n",
      "  3.39667387e-02  9.92397666e-02 -3.00331444e-01 -9.54691097e-02\n",
      "  6.20613217e-01  2.04057515e-01 -1.91450924e-01  8.89589041e-02\n",
      "  3.69888783e-01  1.58620909e-01 -1.06575973e-01  1.61530122e-01\n",
      " -1.28426826e+00 -1.35100439e-01  1.08199075e-01  2.77057111e-01\n",
      "  2.41198987e-01 -2.92168349e-01  2.85666168e-01 -5.28201997e-01\n",
      "  3.82756203e-01  2.23645449e-01 -5.13323843e-01 -6.07969761e-02\n",
      " -9.95403081e-02  1.32310316e-02  4.67839837e-01  2.97303442e-02\n",
      "  3.75406891e-02 -2.78158724e-01  3.30358237e-01  2.27490410e-01\n",
      "  2.70010233e-01 -5.10379151e-02  1.54239714e-01 -2.16027722e-03\n",
      " -2.43372358e-02  2.53073692e-01 -1.02441877e-01  1.62961558e-02\n",
      " -2.82418191e-01 -4.02962416e-01 -4.92917955e-01  3.57138276e-01\n",
      "  1.60723791e-01 -8.65079612e-02  8.16898718e-02 -2.26713628e-01\n",
      "  1.34146884e-02 -3.34186733e-01 -3.75988036e-01 -1.14758238e-01\n",
      " -1.41509175e-02 -2.49553531e-01 -6.21903300e-01  2.72567958e-01\n",
      "  1.33835748e-02  3.27520549e-01  3.62444460e-01 -1.18180633e-01\n",
      "  2.75275022e-01  1.01572394e-01 -1.88184500e-01 -5.68447232e-01\n",
      "  5.32254338e-01 -6.29934855e-03  4.71815281e-02  3.85835290e-01\n",
      " -5.43610938e-02 -3.78284097e-01  2.43199930e-01 -2.49479383e-01\n",
      " -1.02672055e-01  1.32573575e-01  2.24635676e-01  8.02503377e-02\n",
      " -1.67866461e-02 -1.59762993e-01  5.67182107e-03  6.82842880e-02\n",
      "  6.40766174e-02 -2.67804891e-01 -2.31315754e-02 -6.42598450e-01\n",
      " -2.46884972e-02 -1.17491096e-01 -2.45734289e-01 -2.40863070e-01\n",
      "  2.99138613e-02  1.13166407e-01  1.37188256e-01  8.92461911e-02\n",
      "  4.03244495e-01 -1.24099739e-01  9.44606781e-01  8.17905441e-02\n",
      " -2.84475565e-01 -4.79415238e-01  1.38417646e-01 -5.75248711e-03\n",
      "  2.23545544e-03  8.71669352e-02 -3.53978902e-01 -9.90852192e-02\n",
      "  2.04256073e-01  4.09321964e-01 -2.30290875e-01 -4.59663928e-01\n",
      "  1.55385494e-01  1.13479048e-01 -4.82500568e-02 -2.77444214e-01\n",
      " -6.23997040e-02  4.50969338e-01 -5.63370407e-01 -3.57212126e-03\n",
      "  3.66778895e-02 -1.37484238e-01  1.54377967e-02 -2.36132607e-01\n",
      " -1.93049945e-02 -1.11939669e-01 -2.95828968e-01  3.04572910e-01\n",
      " -3.25431108e-01 -4.19552624e-01  6.36541903e-01 -4.83055525e-02\n",
      "  3.08791131e-01 -2.43289173e-02  2.00424165e-01 -2.17075963e-02\n",
      "  2.80002236e-01 -1.29642144e-01 -3.64018023e-01 -2.26639770e-02\n",
      " -3.13469231e-01  1.38045996e-01  1.52480230e-01 -9.43728611e-02\n",
      " -3.59795737e+00 -1.60956934e-01  4.14903089e-03 -4.22889404e-02\n",
      "  1.90309018e-01  3.24698351e-02 -4.56812531e-02  6.05454743e-02\n",
      " -6.33169234e-01 -2.90077537e-01 -1.56568825e-01  2.39377245e-02\n",
      "  4.06726331e-01  2.11987495e-01  8.87550339e-02  1.83469951e-01\n",
      "  5.90911686e-01 -2.91554332e-01 -4.46212918e-01  6.41387820e-01\n",
      " -1.31805480e-01 -2.98314542e-03  3.67590487e-02  6.12545684e-02\n",
      "  5.68704963e-01 -7.72731900e-02 -1.08654834e-01  1.35105297e-01\n",
      " -3.42183322e-01 -1.21721238e-01 -1.35629520e-01 -4.98161733e-01\n",
      "  1.56648308e-02  5.19561589e-01 -3.85748111e-02 -3.32525373e-03\n",
      "  2.57925630e-01 -4.93704945e-01  7.35580325e-02  1.57191440e-01\n",
      "  5.74858412e-02 -3.50951850e-01  8.57653022e-02 -1.98203474e-01\n",
      "  7.25206137e-01 -6.96491718e-01 -2.59100124e-02 -1.70461815e-02\n",
      " -2.14930311e-01  1.89289123e-01  2.57503659e-01 -1.53720483e-01\n",
      "  4.03507322e-01 -3.32314312e-01 -5.61136529e-02 -2.11965665e-01\n",
      "  3.81289601e-01  5.62889218e-01 -8.54027942e-02 -2.89000750e-01\n",
      "  4.31499660e-01 -1.01681873e-02 -4.96686578e-01 -2.01618180e-01\n",
      " -8.24338123e-02 -2.63415694e-01 -6.06847405e-01 -5.97806275e-01\n",
      " -3.52651447e-01  3.04360926e-01 -1.95873290e-01  4.51051407e-02\n",
      " -2.81195611e-01 -1.09167778e+00 -2.51425177e-01  2.29606584e-01\n",
      " -1.80995226e-01  5.27363457e-02  1.93366230e-01 -1.12280302e-01\n",
      " -1.92784429e-01 -4.59179044e-01 -8.85903686e-02  3.66654187e-01\n",
      "  5.05377352e-02 -4.16813046e-01 -5.14866263e-02 -9.41778794e-02\n",
      " -4.75884136e-03  2.10526377e-01  4.38400120e-01  1.74583927e-01\n",
      "  7.12863207e-02  3.53658319e-01  4.21581894e-01 -2.36165840e-02\n",
      "  4.48171556e-01 -2.81832069e-01  2.89899915e-01 -1.96432769e-01\n",
      " -3.33652049e-02  4.16921154e-02  1.45279467e-01  3.34335528e-02\n",
      " -2.00901646e-03  1.67466074e-01 -3.47505033e-01  1.51805252e-01\n",
      "  3.32618952e-01  3.21643911e-02 -2.38159984e-01 -2.61094302e-01\n",
      "  4.37561125e-02  1.38430566e-01 -1.17428966e-01 -3.06104630e-01\n",
      "  4.94193621e-02  1.07058533e-01 -1.09543316e-02  2.60230571e-01\n",
      " -1.93129450e-01  6.83680356e-01 -1.13271594e-01 -2.18841612e-01\n",
      " -1.10789329e-01  2.19117984e-01  2.20280394e-01 -1.91193059e-01\n",
      " -1.29361093e-01 -2.88746089e-01  3.70613858e-03 -3.70516896e-01\n",
      "  1.99158825e-02  2.29601413e-01 -6.15287796e-02  2.72665083e-01\n",
      " -2.36679077e-01  2.08358467e-03 -1.00022897e-01  1.91938430e-02\n",
      "  6.50934994e-01  3.02459598e-01 -5.47807217e-02  5.97772263e-02\n",
      "  8.12947899e-02  3.56193364e-01 -2.27140471e-01  1.94895789e-01\n",
      " -2.42050007e-01  1.51462138e-01 -1.17054038e-01 -7.18818069e-01\n",
      "  1.66840836e-01 -4.98875916e-01 -5.96130788e-02 -2.57683307e-01\n",
      " -8.35037753e-02 -2.26287201e-01  2.35642642e-02 -5.65235972e-01\n",
      "  3.75855297e-01 -1.95031032e-01  1.87078059e-01  4.19075131e-01\n",
      "  2.11222649e-01  7.81554103e-01  1.00603983e-01 -7.58081898e-02\n",
      " -3.14033985e-01  8.83703679e-03  1.75078362e-01 -3.02687641e-02\n",
      " -1.37790158e-01 -2.62634099e-01 -9.42412317e-02  9.30326506e-02\n",
      " -2.91010678e-01 -5.59699893e-01  4.15242836e-03  4.18826103e-01\n",
      " -1.85306489e-01 -3.42894733e-01 -2.24514291e-01  1.18894823e-01\n",
      "  4.85399246e-01  1.28917396e-01  1.28507435e-01 -1.28215134e-01\n",
      "  1.87738091e-01  5.35954416e-01 -9.16985124e-02  4.48057771e-01\n",
      "  8.82021189e-02 -6.03196502e-01 -4.66611087e-01 -5.31902850e-01\n",
      "  6.20624006e-01 -1.29126877e-01  1.91996396e-01  2.13603318e-01\n",
      "  4.15817387e-02 -1.10150777e-01 -2.65310705e-01  1.49175853e-01\n",
      "  3.64125967e-01 -2.10610598e-01 -9.42202657e-02  3.38347435e-01\n",
      "  2.09814295e-01  8.52187276e-02 -3.05945724e-01 -6.55421615e-01\n",
      " -3.65902007e-01 -1.81425244e-01 -1.27338052e-01  2.48919666e-01\n",
      " -6.15537800e-02 -5.81762791e-02 -9.99697596e-02 -3.27313989e-01\n",
      " -5.54976463e-01  1.79960094e-02 -4.40952368e-04  2.65213519e-01\n",
      " -4.38667059e-01 -2.83412933e-01 -4.25660014e-01 -1.01512119e-01\n",
      " -5.29346824e-01 -1.68330118e-01  9.35687497e-02  8.56097490e-02\n",
      "  1.28305495e-01 -2.39499182e-01 -3.36989641e-01  2.45818228e-01\n",
      " -1.61103830e-02 -5.23446687e-03  2.01038234e-02 -1.86203718e-01\n",
      "  4.46222834e-02 -4.53140110e-01 -2.19195902e-01  1.01738393e-01\n",
      "  1.45667702e-01  1.14582449e-01 -4.86382067e-01  4.45425957e-01\n",
      " -2.00968146e-01  2.02120617e-01 -9.12006199e-02  4.09030646e-01\n",
      " -3.04810584e-01 -3.77221972e-01 -8.98610950e-02 -1.08613765e+00\n",
      " -4.98857722e-02  9.00219381e-02 -2.63408035e-01  1.06396943e-01\n",
      " -3.67551655e-01  4.77338806e-02 -1.12958252e-02 -3.77855860e-02\n",
      "  9.62440521e-02  3.37829918e-01 -7.71836638e-02  8.18928704e-02\n",
      "  2.53128797e-01  1.87443763e-01 -2.82439590e-01 -9.35579166e-02\n",
      " -1.03549995e-02  4.20396142e-02 -2.00626582e-01 -1.24760740e-01\n",
      "  2.31298938e-01 -4.89363998e-01 -2.65490979e-01 -4.07510549e-01\n",
      "  1.80734172e-01  4.86868769e-01  3.75775620e-04 -3.53239983e-01\n",
      "  6.67529702e-01 -3.45360905e-01 -2.33848006e-01  1.25477940e-01\n",
      " -1.16571821e-02  2.32918739e-01  5.13629094e-02  2.22023234e-01\n",
      " -1.41003102e-01  1.37334049e-01  2.11649820e-01  2.49832422e-01\n",
      "  2.28296682e-01 -1.71102375e-01 -3.79379749e-01  6.25238717e-02\n",
      "  3.03925518e-02  1.75002500e-01  3.88700485e-01  4.61941689e-01\n",
      "  4.53315750e-02  2.37605438e-01 -6.47977293e-02 -2.62308009e-02\n",
      "  1.49652325e-02  4.02491510e-01 -5.19690394e-01 -1.18513033e-01\n",
      "  3.41374874e-01  6.82435870e-01 -4.96913612e-01 -3.52321602e-02\n",
      "  1.94613874e-01 -5.63050985e-01 -3.75482798e-01  3.23420763e-01\n",
      " -1.58720627e-01 -2.44677767e-01  5.83701968e-01  2.59039223e-01\n",
      " -1.72094896e-01  2.83770382e-01 -1.85064882e-01 -1.28897175e-01\n",
      "  1.53414637e-01  5.91567159e-01  1.51914448e-01  1.54222384e-01\n",
      " -8.18366632e-02  7.24772811e-01  2.12931082e-01 -5.52725554e-01\n",
      "  2.00949669e-01  4.39722463e-02  1.50916994e-01  1.42484307e-01\n",
      "  1.83378682e-01 -1.52424295e-02  1.64938033e-01  1.88780695e-01\n",
      " -9.81864333e-02 -3.37985456e-02  1.41226381e-01  2.30269507e-02\n",
      "  3.14209342e-01 -5.87137789e-02  1.73558593e-01  2.52597809e-01\n",
      " -3.19797099e-02 -2.67729729e-01  2.44733945e-01  2.30521858e-01\n",
      "  8.32987726e-02 -1.02327816e-01  5.68963170e-01 -7.38635585e-02\n",
      " -1.16266921e-01 -6.10976145e-02  1.38711482e-01 -4.05104131e-01\n",
      "  1.81633964e-01  4.96550471e-01  5.08012921e-02 -2.35752165e-01\n",
      " -2.45722607e-01  1.83527499e-01 -1.95792049e-01  1.10971242e-01\n",
      "  2.21886650e-01  2.08598301e-02 -1.63466454e-01  3.86083513e-01\n",
      " -5.40337324e-01 -2.73494393e-01 -2.04291105e-01 -2.79816568e-01\n",
      " -1.47296384e-01  4.00490403e-01 -2.51732111e-01  1.83662787e-01\n",
      "  2.73170292e-01 -4.50630784e-01 -2.11793572e-01 -1.62897438e-01\n",
      "  2.55157650e-01 -2.16481820e-01  9.29555148e-02 -7.74352998e-02\n",
      "  3.52101102e-02 -3.62566084e-01  3.01310152e-01 -3.28982770e-01\n",
      " -3.44007462e-01  3.69533114e-02  5.54839551e-01  6.04819655e-01\n",
      "  5.71778953e-01 -4.78953540e-01 -3.99581119e-02  8.23898837e-02\n",
      " -2.96017319e-01  1.44477427e-01 -1.14548199e-01  3.09755385e-01\n",
      " -2.78490037e-01 -2.63618678e-01  2.06714988e-01  5.29211760e-01\n",
      " -7.53263831e-01  2.22928360e-01 -1.71930388e-01  2.42875308e-01\n",
      "  1.21218309e-01 -4.26069573e-02 -2.98034400e-04 -6.50106892e-02\n",
      " -8.91493484e-02 -3.32796097e-01  1.95063084e-01  3.14091682e-01\n",
      " -1.64518148e-01  1.77382946e-01 -2.96502411e-01  9.97036695e-02\n",
      " -4.16844815e-01 -7.06292018e-02 -2.26518810e-01  2.99273968e-01\n",
      "  1.95655897e-01 -2.26040743e-02  4.13817167e-02 -2.50805676e-01\n",
      " -3.88510525e-03  2.58879423e-01 -5.80586679e-02 -4.19488460e-01\n",
      "  3.46821129e-01  3.88164997e-01  3.03125679e-01  8.03796500e-02\n",
      " -6.26413047e-01  2.36928329e-01  2.10582286e-01  1.61964133e-01\n",
      " -2.46850580e-01 -7.15371966e-01  2.51215845e-01  3.52742113e-02\n",
      "  5.44109829e-02 -3.08201045e-01  2.48937868e-02 -9.76167619e-03\n",
      "  7.74764568e-02  6.35861903e-02  1.59652412e-01 -1.91725604e-02]\n"
     ]
    }
   ],
   "source": [
    "# Example tweet\n",
    "text = \"I love machine learning! 😊\"\n",
    "embedding = get_bert_embedding(text)\n",
    "print(embedding)"
   ]
  },
  {
   "cell_type": "code",
   "execution_count": 21,
   "id": "34049996-8cb3-44f7-a014-4defea636a4a",
   "metadata": {},
   "outputs": [
    {
     "name": "stdout",
     "output_type": "stream",
     "text": [
      "Requirement already satisfied: tqdm in /opt/anaconda3/lib/python3.12/site-packages (4.66.4)\n"
     ]
    }
   ],
   "source": [
    "!pip install tqdm\n",
    "from tqdm import tqdm"
   ]
  },
  {
   "cell_type": "code",
   "execution_count": 27,
   "id": "82259f11-9edd-4bed-9d78-6c555b2250eb",
   "metadata": {},
   "outputs": [
    {
     "name": "stdout",
     "output_type": "stream",
     "text": [
      "Generating embeddings for all tweets...\n"
     ]
    },
    {
     "name": "stderr",
     "output_type": "stream",
     "text": [
      "100%|█████████████████████████████████| 133999/133999 [2:08:50<00:00, 17.33it/s]\n"
     ]
    },
    {
     "ename": "NameError",
     "evalue": "name 'np' is not defined",
     "output_type": "error",
     "traceback": [
      "\u001b[0;31m---------------------------------------------------------------------------\u001b[0m",
      "\u001b[0;31mNameError\u001b[0m                                 Traceback (most recent call last)",
      "Cell \u001b[0;32mIn[27], line 11\u001b[0m\n\u001b[1;32m      8\u001b[0m     embeddings\u001b[38;5;241m.\u001b[39mappend(embedding)\n\u001b[1;32m     10\u001b[0m \u001b[38;5;66;03m# Convert embeddings list to numpy array for efficient storage\u001b[39;00m\n\u001b[0;32m---> 11\u001b[0m embeddings_array \u001b[38;5;241m=\u001b[39m np\u001b[38;5;241m.\u001b[39marray(embeddings)\n\u001b[1;32m     13\u001b[0m \u001b[38;5;66;03m# Save the embeddings separately as a numpy file\u001b[39;00m\n\u001b[1;32m     14\u001b[0m np\u001b[38;5;241m.\u001b[39msave(\u001b[38;5;124m'\u001b[39m\u001b[38;5;124mtweet_embeddings.npy\u001b[39m\u001b[38;5;124m'\u001b[39m, embeddings_array)\n",
      "\u001b[0;31mNameError\u001b[0m: name 'np' is not defined"
     ]
    }
   ],
   "source": [
    "# Create an empty list to store embeddings\n",
    "embeddings = []\n",
    "\n",
    "# Generate embeddings based on the 'text' column\n",
    "print(\"Generating embeddings for all tweets...\")\n",
    "for text in tqdm(train['text']):  \n",
    "    embedding = get_bert_embedding(text)\n",
    "    embeddings.append(embedding)\n",
    "\n",
    "\n"
   ]
  },
  {
   "cell_type": "code",
   "execution_count": 45,
   "id": "6c2fbdee-c1d4-4502-9d88-d4ddde2a71c4",
   "metadata": {},
   "outputs": [],
   "source": [
    "# Convert embeddings list to numpy array for efficient storage\n",
    "embeddings_array = np.array(embeddings)\n",
    "\n",
    "# Save the embeddings separately as a numpy file (less memory,faster speed)\n",
    "np.save('tweet_embeddings.npy', embeddings_array)\n",
    "\n",
    "# Save a version with just the necessary columns for modeling\n",
    "modeling_df = train[['text', 'label']].copy()\n",
    "modeling_df['embedding_file'] = 'tweet_embeddings.npy'  # Reference to embeddings\n",
    "modeling_df['embedding_index'] = range(len(train))  # Index to retrieve the right embedding\n",
    "modeling_df.to_csv('train_with_embeddings.csv', index=False)"
   ]
  },
  {
   "cell_type": "code",
   "execution_count": 46,
   "id": "2f7aed7f-2acd-408f-9f4b-b4c24078a11b",
   "metadata": {},
   "outputs": [
    {
     "name": "stdout",
     "output_type": "stream",
     "text": [
      "[[ 0.07884582 -0.14852701  0.49020585 ... -0.18483558  0.2448404\n",
      "   0.34814635]\n",
      " [ 0.04497788  0.07456274  0.4310683  ... -0.14134473 -0.15665261\n",
      "   0.03607357]\n",
      " [-0.19066441 -0.2977893  -0.15066284 ...  0.07222332  0.264592\n",
      "  -0.2900803 ]\n",
      " ...\n",
      " [ 0.31673098  0.21489394  0.3539819  ... -0.06636077 -0.06858949\n",
      "   0.0090652 ]\n",
      " [ 0.508651    0.03732484 -0.36549538 ... -0.59831285  0.3979687\n",
      "   0.16410999]\n",
      " [ 0.5980494  -0.03892985  0.29503667 ... -0.16583613 -0.02029031\n",
      "   0.01148175]]\n",
      "                                                text  label  \\\n",
      "0                    Nobody go to Walmart in sulphur      2   \n",
      "1   @emberlhamon @MLidak welcome to the ugly club!!       2   \n",
      "2                      getting to help coach jr high      2   \n",
      "3  Yo Gotti and Black Youngsta on stage we all th...      2   \n",
      "4  @spenceribarra just making sure I haven't been...      2   \n",
      "\n",
      "         embedding_file  embedding_index  \n",
      "0  tweet_embeddings.npy                0  \n",
      "1  tweet_embeddings.npy                1  \n",
      "2  tweet_embeddings.npy                2  \n",
      "3  tweet_embeddings.npy                3  \n",
      "4  tweet_embeddings.npy                4  \n"
     ]
    }
   ],
   "source": [
    "print(embeddings_array) # Just to check embeddings\n",
    "print(modeling_df.head()) #Structure of modeling_df"
   ]
  },
  {
   "cell_type": "code",
   "execution_count": 43,
   "id": "c78428e7-7dae-450a-ade4-ab244aaacd2d",
   "metadata": {},
   "outputs": [
    {
     "data": {
      "text/html": [
       "<a href='tweet_embeddings.npy' target='_blank'>tweet_embeddings.npy</a><br>"
      ],
      "text/plain": [
       "/Users/nigeleng/Desktop/CS3244/project/tweet_embeddings.npy"
      ]
     },
     "execution_count": 43,
     "metadata": {},
     "output_type": "execute_result"
    }
   ],
   "source": [
    "from IPython.display import FileLink\n",
    "\n",
    "# Create a link to download the numpy file with all the embeddings\n",
    "FileLink('tweet_embeddings.npy')\n"
   ]
  },
  {
   "cell_type": "code",
   "execution_count": null,
   "id": "da53fbcd-fc41-407c-aa88-dc2eddef4356",
   "metadata": {},
   "outputs": [],
   "source": []
  }
 ],
 "metadata": {
  "kernelspec": {
   "display_name": "Python 3 (ipykernel)",
   "language": "python",
   "name": "python3"
  },
  "language_info": {
   "codemirror_mode": {
    "name": "ipython",
    "version": 3
   },
   "file_extension": ".py",
   "mimetype": "text/x-python",
   "name": "python",
   "nbconvert_exporter": "python",
   "pygments_lexer": "ipython3",
   "version": "3.12.4"
  }
 },
 "nbformat": 4,
 "nbformat_minor": 5
}
