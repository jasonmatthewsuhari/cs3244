{
  "cells": [
    {
      "cell_type": "code",
      "execution_count": 1,
      "id": "f1a4b1d6-22d8-4d8b-897d-01276430bbed",
      "metadata": {
        "id": "f1a4b1d6-22d8-4d8b-897d-01276430bbed"
      },
      "outputs": [],
      "source": [
        "import pandas as pd\n",
        "import os\n",
        "import tensorflow as tf\n",
        "from tensorflow.keras import layers, models\n",
        "from tensorflow.data import AUTOTUNE\n",
        "from tensorflow.keras.callbacks import EarlyStopping\n",
        "from tensorflow.keras.metrics import AUC\n",
        "from sklearn.metrics import classification_report, precision_score, recall_score, f1_score\n",
        "import numpy as np\n",
        "\n",
        "NUM_CLASSES = 12\n",
        "BATCH_SIZE = 32"
      ]
    },
    {
      "cell_type": "code",
      "source": [
        "# Model is trained on Google Colab T4 GPU\n",
        "from google.colab import drive\n",
        "drive.mount('/content/drive')"
      ],
      "metadata": {
        "colab": {
          "base_uri": "https://localhost:8080/"
        },
        "id": "9N0NKMz3bCiZ",
        "outputId": "07efe4ac-9f68-4db5-e3ce-f899633dfbce"
      },
      "id": "9N0NKMz3bCiZ",
      "execution_count": 2,
      "outputs": [
        {
          "output_type": "stream",
          "name": "stdout",
          "text": [
            "Mounted at /content/drive\n"
          ]
        }
      ]
    },
    {
      "cell_type": "code",
      "source": [
        "!unzip /content/drive/MyDrive/img_test.zip -d img_test"
      ],
      "metadata": {
        "id": "_IXcMSuibcy9"
      },
      "id": "_IXcMSuibcy9",
      "execution_count": null,
      "outputs": []
    },
    {
      "cell_type": "code",
      "source": [
        "!unzip /content/drive/MyDrive/img_valid.zip -d img_valid"
      ],
      "metadata": {
        "id": "1c4rk2MSb3WP"
      },
      "id": "1c4rk2MSb3WP",
      "execution_count": null,
      "outputs": []
    },
    {
      "cell_type": "code",
      "source": [
        "!unzip /content/drive/MyDrive/img_train.zip -d img_train"
      ],
      "metadata": {
        "id": "teB_wy3nb40i"
      },
      "id": "teB_wy3nb40i",
      "execution_count": null,
      "outputs": []
    },
    {
      "cell_type": "code",
      "execution_count": 7,
      "id": "abee3e2c-c3e7-48df-92e4-25c371ddd040",
      "metadata": {
        "id": "abee3e2c-c3e7-48df-92e4-25c371ddd040"
      },
      "outputs": [],
      "source": [
        "def load_dataset(csv_path, image_folder):\n",
        "    df = pd.read_csv(csv_path)\n",
        "    df['image_path'] = df['id'].apply(lambda x: os.path.join(image_folder, f\"{x}.jpg\"))\n",
        "    df = df[df['image_path'].apply(os.path.exists)].reset_index(drop=True)\n",
        "    df['multi_hot'] = df['annotations'].apply(lambda x: process_annotations(x, NUM_CLASSES))\n",
        "    return df"
      ]
    },
    {
      "cell_type": "code",
      "execution_count": 10,
      "id": "bc223bfc-1f0e-49f0-8f3b-74c27d451aa3",
      "metadata": {
        "id": "bc223bfc-1f0e-49f0-8f3b-74c27d451aa3"
      },
      "outputs": [],
      "source": [
        "def process_annotations(ann_str, num_classes=NUM_CLASSES):\n",
        "    labels = [int(i) for i in ann_str.split(',')]\n",
        "    unique_labels = sorted(set(labels), key=labels.index)\n",
        "    multi_hot = np.zeros(num_classes, dtype=np.float32)\n",
        "    for label in unique_labels:\n",
        "        multi_hot[label] = 1\n",
        "    return multi_hot"
      ]
    },
    {
      "cell_type": "code",
      "execution_count": 14,
      "id": "c801873f-1a28-47ce-8215-a553d9b743f0",
      "metadata": {
        "id": "c801873f-1a28-47ce-8215-a553d9b743f0"
      },
      "outputs": [],
      "source": [
        "def preprocess_image(image_path, label):\n",
        "    image = tf.io.read_file(image_path)\n",
        "    image = tf.image.decode_jpeg(image, channels=3)\n",
        "    image = tf.image.resize(image, [224, 224])\n",
        "    image = image / 255.0\n",
        "    return image, label"
      ]
    },
    {
      "cell_type": "code",
      "execution_count": 11,
      "id": "0b850db1-bb94-4ebc-ab5b-9c7b10eb0566",
      "metadata": {
        "id": "0b850db1-bb94-4ebc-ab5b-9c7b10eb0566"
      },
      "outputs": [],
      "source": [
        "train_csv_path = \"img_train.csv\"\n",
        "train_image_folder = \"img_train/img_train/\"\n",
        "train_df = load_dataset(train_csv_path, train_image_folder)"
      ]
    },
    {
      "cell_type": "code",
      "execution_count": 12,
      "id": "79497f5a-842f-4a8b-b92e-fa31cebefb24",
      "metadata": {
        "id": "79497f5a-842f-4a8b-b92e-fa31cebefb24"
      },
      "outputs": [],
      "source": [
        "train_image_paths = train_df['image_path'].values\n",
        "train_labels = np.stack(train_df['multi_hot'].values)\n",
        "train_ds = tf.data.Dataset.from_tensor_slices((train_image_paths, train_labels))"
      ]
    },
    {
      "cell_type": "code",
      "execution_count": 15,
      "id": "dc80aec6-ef6b-4ffe-a61c-43d9fd27e93d",
      "metadata": {
        "id": "dc80aec6-ef6b-4ffe-a61c-43d9fd27e93d"
      },
      "outputs": [],
      "source": [
        "train_ds = train_ds.map(preprocess_image, num_parallel_calls=AUTOTUNE)\n",
        "train_ds = train_ds.shuffle(buffer_size=1000)\n",
        "train_ds = train_ds.batch(BATCH_SIZE)\n",
        "train_ds = train_ds.prefetch(buffer_size=AUTOTUNE)"
      ]
    },
    {
      "cell_type": "code",
      "execution_count": 16,
      "id": "f62c934a-8c6e-4c0e-a254-464e8022f875",
      "metadata": {
        "id": "f62c934a-8c6e-4c0e-a254-464e8022f875"
      },
      "outputs": [],
      "source": [
        "val_csv_path = \"img_valid.csv\"\n",
        "val_image_folder = \"img_valid/img_valid/\"\n",
        "val_df = load_dataset(val_csv_path, val_image_folder)\n",
        "val_image_paths = val_df['image_path'].values\n",
        "val_labels = np.stack(val_df['multi_hot'].values)\n",
        "val_ds = tf.data.Dataset.from_tensor_slices((val_image_paths, val_labels))\n",
        "val_ds = val_ds.map(preprocess_image, num_parallel_calls=AUTOTUNE)\n",
        "val_ds = val_ds.batch(BATCH_SIZE).prefetch(AUTOTUNE)"
      ]
    },
    {
      "cell_type": "code",
      "execution_count": 17,
      "id": "59728a8c-dd5e-4573-adab-6b3ece858dd3",
      "metadata": {
        "id": "59728a8c-dd5e-4573-adab-6b3ece858dd3"
      },
      "outputs": [],
      "source": [
        "test_csv_path = \"img_test.csv\"\n",
        "test_image_folder = \"img_test/img_test/\"\n",
        "test_df = load_dataset(test_csv_path, test_image_folder)\n",
        "test_image_paths = test_df['image_path'].values\n",
        "test_labels = np.stack(test_df['multi_hot'].values)\n",
        "test_ds = tf.data.Dataset.from_tensor_slices((test_image_paths, test_labels))\n",
        "test_ds = test_ds.map(preprocess_image, num_parallel_calls=AUTOTUNE)\n",
        "test_ds = test_ds.batch(BATCH_SIZE).prefetch(AUTOTUNE)"
      ]
    },
    {
      "cell_type": "code",
      "source": [
        "def compute_class_weights(train_labels):\n",
        "    pos_counts = np.sum(train_labels, axis=0)\n",
        "    neg_counts = len(train_labels) - pos_counts\n",
        "    class_weights = neg_counts / (pos_counts + 1e-6)  # avoid division by 0\n",
        "    return class_weights"
      ],
      "metadata": {
        "id": "5giIdoIh3BjA"
      },
      "id": "5giIdoIh3BjA",
      "execution_count": 18,
      "outputs": []
    },
    {
      "cell_type": "code",
      "source": [
        "def weighted_binary_crossentropy(class_weights):\n",
        "    def loss(y_true, y_pred):\n",
        "        y_pred = tf.clip_by_value(y_pred, 1e-7, 1 - 1e-7)\n",
        "        weights = tf.constant(class_weights, dtype=tf.float32)\n",
        "        bce = - (y_true * tf.math.log(y_pred) + (1 - y_true) * tf.math.log(1 - y_pred))\n",
        "        weighted_bce = bce * weights\n",
        "        return tf.reduce_mean(weighted_bce)\n",
        "    return loss"
      ],
      "metadata": {
        "id": "GUsNGope3DR_"
      },
      "id": "GUsNGope3DR_",
      "execution_count": 19,
      "outputs": []
    },
    {
      "cell_type": "code",
      "execution_count": 20,
      "id": "0f258cf3-4e85-4122-981e-d56fae378d8e",
      "metadata": {
        "id": "0f258cf3-4e85-4122-981e-d56fae378d8e"
      },
      "outputs": [],
      "source": [
        "def build_simple_cnn(input_shape=(224, 224, 3), num_classes=NUM_CLASSES):\n",
        "    model = models.Sequential([\n",
        "        layers.Conv2D(64, (3, 3), padding='same', activation='relu', input_shape=input_shape),\n",
        "        layers.BatchNormalization(),\n",
        "        layers.MaxPooling2D((2, 2)),\n",
        "\n",
        "        layers.Conv2D(128, (3, 3), padding='same', activation='relu'),\n",
        "        layers.BatchNormalization(),\n",
        "        layers.MaxPooling2D((2, 2)),\n",
        "\n",
        "        layers.Conv2D(256, (3, 3), padding='same', activation='relu'),\n",
        "        layers.BatchNormalization(),\n",
        "        layers.GlobalAveragePooling2D(),  # better than Flatten\n",
        "\n",
        "        layers.Dense(128, activation='relu'),\n",
        "        layers.Dropout(0.5),\n",
        "        layers.Dense(num_classes, activation='sigmoid')\n",
        "    ])\n",
        "    return model\n"
      ]
    },
    {
      "cell_type": "code",
      "source": [
        "class_weights_array = compute_class_weights(train_labels)\n",
        "loss_fn = weighted_binary_crossentropy(class_weights_array)"
      ],
      "metadata": {
        "id": "cka8-_fz3K9I"
      },
      "id": "cka8-_fz3K9I",
      "execution_count": 21,
      "outputs": []
    },
    {
      "cell_type": "code",
      "execution_count": 22,
      "id": "6aa2fc93-0cd3-47f4-9b16-a5b3f691dfc0",
      "metadata": {
        "colab": {
          "base_uri": "https://localhost:8080/"
        },
        "id": "6aa2fc93-0cd3-47f4-9b16-a5b3f691dfc0",
        "outputId": "1b2e9973-7736-4697-b007-4f05db3f348e"
      },
      "outputs": [
        {
          "output_type": "stream",
          "name": "stderr",
          "text": [
            "/usr/local/lib/python3.11/dist-packages/keras/src/layers/convolutional/base_conv.py:107: UserWarning: Do not pass an `input_shape`/`input_dim` argument to a layer. When using Sequential models, prefer using an `Input(shape)` object as the first layer in the model instead.\n",
            "  super().__init__(activity_regularizer=activity_regularizer, **kwargs)\n"
          ]
        }
      ],
      "source": [
        "model = build_simple_cnn()"
      ]
    },
    {
      "cell_type": "code",
      "execution_count": 23,
      "id": "e2460e80-b854-4434-96af-8387720afbd3",
      "metadata": {
        "id": "e2460e80-b854-4434-96af-8387720afbd3"
      },
      "outputs": [],
      "source": [
        "model.compile(\n",
        "    optimizer='adam',\n",
        "    loss='binary_crossentropy',\n",
        "    metrics=['accuracy', AUC(name='auc')]\n",
        ")"
      ]
    },
    {
      "cell_type": "code",
      "execution_count": 24,
      "id": "0a7d6216-ec35-49f7-b5ed-882b15ddc70d",
      "metadata": {
        "colab": {
          "base_uri": "https://localhost:8080/"
        },
        "id": "0a7d6216-ec35-49f7-b5ed-882b15ddc70d",
        "outputId": "ae838f94-3dcd-4992-b380-b8d2fb11a008"
      },
      "outputs": [
        {
          "output_type": "stream",
          "name": "stdout",
          "text": [
            "Epoch 1/20\n",
            "\u001b[1m3506/3506\u001b[0m \u001b[32m━━━━━━━━━━━━━━━━━━━━\u001b[0m\u001b[37m\u001b[0m \u001b[1m502s\u001b[0m 138ms/step - accuracy: 0.1771 - auc: 0.6269 - loss: 0.3198 - val_accuracy: 0.1915 - val_auc: 0.6618 - val_loss: 0.2940\n",
            "Epoch 2/20\n",
            "\u001b[1m3506/3506\u001b[0m \u001b[32m━━━━━━━━━━━━━━━━━━━━\u001b[0m\u001b[37m\u001b[0m \u001b[1m462s\u001b[0m 131ms/step - accuracy: 0.2000 - auc: 0.6668 - loss: 0.2942 - val_accuracy: 0.1999 - val_auc: 0.6811 - val_loss: 0.2927\n",
            "Epoch 3/20\n",
            "\u001b[1m3506/3506\u001b[0m \u001b[32m━━━━━━━━━━━━━━━━━━━━\u001b[0m\u001b[37m\u001b[0m \u001b[1m457s\u001b[0m 129ms/step - accuracy: 0.2089 - auc: 0.6756 - loss: 0.2920 - val_accuracy: 0.1587 - val_auc: 0.6625 - val_loss: 0.2987\n",
            "Epoch 4/20\n",
            "\u001b[1m3506/3506\u001b[0m \u001b[32m━━━━━━━━━━━━━━━━━━━━\u001b[0m\u001b[37m\u001b[0m \u001b[1m494s\u001b[0m 127ms/step - accuracy: 0.2153 - auc: 0.6814 - loss: 0.2904 - val_accuracy: 0.2058 - val_auc: 0.6926 - val_loss: 0.2882\n",
            "Epoch 5/20\n",
            "\u001b[1m3506/3506\u001b[0m \u001b[32m━━━━━━━━━━━━━━━━━━━━\u001b[0m\u001b[37m\u001b[0m \u001b[1m516s\u001b[0m 131ms/step - accuracy: 0.2212 - auc: 0.6884 - loss: 0.2887 - val_accuracy: 0.1841 - val_auc: 0.6538 - val_loss: 0.3097\n",
            "Epoch 6/20\n",
            "\u001b[1m3506/3506\u001b[0m \u001b[32m━━━━━━━━━━━━━━━━━━━━\u001b[0m\u001b[37m\u001b[0m \u001b[1m469s\u001b[0m 133ms/step - accuracy: 0.2245 - auc: 0.6932 - loss: 0.2874 - val_accuracy: 0.2023 - val_auc: 0.6883 - val_loss: 0.2905\n",
            "Epoch 7/20\n",
            "\u001b[1m3506/3506\u001b[0m \u001b[32m━━━━━━━━━━━━━━━━━━━━\u001b[0m\u001b[37m\u001b[0m \u001b[1m469s\u001b[0m 133ms/step - accuracy: 0.2292 - auc: 0.6967 - loss: 0.2865 - val_accuracy: 0.2141 - val_auc: 0.6957 - val_loss: 0.2873\n",
            "Epoch 8/20\n",
            "\u001b[1m3506/3506\u001b[0m \u001b[32m━━━━━━━━━━━━━━━━━━━━\u001b[0m\u001b[37m\u001b[0m \u001b[1m462s\u001b[0m 131ms/step - accuracy: 0.2322 - auc: 0.7005 - loss: 0.2856 - val_accuracy: 0.2260 - val_auc: 0.7060 - val_loss: 0.2853\n",
            "Epoch 9/20\n",
            "\u001b[1m3506/3506\u001b[0m \u001b[32m━━━━━━━━━━━━━━━━━━━━\u001b[0m\u001b[37m\u001b[0m \u001b[1m502s\u001b[0m 131ms/step - accuracy: 0.2368 - auc: 0.7028 - loss: 0.2849 - val_accuracy: 0.2250 - val_auc: 0.7051 - val_loss: 0.2841\n",
            "Epoch 10/20\n",
            "\u001b[1m3506/3506\u001b[0m \u001b[32m━━━━━━━━━━━━━━━━━━━━\u001b[0m\u001b[37m\u001b[0m \u001b[1m455s\u001b[0m 129ms/step - accuracy: 0.2386 - auc: 0.7063 - loss: 0.2840 - val_accuracy: 0.2170 - val_auc: 0.6938 - val_loss: 0.2898\n",
            "Epoch 11/20\n",
            "\u001b[1m3506/3506\u001b[0m \u001b[32m━━━━━━━━━━━━━━━━━━━━\u001b[0m\u001b[37m\u001b[0m \u001b[1m447s\u001b[0m 127ms/step - accuracy: 0.2432 - auc: 0.7086 - loss: 0.2832 - val_accuracy: 0.1842 - val_auc: 0.6407 - val_loss: 0.3192\n",
            "Epoch 12/20\n",
            "\u001b[1m3506/3506\u001b[0m \u001b[32m━━━━━━━━━━━━━━━━━━━━\u001b[0m\u001b[37m\u001b[0m \u001b[1m530s\u001b[0m 135ms/step - accuracy: 0.2438 - auc: 0.7106 - loss: 0.2827 - val_accuracy: 0.2216 - val_auc: 0.7060 - val_loss: 0.2846\n",
            "Epoch 13/20\n",
            "\u001b[1m3506/3506\u001b[0m \u001b[32m━━━━━━━━━━━━━━━━━━━━\u001b[0m\u001b[37m\u001b[0m \u001b[1m498s\u001b[0m 133ms/step - accuracy: 0.2494 - auc: 0.7136 - loss: 0.2818 - val_accuracy: 0.2356 - val_auc: 0.7044 - val_loss: 0.2893\n",
            "Epoch 13: early stopping\n",
            "Restoring model weights from the end of the best epoch: 9.\n"
          ]
        },
        {
          "output_type": "execute_result",
          "data": {
            "text/plain": [
              "<keras.src.callbacks.history.History at 0x7b1d11b99650>"
            ]
          },
          "metadata": {},
          "execution_count": 24
        }
      ],
      "source": [
        "early_stopping = EarlyStopping(\n",
        "    monitor='val_loss',\n",
        "    patience=4,\n",
        "    restore_best_weights=True,\n",
        "    verbose=1\n",
        ")\n",
        "\n",
        "EPOCHS = 20\n",
        "model.fit(\n",
        "    train_ds,\n",
        "    epochs=EPOCHS,\n",
        "    validation_data=val_ds,\n",
        "    callbacks=[early_stopping]\n",
        ")"
      ]
    },
    {
      "cell_type": "code",
      "execution_count": 25,
      "id": "7c691906-528b-43e2-b331-28ac5204796d",
      "metadata": {
        "id": "7c691906-528b-43e2-b331-28ac5204796d"
      },
      "outputs": [],
      "source": [
        "model.save('multiclass.keras')"
      ]
    },
    {
      "cell_type": "code",
      "source": [
        "predictions = model.predict(test_ds)"
      ],
      "metadata": {
        "colab": {
          "base_uri": "https://localhost:8080/"
        },
        "id": "AfaDJTYTrlyn",
        "outputId": "069b280a-22c6-4de5-c8fc-5625649fbb5d"
      },
      "id": "AfaDJTYTrlyn",
      "execution_count": 26,
      "outputs": [
        {
          "output_type": "stream",
          "name": "stdout",
          "text": [
            "\u001b[1m274/274\u001b[0m \u001b[32m━━━━━━━━━━━━━━━━━━━━\u001b[0m\u001b[37m\u001b[0m \u001b[1m35s\u001b[0m 117ms/step\n"
          ]
        }
      ]
    },
    {
      "cell_type": "code",
      "source": [
        "for threshold in [0.1, 0.2, 0.3, 0.5]:\n",
        "    pred_labels = (predictions > threshold).astype(int)\n",
        "    recall = recall_score(test_labels, pred_labels, average='micro')\n",
        "    precision = precision_score(test_labels, pred_labels, average='micro')\n",
        "    f1 = f1_score(test_labels, pred_labels, average='micro')\n",
        "    print(f\"Threshold: {threshold:.2f} | Precision: {precision:.4f} | Recall: {recall:.4f} | F1: {f1:.4f}\")"
      ],
      "metadata": {
        "colab": {
          "base_uri": "https://localhost:8080/"
        },
        "id": "N6N_P0rUrrxY",
        "outputId": "6bc0383a-b874-42e2-e778-855244e80c32"
      },
      "id": "N6N_P0rUrrxY",
      "execution_count": 34,
      "outputs": [
        {
          "output_type": "stream",
          "name": "stdout",
          "text": [
            "Threshold: 0.10 | Precision: 0.1754 | Recall: 0.5977 | F1: 0.2712\n",
            "Threshold: 0.20 | Precision: 0.2615 | Recall: 0.2555 | F1: 0.2585\n",
            "Threshold: 0.30 | Precision: 0.5349 | Recall: 0.0394 | F1: 0.0734\n",
            "Threshold: 0.50 | Precision: 0.6856 | Recall: 0.0161 | F1: 0.0316\n"
          ]
        }
      ]
    },
    {
      "cell_type": "code",
      "source": [
        "pred_labels = (predictions > 0.1).astype(int) # Pick best f1 score"
      ],
      "metadata": {
        "id": "xu10Z0SMS9wl"
      },
      "id": "xu10Z0SMS9wl",
      "execution_count": 28,
      "outputs": []
    },
    {
      "cell_type": "code",
      "source": [
        "print(\"Classification Report:\")\n",
        "print(classification_report(test_labels, pred_labels, target_names=[f\"Class {i}\" for i in range(NUM_CLASSES)]))\n",
        "\n",
        "precision = precision_score(test_labels, pred_labels, average='micro')\n",
        "recall = recall_score(test_labels, pred_labels, average='micro')\n",
        "f1 = f1_score(test_labels, pred_labels, average='micro')\n",
        "\n",
        "print(f\"Micro-Averaged Precision: {precision:.4f}\")\n",
        "print(f\"Micro-Averaged Recall: {recall:.4f}\")\n",
        "print(f\"Micro-Averaged F1-Score: {f1:.4f}\")"
      ],
      "metadata": {
        "colab": {
          "base_uri": "https://localhost:8080/"
        },
        "id": "15r9tv4SsDKq",
        "outputId": "0d6e3626-ae77-4a83-dd7e-312cc803fb1f"
      },
      "id": "15r9tv4SsDKq",
      "execution_count": 30,
      "outputs": [
        {
          "output_type": "stream",
          "name": "stdout",
          "text": [
            "Classification Report:\n",
            "              precision    recall  f1-score   support\n",
            "\n",
            "     Class 0       0.17      0.14      0.15       530\n",
            "     Class 1       0.20      0.98      0.34      1735\n",
            "     Class 2       0.16      0.05      0.08       459\n",
            "     Class 3       0.12      0.70      0.21       823\n",
            "     Class 4       0.54      0.03      0.06       430\n",
            "     Class 5       0.16      0.11      0.14       489\n",
            "     Class 6       0.28      0.32      0.30       559\n",
            "     Class 7       0.16      0.90      0.28      1228\n",
            "     Class 8       0.11      0.50      0.18       784\n",
            "     Class 9       0.21      0.97      0.34      1726\n",
            "    Class 10       0.17      0.03      0.05       607\n",
            "    Class 11       0.13      0.01      0.03       352\n",
            "\n",
            "   micro avg       0.18      0.60      0.27      9722\n",
            "   macro avg       0.20      0.40      0.18      9722\n",
            "weighted avg       0.19      0.60      0.23      9722\n",
            " samples avg       0.19      0.60      0.27      9722\n",
            "\n",
            "Micro-Averaged Precision: 0.1754\n",
            "Micro-Averaged Recall: 0.5977\n",
            "Micro-Averaged F1-Score: 0.2712\n"
          ]
        }
      ]
    },
    {
      "cell_type": "code",
      "source": [
        "pred_labels = (predictions > 0.5).astype(int) # Pick best precision"
      ],
      "metadata": {
        "id": "-0IIcjC1TmhY"
      },
      "id": "-0IIcjC1TmhY",
      "execution_count": 31,
      "outputs": []
    },
    {
      "cell_type": "code",
      "source": [
        "print(\"Classification Report:\")\n",
        "print(classification_report(test_labels, pred_labels, target_names=[f\"Class {i}\" for i in range(NUM_CLASSES)]))\n",
        "\n",
        "precision = precision_score(test_labels, pred_labels, average='micro')\n",
        "recall = recall_score(test_labels, pred_labels, average='micro')\n",
        "f1 = f1_score(test_labels, pred_labels, average='micro')\n",
        "\n",
        "print(f\"Micro-Averaged Precision: {precision:.4f}\")\n",
        "print(f\"Micro-Averaged Recall: {recall:.4f}\")\n",
        "print(f\"Micro-Averaged F1-Score: {f1:.4f}\")"
      ],
      "metadata": {
        "colab": {
          "base_uri": "https://localhost:8080/"
        },
        "id": "-ILKLUc5TqIn",
        "outputId": "2bd5ff6b-e97b-4a8f-976b-e44a05eed73c"
      },
      "id": "-ILKLUc5TqIn",
      "execution_count": 32,
      "outputs": [
        {
          "output_type": "stream",
          "name": "stdout",
          "text": [
            "Classification Report:\n",
            "              precision    recall  f1-score   support\n",
            "\n",
            "     Class 0       0.89      0.02      0.03       530\n",
            "     Class 1       1.00      0.00      0.01      1735\n",
            "     Class 2       0.00      0.00      0.00       459\n",
            "     Class 3       0.54      0.01      0.02       823\n",
            "     Class 4       0.88      0.02      0.03       430\n",
            "     Class 5       0.00      0.00      0.00       489\n",
            "     Class 6       0.72      0.16      0.26       559\n",
            "     Class 7       0.59      0.03      0.06      1228\n",
            "     Class 8       0.00      0.00      0.00       784\n",
            "     Class 9       0.00      0.00      0.00      1726\n",
            "    Class 10       0.00      0.00      0.00       607\n",
            "    Class 11       0.00      0.00      0.00       352\n",
            "\n",
            "   micro avg       0.69      0.02      0.03      9722\n",
            "   macro avg       0.38      0.02      0.03      9722\n",
            "weighted avg       0.43      0.02      0.03      9722\n",
            " samples avg       0.02      0.02      0.02      9722\n",
            "\n",
            "Micro-Averaged Precision: 0.6856\n",
            "Micro-Averaged Recall: 0.0161\n",
            "Micro-Averaged F1-Score: 0.0316\n"
          ]
        },
        {
          "output_type": "stream",
          "name": "stderr",
          "text": [
            "/usr/local/lib/python3.11/dist-packages/sklearn/metrics/_classification.py:1565: UndefinedMetricWarning: Precision is ill-defined and being set to 0.0 in labels with no predicted samples. Use `zero_division` parameter to control this behavior.\n",
            "  _warn_prf(average, modifier, f\"{metric.capitalize()} is\", len(result))\n",
            "/usr/local/lib/python3.11/dist-packages/sklearn/metrics/_classification.py:1565: UndefinedMetricWarning: Precision is ill-defined and being set to 0.0 in samples with no predicted labels. Use `zero_division` parameter to control this behavior.\n",
            "  _warn_prf(average, modifier, f\"{metric.capitalize()} is\", len(result))\n"
          ]
        }
      ]
    }
  ],
  "metadata": {
    "kernelspec": {
      "display_name": "Python (tf_gpu)",
      "language": "python",
      "name": "tf_gpu"
    },
    "language_info": {
      "codemirror_mode": {
        "name": "ipython",
        "version": 3
      },
      "file_extension": ".py",
      "mimetype": "text/x-python",
      "name": "python",
      "nbconvert_exporter": "python",
      "pygments_lexer": "ipython3",
      "version": "3.10.16"
    },
    "colab": {
      "provenance": [],
      "gpuType": "T4"
    },
    "accelerator": "GPU"
  },
  "nbformat": 4,
  "nbformat_minor": 5
}