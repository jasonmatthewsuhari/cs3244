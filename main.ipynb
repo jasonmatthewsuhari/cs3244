{
 "cells": [
  {
   "cell_type": "markdown",
   "metadata": {},
   "source": [
    "# 🤖 Twemoji Classifier – CS3244 AY24/25 Sem 2\n",
    "\n",
    "**Group Members:**  \n",
    "- Jason Matthew Suhari  \n",
    "- Bryan Castorius Halim  \n",
    "- Nigel Eng Wee Kiat  \n",
    "- Muhammad Salman Al Farisi  \n",
    "- Ng Jia Hao Sherwin  \n",
    "- Ryan Justyn\n",
    "\n",
    "This notebook builds and evaluates baseline models for classifying tweets into emojis using the Twemoji dataset. It's the main entry point!"
   ]
  },
  {
   "cell_type": "markdown",
   "metadata": {},
   "source": [
    "### 1. Imports and Setup 📩"
   ]
  },
  {
   "cell_type": "markdown",
   "metadata": {},
   "source": [
    "#### 1.1 Utility Imports"
   ]
  },
  {
   "cell_type": "code",
   "execution_count": 12,
   "metadata": {},
   "outputs": [],
   "source": [
    "# !pip install boto3\n",
    "import os\n",
    "import time\n",
    "from pathlib import Path\n",
    "import requests\n",
    "import numpy as np\n",
    "import pandas as pd\n",
    "import matplotlib.pyplot as plt\n",
    "from IPython.display import HTML, display, Markdown\n",
    "from dotenv import load_dotenv\n",
    "import boto3\n",
    "from tqdm import tqdm\n",
    "\n"
   ]
  },
  {
   "cell_type": "markdown",
   "metadata": {},
   "source": [
    "#### 1.2 ML Imports"
   ]
  },
  {
   "cell_type": "code",
   "execution_count": 2,
   "metadata": {},
   "outputs": [
    {
     "name": "stderr",
     "output_type": "stream",
     "text": [
      "c:\\Users\\Jason\\Documents\\GitHub\\cs3244\\venv\\Lib\\site-packages\\tqdm\\auto.py:21: TqdmWarning: IProgress not found. Please update jupyter and ipywidgets. See https://ipywidgets.readthedocs.io/en/stable/user_install.html\n",
      "  from .autonotebook import tqdm as notebook_tqdm\n",
      "c:\\Users\\Jason\\Documents\\GitHub\\cs3244\\venv\\Lib\\site-packages\\transformers\\utils\\generic.py:441: FutureWarning: `torch.utils._pytree._register_pytree_node` is deprecated. Please use `torch.utils._pytree.register_pytree_node` instead.\n",
      "  _torch_pytree._register_pytree_node(\n",
      "c:\\Users\\Jason\\Documents\\GitHub\\cs3244\\venv\\Lib\\site-packages\\transformers\\utils\\generic.py:309: FutureWarning: `torch.utils._pytree._register_pytree_node` is deprecated. Please use `torch.utils._pytree.register_pytree_node` instead.\n",
      "  _torch_pytree._register_pytree_node(\n"
     ]
    }
   ],
   "source": [
    "from sklearn.linear_model import LogisticRegression\n",
    "from sklearn.datasets import make_classification\n",
    "from sklearn.model_selection import train_test_split\n",
    "from sklearn.metrics import classification_report, confusion_matrix, accuracy_score\n",
    "from sklearn.preprocessing import StandardScaler\n",
    "from sklearn.metrics import (\n",
    "    accuracy_score,\n",
    "    f1_score,\n",
    "    top_k_accuracy_score,\n",
    "    confusion_matrix,\n",
    "    ConfusionMatrixDisplay\n",
    ")\n",
    "from transformers import BertTokenizer, BertModel\n",
    "import torch\n",
    "from sklearn.tree import DecisionTreeClassifier\n",
    "from sklearn.ensemble import RandomForestClassifier, ExtraTreesClassifier\n",
    "import xgboost as xgb\n",
    "import lightgbm as lgb\n",
    "from lightgbm import LGBMClassifier\n",
    "from catboost import CatBoostClassifier\n",
    "from sklearn.model_selection import train_test_split, RandomizedSearchCV, GridSearchCV\n",
    "from sklearn.metrics import accuracy_score, f1_score\n",
    "\n",
    "import joblib\n",
    "import tensorflow as tf\n",
    "from joblib import Parallel, delayed"
   ]
  },
  {
   "cell_type": "markdown",
   "metadata": {},
   "source": [
    "#### 1.3 Caching Imports"
   ]
  },
  {
   "cell_type": "code",
   "execution_count": 3,
   "metadata": {},
   "outputs": [],
   "source": [
    "import pickle\n",
    "import joblib\n",
    "from tensorflow.keras.models import Model\n",
    "from tensorflow.keras.models import load_model as keras_load_model"
   ]
  },
  {
   "cell_type": "markdown",
   "metadata": {},
   "source": [
    "#### 1.4 (Optional) Loading .env file + AWS setup"
   ]
  },
  {
   "cell_type": "code",
   "execution_count": 4,
   "metadata": {},
   "outputs": [],
   "source": [
    "load_dotenv()\n",
    "AWS_ACCESS_KEY = os.getenv(\"AWS_ACCESS_KEY_ID\")\n",
    "AWS_SECRET_KEY = os.getenv(\"AWS_SECRET_ACCESS_KEY\")\n",
    "AWS_REGION = os.getenv(\"AWS_REGION\")\n",
    "\n",
    "session = boto3.Session(\n",
    "    aws_access_key_id=AWS_ACCESS_KEY,\n",
    "    aws_secret_access_key=AWS_SECRET_KEY,\n",
    "    region_name=AWS_REGION\n",
    ")\n",
    "\n",
    "s3 = session.client(\"s3\")"
   ]
  },
  {
   "cell_type": "markdown",
   "metadata": {},
   "source": [
    "### 2. S3 Bucket Data Loading 🪣"
   ]
  },
  {
   "cell_type": "code",
   "execution_count": 22,
   "metadata": {},
   "outputs": [
    {
     "name": "stdout",
     "output_type": "stream",
     "text": [
      "unprocessed_test.csv already exists. Skipping download.\n",
      "unprocessed_train.csv already exists. Skipping download.\n"
     ]
    },
    {
     "name": "stderr",
     "output_type": "stream",
     "text": [
      "C:\\Users\\Jason\\AppData\\Local\\Temp\\ipykernel_35496\\3087272658.py:27: DtypeWarning: Columns (3) have mixed types. Specify dtype option on import or set low_memory=False.\n",
      "  loaded_data[filename] = pd.read_csv(filepath)\n"
     ]
    },
    {
     "name": "stdout",
     "output_type": "stream",
     "text": [
      "unprocessed_valid.csv already exists. Skipping download.\n",
      "test_embeddings.npy already exists. Skipping download.\n",
      "train_embeddings.npy already exists. Skipping download.\n",
      "valid_embeddings.npy already exists. Skipping download.\n",
      "train.csv already exists. Skipping download.\n",
      "valid.csv already exists. Skipping download.\n",
      "test.csv already exists. Skipping download.\n"
     ]
    }
   ],
   "source": [
    "# all of the s3 item urls are kept in urls.txt, maybe we should wrap this into a function in case it isnt\n",
    "with open(\"urls.txt\", \"r\") as f:\n",
    "    urls = [line.strip() for line in f.readlines() if line.strip()]\n",
    "\n",
    "\n",
    "loaded_data = {}\n",
    "for url in urls:\n",
    "    filename = os.path.basename(url)\n",
    "    filepath = os.path.join(\"data\", filename)\n",
    "\n",
    "    if not os.path.exists(filepath):\n",
    "        print(f\"Downloading {filename} from the s3 bucket...\")\n",
    "        response = requests.get(url)\n",
    "        if response.status_code == 200:\n",
    "            with open(filepath, \"wb\") as f:\n",
    "                f.write(response.content)\n",
    "        else:\n",
    "            print(f\"Failed to download {filename}: {response.status_code}\")\n",
    "            continue\n",
    "    else:\n",
    "        print(f\"{filename} already exists. Skipping download.\")\n",
    "\n",
    "    try:\n",
    "        if filename.endswith(\".npy\"):\n",
    "            loaded_data[filename] = np.load(filepath, allow_pickle=True)\n",
    "        elif filename.endswith(\".csv\"):\n",
    "            loaded_data[filename] = pd.read_csv(filepath)\n",
    "        else:\n",
    "            print(f\"Unsupported file type: {filename}\")\n",
    "    except Exception as e:\n",
    "        print(f\"Failed to load {filename}: {e}\")\n"
   ]
  },
  {
   "cell_type": "markdown",
   "metadata": {},
   "source": [
    "### 3. Exploratory Data Analysis (EDA) 🔍\n",
    "Full EDA code can be found in the eda.ipynb folder. To save space in the main notebook, we have collated just the figures."
   ]
  },
  {
   "cell_type": "code",
   "execution_count": 9,
   "metadata": {},
   "outputs": [
    {
     "data": {
      "text/html": [
       "\n",
       "<style>\n",
       "  body {\n",
       "    margin: 0;\n",
       "    padding: 0;\n",
       "  }\n",
       "\n",
       "  .grid-wrapper {\n",
       "    padding: 40px 20px 60px 20px;\n",
       "  }\n",
       "\n",
       "  .grid-container {\n",
       "    display: grid;\n",
       "    grid-template-columns: repeat(2, 1fr); /* 2-column grid */\n",
       "    gap: 16px;\n",
       "  }\n",
       "\n",
       "  .grid-item {\n",
       "    text-align: center;\n",
       "  }\n",
       "\n",
       "  .grid-item img {\n",
       "    width: 100%;\n",
       "    height: auto;\n",
       "    border-radius: 8px;\n",
       "    cursor: pointer;\n",
       "    box-shadow: 0 4px 8px rgba(0,0,0,0.1);\n",
       "    transition: transform 0.2s ease-in-out;\n",
       "  }\n",
       "\n",
       "  .grid-item img:hover {\n",
       "    transform: scale(1.05);\n",
       "  }\n",
       "\n",
       "  dialog::backdrop {\n",
       "    background: rgba(0, 0, 0, 0.9);\n",
       "  }\n",
       "\n",
       "  dialog {\n",
       "    border: none;\n",
       "    background: transparent;\n",
       "    padding: 0;\n",
       "    margin: auto;\n",
       "    z-index: 9999;\n",
       "  }\n",
       "\n",
       "  dialog img {\n",
       "    max-width: 90vw;\n",
       "    max-height: 90vh;\n",
       "    display: block;\n",
       "    margin: auto;\n",
       "    border-radius: 10px;\n",
       "    box-shadow: 0 6px 20px rgba(0,0,0,0.4);\n",
       "  }\n",
       "</style>\n",
       "\n",
       "<div class=\"grid-wrapper\">\n",
       "  <div class=\"grid-container\">\n",
       "\n",
       "    <div class=\"grid-item\">\n",
       "      <img src=\"plots/annotation_frequency.png\" onclick=\"document.getElementById('dialog0').showModal()\">\n",
       "      <p style=\"font-size: 14px;\">annotation_frequency.png</p>\n",
       "    </div>\n",
       "    <dialog id=\"dialog0\" onclick=\"this.close()\">\n",
       "      <img src=\"plots/annotation_frequency.png\" alt=\"annotation_frequency.png\">\n",
       "    </dialog>\n",
       "    \n",
       "    <div class=\"grid-item\">\n",
       "      <img src=\"plots/avg_word_length.png\" onclick=\"document.getElementById('dialog1').showModal()\">\n",
       "      <p style=\"font-size: 14px;\">avg_word_length.png</p>\n",
       "    </div>\n",
       "    <dialog id=\"dialog1\" onclick=\"this.close()\">\n",
       "      <img src=\"plots/avg_word_length.png\" alt=\"avg_word_length.png\">\n",
       "    </dialog>\n",
       "    \n",
       "    <div class=\"grid-item\">\n",
       "      <img src=\"plots/bert_scores.png\" onclick=\"document.getElementById('dialog2').showModal()\">\n",
       "      <p style=\"font-size: 14px;\">bert_scores.png</p>\n",
       "    </div>\n",
       "    <dialog id=\"dialog2\" onclick=\"this.close()\">\n",
       "      <img src=\"plots/bert_scores.png\" alt=\"bert_scores.png\">\n",
       "    </dialog>\n",
       "    \n",
       "    <div class=\"grid-item\">\n",
       "      <img src=\"plots/polarity_dist.png\" onclick=\"document.getElementById('dialog3').showModal()\">\n",
       "      <p style=\"font-size: 14px;\">polarity_dist.png</p>\n",
       "    </div>\n",
       "    <dialog id=\"dialog3\" onclick=\"this.close()\">\n",
       "      <img src=\"plots/polarity_dist.png\" alt=\"polarity_dist.png\">\n",
       "    </dialog>\n",
       "    \n",
       "    <div class=\"grid-item\">\n",
       "      <img src=\"plots/repeated_words.png\" onclick=\"document.getElementById('dialog4').showModal()\">\n",
       "      <p style=\"font-size: 14px;\">repeated_words.png</p>\n",
       "    </div>\n",
       "    <dialog id=\"dialog4\" onclick=\"this.close()\">\n",
       "      <img src=\"plots/repeated_words.png\" alt=\"repeated_words.png\">\n",
       "    </dialog>\n",
       "    \n",
       "    <div class=\"grid-item\">\n",
       "      <img src=\"plots/sentiment_dist.png\" onclick=\"document.getElementById('dialog5').showModal()\">\n",
       "      <p style=\"font-size: 14px;\">sentiment_dist.png</p>\n",
       "    </div>\n",
       "    <dialog id=\"dialog5\" onclick=\"this.close()\">\n",
       "      <img src=\"plots/sentiment_dist.png\" alt=\"sentiment_dist.png\">\n",
       "    </dialog>\n",
       "    \n",
       "    <div class=\"grid-item\">\n",
       "      <img src=\"plots/stop_words.png\" onclick=\"document.getElementById('dialog6').showModal()\">\n",
       "      <p style=\"font-size: 14px;\">stop_words.png</p>\n",
       "    </div>\n",
       "    <dialog id=\"dialog6\" onclick=\"this.close()\">\n",
       "      <img src=\"plots/stop_words.png\" alt=\"stop_words.png\">\n",
       "    </dialog>\n",
       "    \n",
       "    <div class=\"grid-item\">\n",
       "      <img src=\"plots/text_length.png\" onclick=\"document.getElementById('dialog7').showModal()\">\n",
       "      <p style=\"font-size: 14px;\">text_length.png</p>\n",
       "    </div>\n",
       "    <dialog id=\"dialog7\" onclick=\"this.close()\">\n",
       "      <img src=\"plots/text_length.png\" alt=\"text_length.png\">\n",
       "    </dialog>\n",
       "    \n",
       "    <div class=\"grid-item\">\n",
       "      <img src=\"plots/typo_counts.png\" onclick=\"document.getElementById('dialog8').showModal()\">\n",
       "      <p style=\"font-size: 14px;\">typo_counts.png</p>\n",
       "    </div>\n",
       "    <dialog id=\"dialog8\" onclick=\"this.close()\">\n",
       "      <img src=\"plots/typo_counts.png\" alt=\"typo_counts.png\">\n",
       "    </dialog>\n",
       "    \n",
       "    <div class=\"grid-item\">\n",
       "      <img src=\"plots/word_cloud.png\" onclick=\"document.getElementById('dialog9').showModal()\">\n",
       "      <p style=\"font-size: 14px;\">word_cloud.png</p>\n",
       "    </div>\n",
       "    <dialog id=\"dialog9\" onclick=\"this.close()\">\n",
       "      <img src=\"plots/word_cloud.png\" alt=\"word_cloud.png\">\n",
       "    </dialog>\n",
       "    \n",
       "    <div class=\"grid-item\">\n",
       "      <img src=\"plots/word_counts.png\" onclick=\"document.getElementById('dialog10').showModal()\">\n",
       "      <p style=\"font-size: 14px;\">word_counts.png</p>\n",
       "    </div>\n",
       "    <dialog id=\"dialog10\" onclick=\"this.close()\">\n",
       "      <img src=\"plots/word_counts.png\" alt=\"word_counts.png\">\n",
       "    </dialog>\n",
       "    \n",
       "  </div>\n",
       "</div>\n",
       "\n",
       "<script>\n",
       "  // Optional: ESC to close the dialog\n",
       "  document.addEventListener(\"keydown\", function(event) {\n",
       "    if (event.key === \"Escape\") {\n",
       "      document.querySelectorAll(\"dialog[open]\").forEach(d => d.close());\n",
       "    }\n",
       "  });\n",
       "</script>\n"
      ],
      "text/plain": [
       "<IPython.core.display.HTML object>"
      ]
     },
     "metadata": {},
     "output_type": "display_data"
    }
   ],
   "source": [
    "import os\n",
    "from IPython.display import display, HTML\n",
    "\n",
    "plot_folder = \"plots/\"\n",
    "image_files = sorted([\n",
    "    f for f in os.listdir(plot_folder)\n",
    "    if f.lower().endswith((\".png\", \".jpg\", \".jpeg\"))\n",
    "])\n",
    "\n",
    "html_str = \"\"\"\n",
    "<style>\n",
    "  body {\n",
    "    margin: 0;\n",
    "    padding: 0;\n",
    "  }\n",
    "\n",
    "  .grid-wrapper {\n",
    "    padding: 40px 20px 60px 20px;\n",
    "  }\n",
    "\n",
    "  .grid-container {\n",
    "    display: grid;\n",
    "    grid-template-columns: repeat(2, 1fr); /* 2-column grid */\n",
    "    gap: 16px;\n",
    "  }\n",
    "\n",
    "  .grid-item {\n",
    "    text-align: center;\n",
    "  }\n",
    "\n",
    "  .grid-item img {\n",
    "    width: 100%;\n",
    "    height: auto;\n",
    "    border-radius: 8px;\n",
    "    cursor: pointer;\n",
    "    box-shadow: 0 4px 8px rgba(0,0,0,0.1);\n",
    "    transition: transform 0.2s ease-in-out;\n",
    "  }\n",
    "\n",
    "  .grid-item img:hover {\n",
    "    transform: scale(1.05);\n",
    "  }\n",
    "\n",
    "  dialog::backdrop {\n",
    "    background: rgba(0, 0, 0, 0.9);\n",
    "  }\n",
    "\n",
    "  dialog {\n",
    "    border: none;\n",
    "    background: transparent;\n",
    "    padding: 0;\n",
    "    margin: auto;\n",
    "    z-index: 9999;\n",
    "  }\n",
    "\n",
    "  dialog img {\n",
    "    max-width: 90vw;\n",
    "    max-height: 90vh;\n",
    "    display: block;\n",
    "    margin: auto;\n",
    "    border-radius: 10px;\n",
    "    box-shadow: 0 6px 20px rgba(0,0,0,0.4);\n",
    "  }\n",
    "</style>\n",
    "\n",
    "<div class=\"grid-wrapper\">\n",
    "  <div class=\"grid-container\">\n",
    "\"\"\"\n",
    "\n",
    "for idx, image in enumerate(image_files):\n",
    "    img_path = os.path.join(plot_folder, image).replace(\"\\\\\", \"/\")\n",
    "    html_str += f\"\"\"\n",
    "    <div class=\"grid-item\">\n",
    "      <img src=\"{img_path}\" onclick=\"document.getElementById('dialog{idx}').showModal()\">\n",
    "      <p style=\"font-size: 14px;\">{image}</p>\n",
    "    </div>\n",
    "    <dialog id=\"dialog{idx}\" onclick=\"this.close()\">\n",
    "      <img src=\"{img_path}\" alt=\"{image}\">\n",
    "    </dialog>\n",
    "    \"\"\"\n",
    "\n",
    "html_str += \"\"\"\n",
    "  </div>\n",
    "</div>\n",
    "\n",
    "<script>\n",
    "  // Optional: ESC to close the dialog\n",
    "  document.addEventListener(\"keydown\", function(event) {\n",
    "    if (event.key === \"Escape\") {\n",
    "      document.querySelectorAll(\"dialog[open]\").forEach(d => d.close());\n",
    "    }\n",
    "  });\n",
    "</script>\n",
    "\"\"\"\n",
    "\n",
    "display(HTML(html_str))\n"
   ]
  },
  {
   "cell_type": "markdown",
   "metadata": {},
   "source": [
    "### 4. Preprocessing ⚙️ (Optional)\n",
    "\n",
    "The loaded data already includes the embeddings, so realistically no need to do the below."
   ]
  },
  {
   "cell_type": "code",
   "execution_count": 21,
   "metadata": {},
   "outputs": [
    {
     "ename": "KeyError",
     "evalue": "'unprocessed_train.csv'",
     "output_type": "error",
     "traceback": [
      "\u001b[31m---------------------------------------------------------------------------\u001b[39m",
      "\u001b[31mKeyError\u001b[39m                                  Traceback (most recent call last)",
      "\u001b[36mCell\u001b[39m\u001b[36m \u001b[39m\u001b[32mIn[21]\u001b[39m\u001b[32m, line 1\u001b[39m\n\u001b[32m----> \u001b[39m\u001b[32m1\u001b[39m train = \u001b[43mloaded_data\u001b[49m\u001b[43m[\u001b[49m\u001b[33;43m'\u001b[39;49m\u001b[33;43munprocessed_train.csv\u001b[39;49m\u001b[33;43m'\u001b[39;49m\u001b[43m]\u001b[49m\n\u001b[32m      2\u001b[39m test = loaded_data[\u001b[33m'\u001b[39m\u001b[33munprocessed_test.csv\u001b[39m\u001b[33m'\u001b[39m]\n\u001b[32m      3\u001b[39m valid = loaded_data[\u001b[33m'\u001b[39m\u001b[33munprocessed_valid.csv\u001b[39m\u001b[33m'\u001b[39m]\n",
      "\u001b[31mKeyError\u001b[39m: 'unprocessed_train.csv'"
     ]
    }
   ],
   "source": [
    "train = loaded_data['unprocessed_train.csv']\n",
    "test = loaded_data['unprocessed_test.csv']\n",
    "valid = loaded_data['unprocessed_valid.csv']\n",
    "\n",
    "# Load pre-trained model and tokenizer\n",
    "model_name = 'bert-base-uncased'\n",
    "tokenizer = BertTokenizer.from_pretrained(model_name)\n",
    "model = BertModel.from_pretrained(model_name)\n",
    "\n",
    "\n",
    "def get_bert_embedding(text):\n",
    "    inputs = tokenizer(text, return_tensors='pt', truncation=True, padding=True, max_length=512)\n",
    "    outputs = model(**inputs)\n",
    "    # Get the embeddings from the last hidden state (batch_size, sequence_length, embedding_dim)\n",
    "    embeddings = outputs.last_hidden_state\n",
    "    # Average over token embeddings to get a single sentence embedding\n",
    "    sentence_embedding = embeddings.mean(dim=1).squeeze().detach().numpy()\n",
    "    return sentence_embedding\n"
   ]
  },
  {
   "cell_type": "code",
   "execution_count": 10,
   "metadata": {},
   "outputs": [
    {
     "name": "stdout",
     "output_type": "stream",
     "text": [
      "[ 8.03209469e-02  1.22918233e-01  1.26589686e-01 -2.66375005e-01\n",
      "  1.77689344e-01 -2.71641552e-01  3.53137434e-01  4.87102270e-01\n",
      " -3.98947328e-01 -1.69441536e-01 -2.50250041e-01 -4.00820345e-01\n",
      " -1.73790172e-01  5.81908189e-02 -1.16118334e-01 -1.81075543e-01\n",
      "  8.15084428e-02  6.11188523e-02  3.20317835e-01  2.56247342e-01\n",
      " -9.03700292e-02  2.68992018e-02  2.25706846e-02  3.41205537e-01\n",
      "  2.90913641e-01  4.92623448e-03  3.70574556e-02  4.45242107e-01\n",
      " -6.71412945e-02 -3.03446591e-01  2.84514338e-01  1.84140638e-01\n",
      "  2.68894732e-01  2.71409273e-01 -1.42630190e-01 -4.19640541e-02\n",
      " -1.83587760e-01  1.02859676e-01 -2.58117199e-01  2.05544457e-01\n",
      "  9.95811969e-02 -4.46918309e-01  1.91552803e-01  2.78910547e-02\n",
      "  2.06930056e-01 -7.05693901e-01 -3.48677993e-01  1.65466592e-03\n",
      "  4.39676046e-01 -4.04288545e-02 -7.68632516e-02  4.88362610e-01\n",
      "  7.35178292e-02 -9.41371620e-02 -2.15700746e-01  5.04661500e-01\n",
      " -2.93146610e-01 -4.07490373e-01 -1.45577639e-01 -2.18072355e-01\n",
      "  1.12466402e-01  1.36502385e-02 -1.77182317e-01 -4.47122872e-01\n",
      "  1.36398703e-01  1.74290717e-01 -1.77046955e-01  4.67256904e-01\n",
      " -5.21898866e-01 -3.22710611e-02 -6.75193965e-04 -3.28782618e-01\n",
      "  3.69524993e-02 -6.48824200e-02 -8.73964950e-02 -3.90738957e-02\n",
      " -1.90012157e-01  1.31654054e-01  5.89332171e-02 -4.86495644e-02\n",
      " -3.31477672e-01  3.83847773e-01  2.07816705e-01  6.32134676e-01\n",
      "  1.91321552e-01  9.40800607e-02 -8.61531124e-02  4.92718481e-02\n",
      " -4.55571711e-01  3.17059517e-01 -4.21447277e-01 -1.61475539e-01\n",
      " -1.08275734e-01  1.08112812e-01  4.56850380e-01 -1.41064048e-01\n",
      " -9.90403444e-02  1.55558228e-01 -4.25188512e-01  1.30713269e-01\n",
      " -1.06465116e-01 -6.03539050e-01  2.37261668e-01  3.26634526e-01\n",
      " -1.10941008e-02  6.74329698e-02  1.84253067e-01 -6.04091696e-02\n",
      "  1.08658731e-01  3.91963571e-02  1.91157877e-01 -4.15732890e-01\n",
      " -1.75238743e-01 -2.33598486e-01 -8.00655037e-02  2.65947878e-01\n",
      "  3.05711389e-01  1.76951990e-01 -5.39886951e-03  1.47959888e-01\n",
      " -2.00739354e-01 -3.12188268e-01  3.04867662e-02  8.27172339e-01\n",
      " -9.96896438e-03  2.41874665e-01 -2.60316879e-01 -9.49821323e-02\n",
      "  6.91282004e-02 -3.28709513e-01 -3.24851274e-02  6.51596785e-01\n",
      "  4.86018687e-01 -5.25385320e-01 -6.19754940e-03 -6.12565540e-02\n",
      "  2.32299671e-01 -1.69553295e-01 -4.26108658e-01 -1.80836275e-01\n",
      "  9.90715176e-02  2.90276617e-01  9.28344056e-02  1.95059896e-01\n",
      "  9.77596194e-02 -1.09928101e-03 -3.72073978e-01  2.06136942e-01\n",
      " -9.28854793e-02 -1.41650975e-01 -1.76291659e-01  2.42868692e-01\n",
      " -3.71213794e-01 -2.00967118e-01 -3.20565343e-01 -1.75081730e-01\n",
      " -6.02189183e-01  1.90276667e-01  2.37651825e-01  3.60980451e-01\n",
      "  2.02891544e-01 -2.23020643e-01 -4.52205420e-01  4.61396933e-01\n",
      " -5.21948755e-01 -1.17252171e-01  4.79859471e-01  7.72912204e-01\n",
      "  3.39668132e-02  9.92394686e-02 -3.00331742e-01 -9.54691619e-02\n",
      "  6.20612979e-01  2.04057500e-01 -1.91450268e-01  8.89588669e-02\n",
      "  3.69888783e-01  1.58620864e-01 -1.06575906e-01  1.61530495e-01\n",
      " -1.28426826e+00 -1.35100305e-01  1.08199015e-01  2.77056605e-01\n",
      "  2.41199255e-01 -2.92168260e-01  2.85666466e-01 -5.28201878e-01\n",
      "  3.82756203e-01  2.23645344e-01 -5.13324499e-01 -6.07969612e-02\n",
      " -9.95410308e-02  1.32310167e-02  4.67839658e-01  2.97295786e-02\n",
      "  3.75403091e-02 -2.78158903e-01  3.30357909e-01  2.27490574e-01\n",
      "  2.70010173e-01 -5.10378145e-02  1.54239625e-01 -2.15999782e-03\n",
      " -2.43372992e-02  2.53073156e-01 -1.02441937e-01  1.62962526e-02\n",
      " -2.82418162e-01 -4.02962029e-01 -4.92917717e-01  3.57138634e-01\n",
      "  1.60723597e-01 -8.65075365e-02  8.16894397e-02 -2.26713508e-01\n",
      "  1.34141929e-02 -3.34186524e-01 -3.75987589e-01 -1.14758089e-01\n",
      " -1.41507015e-02 -2.49553919e-01 -6.21903419e-01  2.72567511e-01\n",
      "  1.33834928e-02  3.27520132e-01  3.62444341e-01 -1.18181020e-01\n",
      "  2.75274813e-01  1.01570800e-01 -1.88184589e-01 -5.68447411e-01\n",
      "  5.32253802e-01 -6.29966147e-03  4.71817255e-02  3.85835379e-01\n",
      " -5.43609932e-02 -3.78284007e-01  2.43199915e-01 -2.49479294e-01\n",
      " -1.02672301e-01  1.32573768e-01  2.24635765e-01  8.02502781e-02\n",
      " -1.67867746e-02 -1.59763336e-01  5.67176007e-03  6.82845339e-02\n",
      "  6.40766025e-02 -2.67805040e-01 -2.31317095e-02 -6.42598510e-01\n",
      " -2.46880651e-02 -1.17490709e-01 -2.45734155e-01 -2.40862772e-01\n",
      "  2.99142599e-02  1.13166511e-01  1.37188375e-01  8.92460868e-02\n",
      "  4.03244942e-01 -1.24099538e-01  9.44606543e-01  8.17904919e-02\n",
      " -2.84475386e-01 -4.79415238e-01  1.38417572e-01 -5.75228594e-03\n",
      "  2.23579817e-03  8.71665701e-02 -3.53979081e-01 -9.90851671e-02\n",
      "  2.04256058e-01  4.09320831e-01 -2.30291024e-01 -4.59663987e-01\n",
      "  1.55385867e-01  1.13479599e-01 -4.82504666e-02 -2.77443588e-01\n",
      " -6.23999201e-02  4.50969398e-01 -5.63370824e-01 -3.57196480e-03\n",
      "  3.66779491e-02 -1.37484848e-01  1.54379681e-02 -2.36132875e-01\n",
      " -1.93047486e-02 -1.11939110e-01 -2.95828521e-01  3.04573119e-01\n",
      " -3.25431168e-01 -4.19552535e-01  6.36542201e-01 -4.83054519e-02\n",
      "  3.08791071e-01 -2.43286416e-02  2.00424001e-01 -2.17069127e-02\n",
      "  2.80002326e-01 -1.29642248e-01 -3.64017785e-01 -2.26641465e-02\n",
      " -3.13469142e-01  1.38045549e-01  1.52479857e-01 -9.43726003e-02\n",
      " -3.59795833e+00 -1.60956845e-01  4.14852053e-03 -4.22887057e-02\n",
      "  1.90308720e-01  3.24695818e-02 -4.56816368e-02  6.05456531e-02\n",
      " -6.33169055e-01 -2.90077627e-01 -1.56568319e-01  2.39378661e-02\n",
      "  4.06726092e-01  2.11987868e-01  8.87555331e-02  1.83470130e-01\n",
      "  5.90911627e-01 -2.91554630e-01 -4.46213007e-01  6.41387820e-01\n",
      " -1.31805435e-01 -2.98307464e-03  3.67592834e-02  6.12547398e-02\n",
      "  5.68704724e-01 -7.72733316e-02 -1.08654261e-01  1.35105103e-01\n",
      " -3.42183620e-01 -1.21720865e-01 -1.35629237e-01 -4.98161077e-01\n",
      "  1.56651139e-02  5.19561350e-01 -3.85744870e-02 -3.32522020e-03\n",
      "  2.57925898e-01 -4.93705004e-01  7.35576600e-02  1.57191455e-01\n",
      "  5.74856922e-02 -3.50952029e-01  8.57651979e-02 -1.98204011e-01\n",
      "  7.25206077e-01 -6.96491778e-01 -2.59098336e-02 -1.70458388e-02\n",
      " -2.14929998e-01  1.89289093e-01  2.57503211e-01 -1.53720170e-01\n",
      "  4.03506637e-01 -3.32314312e-01 -5.61135411e-02 -2.11965606e-01\n",
      "  3.81289929e-01  5.62889159e-01 -8.54029953e-02 -2.89001048e-01\n",
      "  4.31499660e-01 -1.01680458e-02 -4.96685922e-01 -2.01618582e-01\n",
      " -8.24339241e-02 -2.63415515e-01 -6.06847286e-01 -5.97805977e-01\n",
      " -3.52652103e-01  3.04361314e-01 -1.95873350e-01  4.51053306e-02\n",
      " -2.81195313e-01 -1.09167814e+00 -2.51424998e-01  2.29606330e-01\n",
      " -1.80994928e-01  5.27368151e-02  1.93366036e-01 -1.12280510e-01\n",
      " -1.92784697e-01 -4.59178716e-01 -8.85901749e-02  3.66654277e-01\n",
      "  5.05383499e-02 -4.16812629e-01 -5.14865592e-02 -9.41775367e-02\n",
      " -4.75920644e-03  2.10526317e-01  4.38400537e-01  1.74583882e-01\n",
      "  7.12864846e-02  3.53658468e-01  4.21582252e-01 -2.36168467e-02\n",
      "  4.48171318e-01 -2.81832606e-01  2.89900035e-01 -1.96433380e-01\n",
      " -3.33653167e-02  4.16924246e-02  1.45280033e-01  3.34334522e-02\n",
      " -2.00901087e-03  1.67465895e-01 -3.47505003e-01  1.51805371e-01\n",
      "  3.32619190e-01  3.21648866e-02 -2.38159731e-01 -2.61094511e-01\n",
      "  4.37560603e-02  1.38430536e-01 -1.17428988e-01 -3.06104422e-01\n",
      "  4.94193919e-02  1.07058510e-01 -1.09543055e-02  2.60230631e-01\n",
      " -1.93130314e-01  6.83680356e-01 -1.13271944e-01 -2.18841419e-01\n",
      " -1.10789321e-01  2.19118133e-01  2.20280573e-01 -1.91193223e-01\n",
      " -1.29361063e-01 -2.88745910e-01  3.70612741e-03 -3.70517075e-01\n",
      "  1.99159905e-02  2.29601026e-01 -6.15290999e-02  2.72665054e-01\n",
      " -2.36679167e-01  2.08413601e-03 -1.00022078e-01  1.91933103e-02\n",
      "  6.50934756e-01  3.02459270e-01 -5.47806397e-02  5.97768500e-02\n",
      "  8.12946409e-02  3.56193662e-01 -2.27140456e-01  1.94896117e-01\n",
      " -2.42050156e-01  1.51461706e-01 -1.17053494e-01 -7.18817830e-01\n",
      "  1.66840747e-01 -4.98875976e-01 -5.96131831e-02 -2.57682979e-01\n",
      " -8.35039765e-02 -2.26287499e-01  2.35646069e-02 -5.65236092e-01\n",
      "  3.75855058e-01 -1.95030764e-01  1.87077805e-01  4.19075578e-01\n",
      "  2.11222768e-01  7.81554580e-01  1.00604042e-01 -7.58082271e-02\n",
      " -3.14033657e-01  8.83726031e-03  1.75078094e-01 -3.02690417e-02\n",
      " -1.37790680e-01 -2.62633830e-01 -9.42413211e-02  9.30328295e-02\n",
      " -2.91010708e-01 -5.59699357e-01  4.15315479e-03  4.18826044e-01\n",
      " -1.85306102e-01 -3.42894882e-01 -2.24514112e-01  1.18894681e-01\n",
      "  4.85398918e-01  1.28917366e-01  1.28507420e-01 -1.28214523e-01\n",
      "  1.87738255e-01  5.35955012e-01 -9.16982517e-02  4.48057741e-01\n",
      "  8.82021338e-02 -6.03196442e-01 -4.66611266e-01 -5.31902969e-01\n",
      "  6.20623410e-01 -1.29126325e-01  1.91996455e-01  2.13603020e-01\n",
      "  4.15816903e-02 -1.10150889e-01 -2.65310615e-01  1.49175674e-01\n",
      "  3.64125550e-01 -2.10610121e-01 -9.42202061e-02  3.38347137e-01\n",
      "  2.09814176e-01  8.52189213e-02 -3.05945814e-01 -6.55421853e-01\n",
      " -3.65902305e-01 -1.81425050e-01 -1.27337947e-01  2.48920321e-01\n",
      " -6.15536943e-02 -5.81760183e-02 -9.99693125e-02 -3.27313811e-01\n",
      " -5.54975986e-01  1.79958716e-02 -4.41165641e-04  2.65213609e-01\n",
      " -4.38666821e-01 -2.83413112e-01 -4.25659895e-01 -1.01512134e-01\n",
      " -5.29346466e-01 -1.68330371e-01  9.35684219e-02  8.56098160e-02\n",
      "  1.28305882e-01 -2.39499420e-01 -3.36989075e-01  2.45817885e-01\n",
      " -1.61104687e-02 -5.23425639e-03  2.01037265e-02 -1.86204389e-01\n",
      "  4.46223654e-02 -4.53139573e-01 -2.19195843e-01  1.01738170e-01\n",
      "  1.45667523e-01  1.14582650e-01 -4.86382127e-01  4.45425451e-01\n",
      " -2.00967684e-01  2.02120662e-01 -9.12008956e-02  4.09030557e-01\n",
      " -3.04810315e-01 -3.77222061e-01 -8.98612514e-02 -1.08613718e+00\n",
      " -4.98854481e-02  9.00225192e-02 -2.63408095e-01  1.06397316e-01\n",
      " -3.67551506e-01  4.77338508e-02 -1.12966374e-02 -3.77855003e-02\n",
      "  9.62443948e-02  3.37830305e-01 -7.71837831e-02  8.18931311e-02\n",
      "  2.53128976e-01  1.87443882e-01 -2.82439977e-01 -9.35577527e-02\n",
      " -1.03544369e-02  4.20403332e-02 -2.00626835e-01 -1.24760814e-01\n",
      "  2.31298998e-01 -4.89364147e-01 -2.65490919e-01 -4.07510221e-01\n",
      "  1.80734009e-01  4.86868739e-01  3.76228243e-04 -3.53240043e-01\n",
      "  6.67529225e-01 -3.45360905e-01 -2.33848378e-01  1.25477880e-01\n",
      " -1.16570182e-02  2.32918084e-01  5.13623469e-02  2.22023144e-01\n",
      " -1.41003042e-01  1.37333959e-01  2.11649060e-01  2.49832228e-01\n",
      "  2.28297234e-01 -1.71102643e-01 -3.79380226e-01  6.25234395e-02\n",
      "  3.03926580e-02  1.75003096e-01  3.88700366e-01  4.61941421e-01\n",
      "  4.53317724e-02  2.37605661e-01 -6.47972301e-02 -2.62307432e-02\n",
      "  1.49651635e-02  4.02491748e-01 -5.19690633e-01 -1.18513227e-01\n",
      "  3.41375142e-01  6.82435632e-01 -4.96913254e-01 -3.52322347e-02\n",
      "  1.94613725e-01 -5.63051403e-01 -3.75482410e-01  3.23420674e-01\n",
      " -1.58720195e-01 -2.44677693e-01  5.83702147e-01  2.59038627e-01\n",
      " -1.72095150e-01  2.83770412e-01 -1.85064897e-01 -1.28896594e-01\n",
      "  1.53414965e-01  5.91566801e-01  1.51914179e-01  1.54222533e-01\n",
      " -8.18366855e-02  7.24772573e-01  2.12931365e-01 -5.52725315e-01\n",
      "  2.00949043e-01  4.39717174e-02  1.50916398e-01  1.42484352e-01\n",
      "  1.83378488e-01 -1.52419284e-02  1.64938331e-01  1.88780949e-01\n",
      " -9.81864706e-02 -3.37984785e-02  1.41225815e-01  2.30267867e-02\n",
      "  3.14209253e-01 -5.87138981e-02  1.73558488e-01  2.52597660e-01\n",
      " -3.19798253e-02 -2.67730147e-01  2.44733796e-01  2.30521530e-01\n",
      "  8.32983926e-02 -1.02327831e-01  5.68962932e-01 -7.38639310e-02\n",
      " -1.16266601e-01 -6.10978454e-02  1.38712078e-01 -4.05104518e-01\n",
      "  1.81634039e-01  4.96549994e-01  5.08012585e-02 -2.35752270e-01\n",
      " -2.45722815e-01  1.83527976e-01 -1.95792094e-01  1.10971145e-01\n",
      "  2.21886754e-01  2.08595619e-02 -1.63466364e-01  3.86082709e-01\n",
      " -5.40336847e-01 -2.73494571e-01 -2.04291090e-01 -2.79816568e-01\n",
      " -1.47295922e-01  4.00489897e-01 -2.51731902e-01  1.83662355e-01\n",
      "  2.73170531e-01 -4.50630933e-01 -2.11793542e-01 -1.62897035e-01\n",
      "  2.55157769e-01 -2.16482103e-01  9.29557234e-02 -7.74354115e-02\n",
      "  3.52100171e-02 -3.62565935e-01  3.01309943e-01 -3.28983128e-01\n",
      " -3.44008207e-01  3.69535238e-02  5.54840147e-01  6.04819298e-01\n",
      "  5.71779072e-01 -4.78953779e-01 -3.99583057e-02  8.23895782e-02\n",
      " -2.96017230e-01  1.44477114e-01 -1.14548229e-01  3.09755534e-01\n",
      " -2.78490067e-01 -2.63618112e-01  2.06715137e-01  5.29211223e-01\n",
      " -7.53264189e-01  2.22928673e-01 -1.71930403e-01  2.42875308e-01\n",
      "  1.21218242e-01 -4.26067300e-02 -2.98010185e-04 -6.50107190e-02\n",
      " -8.91491473e-02 -3.32796067e-01  1.95063531e-01  3.14092159e-01\n",
      " -1.64518341e-01  1.77383035e-01 -2.96502650e-01  9.97039378e-02\n",
      " -4.16845292e-01 -7.06286356e-02 -2.26518631e-01  2.99273878e-01\n",
      "  1.95655838e-01 -2.26049572e-02  4.13813740e-02 -2.50805438e-01\n",
      " -3.88492644e-03  2.58879721e-01 -5.80582544e-02 -4.19488311e-01\n",
      "  3.46821785e-01  3.88165087e-01  3.03125978e-01  8.03802088e-02\n",
      " -6.26412511e-01  2.36927956e-01  2.10582465e-01  1.61964163e-01\n",
      " -2.46850625e-01 -7.15371490e-01  2.51215845e-01  3.52736451e-02\n",
      "  5.44115789e-02 -3.08200449e-01  2.48941500e-02 -9.76148248e-03\n",
      "  7.74764493e-02  6.35860562e-02  1.59652621e-01 -1.91727057e-02]\n"
     ]
    }
   ],
   "source": [
    "# Example tweet\n",
    "text = \"I love machine learning! 😊\"\n",
    "embedding = get_bert_embedding(text)\n",
    "print(embedding)"
   ]
  },
  {
   "cell_type": "code",
   "execution_count": 20,
   "metadata": {},
   "outputs": [
    {
     "name": "stdout",
     "output_type": "stream",
     "text": [
      "Generating embeddings for all train tweets...\n"
     ]
    },
    {
     "name": "stderr",
     "output_type": "stream",
     "text": [
      "  0%|          | 69/133999 [00:04<2:37:28, 14.17it/s]\n"
     ]
    },
    {
     "ename": "KeyboardInterrupt",
     "evalue": "",
     "output_type": "error",
     "traceback": [
      "\u001b[31m---------------------------------------------------------------------------\u001b[39m",
      "\u001b[31mKeyboardInterrupt\u001b[39m                         Traceback (most recent call last)",
      "\u001b[36mCell\u001b[39m\u001b[36m \u001b[39m\u001b[32mIn[20]\u001b[39m\u001b[32m, line 19\u001b[39m\n\u001b[32m     16\u001b[39m     loaded_data[csv_filename] = df_out\n\u001b[32m     18\u001b[39m \u001b[38;5;66;03m# Process train, test, and valid\u001b[39;00m\n\u001b[32m---> \u001b[39m\u001b[32m19\u001b[39m \u001b[43mprocess_and_store_embeddings\u001b[49m\u001b[43m(\u001b[49m\u001b[33;43m'\u001b[39;49m\u001b[33;43mtrain\u001b[39;49m\u001b[33;43m'\u001b[39;49m\u001b[43m,\u001b[49m\u001b[43m \u001b[49m\u001b[43mtrain\u001b[49m\u001b[43m)\u001b[49m\n\u001b[32m     20\u001b[39m process_and_store_embeddings(\u001b[33m'\u001b[39m\u001b[33mtest\u001b[39m\u001b[33m'\u001b[39m, test)\n\u001b[32m     21\u001b[39m process_and_store_embeddings(\u001b[33m'\u001b[39m\u001b[33mvalid\u001b[39m\u001b[33m'\u001b[39m, valid)\n",
      "\u001b[36mCell\u001b[39m\u001b[36m \u001b[39m\u001b[32mIn[20]\u001b[39m\u001b[32m, line 6\u001b[39m, in \u001b[36mprocess_and_store_embeddings\u001b[39m\u001b[34m(split_name, df)\u001b[39m\n\u001b[32m      3\u001b[39m \u001b[38;5;28;01mdef\u001b[39;00m\u001b[38;5;250m \u001b[39m\u001b[34mprocess_and_store_embeddings\u001b[39m(split_name, df):\n\u001b[32m      4\u001b[39m     \u001b[38;5;28mprint\u001b[39m(\u001b[33mf\u001b[39m\u001b[33m\"\u001b[39m\u001b[33mGenerating embeddings for all \u001b[39m\u001b[38;5;132;01m{\u001b[39;00msplit_name\u001b[38;5;132;01m}\u001b[39;00m\u001b[33m tweets...\u001b[39m\u001b[33m\"\u001b[39m)\n\u001b[32m----> \u001b[39m\u001b[32m6\u001b[39m     embeddings = [\u001b[43mget_bert_embedding\u001b[49m\u001b[43m(\u001b[49m\u001b[43mtext\u001b[49m\u001b[43m)\u001b[49m \u001b[38;5;28;01mfor\u001b[39;00m text \u001b[38;5;129;01min\u001b[39;00m tqdm(df[\u001b[33m'\u001b[39m\u001b[33mtext\u001b[39m\u001b[33m'\u001b[39m])]\n\u001b[32m      7\u001b[39m     embeddings_array = np.array(embeddings)\n\u001b[32m      8\u001b[39m     embeddings_filename = \u001b[33mf\u001b[39m\u001b[33m\"\u001b[39m\u001b[38;5;132;01m{\u001b[39;00msplit_name\u001b[38;5;132;01m}\u001b[39;00m\u001b[33m_embeddings.npy\u001b[39m\u001b[33m\"\u001b[39m\n",
      "\u001b[36mCell\u001b[39m\u001b[36m \u001b[39m\u001b[32mIn[10]\u001b[39m\u001b[32m, line 13\u001b[39m, in \u001b[36mget_bert_embedding\u001b[39m\u001b[34m(text)\u001b[39m\n\u001b[32m     11\u001b[39m \u001b[38;5;28;01mdef\u001b[39;00m\u001b[38;5;250m \u001b[39m\u001b[34mget_bert_embedding\u001b[39m(text):\n\u001b[32m     12\u001b[39m     inputs = tokenizer(text, return_tensors=\u001b[33m'\u001b[39m\u001b[33mpt\u001b[39m\u001b[33m'\u001b[39m, truncation=\u001b[38;5;28;01mTrue\u001b[39;00m, padding=\u001b[38;5;28;01mTrue\u001b[39;00m, max_length=\u001b[32m512\u001b[39m)\n\u001b[32m---> \u001b[39m\u001b[32m13\u001b[39m     outputs = \u001b[43mmodel\u001b[49m\u001b[43m(\u001b[49m\u001b[43m*\u001b[49m\u001b[43m*\u001b[49m\u001b[43minputs\u001b[49m\u001b[43m)\u001b[49m\n\u001b[32m     14\u001b[39m     \u001b[38;5;66;03m# Get the embeddings from the last hidden state (batch_size, sequence_length, embedding_dim)\u001b[39;00m\n\u001b[32m     15\u001b[39m     embeddings = outputs.last_hidden_state\n",
      "\u001b[36mFile \u001b[39m\u001b[32mc:\\Users\\Jason\\Documents\\GitHub\\cs3244\\venv\\Lib\\site-packages\\torch\\nn\\modules\\module.py:1739\u001b[39m, in \u001b[36mModule._wrapped_call_impl\u001b[39m\u001b[34m(self, *args, **kwargs)\u001b[39m\n\u001b[32m   1737\u001b[39m     \u001b[38;5;28;01mreturn\u001b[39;00m \u001b[38;5;28mself\u001b[39m._compiled_call_impl(*args, **kwargs)  \u001b[38;5;66;03m# type: ignore[misc]\u001b[39;00m\n\u001b[32m   1738\u001b[39m \u001b[38;5;28;01melse\u001b[39;00m:\n\u001b[32m-> \u001b[39m\u001b[32m1739\u001b[39m     \u001b[38;5;28;01mreturn\u001b[39;00m \u001b[38;5;28;43mself\u001b[39;49m\u001b[43m.\u001b[49m\u001b[43m_call_impl\u001b[49m\u001b[43m(\u001b[49m\u001b[43m*\u001b[49m\u001b[43margs\u001b[49m\u001b[43m,\u001b[49m\u001b[43m \u001b[49m\u001b[43m*\u001b[49m\u001b[43m*\u001b[49m\u001b[43mkwargs\u001b[49m\u001b[43m)\u001b[49m\n",
      "\u001b[36mFile \u001b[39m\u001b[32mc:\\Users\\Jason\\Documents\\GitHub\\cs3244\\venv\\Lib\\site-packages\\torch\\nn\\modules\\module.py:1750\u001b[39m, in \u001b[36mModule._call_impl\u001b[39m\u001b[34m(self, *args, **kwargs)\u001b[39m\n\u001b[32m   1745\u001b[39m \u001b[38;5;66;03m# If we don't have any hooks, we want to skip the rest of the logic in\u001b[39;00m\n\u001b[32m   1746\u001b[39m \u001b[38;5;66;03m# this function, and just call forward.\u001b[39;00m\n\u001b[32m   1747\u001b[39m \u001b[38;5;28;01mif\u001b[39;00m \u001b[38;5;129;01mnot\u001b[39;00m (\u001b[38;5;28mself\u001b[39m._backward_hooks \u001b[38;5;129;01mor\u001b[39;00m \u001b[38;5;28mself\u001b[39m._backward_pre_hooks \u001b[38;5;129;01mor\u001b[39;00m \u001b[38;5;28mself\u001b[39m._forward_hooks \u001b[38;5;129;01mor\u001b[39;00m \u001b[38;5;28mself\u001b[39m._forward_pre_hooks\n\u001b[32m   1748\u001b[39m         \u001b[38;5;129;01mor\u001b[39;00m _global_backward_pre_hooks \u001b[38;5;129;01mor\u001b[39;00m _global_backward_hooks\n\u001b[32m   1749\u001b[39m         \u001b[38;5;129;01mor\u001b[39;00m _global_forward_hooks \u001b[38;5;129;01mor\u001b[39;00m _global_forward_pre_hooks):\n\u001b[32m-> \u001b[39m\u001b[32m1750\u001b[39m     \u001b[38;5;28;01mreturn\u001b[39;00m \u001b[43mforward_call\u001b[49m\u001b[43m(\u001b[49m\u001b[43m*\u001b[49m\u001b[43margs\u001b[49m\u001b[43m,\u001b[49m\u001b[43m \u001b[49m\u001b[43m*\u001b[49m\u001b[43m*\u001b[49m\u001b[43mkwargs\u001b[49m\u001b[43m)\u001b[49m\n\u001b[32m   1752\u001b[39m result = \u001b[38;5;28;01mNone\u001b[39;00m\n\u001b[32m   1753\u001b[39m called_always_called_hooks = \u001b[38;5;28mset\u001b[39m()\n",
      "\u001b[36mFile \u001b[39m\u001b[32mc:\\Users\\Jason\\Documents\\GitHub\\cs3244\\venv\\Lib\\site-packages\\transformers\\models\\bert\\modeling_bert.py:1013\u001b[39m, in \u001b[36mBertModel.forward\u001b[39m\u001b[34m(self, input_ids, attention_mask, token_type_ids, position_ids, head_mask, inputs_embeds, encoder_hidden_states, encoder_attention_mask, past_key_values, use_cache, output_attentions, output_hidden_states, return_dict)\u001b[39m\n\u001b[32m   1004\u001b[39m head_mask = \u001b[38;5;28mself\u001b[39m.get_head_mask(head_mask, \u001b[38;5;28mself\u001b[39m.config.num_hidden_layers)\n\u001b[32m   1006\u001b[39m embedding_output = \u001b[38;5;28mself\u001b[39m.embeddings(\n\u001b[32m   1007\u001b[39m     input_ids=input_ids,\n\u001b[32m   1008\u001b[39m     position_ids=position_ids,\n\u001b[32m   (...)\u001b[39m\u001b[32m   1011\u001b[39m     past_key_values_length=past_key_values_length,\n\u001b[32m   1012\u001b[39m )\n\u001b[32m-> \u001b[39m\u001b[32m1013\u001b[39m encoder_outputs = \u001b[38;5;28;43mself\u001b[39;49m\u001b[43m.\u001b[49m\u001b[43mencoder\u001b[49m\u001b[43m(\u001b[49m\n\u001b[32m   1014\u001b[39m \u001b[43m    \u001b[49m\u001b[43membedding_output\u001b[49m\u001b[43m,\u001b[49m\n\u001b[32m   1015\u001b[39m \u001b[43m    \u001b[49m\u001b[43mattention_mask\u001b[49m\u001b[43m=\u001b[49m\u001b[43mextended_attention_mask\u001b[49m\u001b[43m,\u001b[49m\n\u001b[32m   1016\u001b[39m \u001b[43m    \u001b[49m\u001b[43mhead_mask\u001b[49m\u001b[43m=\u001b[49m\u001b[43mhead_mask\u001b[49m\u001b[43m,\u001b[49m\n\u001b[32m   1017\u001b[39m \u001b[43m    \u001b[49m\u001b[43mencoder_hidden_states\u001b[49m\u001b[43m=\u001b[49m\u001b[43mencoder_hidden_states\u001b[49m\u001b[43m,\u001b[49m\n\u001b[32m   1018\u001b[39m \u001b[43m    \u001b[49m\u001b[43mencoder_attention_mask\u001b[49m\u001b[43m=\u001b[49m\u001b[43mencoder_extended_attention_mask\u001b[49m\u001b[43m,\u001b[49m\n\u001b[32m   1019\u001b[39m \u001b[43m    \u001b[49m\u001b[43mpast_key_values\u001b[49m\u001b[43m=\u001b[49m\u001b[43mpast_key_values\u001b[49m\u001b[43m,\u001b[49m\n\u001b[32m   1020\u001b[39m \u001b[43m    \u001b[49m\u001b[43muse_cache\u001b[49m\u001b[43m=\u001b[49m\u001b[43muse_cache\u001b[49m\u001b[43m,\u001b[49m\n\u001b[32m   1021\u001b[39m \u001b[43m    \u001b[49m\u001b[43moutput_attentions\u001b[49m\u001b[43m=\u001b[49m\u001b[43moutput_attentions\u001b[49m\u001b[43m,\u001b[49m\n\u001b[32m   1022\u001b[39m \u001b[43m    \u001b[49m\u001b[43moutput_hidden_states\u001b[49m\u001b[43m=\u001b[49m\u001b[43moutput_hidden_states\u001b[49m\u001b[43m,\u001b[49m\n\u001b[32m   1023\u001b[39m \u001b[43m    \u001b[49m\u001b[43mreturn_dict\u001b[49m\u001b[43m=\u001b[49m\u001b[43mreturn_dict\u001b[49m\u001b[43m,\u001b[49m\n\u001b[32m   1024\u001b[39m \u001b[43m\u001b[49m\u001b[43m)\u001b[49m\n\u001b[32m   1025\u001b[39m sequence_output = encoder_outputs[\u001b[32m0\u001b[39m]\n\u001b[32m   1026\u001b[39m pooled_output = \u001b[38;5;28mself\u001b[39m.pooler(sequence_output) \u001b[38;5;28;01mif\u001b[39;00m \u001b[38;5;28mself\u001b[39m.pooler \u001b[38;5;129;01mis\u001b[39;00m \u001b[38;5;129;01mnot\u001b[39;00m \u001b[38;5;28;01mNone\u001b[39;00m \u001b[38;5;28;01melse\u001b[39;00m \u001b[38;5;28;01mNone\u001b[39;00m\n",
      "\u001b[36mFile \u001b[39m\u001b[32mc:\\Users\\Jason\\Documents\\GitHub\\cs3244\\venv\\Lib\\site-packages\\torch\\nn\\modules\\module.py:1739\u001b[39m, in \u001b[36mModule._wrapped_call_impl\u001b[39m\u001b[34m(self, *args, **kwargs)\u001b[39m\n\u001b[32m   1737\u001b[39m     \u001b[38;5;28;01mreturn\u001b[39;00m \u001b[38;5;28mself\u001b[39m._compiled_call_impl(*args, **kwargs)  \u001b[38;5;66;03m# type: ignore[misc]\u001b[39;00m\n\u001b[32m   1738\u001b[39m \u001b[38;5;28;01melse\u001b[39;00m:\n\u001b[32m-> \u001b[39m\u001b[32m1739\u001b[39m     \u001b[38;5;28;01mreturn\u001b[39;00m \u001b[38;5;28;43mself\u001b[39;49m\u001b[43m.\u001b[49m\u001b[43m_call_impl\u001b[49m\u001b[43m(\u001b[49m\u001b[43m*\u001b[49m\u001b[43margs\u001b[49m\u001b[43m,\u001b[49m\u001b[43m \u001b[49m\u001b[43m*\u001b[49m\u001b[43m*\u001b[49m\u001b[43mkwargs\u001b[49m\u001b[43m)\u001b[49m\n",
      "\u001b[36mFile \u001b[39m\u001b[32mc:\\Users\\Jason\\Documents\\GitHub\\cs3244\\venv\\Lib\\site-packages\\torch\\nn\\modules\\module.py:1750\u001b[39m, in \u001b[36mModule._call_impl\u001b[39m\u001b[34m(self, *args, **kwargs)\u001b[39m\n\u001b[32m   1745\u001b[39m \u001b[38;5;66;03m# If we don't have any hooks, we want to skip the rest of the logic in\u001b[39;00m\n\u001b[32m   1746\u001b[39m \u001b[38;5;66;03m# this function, and just call forward.\u001b[39;00m\n\u001b[32m   1747\u001b[39m \u001b[38;5;28;01mif\u001b[39;00m \u001b[38;5;129;01mnot\u001b[39;00m (\u001b[38;5;28mself\u001b[39m._backward_hooks \u001b[38;5;129;01mor\u001b[39;00m \u001b[38;5;28mself\u001b[39m._backward_pre_hooks \u001b[38;5;129;01mor\u001b[39;00m \u001b[38;5;28mself\u001b[39m._forward_hooks \u001b[38;5;129;01mor\u001b[39;00m \u001b[38;5;28mself\u001b[39m._forward_pre_hooks\n\u001b[32m   1748\u001b[39m         \u001b[38;5;129;01mor\u001b[39;00m _global_backward_pre_hooks \u001b[38;5;129;01mor\u001b[39;00m _global_backward_hooks\n\u001b[32m   1749\u001b[39m         \u001b[38;5;129;01mor\u001b[39;00m _global_forward_hooks \u001b[38;5;129;01mor\u001b[39;00m _global_forward_pre_hooks):\n\u001b[32m-> \u001b[39m\u001b[32m1750\u001b[39m     \u001b[38;5;28;01mreturn\u001b[39;00m \u001b[43mforward_call\u001b[49m\u001b[43m(\u001b[49m\u001b[43m*\u001b[49m\u001b[43margs\u001b[49m\u001b[43m,\u001b[49m\u001b[43m \u001b[49m\u001b[43m*\u001b[49m\u001b[43m*\u001b[49m\u001b[43mkwargs\u001b[49m\u001b[43m)\u001b[49m\n\u001b[32m   1752\u001b[39m result = \u001b[38;5;28;01mNone\u001b[39;00m\n\u001b[32m   1753\u001b[39m called_always_called_hooks = \u001b[38;5;28mset\u001b[39m()\n",
      "\u001b[36mFile \u001b[39m\u001b[32mc:\\Users\\Jason\\Documents\\GitHub\\cs3244\\venv\\Lib\\site-packages\\transformers\\models\\bert\\modeling_bert.py:607\u001b[39m, in \u001b[36mBertEncoder.forward\u001b[39m\u001b[34m(self, hidden_states, attention_mask, head_mask, encoder_hidden_states, encoder_attention_mask, past_key_values, use_cache, output_attentions, output_hidden_states, return_dict)\u001b[39m\n\u001b[32m    596\u001b[39m     layer_outputs = \u001b[38;5;28mself\u001b[39m._gradient_checkpointing_func(\n\u001b[32m    597\u001b[39m         layer_module.\u001b[34m__call__\u001b[39m,\n\u001b[32m    598\u001b[39m         hidden_states,\n\u001b[32m   (...)\u001b[39m\u001b[32m    604\u001b[39m         output_attentions,\n\u001b[32m    605\u001b[39m     )\n\u001b[32m    606\u001b[39m \u001b[38;5;28;01melse\u001b[39;00m:\n\u001b[32m--> \u001b[39m\u001b[32m607\u001b[39m     layer_outputs = \u001b[43mlayer_module\u001b[49m\u001b[43m(\u001b[49m\n\u001b[32m    608\u001b[39m \u001b[43m        \u001b[49m\u001b[43mhidden_states\u001b[49m\u001b[43m,\u001b[49m\n\u001b[32m    609\u001b[39m \u001b[43m        \u001b[49m\u001b[43mattention_mask\u001b[49m\u001b[43m,\u001b[49m\n\u001b[32m    610\u001b[39m \u001b[43m        \u001b[49m\u001b[43mlayer_head_mask\u001b[49m\u001b[43m,\u001b[49m\n\u001b[32m    611\u001b[39m \u001b[43m        \u001b[49m\u001b[43mencoder_hidden_states\u001b[49m\u001b[43m,\u001b[49m\n\u001b[32m    612\u001b[39m \u001b[43m        \u001b[49m\u001b[43mencoder_attention_mask\u001b[49m\u001b[43m,\u001b[49m\n\u001b[32m    613\u001b[39m \u001b[43m        \u001b[49m\u001b[43mpast_key_value\u001b[49m\u001b[43m,\u001b[49m\n\u001b[32m    614\u001b[39m \u001b[43m        \u001b[49m\u001b[43moutput_attentions\u001b[49m\u001b[43m,\u001b[49m\n\u001b[32m    615\u001b[39m \u001b[43m    \u001b[49m\u001b[43m)\u001b[49m\n\u001b[32m    617\u001b[39m hidden_states = layer_outputs[\u001b[32m0\u001b[39m]\n\u001b[32m    618\u001b[39m \u001b[38;5;28;01mif\u001b[39;00m use_cache:\n",
      "\u001b[36mFile \u001b[39m\u001b[32mc:\\Users\\Jason\\Documents\\GitHub\\cs3244\\venv\\Lib\\site-packages\\torch\\nn\\modules\\module.py:1739\u001b[39m, in \u001b[36mModule._wrapped_call_impl\u001b[39m\u001b[34m(self, *args, **kwargs)\u001b[39m\n\u001b[32m   1737\u001b[39m     \u001b[38;5;28;01mreturn\u001b[39;00m \u001b[38;5;28mself\u001b[39m._compiled_call_impl(*args, **kwargs)  \u001b[38;5;66;03m# type: ignore[misc]\u001b[39;00m\n\u001b[32m   1738\u001b[39m \u001b[38;5;28;01melse\u001b[39;00m:\n\u001b[32m-> \u001b[39m\u001b[32m1739\u001b[39m     \u001b[38;5;28;01mreturn\u001b[39;00m \u001b[38;5;28;43mself\u001b[39;49m\u001b[43m.\u001b[49m\u001b[43m_call_impl\u001b[49m\u001b[43m(\u001b[49m\u001b[43m*\u001b[49m\u001b[43margs\u001b[49m\u001b[43m,\u001b[49m\u001b[43m \u001b[49m\u001b[43m*\u001b[49m\u001b[43m*\u001b[49m\u001b[43mkwargs\u001b[49m\u001b[43m)\u001b[49m\n",
      "\u001b[36mFile \u001b[39m\u001b[32mc:\\Users\\Jason\\Documents\\GitHub\\cs3244\\venv\\Lib\\site-packages\\torch\\nn\\modules\\module.py:1750\u001b[39m, in \u001b[36mModule._call_impl\u001b[39m\u001b[34m(self, *args, **kwargs)\u001b[39m\n\u001b[32m   1745\u001b[39m \u001b[38;5;66;03m# If we don't have any hooks, we want to skip the rest of the logic in\u001b[39;00m\n\u001b[32m   1746\u001b[39m \u001b[38;5;66;03m# this function, and just call forward.\u001b[39;00m\n\u001b[32m   1747\u001b[39m \u001b[38;5;28;01mif\u001b[39;00m \u001b[38;5;129;01mnot\u001b[39;00m (\u001b[38;5;28mself\u001b[39m._backward_hooks \u001b[38;5;129;01mor\u001b[39;00m \u001b[38;5;28mself\u001b[39m._backward_pre_hooks \u001b[38;5;129;01mor\u001b[39;00m \u001b[38;5;28mself\u001b[39m._forward_hooks \u001b[38;5;129;01mor\u001b[39;00m \u001b[38;5;28mself\u001b[39m._forward_pre_hooks\n\u001b[32m   1748\u001b[39m         \u001b[38;5;129;01mor\u001b[39;00m _global_backward_pre_hooks \u001b[38;5;129;01mor\u001b[39;00m _global_backward_hooks\n\u001b[32m   1749\u001b[39m         \u001b[38;5;129;01mor\u001b[39;00m _global_forward_hooks \u001b[38;5;129;01mor\u001b[39;00m _global_forward_pre_hooks):\n\u001b[32m-> \u001b[39m\u001b[32m1750\u001b[39m     \u001b[38;5;28;01mreturn\u001b[39;00m \u001b[43mforward_call\u001b[49m\u001b[43m(\u001b[49m\u001b[43m*\u001b[49m\u001b[43margs\u001b[49m\u001b[43m,\u001b[49m\u001b[43m \u001b[49m\u001b[43m*\u001b[49m\u001b[43m*\u001b[49m\u001b[43mkwargs\u001b[49m\u001b[43m)\u001b[49m\n\u001b[32m   1752\u001b[39m result = \u001b[38;5;28;01mNone\u001b[39;00m\n\u001b[32m   1753\u001b[39m called_always_called_hooks = \u001b[38;5;28mset\u001b[39m()\n",
      "\u001b[36mFile \u001b[39m\u001b[32mc:\\Users\\Jason\\Documents\\GitHub\\cs3244\\venv\\Lib\\site-packages\\transformers\\models\\bert\\modeling_bert.py:539\u001b[39m, in \u001b[36mBertLayer.forward\u001b[39m\u001b[34m(self, hidden_states, attention_mask, head_mask, encoder_hidden_states, encoder_attention_mask, past_key_value, output_attentions)\u001b[39m\n\u001b[32m    536\u001b[39m     cross_attn_present_key_value = cross_attention_outputs[-\u001b[32m1\u001b[39m]\n\u001b[32m    537\u001b[39m     present_key_value = present_key_value + cross_attn_present_key_value\n\u001b[32m--> \u001b[39m\u001b[32m539\u001b[39m layer_output = \u001b[43mapply_chunking_to_forward\u001b[49m\u001b[43m(\u001b[49m\n\u001b[32m    540\u001b[39m \u001b[43m    \u001b[49m\u001b[38;5;28;43mself\u001b[39;49m\u001b[43m.\u001b[49m\u001b[43mfeed_forward_chunk\u001b[49m\u001b[43m,\u001b[49m\u001b[43m \u001b[49m\u001b[38;5;28;43mself\u001b[39;49m\u001b[43m.\u001b[49m\u001b[43mchunk_size_feed_forward\u001b[49m\u001b[43m,\u001b[49m\u001b[43m \u001b[49m\u001b[38;5;28;43mself\u001b[39;49m\u001b[43m.\u001b[49m\u001b[43mseq_len_dim\u001b[49m\u001b[43m,\u001b[49m\u001b[43m \u001b[49m\u001b[43mattention_output\u001b[49m\n\u001b[32m    541\u001b[39m \u001b[43m\u001b[49m\u001b[43m)\u001b[49m\n\u001b[32m    542\u001b[39m outputs = (layer_output,) + outputs\n\u001b[32m    544\u001b[39m \u001b[38;5;66;03m# if decoder, return the attn key/values as the last output\u001b[39;00m\n",
      "\u001b[36mFile \u001b[39m\u001b[32mc:\\Users\\Jason\\Documents\\GitHub\\cs3244\\venv\\Lib\\site-packages\\transformers\\pytorch_utils.py:241\u001b[39m, in \u001b[36mapply_chunking_to_forward\u001b[39m\u001b[34m(forward_fn, chunk_size, chunk_dim, *input_tensors)\u001b[39m\n\u001b[32m    238\u001b[39m     \u001b[38;5;66;03m# concatenate output at same dimension\u001b[39;00m\n\u001b[32m    239\u001b[39m     \u001b[38;5;28;01mreturn\u001b[39;00m torch.cat(output_chunks, dim=chunk_dim)\n\u001b[32m--> \u001b[39m\u001b[32m241\u001b[39m \u001b[38;5;28;01mreturn\u001b[39;00m \u001b[43mforward_fn\u001b[49m\u001b[43m(\u001b[49m\u001b[43m*\u001b[49m\u001b[43minput_tensors\u001b[49m\u001b[43m)\u001b[49m\n",
      "\u001b[36mFile \u001b[39m\u001b[32mc:\\Users\\Jason\\Documents\\GitHub\\cs3244\\venv\\Lib\\site-packages\\transformers\\models\\bert\\modeling_bert.py:551\u001b[39m, in \u001b[36mBertLayer.feed_forward_chunk\u001b[39m\u001b[34m(self, attention_output)\u001b[39m\n\u001b[32m    550\u001b[39m \u001b[38;5;28;01mdef\u001b[39;00m\u001b[38;5;250m \u001b[39m\u001b[34mfeed_forward_chunk\u001b[39m(\u001b[38;5;28mself\u001b[39m, attention_output):\n\u001b[32m--> \u001b[39m\u001b[32m551\u001b[39m     intermediate_output = \u001b[38;5;28;43mself\u001b[39;49m\u001b[43m.\u001b[49m\u001b[43mintermediate\u001b[49m\u001b[43m(\u001b[49m\u001b[43mattention_output\u001b[49m\u001b[43m)\u001b[49m\n\u001b[32m    552\u001b[39m     layer_output = \u001b[38;5;28mself\u001b[39m.output(intermediate_output, attention_output)\n\u001b[32m    553\u001b[39m     \u001b[38;5;28;01mreturn\u001b[39;00m layer_output\n",
      "\u001b[36mFile \u001b[39m\u001b[32mc:\\Users\\Jason\\Documents\\GitHub\\cs3244\\venv\\Lib\\site-packages\\torch\\nn\\modules\\module.py:1739\u001b[39m, in \u001b[36mModule._wrapped_call_impl\u001b[39m\u001b[34m(self, *args, **kwargs)\u001b[39m\n\u001b[32m   1737\u001b[39m     \u001b[38;5;28;01mreturn\u001b[39;00m \u001b[38;5;28mself\u001b[39m._compiled_call_impl(*args, **kwargs)  \u001b[38;5;66;03m# type: ignore[misc]\u001b[39;00m\n\u001b[32m   1738\u001b[39m \u001b[38;5;28;01melse\u001b[39;00m:\n\u001b[32m-> \u001b[39m\u001b[32m1739\u001b[39m     \u001b[38;5;28;01mreturn\u001b[39;00m \u001b[38;5;28;43mself\u001b[39;49m\u001b[43m.\u001b[49m\u001b[43m_call_impl\u001b[49m\u001b[43m(\u001b[49m\u001b[43m*\u001b[49m\u001b[43margs\u001b[49m\u001b[43m,\u001b[49m\u001b[43m \u001b[49m\u001b[43m*\u001b[49m\u001b[43m*\u001b[49m\u001b[43mkwargs\u001b[49m\u001b[43m)\u001b[49m\n",
      "\u001b[36mFile \u001b[39m\u001b[32mc:\\Users\\Jason\\Documents\\GitHub\\cs3244\\venv\\Lib\\site-packages\\torch\\nn\\modules\\module.py:1750\u001b[39m, in \u001b[36mModule._call_impl\u001b[39m\u001b[34m(self, *args, **kwargs)\u001b[39m\n\u001b[32m   1745\u001b[39m \u001b[38;5;66;03m# If we don't have any hooks, we want to skip the rest of the logic in\u001b[39;00m\n\u001b[32m   1746\u001b[39m \u001b[38;5;66;03m# this function, and just call forward.\u001b[39;00m\n\u001b[32m   1747\u001b[39m \u001b[38;5;28;01mif\u001b[39;00m \u001b[38;5;129;01mnot\u001b[39;00m (\u001b[38;5;28mself\u001b[39m._backward_hooks \u001b[38;5;129;01mor\u001b[39;00m \u001b[38;5;28mself\u001b[39m._backward_pre_hooks \u001b[38;5;129;01mor\u001b[39;00m \u001b[38;5;28mself\u001b[39m._forward_hooks \u001b[38;5;129;01mor\u001b[39;00m \u001b[38;5;28mself\u001b[39m._forward_pre_hooks\n\u001b[32m   1748\u001b[39m         \u001b[38;5;129;01mor\u001b[39;00m _global_backward_pre_hooks \u001b[38;5;129;01mor\u001b[39;00m _global_backward_hooks\n\u001b[32m   1749\u001b[39m         \u001b[38;5;129;01mor\u001b[39;00m _global_forward_hooks \u001b[38;5;129;01mor\u001b[39;00m _global_forward_pre_hooks):\n\u001b[32m-> \u001b[39m\u001b[32m1750\u001b[39m     \u001b[38;5;28;01mreturn\u001b[39;00m \u001b[43mforward_call\u001b[49m\u001b[43m(\u001b[49m\u001b[43m*\u001b[49m\u001b[43margs\u001b[49m\u001b[43m,\u001b[49m\u001b[43m \u001b[49m\u001b[43m*\u001b[49m\u001b[43m*\u001b[49m\u001b[43mkwargs\u001b[49m\u001b[43m)\u001b[49m\n\u001b[32m   1752\u001b[39m result = \u001b[38;5;28;01mNone\u001b[39;00m\n\u001b[32m   1753\u001b[39m called_always_called_hooks = \u001b[38;5;28mset\u001b[39m()\n",
      "\u001b[36mFile \u001b[39m\u001b[32mc:\\Users\\Jason\\Documents\\GitHub\\cs3244\\venv\\Lib\\site-packages\\transformers\\models\\bert\\modeling_bert.py:451\u001b[39m, in \u001b[36mBertIntermediate.forward\u001b[39m\u001b[34m(self, hidden_states)\u001b[39m\n\u001b[32m    450\u001b[39m \u001b[38;5;28;01mdef\u001b[39;00m\u001b[38;5;250m \u001b[39m\u001b[34mforward\u001b[39m(\u001b[38;5;28mself\u001b[39m, hidden_states: torch.Tensor) -> torch.Tensor:\n\u001b[32m--> \u001b[39m\u001b[32m451\u001b[39m     hidden_states = \u001b[38;5;28;43mself\u001b[39;49m\u001b[43m.\u001b[49m\u001b[43mdense\u001b[49m\u001b[43m(\u001b[49m\u001b[43mhidden_states\u001b[49m\u001b[43m)\u001b[49m\n\u001b[32m    452\u001b[39m     hidden_states = \u001b[38;5;28mself\u001b[39m.intermediate_act_fn(hidden_states)\n\u001b[32m    453\u001b[39m     \u001b[38;5;28;01mreturn\u001b[39;00m hidden_states\n",
      "\u001b[36mFile \u001b[39m\u001b[32mc:\\Users\\Jason\\Documents\\GitHub\\cs3244\\venv\\Lib\\site-packages\\torch\\nn\\modules\\module.py:1739\u001b[39m, in \u001b[36mModule._wrapped_call_impl\u001b[39m\u001b[34m(self, *args, **kwargs)\u001b[39m\n\u001b[32m   1737\u001b[39m     \u001b[38;5;28;01mreturn\u001b[39;00m \u001b[38;5;28mself\u001b[39m._compiled_call_impl(*args, **kwargs)  \u001b[38;5;66;03m# type: ignore[misc]\u001b[39;00m\n\u001b[32m   1738\u001b[39m \u001b[38;5;28;01melse\u001b[39;00m:\n\u001b[32m-> \u001b[39m\u001b[32m1739\u001b[39m     \u001b[38;5;28;01mreturn\u001b[39;00m \u001b[38;5;28;43mself\u001b[39;49m\u001b[43m.\u001b[49m\u001b[43m_call_impl\u001b[49m\u001b[43m(\u001b[49m\u001b[43m*\u001b[49m\u001b[43margs\u001b[49m\u001b[43m,\u001b[49m\u001b[43m \u001b[49m\u001b[43m*\u001b[49m\u001b[43m*\u001b[49m\u001b[43mkwargs\u001b[49m\u001b[43m)\u001b[49m\n",
      "\u001b[36mFile \u001b[39m\u001b[32mc:\\Users\\Jason\\Documents\\GitHub\\cs3244\\venv\\Lib\\site-packages\\torch\\nn\\modules\\module.py:1750\u001b[39m, in \u001b[36mModule._call_impl\u001b[39m\u001b[34m(self, *args, **kwargs)\u001b[39m\n\u001b[32m   1745\u001b[39m \u001b[38;5;66;03m# If we don't have any hooks, we want to skip the rest of the logic in\u001b[39;00m\n\u001b[32m   1746\u001b[39m \u001b[38;5;66;03m# this function, and just call forward.\u001b[39;00m\n\u001b[32m   1747\u001b[39m \u001b[38;5;28;01mif\u001b[39;00m \u001b[38;5;129;01mnot\u001b[39;00m (\u001b[38;5;28mself\u001b[39m._backward_hooks \u001b[38;5;129;01mor\u001b[39;00m \u001b[38;5;28mself\u001b[39m._backward_pre_hooks \u001b[38;5;129;01mor\u001b[39;00m \u001b[38;5;28mself\u001b[39m._forward_hooks \u001b[38;5;129;01mor\u001b[39;00m \u001b[38;5;28mself\u001b[39m._forward_pre_hooks\n\u001b[32m   1748\u001b[39m         \u001b[38;5;129;01mor\u001b[39;00m _global_backward_pre_hooks \u001b[38;5;129;01mor\u001b[39;00m _global_backward_hooks\n\u001b[32m   1749\u001b[39m         \u001b[38;5;129;01mor\u001b[39;00m _global_forward_hooks \u001b[38;5;129;01mor\u001b[39;00m _global_forward_pre_hooks):\n\u001b[32m-> \u001b[39m\u001b[32m1750\u001b[39m     \u001b[38;5;28;01mreturn\u001b[39;00m \u001b[43mforward_call\u001b[49m\u001b[43m(\u001b[49m\u001b[43m*\u001b[49m\u001b[43margs\u001b[49m\u001b[43m,\u001b[49m\u001b[43m \u001b[49m\u001b[43m*\u001b[49m\u001b[43m*\u001b[49m\u001b[43mkwargs\u001b[49m\u001b[43m)\u001b[49m\n\u001b[32m   1752\u001b[39m result = \u001b[38;5;28;01mNone\u001b[39;00m\n\u001b[32m   1753\u001b[39m called_always_called_hooks = \u001b[38;5;28mset\u001b[39m()\n",
      "\u001b[36mFile \u001b[39m\u001b[32mc:\\Users\\Jason\\Documents\\GitHub\\cs3244\\venv\\Lib\\site-packages\\torch\\nn\\modules\\linear.py:125\u001b[39m, in \u001b[36mLinear.forward\u001b[39m\u001b[34m(self, input)\u001b[39m\n\u001b[32m    124\u001b[39m \u001b[38;5;28;01mdef\u001b[39;00m\u001b[38;5;250m \u001b[39m\u001b[34mforward\u001b[39m(\u001b[38;5;28mself\u001b[39m, \u001b[38;5;28minput\u001b[39m: Tensor) -> Tensor:\n\u001b[32m--> \u001b[39m\u001b[32m125\u001b[39m     \u001b[38;5;28;01mreturn\u001b[39;00m \u001b[43mF\u001b[49m\u001b[43m.\u001b[49m\u001b[43mlinear\u001b[49m\u001b[43m(\u001b[49m\u001b[38;5;28;43minput\u001b[39;49m\u001b[43m,\u001b[49m\u001b[43m \u001b[49m\u001b[38;5;28;43mself\u001b[39;49m\u001b[43m.\u001b[49m\u001b[43mweight\u001b[49m\u001b[43m,\u001b[49m\u001b[43m \u001b[49m\u001b[38;5;28;43mself\u001b[39;49m\u001b[43m.\u001b[49m\u001b[43mbias\u001b[49m\u001b[43m)\u001b[49m\n",
      "\u001b[31mKeyboardInterrupt\u001b[39m: "
     ]
    }
   ],
   "source": [
    "loaded_data = {}\n",
    "\n",
    "def process_and_store_embeddings(split_name, df):\n",
    "    print(f\"Generating embeddings for all {split_name} tweets...\")\n",
    "    \n",
    "    embeddings = [get_bert_embedding(text) for text in tqdm(df['text'])]\n",
    "    embeddings_array = np.array(embeddings)\n",
    "    embeddings_filename = f\"{split_name}_embeddings.npy\"\n",
    "    loaded_data[embeddings_filename] = embeddings_array\n",
    "\n",
    "    df_out = df[['text', 'label']].copy()\n",
    "    df_out['embedding_file'] = embeddings_filename\n",
    "    df_out['embedding_index'] = range(len(df))\n",
    "    \n",
    "    csv_filename = f\"{split_name}_with_embeddings.csv\"\n",
    "    loaded_data[csv_filename] = df_out\n",
    "\n",
    "# Process train, test, and valid\n",
    "process_and_store_embeddings('train', train)\n",
    "process_and_store_embeddings('test', test)\n",
    "process_and_store_embeddings('valid', valid)\n"
   ]
  },
  {
   "cell_type": "markdown",
   "metadata": {},
   "source": [
    "### 5. Baseline Model Training 🏋️"
   ]
  },
  {
   "cell_type": "code",
   "execution_count": 23,
   "metadata": {},
   "outputs": [
    {
     "name": "stdout",
     "output_type": "stream",
     "text": [
      "dict_keys(['unprocessed_test.csv', 'unprocessed_train.csv', 'unprocessed_valid.csv', 'test_embeddings.npy', 'train_embeddings.npy', 'valid_embeddings.npy', 'train.csv', 'valid.csv', 'test.csv'])\n"
     ]
    }
   ],
   "source": [
    "print(loaded_data.keys())"
   ]
  },
  {
   "cell_type": "markdown",
   "metadata": {},
   "source": [
    "Before we do any of the model training, probably best to explcitly define the data based on train-test-valid, instead of relying on just loaded_data."
   ]
  },
  {
   "cell_type": "code",
   "execution_count": 24,
   "metadata": {},
   "outputs": [],
   "source": [
    "train_df = loaded_data['train.csv']\n",
    "valid_df = loaded_data['valid.csv']\n",
    "test_df  = loaded_data['test.csv']\n",
    "\n",
    "X_train_full = loaded_data['train_embeddings.npy']\n",
    "X_valid_full = loaded_data['valid_embeddings.npy']\n",
    "X_test_full  = loaded_data['test_embeddings.npy']\n",
    "\n",
    "X_train = np.array([X_train_full[i] for i in train_df['embedding_index']])\n",
    "y_train = train_df['label'].values\n",
    "\n",
    "X_valid = np.array([X_valid_full[i] for i in valid_df['embedding_index']])\n",
    "y_valid = valid_df['label'].values\n",
    "\n",
    "X_test = np.array([X_test_full[i] for i in test_df['embedding_index']])\n",
    "y_test = test_df['label'].values\n",
    "\n",
    "# for models tht need scaling\n",
    "scaler = StandardScaler()\n",
    "X_train_scaled = scaler.fit_transform(X_train)\n",
    "X_valid_scaled = scaler.transform(X_valid)\n",
    "X_test_scaled = scaler.transform(X_test)\n",
    "\n",
    "#L2 normalisation - for models that need normalisation\n",
    "from sklearn.preprocessing import Normalizer\n",
    "normalizer = Normalizer(norm='l2')\n",
    "X_train_normalised = normalizer.fit_transform(X_train)\n",
    "X_valid_normalised = normalizer.fit_transform(X_valid)\n",
    "X_test_normalised = normalizer.transform(X_test)\n",
    "\n",
    "from imblearn.over_sampling import SMOTE\n",
    "class_counts = np.bincount(y_train)\n",
    "smote = SMOTE(sampling_strategy={i: class_counts[0] for i in range(len(class_counts))}, random_state=42)\n",
    "train_X_smote,train_Y_smote = smote.fit_resample(X_train_normalised, y_train)\n"
   ]
  },
  {
   "cell_type": "markdown",
   "metadata": {},
   "source": [
    "##### 5.1 Decision Tree Approach"
   ]
  },
  {
   "cell_type": "markdown",
   "metadata": {},
   "source": [
    "5.1.1 Baseline DT"
   ]
  },
  {
   "cell_type": "code",
   "execution_count": 13,
   "metadata": {},
   "outputs": [
    {
     "name": "stdout",
     "output_type": "stream",
     "text": [
      "Train F1 Macro: 0.9803631507990213\n",
      "Validation F1 Macro: 0.29824969735299206\n",
      "Test F1 Macro: 0.30043339795694646\n"
     ]
    }
   ],
   "source": [
    "clf = DecisionTreeClassifier(random_state=42)\n",
    "clf.fit(X_train, y_train)\n",
    "\n",
    "# Evaluate on the train set\n",
    "y_train_pred = clf.predict(X_train)\n",
    "train_f1_macro = f1_score(y_train, y_train_pred, average='macro')  \n",
    "print(\"Train F1 Macro:\", train_f1_macro)\n",
    "\n",
    "# Evaluate on the validation set\n",
    "y_valid_pred = clf.predict(X_valid)\n",
    "valid_f1_macro = f1_score(y_valid, y_valid_pred, average='macro')  \n",
    "print(\"Validation F1 Macro:\", valid_f1_macro)\n",
    "\n",
    "# Evaluate on the test set\n",
    "y_test_pred = clf.predict(X_test)\n",
    "test_f1_macro = f1_score(y_test, y_test_pred, average='macro')  \n",
    "print(\"Test F1 Macro:\", test_f1_macro)\n",
    "\n",
    "# The model overfits on the train data"
   ]
  },
  {
   "cell_type": "markdown",
   "metadata": {},
   "source": [
    "5.1.2. Pre-Pruning"
   ]
  },
  {
   "cell_type": "code",
   "execution_count": 14,
   "metadata": {},
   "outputs": [
    {
     "ename": "KeyboardInterrupt",
     "evalue": "",
     "output_type": "error",
     "traceback": [
      "\u001b[31m---------------------------------------------------------------------------\u001b[39m",
      "\u001b[31mKeyboardInterrupt\u001b[39m                         Traceback (most recent call last)",
      "\u001b[36mCell\u001b[39m\u001b[36m \u001b[39m\u001b[32mIn[14]\u001b[39m\u001b[32m, line 12\u001b[39m\n\u001b[32m      8\u001b[39m \u001b[38;5;66;03m# Use RandomizedSearchCV on the training set\u001b[39;00m\n\u001b[32m      9\u001b[39m random_search = RandomizedSearchCV(clf, param_distributions=param_grid,\n\u001b[32m     10\u001b[39m                                    n_iter=\u001b[32m20\u001b[39m, cv=\u001b[32m5\u001b[39m, scoring=\u001b[33m'\u001b[39m\u001b[33mf1_macro\u001b[39m\u001b[33m'\u001b[39m,\n\u001b[32m     11\u001b[39m                                    random_state=\u001b[32m42\u001b[39m, n_jobs=\u001b[32m12\u001b[39m)\n\u001b[32m---> \u001b[39m\u001b[32m12\u001b[39m \u001b[43mrandom_search\u001b[49m\u001b[43m.\u001b[49m\u001b[43mfit\u001b[49m\u001b[43m(\u001b[49m\u001b[43mX_train\u001b[49m\u001b[43m,\u001b[49m\u001b[43m \u001b[49m\u001b[43my_train\u001b[49m\u001b[43m)\u001b[49m\n\u001b[32m     14\u001b[39m \u001b[38;5;28mprint\u001b[39m(\u001b[33m\"\u001b[39m\u001b[33mBest Parameters from training:\u001b[39m\u001b[33m\"\u001b[39m, random_search.best_params_)\n\u001b[32m     16\u001b[39m \u001b[38;5;66;03m# Evaluate on the train set\u001b[39;00m\n",
      "\u001b[36mFile \u001b[39m\u001b[32mc:\\Users\\Jason\\Documents\\GitHub\\cs3244\\venv\\Lib\\site-packages\\sklearn\\base.py:1389\u001b[39m, in \u001b[36m_fit_context.<locals>.decorator.<locals>.wrapper\u001b[39m\u001b[34m(estimator, *args, **kwargs)\u001b[39m\n\u001b[32m   1382\u001b[39m     estimator._validate_params()\n\u001b[32m   1384\u001b[39m \u001b[38;5;28;01mwith\u001b[39;00m config_context(\n\u001b[32m   1385\u001b[39m     skip_parameter_validation=(\n\u001b[32m   1386\u001b[39m         prefer_skip_nested_validation \u001b[38;5;129;01mor\u001b[39;00m global_skip_validation\n\u001b[32m   1387\u001b[39m     )\n\u001b[32m   1388\u001b[39m ):\n\u001b[32m-> \u001b[39m\u001b[32m1389\u001b[39m     \u001b[38;5;28;01mreturn\u001b[39;00m \u001b[43mfit_method\u001b[49m\u001b[43m(\u001b[49m\u001b[43mestimator\u001b[49m\u001b[43m,\u001b[49m\u001b[43m \u001b[49m\u001b[43m*\u001b[49m\u001b[43margs\u001b[49m\u001b[43m,\u001b[49m\u001b[43m \u001b[49m\u001b[43m*\u001b[49m\u001b[43m*\u001b[49m\u001b[43mkwargs\u001b[49m\u001b[43m)\u001b[49m\n",
      "\u001b[36mFile \u001b[39m\u001b[32mc:\\Users\\Jason\\Documents\\GitHub\\cs3244\\venv\\Lib\\site-packages\\sklearn\\model_selection\\_search.py:1024\u001b[39m, in \u001b[36mBaseSearchCV.fit\u001b[39m\u001b[34m(self, X, y, **params)\u001b[39m\n\u001b[32m   1018\u001b[39m     results = \u001b[38;5;28mself\u001b[39m._format_results(\n\u001b[32m   1019\u001b[39m         all_candidate_params, n_splits, all_out, all_more_results\n\u001b[32m   1020\u001b[39m     )\n\u001b[32m   1022\u001b[39m     \u001b[38;5;28;01mreturn\u001b[39;00m results\n\u001b[32m-> \u001b[39m\u001b[32m1024\u001b[39m \u001b[38;5;28;43mself\u001b[39;49m\u001b[43m.\u001b[49m\u001b[43m_run_search\u001b[49m\u001b[43m(\u001b[49m\u001b[43mevaluate_candidates\u001b[49m\u001b[43m)\u001b[49m\n\u001b[32m   1026\u001b[39m \u001b[38;5;66;03m# multimetric is determined here because in the case of a callable\u001b[39;00m\n\u001b[32m   1027\u001b[39m \u001b[38;5;66;03m# self.scoring the return type is only known after calling\u001b[39;00m\n\u001b[32m   1028\u001b[39m first_test_score = all_out[\u001b[32m0\u001b[39m][\u001b[33m\"\u001b[39m\u001b[33mtest_scores\u001b[39m\u001b[33m\"\u001b[39m]\n",
      "\u001b[36mFile \u001b[39m\u001b[32mc:\\Users\\Jason\\Documents\\GitHub\\cs3244\\venv\\Lib\\site-packages\\sklearn\\model_selection\\_search.py:1951\u001b[39m, in \u001b[36mRandomizedSearchCV._run_search\u001b[39m\u001b[34m(self, evaluate_candidates)\u001b[39m\n\u001b[32m   1949\u001b[39m \u001b[38;5;28;01mdef\u001b[39;00m\u001b[38;5;250m \u001b[39m\u001b[34m_run_search\u001b[39m(\u001b[38;5;28mself\u001b[39m, evaluate_candidates):\n\u001b[32m   1950\u001b[39m \u001b[38;5;250m    \u001b[39m\u001b[33;03m\"\"\"Search n_iter candidates from param_distributions\"\"\"\u001b[39;00m\n\u001b[32m-> \u001b[39m\u001b[32m1951\u001b[39m     \u001b[43mevaluate_candidates\u001b[49m\u001b[43m(\u001b[49m\n\u001b[32m   1952\u001b[39m \u001b[43m        \u001b[49m\u001b[43mParameterSampler\u001b[49m\u001b[43m(\u001b[49m\n\u001b[32m   1953\u001b[39m \u001b[43m            \u001b[49m\u001b[38;5;28;43mself\u001b[39;49m\u001b[43m.\u001b[49m\u001b[43mparam_distributions\u001b[49m\u001b[43m,\u001b[49m\u001b[43m \u001b[49m\u001b[38;5;28;43mself\u001b[39;49m\u001b[43m.\u001b[49m\u001b[43mn_iter\u001b[49m\u001b[43m,\u001b[49m\u001b[43m \u001b[49m\u001b[43mrandom_state\u001b[49m\u001b[43m=\u001b[49m\u001b[38;5;28;43mself\u001b[39;49m\u001b[43m.\u001b[49m\u001b[43mrandom_state\u001b[49m\n\u001b[32m   1954\u001b[39m \u001b[43m        \u001b[49m\u001b[43m)\u001b[49m\n\u001b[32m   1955\u001b[39m \u001b[43m    \u001b[49m\u001b[43m)\u001b[49m\n",
      "\u001b[36mFile \u001b[39m\u001b[32mc:\\Users\\Jason\\Documents\\GitHub\\cs3244\\venv\\Lib\\site-packages\\sklearn\\model_selection\\_search.py:970\u001b[39m, in \u001b[36mBaseSearchCV.fit.<locals>.evaluate_candidates\u001b[39m\u001b[34m(candidate_params, cv, more_results)\u001b[39m\n\u001b[32m    962\u001b[39m \u001b[38;5;28;01mif\u001b[39;00m \u001b[38;5;28mself\u001b[39m.verbose > \u001b[32m0\u001b[39m:\n\u001b[32m    963\u001b[39m     \u001b[38;5;28mprint\u001b[39m(\n\u001b[32m    964\u001b[39m         \u001b[33m\"\u001b[39m\u001b[33mFitting \u001b[39m\u001b[38;5;132;01m{0}\u001b[39;00m\u001b[33m folds for each of \u001b[39m\u001b[38;5;132;01m{1}\u001b[39;00m\u001b[33m candidates,\u001b[39m\u001b[33m\"\u001b[39m\n\u001b[32m    965\u001b[39m         \u001b[33m\"\u001b[39m\u001b[33m totalling \u001b[39m\u001b[38;5;132;01m{2}\u001b[39;00m\u001b[33m fits\u001b[39m\u001b[33m\"\u001b[39m.format(\n\u001b[32m    966\u001b[39m             n_splits, n_candidates, n_candidates * n_splits\n\u001b[32m    967\u001b[39m         )\n\u001b[32m    968\u001b[39m     )\n\u001b[32m--> \u001b[39m\u001b[32m970\u001b[39m out = \u001b[43mparallel\u001b[49m\u001b[43m(\u001b[49m\n\u001b[32m    971\u001b[39m \u001b[43m    \u001b[49m\u001b[43mdelayed\u001b[49m\u001b[43m(\u001b[49m\u001b[43m_fit_and_score\u001b[49m\u001b[43m)\u001b[49m\u001b[43m(\u001b[49m\n\u001b[32m    972\u001b[39m \u001b[43m        \u001b[49m\u001b[43mclone\u001b[49m\u001b[43m(\u001b[49m\u001b[43mbase_estimator\u001b[49m\u001b[43m)\u001b[49m\u001b[43m,\u001b[49m\n\u001b[32m    973\u001b[39m \u001b[43m        \u001b[49m\u001b[43mX\u001b[49m\u001b[43m,\u001b[49m\n\u001b[32m    974\u001b[39m \u001b[43m        \u001b[49m\u001b[43my\u001b[49m\u001b[43m,\u001b[49m\n\u001b[32m    975\u001b[39m \u001b[43m        \u001b[49m\u001b[43mtrain\u001b[49m\u001b[43m=\u001b[49m\u001b[43mtrain\u001b[49m\u001b[43m,\u001b[49m\n\u001b[32m    976\u001b[39m \u001b[43m        \u001b[49m\u001b[43mtest\u001b[49m\u001b[43m=\u001b[49m\u001b[43mtest\u001b[49m\u001b[43m,\u001b[49m\n\u001b[32m    977\u001b[39m \u001b[43m        \u001b[49m\u001b[43mparameters\u001b[49m\u001b[43m=\u001b[49m\u001b[43mparameters\u001b[49m\u001b[43m,\u001b[49m\n\u001b[32m    978\u001b[39m \u001b[43m        \u001b[49m\u001b[43msplit_progress\u001b[49m\u001b[43m=\u001b[49m\u001b[43m(\u001b[49m\u001b[43msplit_idx\u001b[49m\u001b[43m,\u001b[49m\u001b[43m \u001b[49m\u001b[43mn_splits\u001b[49m\u001b[43m)\u001b[49m\u001b[43m,\u001b[49m\n\u001b[32m    979\u001b[39m \u001b[43m        \u001b[49m\u001b[43mcandidate_progress\u001b[49m\u001b[43m=\u001b[49m\u001b[43m(\u001b[49m\u001b[43mcand_idx\u001b[49m\u001b[43m,\u001b[49m\u001b[43m \u001b[49m\u001b[43mn_candidates\u001b[49m\u001b[43m)\u001b[49m\u001b[43m,\u001b[49m\n\u001b[32m    980\u001b[39m \u001b[43m        \u001b[49m\u001b[43m*\u001b[49m\u001b[43m*\u001b[49m\u001b[43mfit_and_score_kwargs\u001b[49m\u001b[43m,\u001b[49m\n\u001b[32m    981\u001b[39m \u001b[43m    \u001b[49m\u001b[43m)\u001b[49m\n\u001b[32m    982\u001b[39m \u001b[43m    \u001b[49m\u001b[38;5;28;43;01mfor\u001b[39;49;00m\u001b[43m \u001b[49m\u001b[43m(\u001b[49m\u001b[43mcand_idx\u001b[49m\u001b[43m,\u001b[49m\u001b[43m \u001b[49m\u001b[43mparameters\u001b[49m\u001b[43m)\u001b[49m\u001b[43m,\u001b[49m\u001b[43m \u001b[49m\u001b[43m(\u001b[49m\u001b[43msplit_idx\u001b[49m\u001b[43m,\u001b[49m\u001b[43m \u001b[49m\u001b[43m(\u001b[49m\u001b[43mtrain\u001b[49m\u001b[43m,\u001b[49m\u001b[43m \u001b[49m\u001b[43mtest\u001b[49m\u001b[43m)\u001b[49m\u001b[43m)\u001b[49m\u001b[43m \u001b[49m\u001b[38;5;129;43;01min\u001b[39;49;00m\u001b[43m \u001b[49m\u001b[43mproduct\u001b[49m\u001b[43m(\u001b[49m\n\u001b[32m    983\u001b[39m \u001b[43m        \u001b[49m\u001b[38;5;28;43menumerate\u001b[39;49m\u001b[43m(\u001b[49m\u001b[43mcandidate_params\u001b[49m\u001b[43m)\u001b[49m\u001b[43m,\u001b[49m\n\u001b[32m    984\u001b[39m \u001b[43m        \u001b[49m\u001b[38;5;28;43menumerate\u001b[39;49m\u001b[43m(\u001b[49m\u001b[43mcv\u001b[49m\u001b[43m.\u001b[49m\u001b[43msplit\u001b[49m\u001b[43m(\u001b[49m\u001b[43mX\u001b[49m\u001b[43m,\u001b[49m\u001b[43m \u001b[49m\u001b[43my\u001b[49m\u001b[43m,\u001b[49m\u001b[43m \u001b[49m\u001b[43m*\u001b[49m\u001b[43m*\u001b[49m\u001b[43mrouted_params\u001b[49m\u001b[43m.\u001b[49m\u001b[43msplitter\u001b[49m\u001b[43m.\u001b[49m\u001b[43msplit\u001b[49m\u001b[43m)\u001b[49m\u001b[43m)\u001b[49m\u001b[43m,\u001b[49m\n\u001b[32m    985\u001b[39m \u001b[43m    \u001b[49m\u001b[43m)\u001b[49m\n\u001b[32m    986\u001b[39m \u001b[43m\u001b[49m\u001b[43m)\u001b[49m\n\u001b[32m    988\u001b[39m \u001b[38;5;28;01mif\u001b[39;00m \u001b[38;5;28mlen\u001b[39m(out) < \u001b[32m1\u001b[39m:\n\u001b[32m    989\u001b[39m     \u001b[38;5;28;01mraise\u001b[39;00m \u001b[38;5;167;01mValueError\u001b[39;00m(\n\u001b[32m    990\u001b[39m         \u001b[33m\"\u001b[39m\u001b[33mNo fits were performed. \u001b[39m\u001b[33m\"\u001b[39m\n\u001b[32m    991\u001b[39m         \u001b[33m\"\u001b[39m\u001b[33mWas the CV iterator empty? \u001b[39m\u001b[33m\"\u001b[39m\n\u001b[32m    992\u001b[39m         \u001b[33m\"\u001b[39m\u001b[33mWere there no candidates?\u001b[39m\u001b[33m\"\u001b[39m\n\u001b[32m    993\u001b[39m     )\n",
      "\u001b[36mFile \u001b[39m\u001b[32mc:\\Users\\Jason\\Documents\\GitHub\\cs3244\\venv\\Lib\\site-packages\\sklearn\\utils\\parallel.py:77\u001b[39m, in \u001b[36mParallel.__call__\u001b[39m\u001b[34m(self, iterable)\u001b[39m\n\u001b[32m     72\u001b[39m config = get_config()\n\u001b[32m     73\u001b[39m iterable_with_config = (\n\u001b[32m     74\u001b[39m     (_with_config(delayed_func, config), args, kwargs)\n\u001b[32m     75\u001b[39m     \u001b[38;5;28;01mfor\u001b[39;00m delayed_func, args, kwargs \u001b[38;5;129;01min\u001b[39;00m iterable\n\u001b[32m     76\u001b[39m )\n\u001b[32m---> \u001b[39m\u001b[32m77\u001b[39m \u001b[38;5;28;01mreturn\u001b[39;00m \u001b[38;5;28;43msuper\u001b[39;49m\u001b[43m(\u001b[49m\u001b[43m)\u001b[49m\u001b[43m.\u001b[49m\u001b[34;43m__call__\u001b[39;49m\u001b[43m(\u001b[49m\u001b[43miterable_with_config\u001b[49m\u001b[43m)\u001b[49m\n",
      "\u001b[36mFile \u001b[39m\u001b[32mc:\\Users\\Jason\\Documents\\GitHub\\cs3244\\venv\\Lib\\site-packages\\joblib\\parallel.py:2007\u001b[39m, in \u001b[36mParallel.__call__\u001b[39m\u001b[34m(self, iterable)\u001b[39m\n\u001b[32m   2001\u001b[39m \u001b[38;5;66;03m# The first item from the output is blank, but it makes the interpreter\u001b[39;00m\n\u001b[32m   2002\u001b[39m \u001b[38;5;66;03m# progress until it enters the Try/Except block of the generator and\u001b[39;00m\n\u001b[32m   2003\u001b[39m \u001b[38;5;66;03m# reaches the first `yield` statement. This starts the asynchronous\u001b[39;00m\n\u001b[32m   2004\u001b[39m \u001b[38;5;66;03m# dispatch of the tasks to the workers.\u001b[39;00m\n\u001b[32m   2005\u001b[39m \u001b[38;5;28mnext\u001b[39m(output)\n\u001b[32m-> \u001b[39m\u001b[32m2007\u001b[39m \u001b[38;5;28;01mreturn\u001b[39;00m output \u001b[38;5;28;01mif\u001b[39;00m \u001b[38;5;28mself\u001b[39m.return_generator \u001b[38;5;28;01melse\u001b[39;00m \u001b[38;5;28;43mlist\u001b[39;49m\u001b[43m(\u001b[49m\u001b[43moutput\u001b[49m\u001b[43m)\u001b[49m\n",
      "\u001b[36mFile \u001b[39m\u001b[32mc:\\Users\\Jason\\Documents\\GitHub\\cs3244\\venv\\Lib\\site-packages\\joblib\\parallel.py:1650\u001b[39m, in \u001b[36mParallel._get_outputs\u001b[39m\u001b[34m(self, iterator, pre_dispatch)\u001b[39m\n\u001b[32m   1647\u001b[39m     \u001b[38;5;28;01myield\u001b[39;00m\n\u001b[32m   1649\u001b[39m     \u001b[38;5;28;01mwith\u001b[39;00m \u001b[38;5;28mself\u001b[39m._backend.retrieval_context():\n\u001b[32m-> \u001b[39m\u001b[32m1650\u001b[39m         \u001b[38;5;28;01myield from\u001b[39;00m \u001b[38;5;28mself\u001b[39m._retrieve()\n\u001b[32m   1652\u001b[39m \u001b[38;5;28;01mexcept\u001b[39;00m \u001b[38;5;167;01mGeneratorExit\u001b[39;00m:\n\u001b[32m   1653\u001b[39m     \u001b[38;5;66;03m# The generator has been garbage collected before being fully\u001b[39;00m\n\u001b[32m   1654\u001b[39m     \u001b[38;5;66;03m# consumed. This aborts the remaining tasks if possible and warn\u001b[39;00m\n\u001b[32m   1655\u001b[39m     \u001b[38;5;66;03m# the user if necessary.\u001b[39;00m\n\u001b[32m   1656\u001b[39m     \u001b[38;5;28mself\u001b[39m._exception = \u001b[38;5;28;01mTrue\u001b[39;00m\n",
      "\u001b[36mFile \u001b[39m\u001b[32mc:\\Users\\Jason\\Documents\\GitHub\\cs3244\\venv\\Lib\\site-packages\\joblib\\parallel.py:1762\u001b[39m, in \u001b[36mParallel._retrieve\u001b[39m\u001b[34m(self)\u001b[39m\n\u001b[32m   1757\u001b[39m \u001b[38;5;66;03m# If the next job is not ready for retrieval yet, we just wait for\u001b[39;00m\n\u001b[32m   1758\u001b[39m \u001b[38;5;66;03m# async callbacks to progress.\u001b[39;00m\n\u001b[32m   1759\u001b[39m \u001b[38;5;28;01mif\u001b[39;00m ((\u001b[38;5;28mlen\u001b[39m(\u001b[38;5;28mself\u001b[39m._jobs) == \u001b[32m0\u001b[39m) \u001b[38;5;129;01mor\u001b[39;00m\n\u001b[32m   1760\u001b[39m     (\u001b[38;5;28mself\u001b[39m._jobs[\u001b[32m0\u001b[39m].get_status(\n\u001b[32m   1761\u001b[39m         timeout=\u001b[38;5;28mself\u001b[39m.timeout) == TASK_PENDING)):\n\u001b[32m-> \u001b[39m\u001b[32m1762\u001b[39m     \u001b[43mtime\u001b[49m\u001b[43m.\u001b[49m\u001b[43msleep\u001b[49m\u001b[43m(\u001b[49m\u001b[32;43m0.01\u001b[39;49m\u001b[43m)\u001b[49m\n\u001b[32m   1763\u001b[39m     \u001b[38;5;28;01mcontinue\u001b[39;00m\n\u001b[32m   1765\u001b[39m \u001b[38;5;66;03m# We need to be careful: the job list can be filling up as\u001b[39;00m\n\u001b[32m   1766\u001b[39m \u001b[38;5;66;03m# we empty it and Python list are not thread-safe by\u001b[39;00m\n\u001b[32m   1767\u001b[39m \u001b[38;5;66;03m# default hence the use of the lock\u001b[39;00m\n",
      "\u001b[31mKeyboardInterrupt\u001b[39m: "
     ]
    }
   ],
   "source": [
    "# Using RandomGridSearch this time\n",
    "param_grid = {\n",
    "    'max_depth': [None, 10, 20, 30],\n",
    "    'min_samples_split': [2, 5, 10],\n",
    "    'min_samples_leaf': [1, 2, 4],\n",
    "}\n",
    "\n",
    "# Use RandomizedSearchCV on the training set\n",
    "random_search = RandomizedSearchCV(clf, param_distributions=param_grid,\n",
    "                                   n_iter=20, cv=5, scoring='f1_macro',\n",
    "                                   random_state=42, n_jobs=12)\n",
    "random_search.fit(X_train, y_train)\n",
    "\n",
    "print(\"Best Parameters from training:\", random_search.best_params_)\n",
    "\n",
    "# Evaluate on the train set\n",
    "train_f1_macro = f1_score(y_train, random_search.best_estimator_.predict(X_train), average='macro')\n",
    "print(\"Train F1 Macro:\", train_f1_macro)\n",
    "\n",
    "# Evaluate on the validation set\n",
    "valid_f1_macro = f1_score(y_valid, random_search.best_estimator_.predict(X_valid), average='macro')\n",
    "print(\"Validation F1 Macro:\", valid_f1_macro)\n",
    "\n",
    "# Evaluate on the test set\n",
    "test_f1_macro = f1_score(y_test, random_search.best_estimator_.predict(X_test), average='macro')\n",
    "print(\"Test F1 Macro:\", test_f1_macro)"
   ]
  },
  {
   "cell_type": "markdown",
   "metadata": {},
   "source": [
    "5.1.3. Post-Pruning (Cost-Complexity Pruning)"
   ]
  },
  {
   "cell_type": "code",
   "execution_count": null,
   "metadata": {},
   "outputs": [],
   "source": [
    "path = clf.cost_complexity_pruning_path(X_train, y_train)\n",
    "ccp_alphas = path.ccp_alphas\n",
    "impurities = path.impurities\n",
    "\n",
    "print(\"Number of candidate alphas:\", len(ccp_alphas))\n",
    "# Too much alphas to try, we'll randomly select 40 alphas\n",
    "\n",
    "ccp_alphas = ccp_alphas[:-1]\n",
    "ccp_alphas = np.maximum(ccp_alphas, 0)\n",
    "\n",
    "# number of unique alphas\n",
    "unique_alphas = np.unique(ccp_alphas)\n",
    "unique_alphas = np.sort(unique_alphas)\n",
    "print(\"Number of unique candidate alphas:\", len(unique_alphas))\n",
    "\n",
    "# The distribution of the alphas is not even, so we can't just randomly sampling it or choose with uniform step size\n",
    "num_samples_last = 20  # from the last 100\n",
    "num_samples_rest = 20  # from the rest of the alphas\n",
    "\n",
    "last_100 = unique_alphas[-100:]\n",
    "rest = unique_alphas[:-100]\n",
    "\n",
    "step_last = len(last_100) // num_samples_last\n",
    "sampled_last = last_100[::step_last][:num_samples_last]\n",
    "\n",
    "step_rest = len(rest) // num_samples_rest\n",
    "sampled_rest = rest[::step_rest][:num_samples_rest]\n",
    "\n",
    "# Combine the two samples and sort them\n",
    "sampled_alphas = np.sort(np.concatenate((sampled_rest, sampled_last)))\n",
    "print(\"Number of candidate alphas being used:\", len(sampled_alphas))\n",
    "print(\"Sampled alphas:\", sampled_alphas)\n",
    "\n",
    "def train_tree(ccp_alpha):\n",
    "    clf_temp = DecisionTreeClassifier(random_state=42, ccp_alpha=ccp_alpha)\n",
    "    clf_temp.fit(X_train, y_train)\n",
    "    return clf_temp\n",
    "\n",
    "# Parallelize the training over candidate alphas using more cores\n",
    "clfs = Parallel(n_jobs=12)(delayed(train_tree)(alpha) for alpha in sampled_alphas)\n",
    "\n",
    "# Compute training and validation F1 macro score for each pruned tree\n",
    "train_scores = [f1_score(y_train, clf_temp.predict(X_train), average='macro') for clf_temp in clfs]\n",
    "valid_scores = [f1_score(y_valid, clf_temp.predict(X_valid), average='macro') for clf_temp in clfs]\n",
    "\n",
    "# Print train and validation F1 macro score for each candidate alpha\n",
    "for alpha, train_f1, valid_f1 in zip(sampled_alphas, train_scores, valid_scores):\n",
    "    print(f\"Alpha: {alpha:.5f} | Train F1 Macro: {train_f1:.4f} | Validation F1 Macro: {valid_f1:.4f}\")\n",
    "\n",
    "# Select the alpha that gives the highest validation accuracy\n",
    "optimal_idx = np.argmax(valid_scores)\n",
    "optimal_alpha = sampled_alphas[optimal_idx]\n",
    "best_clf = clfs[optimal_idx]\n",
    "\n",
    "print(\"\\nOptimal ccp_alpha:\", optimal_alpha)\n",
    "print(\"Best Train F1 Macro with optimal alpha:\", train_scores[optimal_idx])\n",
    "print(\"Validation F1 Macro with optimal alpha:\", valid_scores[optimal_idx])\n",
    "\n",
    "# Evaluate the best pruned tree on the test set\n",
    "test_f1 = f1_score(y_test, best_clf.predict(X_test), average='macro')\n",
    "print(\"Test F1 Macro with optimal alpha:\", test_f1)\n",
    "\n",
    "# Plot validation F1 macro score vs effective alpha\n",
    "plt.figure(figsize=(8, 6))\n",
    "plt.plot(sampled_alphas, valid_scores, marker='o', drawstyle=\"steps-post\")\n",
    "plt.xlabel(\"Effective Alpha (ccp_alpha)\")\n",
    "plt.ylabel(\"Validation F1 Macro Score\")\n",
    "plt.title(\"Validation F1 Macro vs. Effective Alpha\")\n",
    "plt.show()"
   ]
  },
  {
   "cell_type": "markdown",
   "metadata": {},
   "source": [
    "5.1.3 Random Forest"
   ]
  },
  {
   "cell_type": "code",
   "execution_count": null,
   "metadata": {},
   "outputs": [],
   "source": [
    "rf = RandomForestClassifier(random_state=42, n_jobs=12)\n",
    "rf.fit(X_train, y_train)\n",
    "\n",
    "# Evaluate on the train set using F1 macro score\n",
    "train_f1_rf = f1_score(y_train, rf.predict(X_train), average='macro')\n",
    "valid_f1_rf = f1_score(y_valid, rf.predict(X_valid), average='macro')\n",
    "test_f1_rf = f1_score(y_test, rf.predict(X_test), average='macro')\n",
    "\n",
    "print(\"Random Forest Classifier:\")\n",
    "print(\"Train F1 Macro:\", train_f1_rf)\n",
    "print(\"Validation F1 Macro:\", valid_f1_rf)\n",
    "print(\"Test F1 Macro:\", test_f1_rf)\n",
    "\n",
    "param_grid = {\n",
    "    'max_depth': [20, 30, 40],  \n",
    "    'min_samples_split': [2, 5, 10],\n",
    "    'min_samples_leaf': [1, 2, 4],\n",
    "    'max_features': ['sqrt', 'log2', None],\n",
    "    'n_estimators': [10, 20, 30, 40, 50]\n",
    "}\n",
    "\n",
    "rf = RandomForestClassifier(random_state=42, n_jobs=13)\n",
    "\n",
    "# Use GridSearchCV with f1_score (macro) as the scoring metric\n",
    "random_search_rf = RandomizedSearchCV(rf, param_distributions=param_grid,\n",
    "                                      n_iter=20, cv=5, scoring='f1_macro',\n",
    "                                      n_jobs=15, verbose=2, random_state=42)\n",
    "random_search_rf.fit(X_train, y_train)\n",
    "\n",
    "print(\"Best parameters:\", random_search_rf.best_params_)\n",
    "print(\"Best f1_macro score on training (via cross-validation):\", random_search_rf.best_score_)\n",
    "\n",
    "# Retrieve the best estimator\n",
    "best_rf = random_search_rf.best_estimator_\n",
    "\n",
    "# Evaluate training F1 macro score\n",
    "train_f1 = f1_score(y_train, best_rf.predict(X_train), average='macro')\n",
    "print(\"Train F1 Macro:\", train_f1)\n",
    "\n",
    "# Evaluate on validation and test sets using F1 macro score\n",
    "valid_f1 = f1_score(y_valid, best_rf.predict(X_valid), average='macro')\n",
    "test_f1 = f1_score(y_test, best_rf.predict(X_test), average='macro')\n",
    "\n",
    "print(\"Validation F1 Macro:\", valid_f1)\n",
    "print(\"Test F1 Macro:\", test_f1)"
   ]
  },
  {
   "cell_type": "markdown",
   "metadata": {},
   "source": [
    "5.1.4. ExtraTrees Classifier"
   ]
  },
  {
   "cell_type": "code",
   "execution_count": null,
   "metadata": {},
   "outputs": [],
   "source": [
    "et = ExtraTreesClassifier(random_state=42, n_jobs=12)\n",
    "et.fit(X_train, y_train)\n",
    "\n",
    "train_f1_et = f1_score(y_train, et.predict(X_train), average='macro')\n",
    "valid_f1_et = f1_score(y_valid, et.predict(X_valid), average='macro')\n",
    "test_f1_et = f1_score(y_test, et.predict(X_test), average='macro')\n",
    "\n",
    "print(\"\\nExtra Trees Classifier:\")\n",
    "print(\"Train F1:\", train_f1_et)\n",
    "print(\"Validation F1:\", valid_f1_et)\n",
    "print(\"Test F1:\", test_f1_et)\n",
    "\n",
    "param_grid_et = {\n",
    "    'max_depth': [20, 30, 40],  \n",
    "    'min_samples_split': [2, 5, 10],\n",
    "    'min_samples_leaf': [1, 2, 4],\n",
    "    'max_features': ['sqrt', 'log2', None],\n",
    "    'n_estimators': [10, 20, 30, 40, 50]\n",
    "}\n",
    "\n",
    "# Instantiate the ExtraTreesClassifier with all available cores\n",
    "et = ExtraTreesClassifier(random_state=42, n_jobs=13)\n",
    "\n",
    "# Use RandomizedSearchCV to sample 20 random combinations from the grid\n",
    "random_search_et = RandomizedSearchCV(estimator=et, \n",
    "                                      param_distributions=param_grid_et,\n",
    "                                      n_iter=20, \n",
    "                                      cv=5, \n",
    "                                      scoring='f1_macro', \n",
    "                                      n_jobs=15, \n",
    "                                      verbose=2, \n",
    "                                      random_state=42)\n",
    "random_search_et.fit(X_train, y_train)\n",
    "\n",
    "print(\"Best parameters for ExtraTreesClassifier:\", random_search_et.best_params_)\n",
    "print(\"Best f1_macro score on training (via CV):\", random_search_et.best_score_)\n",
    "\n",
    "# Retrieve the best estimator\n",
    "best_et = random_search_et.best_estimator_\n",
    "\n",
    "# Evaluate performance on training, validation, and test sets\n",
    "train_f1_et = f1_score(y_train, best_et.predict(X_train), average='macro')\n",
    "valid_f1_et = f1_score(y_valid, best_et.predict(X_valid), average='macro')\n",
    "test_f1_et = f1_score(y_test, best_et.predict(X_test), average='macro')\n",
    "\n",
    "print(\"\\nExtraTreesClassifier Performance:\")\n",
    "print(\"Train F1:\", train_f1_et)\n",
    "print(\"Validation F1:\", valid_f1_et)\n",
    "print(\"Test F1:\", test_f1_et)"
   ]
  },
  {
   "cell_type": "markdown",
   "metadata": {},
   "source": [
    "5.1.5. XGBoost"
   ]
  },
  {
   "cell_type": "code",
   "execution_count": null,
   "metadata": {},
   "outputs": [],
   "source": [
    "# Create an XGBoost model \n",
    "xgb_model = xgb.XGBClassifier(random_state=42)\n",
    "xgb_model.fit(X_train, y_train)\n",
    "\n",
    "# Evaluate on the train set using F1 macro score\n",
    "train_f1_xgb = f1_score(y_train, xgb_model.predict(X_train), average='macro')\n",
    "valid_f1_xgb = f1_score(y_valid, xgb_model.predict(X_valid), average='macro')\n",
    "test_f1_xgb = f1_score(y_test, xgb_model.predict(X_test), average='macro')\n",
    "\n",
    "# Print the results\n",
    "print(\"XGBoost Classifier:\")\n",
    "print(\"Train F1 Macro:\", train_f1_xgb)\n",
    "print(\"Validation F1 Macro:\", valid_f1_xgb)\n",
    "print(\"Test F1 Macro:\", test_f1_xgb)\n",
    "\n",
    "# Too expensive to run\n",
    "param_grid_xgb = {\n",
    "    'max_depth': [3, 5, 7, 10], \n",
    "    'learning_rate': [0.01, 0.05, 0.1, 0.2], \n",
    "    'n_estimators': [10, 20, 30, 40, 50], \n",
    "    'subsample': [0.7, 0.8, 0.9, 1.0], \n",
    "    'colsample_bytree': [0.7, 0.8, 0.9, 1.0], \n",
    "    'min_child_weight': [1, 3, 5], \n",
    "}\n",
    "\n",
    "# Instantiate the XGBoost model\n",
    "xgb_model = xgb.XGBClassifier(random_state=42, n_jobs = 15)\n",
    "\n",
    "random_search_xgb = RandomizedSearchCV(estimator=xgb_model, \n",
    "                                       param_distributions=param_grid_xgb,\n",
    "                                       n_iter=20, \n",
    "                                       cv=5, \n",
    "                                       scoring='f1_macro', \n",
    "                                       n_jobs=15, \n",
    "                                       verbose=2, \n",
    "                                       random_state=42)\n",
    "\n",
    "# Fit the RandomizedSearchCV on the training data\n",
    "random_search_xgb.fit(X_train, y_train)\n",
    "\n",
    "# Print the best hyperparameters and F1 macro score\n",
    "print(\"Best parameters for XGBoost:\", random_search_xgb.best_params_)\n",
    "print(\"Best f1_macro score on training (via CV):\", random_search_xgb.best_score_)\n",
    "\n",
    "# Retrieve the best estimator\n",
    "best_xgb = random_search_xgb.best_estimator_\n",
    "\n",
    "# Evaluate performance on training, validation, and test sets\n",
    "train_f1_xgb = f1_score(y_train, best_xgb.predict(X_train), average='macro')\n",
    "valid_f1_xgb = f1_score(y_valid, best_xgb.predict(X_valid), average='macro')\n",
    "test_f1_xgb = f1_score(y_test, best_xgb.predict(X_test), average='macro')\n",
    "\n",
    "print(\"\\nXGBoost Performance:\")\n",
    "print(\"Train F1 Macro:\", train_f1_xgb)\n",
    "print(\"Validation F1 Macro:\", valid_f1_xgb)\n",
    "print(\"Test F1 Macro:\", test_f1_xgb)\n"
   ]
  },
  {
   "cell_type": "markdown",
   "metadata": {},
   "source": [
    "5.1.6. LightGBM"
   ]
  },
  {
   "cell_type": "code",
   "execution_count": null,
   "metadata": {},
   "outputs": [],
   "source": [
    "# Create a LightGBM model\n",
    "lgb_model = LGBMClassifier(random_state=42)\n",
    "lgb_model.fit(X_train, y_train)\n",
    "\n",
    "# Evaluate on the train set using F1 macro score\n",
    "train_f1_lgb = f1_score(y_train, lgb_model.predict(X_train), average='macro')\n",
    "valid_f1_lgb = f1_score(y_valid, lgb_model.predict(X_valid), average='macro')\n",
    "test_f1_lgb = f1_score(y_test, lgb_model.predict(X_test), average='macro')\n",
    "\n",
    "# Print the results\n",
    "print(\"LightGBM Classifier:\")\n",
    "print(\"Train F1 Macro:\", train_f1_lgb)\n",
    "print(\"Validation F1 Macro:\", valid_f1_lgb)\n",
    "print(\"Test F1 Macro:\", test_f1_lgb)"
   ]
  },
  {
   "cell_type": "markdown",
   "metadata": {},
   "source": [
    "5.1.7. CatBoost"
   ]
  },
  {
   "cell_type": "code",
   "execution_count": null,
   "metadata": {},
   "outputs": [],
   "source": [
    "# Create a CatBoost model \n",
    "cat_model = CatBoostClassifier(random_state=42, verbose=0)\n",
    "cat_model.fit(X_train, y_train)\n",
    "\n",
    "# Evaluate on the train set using F1 macro score\n",
    "train_f1_cat = f1_score(y_train, cat_model.predict(X_train), average='macro')\n",
    "valid_f1_cat = f1_score(y_valid, cat_model.predict(X_valid), average='macro')\n",
    "test_f1_cat = f1_score(y_test, cat_model.predict(X_test), average='macro')\n",
    "\n",
    "# Print the results\n",
    "print(\"CatBoost Classifier:\")\n",
    "print(\"Train F1 Macro:\", train_f1_cat)\n",
    "print(\"Validation F1 Macro:\", valid_f1_cat)\n",
    "print(\"Test F1 Macro:\", test_f1_cat)"
   ]
  },
  {
   "cell_type": "markdown",
   "metadata": {},
   "source": [
    "5.1.8. Final Models (DT, RF, CatBoost)"
   ]
  },
  {
   "cell_type": "code",
   "execution_count": null,
   "metadata": {},
   "outputs": [],
   "source": [
    "# Decision Tree\n",
    "best_params = {\n",
    "    'max_depth': 10, \n",
    "    'min_samples_split': 5, \n",
    "    'min_samples_leaf': 2\n",
    "}\n",
    "DecisionTree_model = DecisionTreeClassifier(random_state=42, **best_params)\n",
    "DecisionTree_model.fit(X_train, y_train)\n",
    "\n",
    "# Random Forest \n",
    "best_params = {\n",
    "    'max_depth': 20,  \n",
    "    'min_samples_split': 5,  \n",
    "    'min_samples_leaf': 1,  \n",
    "    'max_features': 'sqrt',\n",
    "    'n_estimators': 500\n",
    "}\n",
    "RandomForest_model = RandomForestClassifier(random_state=42, n_jobs=15, **best_params)\n",
    "RandomForest_model.fit(X_train, y_train)\n",
    "\n",
    "# Extra Tree Classifier\n",
    "best_params = {\n",
    "    'n_estimators': 500, \n",
    "    'min_samples_split': 2, \n",
    "    'min_samples_leaf': 1, \n",
    "    'max_features': None, \n",
    "    'max_depth': 40\n",
    "}\n",
    "\n",
    "ExtraTreeClassifier_model = ExtraTreesClassifier(random_state=42, n_jobs=15, **best_params)\n",
    "ExtraTreeClassifier_model.fit(X_train, y_train)"
   ]
  },
  {
   "cell_type": "markdown",
   "metadata": {},
   "source": [
    "##### 5.2 Support Vector Machine"
   ]
  },
  {
   "cell_type": "code",
   "execution_count": 18,
   "metadata": {},
   "outputs": [
    {
     "ename": "MemoryError",
     "evalue": "Unable to allocate 368. MiB for an array with shape (125536, 768) and data type float32",
     "output_type": "error",
     "traceback": [
      "\u001b[31m---------------------------------------------------------------------------\u001b[39m",
      "\u001b[31m_RemoteTraceback\u001b[39m                          Traceback (most recent call last)",
      "\u001b[31m_RemoteTraceback\u001b[39m: \n\"\"\"\nTraceback (most recent call last):\n  File \"c:\\Users\\Jason\\Documents\\GitHub\\cs3244\\venv\\Lib\\site-packages\\joblib\\externals\\loky\\process_executor.py\", line 463, in _process_worker\n    r = call_item()\n        ^^^^^^^^^^^\n  File \"c:\\Users\\Jason\\Documents\\GitHub\\cs3244\\venv\\Lib\\site-packages\\joblib\\externals\\loky\\process_executor.py\", line 291, in __call__\n    return self.fn(*self.args, **self.kwargs)\n           ^^^^^^^^^^^^^^^^^^^^^^^^^^^^^^^^^^\n  File \"c:\\Users\\Jason\\Documents\\GitHub\\cs3244\\venv\\Lib\\site-packages\\joblib\\parallel.py\", line 598, in __call__\n    return [func(*args, **kwargs)\n            ^^^^^^^^^^^^^^^^^^^^^\n  File \"c:\\Users\\Jason\\Documents\\GitHub\\cs3244\\venv\\Lib\\site-packages\\sklearn\\utils\\parallel.py\", line 139, in __call__\n    return self.function(*args, **kwargs)\n           ^^^^^^^^^^^^^^^^^^^^^^^^^^^^^^\n  File \"c:\\Users\\Jason\\Documents\\GitHub\\cs3244\\venv\\Lib\\site-packages\\sklearn\\model_selection\\_validation.py\", line 858, in _fit_and_score\n    X_train, y_train = _safe_split(estimator, X, y, train)\n                       ^^^^^^^^^^^^^^^^^^^^^^^^^^^^^^^^^^^\n  File \"c:\\Users\\Jason\\Documents\\GitHub\\cs3244\\venv\\Lib\\site-packages\\sklearn\\utils\\metaestimators.py\", line 156, in _safe_split\n    X_subset = _safe_indexing(X, indices)\n               ^^^^^^^^^^^^^^^^^^^^^^^^^^\n  File \"c:\\Users\\Jason\\Documents\\GitHub\\cs3244\\venv\\Lib\\site-packages\\sklearn\\utils\\_indexing.py\", line 270, in _safe_indexing\n    return _array_indexing(X, indices, indices_dtype, axis=axis)\n           ^^^^^^^^^^^^^^^^^^^^^^^^^^^^^^^^^^^^^^^^^^^^^^^^^^^^^\n  File \"c:\\Users\\Jason\\Documents\\GitHub\\cs3244\\venv\\Lib\\site-packages\\sklearn\\utils\\_indexing.py\", line 36, in _array_indexing\n    return array[key, ...] if axis == 0 else array[:, key]\n           ~~~~~^^^^^^^^^^\n  File \"c:\\Users\\Jason\\Documents\\GitHub\\cs3244\\venv\\Lib\\site-packages\\numpy\\_core\\memmap.py\", line 349, in __getitem__\n    res = super().__getitem__(index)\n          ^^^^^^^^^^^^^^^^^^^^^^^^^^\nnumpy._core._exceptions._ArrayMemoryError: Unable to allocate 368. MiB for an array with shape (125536, 768) and data type float32\n\"\"\"",
      "\nThe above exception was the direct cause of the following exception:\n",
      "\u001b[31mMemoryError\u001b[39m                               Traceback (most recent call last)",
      "\u001b[36mCell\u001b[39m\u001b[36m \u001b[39m\u001b[32mIn[18]\u001b[39m\u001b[32m, line 13\u001b[39m\n\u001b[32m     11\u001b[39m base_svc = LinearSVC()\n\u001b[32m     12\u001b[39m grid_search = GridSearchCV(base_svc, param_grid, cv=\u001b[32m5\u001b[39m, n_jobs=-\u001b[32m1\u001b[39m)\n\u001b[32m---> \u001b[39m\u001b[32m13\u001b[39m \u001b[43mgrid_search\u001b[49m\u001b[43m.\u001b[49m\u001b[43mfit\u001b[49m\u001b[43m(\u001b[49m\u001b[43mtrain_X_smote\u001b[49m\u001b[43m,\u001b[49m\u001b[43m \u001b[49m\u001b[43mtrain_Y_smote\u001b[49m\u001b[43m)\u001b[49m\n\u001b[32m     15\u001b[39m svm_model = grid_search.best_estimator_\n",
      "\u001b[36mFile \u001b[39m\u001b[32mc:\\Users\\Jason\\Documents\\GitHub\\cs3244\\venv\\Lib\\site-packages\\sklearn\\base.py:1389\u001b[39m, in \u001b[36m_fit_context.<locals>.decorator.<locals>.wrapper\u001b[39m\u001b[34m(estimator, *args, **kwargs)\u001b[39m\n\u001b[32m   1382\u001b[39m     estimator._validate_params()\n\u001b[32m   1384\u001b[39m \u001b[38;5;28;01mwith\u001b[39;00m config_context(\n\u001b[32m   1385\u001b[39m     skip_parameter_validation=(\n\u001b[32m   1386\u001b[39m         prefer_skip_nested_validation \u001b[38;5;129;01mor\u001b[39;00m global_skip_validation\n\u001b[32m   1387\u001b[39m     )\n\u001b[32m   1388\u001b[39m ):\n\u001b[32m-> \u001b[39m\u001b[32m1389\u001b[39m     \u001b[38;5;28;01mreturn\u001b[39;00m \u001b[43mfit_method\u001b[49m\u001b[43m(\u001b[49m\u001b[43mestimator\u001b[49m\u001b[43m,\u001b[49m\u001b[43m \u001b[49m\u001b[43m*\u001b[49m\u001b[43margs\u001b[49m\u001b[43m,\u001b[49m\u001b[43m \u001b[49m\u001b[43m*\u001b[49m\u001b[43m*\u001b[49m\u001b[43mkwargs\u001b[49m\u001b[43m)\u001b[49m\n",
      "\u001b[36mFile \u001b[39m\u001b[32mc:\\Users\\Jason\\Documents\\GitHub\\cs3244\\venv\\Lib\\site-packages\\sklearn\\model_selection\\_search.py:1024\u001b[39m, in \u001b[36mBaseSearchCV.fit\u001b[39m\u001b[34m(self, X, y, **params)\u001b[39m\n\u001b[32m   1018\u001b[39m     results = \u001b[38;5;28mself\u001b[39m._format_results(\n\u001b[32m   1019\u001b[39m         all_candidate_params, n_splits, all_out, all_more_results\n\u001b[32m   1020\u001b[39m     )\n\u001b[32m   1022\u001b[39m     \u001b[38;5;28;01mreturn\u001b[39;00m results\n\u001b[32m-> \u001b[39m\u001b[32m1024\u001b[39m \u001b[38;5;28;43mself\u001b[39;49m\u001b[43m.\u001b[49m\u001b[43m_run_search\u001b[49m\u001b[43m(\u001b[49m\u001b[43mevaluate_candidates\u001b[49m\u001b[43m)\u001b[49m\n\u001b[32m   1026\u001b[39m \u001b[38;5;66;03m# multimetric is determined here because in the case of a callable\u001b[39;00m\n\u001b[32m   1027\u001b[39m \u001b[38;5;66;03m# self.scoring the return type is only known after calling\u001b[39;00m\n\u001b[32m   1028\u001b[39m first_test_score = all_out[\u001b[32m0\u001b[39m][\u001b[33m\"\u001b[39m\u001b[33mtest_scores\u001b[39m\u001b[33m\"\u001b[39m]\n",
      "\u001b[36mFile \u001b[39m\u001b[32mc:\\Users\\Jason\\Documents\\GitHub\\cs3244\\venv\\Lib\\site-packages\\sklearn\\model_selection\\_search.py:1571\u001b[39m, in \u001b[36mGridSearchCV._run_search\u001b[39m\u001b[34m(self, evaluate_candidates)\u001b[39m\n\u001b[32m   1569\u001b[39m \u001b[38;5;28;01mdef\u001b[39;00m\u001b[38;5;250m \u001b[39m\u001b[34m_run_search\u001b[39m(\u001b[38;5;28mself\u001b[39m, evaluate_candidates):\n\u001b[32m   1570\u001b[39m \u001b[38;5;250m    \u001b[39m\u001b[33;03m\"\"\"Search all candidates in param_grid\"\"\"\u001b[39;00m\n\u001b[32m-> \u001b[39m\u001b[32m1571\u001b[39m     \u001b[43mevaluate_candidates\u001b[49m\u001b[43m(\u001b[49m\u001b[43mParameterGrid\u001b[49m\u001b[43m(\u001b[49m\u001b[38;5;28;43mself\u001b[39;49m\u001b[43m.\u001b[49m\u001b[43mparam_grid\u001b[49m\u001b[43m)\u001b[49m\u001b[43m)\u001b[49m\n",
      "\u001b[36mFile \u001b[39m\u001b[32mc:\\Users\\Jason\\Documents\\GitHub\\cs3244\\venv\\Lib\\site-packages\\sklearn\\model_selection\\_search.py:970\u001b[39m, in \u001b[36mBaseSearchCV.fit.<locals>.evaluate_candidates\u001b[39m\u001b[34m(candidate_params, cv, more_results)\u001b[39m\n\u001b[32m    962\u001b[39m \u001b[38;5;28;01mif\u001b[39;00m \u001b[38;5;28mself\u001b[39m.verbose > \u001b[32m0\u001b[39m:\n\u001b[32m    963\u001b[39m     \u001b[38;5;28mprint\u001b[39m(\n\u001b[32m    964\u001b[39m         \u001b[33m\"\u001b[39m\u001b[33mFitting \u001b[39m\u001b[38;5;132;01m{0}\u001b[39;00m\u001b[33m folds for each of \u001b[39m\u001b[38;5;132;01m{1}\u001b[39;00m\u001b[33m candidates,\u001b[39m\u001b[33m\"\u001b[39m\n\u001b[32m    965\u001b[39m         \u001b[33m\"\u001b[39m\u001b[33m totalling \u001b[39m\u001b[38;5;132;01m{2}\u001b[39;00m\u001b[33m fits\u001b[39m\u001b[33m\"\u001b[39m.format(\n\u001b[32m    966\u001b[39m             n_splits, n_candidates, n_candidates * n_splits\n\u001b[32m    967\u001b[39m         )\n\u001b[32m    968\u001b[39m     )\n\u001b[32m--> \u001b[39m\u001b[32m970\u001b[39m out = \u001b[43mparallel\u001b[49m\u001b[43m(\u001b[49m\n\u001b[32m    971\u001b[39m \u001b[43m    \u001b[49m\u001b[43mdelayed\u001b[49m\u001b[43m(\u001b[49m\u001b[43m_fit_and_score\u001b[49m\u001b[43m)\u001b[49m\u001b[43m(\u001b[49m\n\u001b[32m    972\u001b[39m \u001b[43m        \u001b[49m\u001b[43mclone\u001b[49m\u001b[43m(\u001b[49m\u001b[43mbase_estimator\u001b[49m\u001b[43m)\u001b[49m\u001b[43m,\u001b[49m\n\u001b[32m    973\u001b[39m \u001b[43m        \u001b[49m\u001b[43mX\u001b[49m\u001b[43m,\u001b[49m\n\u001b[32m    974\u001b[39m \u001b[43m        \u001b[49m\u001b[43my\u001b[49m\u001b[43m,\u001b[49m\n\u001b[32m    975\u001b[39m \u001b[43m        \u001b[49m\u001b[43mtrain\u001b[49m\u001b[43m=\u001b[49m\u001b[43mtrain\u001b[49m\u001b[43m,\u001b[49m\n\u001b[32m    976\u001b[39m \u001b[43m        \u001b[49m\u001b[43mtest\u001b[49m\u001b[43m=\u001b[49m\u001b[43mtest\u001b[49m\u001b[43m,\u001b[49m\n\u001b[32m    977\u001b[39m \u001b[43m        \u001b[49m\u001b[43mparameters\u001b[49m\u001b[43m=\u001b[49m\u001b[43mparameters\u001b[49m\u001b[43m,\u001b[49m\n\u001b[32m    978\u001b[39m \u001b[43m        \u001b[49m\u001b[43msplit_progress\u001b[49m\u001b[43m=\u001b[49m\u001b[43m(\u001b[49m\u001b[43msplit_idx\u001b[49m\u001b[43m,\u001b[49m\u001b[43m \u001b[49m\u001b[43mn_splits\u001b[49m\u001b[43m)\u001b[49m\u001b[43m,\u001b[49m\n\u001b[32m    979\u001b[39m \u001b[43m        \u001b[49m\u001b[43mcandidate_progress\u001b[49m\u001b[43m=\u001b[49m\u001b[43m(\u001b[49m\u001b[43mcand_idx\u001b[49m\u001b[43m,\u001b[49m\u001b[43m \u001b[49m\u001b[43mn_candidates\u001b[49m\u001b[43m)\u001b[49m\u001b[43m,\u001b[49m\n\u001b[32m    980\u001b[39m \u001b[43m        \u001b[49m\u001b[43m*\u001b[49m\u001b[43m*\u001b[49m\u001b[43mfit_and_score_kwargs\u001b[49m\u001b[43m,\u001b[49m\n\u001b[32m    981\u001b[39m \u001b[43m    \u001b[49m\u001b[43m)\u001b[49m\n\u001b[32m    982\u001b[39m \u001b[43m    \u001b[49m\u001b[38;5;28;43;01mfor\u001b[39;49;00m\u001b[43m \u001b[49m\u001b[43m(\u001b[49m\u001b[43mcand_idx\u001b[49m\u001b[43m,\u001b[49m\u001b[43m \u001b[49m\u001b[43mparameters\u001b[49m\u001b[43m)\u001b[49m\u001b[43m,\u001b[49m\u001b[43m \u001b[49m\u001b[43m(\u001b[49m\u001b[43msplit_idx\u001b[49m\u001b[43m,\u001b[49m\u001b[43m \u001b[49m\u001b[43m(\u001b[49m\u001b[43mtrain\u001b[49m\u001b[43m,\u001b[49m\u001b[43m \u001b[49m\u001b[43mtest\u001b[49m\u001b[43m)\u001b[49m\u001b[43m)\u001b[49m\u001b[43m \u001b[49m\u001b[38;5;129;43;01min\u001b[39;49;00m\u001b[43m \u001b[49m\u001b[43mproduct\u001b[49m\u001b[43m(\u001b[49m\n\u001b[32m    983\u001b[39m \u001b[43m        \u001b[49m\u001b[38;5;28;43menumerate\u001b[39;49m\u001b[43m(\u001b[49m\u001b[43mcandidate_params\u001b[49m\u001b[43m)\u001b[49m\u001b[43m,\u001b[49m\n\u001b[32m    984\u001b[39m \u001b[43m        \u001b[49m\u001b[38;5;28;43menumerate\u001b[39;49m\u001b[43m(\u001b[49m\u001b[43mcv\u001b[49m\u001b[43m.\u001b[49m\u001b[43msplit\u001b[49m\u001b[43m(\u001b[49m\u001b[43mX\u001b[49m\u001b[43m,\u001b[49m\u001b[43m \u001b[49m\u001b[43my\u001b[49m\u001b[43m,\u001b[49m\u001b[43m \u001b[49m\u001b[43m*\u001b[49m\u001b[43m*\u001b[49m\u001b[43mrouted_params\u001b[49m\u001b[43m.\u001b[49m\u001b[43msplitter\u001b[49m\u001b[43m.\u001b[49m\u001b[43msplit\u001b[49m\u001b[43m)\u001b[49m\u001b[43m)\u001b[49m\u001b[43m,\u001b[49m\n\u001b[32m    985\u001b[39m \u001b[43m    \u001b[49m\u001b[43m)\u001b[49m\n\u001b[32m    986\u001b[39m \u001b[43m\u001b[49m\u001b[43m)\u001b[49m\n\u001b[32m    988\u001b[39m \u001b[38;5;28;01mif\u001b[39;00m \u001b[38;5;28mlen\u001b[39m(out) < \u001b[32m1\u001b[39m:\n\u001b[32m    989\u001b[39m     \u001b[38;5;28;01mraise\u001b[39;00m \u001b[38;5;167;01mValueError\u001b[39;00m(\n\u001b[32m    990\u001b[39m         \u001b[33m\"\u001b[39m\u001b[33mNo fits were performed. \u001b[39m\u001b[33m\"\u001b[39m\n\u001b[32m    991\u001b[39m         \u001b[33m\"\u001b[39m\u001b[33mWas the CV iterator empty? \u001b[39m\u001b[33m\"\u001b[39m\n\u001b[32m    992\u001b[39m         \u001b[33m\"\u001b[39m\u001b[33mWere there no candidates?\u001b[39m\u001b[33m\"\u001b[39m\n\u001b[32m    993\u001b[39m     )\n",
      "\u001b[36mFile \u001b[39m\u001b[32mc:\\Users\\Jason\\Documents\\GitHub\\cs3244\\venv\\Lib\\site-packages\\sklearn\\utils\\parallel.py:77\u001b[39m, in \u001b[36mParallel.__call__\u001b[39m\u001b[34m(self, iterable)\u001b[39m\n\u001b[32m     72\u001b[39m config = get_config()\n\u001b[32m     73\u001b[39m iterable_with_config = (\n\u001b[32m     74\u001b[39m     (_with_config(delayed_func, config), args, kwargs)\n\u001b[32m     75\u001b[39m     \u001b[38;5;28;01mfor\u001b[39;00m delayed_func, args, kwargs \u001b[38;5;129;01min\u001b[39;00m iterable\n\u001b[32m     76\u001b[39m )\n\u001b[32m---> \u001b[39m\u001b[32m77\u001b[39m \u001b[38;5;28;01mreturn\u001b[39;00m \u001b[38;5;28;43msuper\u001b[39;49m\u001b[43m(\u001b[49m\u001b[43m)\u001b[49m\u001b[43m.\u001b[49m\u001b[34;43m__call__\u001b[39;49m\u001b[43m(\u001b[49m\u001b[43miterable_with_config\u001b[49m\u001b[43m)\u001b[49m\n",
      "\u001b[36mFile \u001b[39m\u001b[32mc:\\Users\\Jason\\Documents\\GitHub\\cs3244\\venv\\Lib\\site-packages\\joblib\\parallel.py:2007\u001b[39m, in \u001b[36mParallel.__call__\u001b[39m\u001b[34m(self, iterable)\u001b[39m\n\u001b[32m   2001\u001b[39m \u001b[38;5;66;03m# The first item from the output is blank, but it makes the interpreter\u001b[39;00m\n\u001b[32m   2002\u001b[39m \u001b[38;5;66;03m# progress until it enters the Try/Except block of the generator and\u001b[39;00m\n\u001b[32m   2003\u001b[39m \u001b[38;5;66;03m# reaches the first `yield` statement. This starts the asynchronous\u001b[39;00m\n\u001b[32m   2004\u001b[39m \u001b[38;5;66;03m# dispatch of the tasks to the workers.\u001b[39;00m\n\u001b[32m   2005\u001b[39m \u001b[38;5;28mnext\u001b[39m(output)\n\u001b[32m-> \u001b[39m\u001b[32m2007\u001b[39m \u001b[38;5;28;01mreturn\u001b[39;00m output \u001b[38;5;28;01mif\u001b[39;00m \u001b[38;5;28mself\u001b[39m.return_generator \u001b[38;5;28;01melse\u001b[39;00m \u001b[38;5;28;43mlist\u001b[39;49m\u001b[43m(\u001b[49m\u001b[43moutput\u001b[49m\u001b[43m)\u001b[49m\n",
      "\u001b[36mFile \u001b[39m\u001b[32mc:\\Users\\Jason\\Documents\\GitHub\\cs3244\\venv\\Lib\\site-packages\\joblib\\parallel.py:1650\u001b[39m, in \u001b[36mParallel._get_outputs\u001b[39m\u001b[34m(self, iterator, pre_dispatch)\u001b[39m\n\u001b[32m   1647\u001b[39m     \u001b[38;5;28;01myield\u001b[39;00m\n\u001b[32m   1649\u001b[39m     \u001b[38;5;28;01mwith\u001b[39;00m \u001b[38;5;28mself\u001b[39m._backend.retrieval_context():\n\u001b[32m-> \u001b[39m\u001b[32m1650\u001b[39m         \u001b[38;5;28;01myield from\u001b[39;00m \u001b[38;5;28mself\u001b[39m._retrieve()\n\u001b[32m   1652\u001b[39m \u001b[38;5;28;01mexcept\u001b[39;00m \u001b[38;5;167;01mGeneratorExit\u001b[39;00m:\n\u001b[32m   1653\u001b[39m     \u001b[38;5;66;03m# The generator has been garbage collected before being fully\u001b[39;00m\n\u001b[32m   1654\u001b[39m     \u001b[38;5;66;03m# consumed. This aborts the remaining tasks if possible and warn\u001b[39;00m\n\u001b[32m   1655\u001b[39m     \u001b[38;5;66;03m# the user if necessary.\u001b[39;00m\n\u001b[32m   1656\u001b[39m     \u001b[38;5;28mself\u001b[39m._exception = \u001b[38;5;28;01mTrue\u001b[39;00m\n",
      "\u001b[36mFile \u001b[39m\u001b[32mc:\\Users\\Jason\\Documents\\GitHub\\cs3244\\venv\\Lib\\site-packages\\joblib\\parallel.py:1754\u001b[39m, in \u001b[36mParallel._retrieve\u001b[39m\u001b[34m(self)\u001b[39m\n\u001b[32m   1747\u001b[39m \u001b[38;5;28;01mwhile\u001b[39;00m \u001b[38;5;28mself\u001b[39m._wait_retrieval():\n\u001b[32m   1748\u001b[39m \n\u001b[32m   1749\u001b[39m     \u001b[38;5;66;03m# If the callback thread of a worker has signaled that its task\u001b[39;00m\n\u001b[32m   1750\u001b[39m     \u001b[38;5;66;03m# triggered an exception, or if the retrieval loop has raised an\u001b[39;00m\n\u001b[32m   1751\u001b[39m     \u001b[38;5;66;03m# exception (e.g. `GeneratorExit`), exit the loop and surface the\u001b[39;00m\n\u001b[32m   1752\u001b[39m     \u001b[38;5;66;03m# worker traceback.\u001b[39;00m\n\u001b[32m   1753\u001b[39m     \u001b[38;5;28;01mif\u001b[39;00m \u001b[38;5;28mself\u001b[39m._aborting:\n\u001b[32m-> \u001b[39m\u001b[32m1754\u001b[39m         \u001b[38;5;28;43mself\u001b[39;49m\u001b[43m.\u001b[49m\u001b[43m_raise_error_fast\u001b[49m\u001b[43m(\u001b[49m\u001b[43m)\u001b[49m\n\u001b[32m   1755\u001b[39m         \u001b[38;5;28;01mbreak\u001b[39;00m\n\u001b[32m   1757\u001b[39m     \u001b[38;5;66;03m# If the next job is not ready for retrieval yet, we just wait for\u001b[39;00m\n\u001b[32m   1758\u001b[39m     \u001b[38;5;66;03m# async callbacks to progress.\u001b[39;00m\n",
      "\u001b[36mFile \u001b[39m\u001b[32mc:\\Users\\Jason\\Documents\\GitHub\\cs3244\\venv\\Lib\\site-packages\\joblib\\parallel.py:1789\u001b[39m, in \u001b[36mParallel._raise_error_fast\u001b[39m\u001b[34m(self)\u001b[39m\n\u001b[32m   1785\u001b[39m \u001b[38;5;66;03m# If this error job exists, immediately raise the error by\u001b[39;00m\n\u001b[32m   1786\u001b[39m \u001b[38;5;66;03m# calling get_result. This job might not exists if abort has been\u001b[39;00m\n\u001b[32m   1787\u001b[39m \u001b[38;5;66;03m# called directly or if the generator is gc'ed.\u001b[39;00m\n\u001b[32m   1788\u001b[39m \u001b[38;5;28;01mif\u001b[39;00m error_job \u001b[38;5;129;01mis\u001b[39;00m \u001b[38;5;129;01mnot\u001b[39;00m \u001b[38;5;28;01mNone\u001b[39;00m:\n\u001b[32m-> \u001b[39m\u001b[32m1789\u001b[39m     \u001b[43merror_job\u001b[49m\u001b[43m.\u001b[49m\u001b[43mget_result\u001b[49m\u001b[43m(\u001b[49m\u001b[38;5;28;43mself\u001b[39;49m\u001b[43m.\u001b[49m\u001b[43mtimeout\u001b[49m\u001b[43m)\u001b[49m\n",
      "\u001b[36mFile \u001b[39m\u001b[32mc:\\Users\\Jason\\Documents\\GitHub\\cs3244\\venv\\Lib\\site-packages\\joblib\\parallel.py:745\u001b[39m, in \u001b[36mBatchCompletionCallBack.get_result\u001b[39m\u001b[34m(self, timeout)\u001b[39m\n\u001b[32m    739\u001b[39m backend = \u001b[38;5;28mself\u001b[39m.parallel._backend\n\u001b[32m    741\u001b[39m \u001b[38;5;28;01mif\u001b[39;00m backend.supports_retrieve_callback:\n\u001b[32m    742\u001b[39m     \u001b[38;5;66;03m# We assume that the result has already been retrieved by the\u001b[39;00m\n\u001b[32m    743\u001b[39m     \u001b[38;5;66;03m# callback thread, and is stored internally. It's just waiting to\u001b[39;00m\n\u001b[32m    744\u001b[39m     \u001b[38;5;66;03m# be returned.\u001b[39;00m\n\u001b[32m--> \u001b[39m\u001b[32m745\u001b[39m     \u001b[38;5;28;01mreturn\u001b[39;00m \u001b[38;5;28;43mself\u001b[39;49m\u001b[43m.\u001b[49m\u001b[43m_return_or_raise\u001b[49m\u001b[43m(\u001b[49m\u001b[43m)\u001b[49m\n\u001b[32m    747\u001b[39m \u001b[38;5;66;03m# For other backends, the main thread needs to run the retrieval step.\u001b[39;00m\n\u001b[32m    748\u001b[39m \u001b[38;5;28;01mtry\u001b[39;00m:\n",
      "\u001b[36mFile \u001b[39m\u001b[32mc:\\Users\\Jason\\Documents\\GitHub\\cs3244\\venv\\Lib\\site-packages\\joblib\\parallel.py:763\u001b[39m, in \u001b[36mBatchCompletionCallBack._return_or_raise\u001b[39m\u001b[34m(self)\u001b[39m\n\u001b[32m    761\u001b[39m \u001b[38;5;28;01mtry\u001b[39;00m:\n\u001b[32m    762\u001b[39m     \u001b[38;5;28;01mif\u001b[39;00m \u001b[38;5;28mself\u001b[39m.status == TASK_ERROR:\n\u001b[32m--> \u001b[39m\u001b[32m763\u001b[39m         \u001b[38;5;28;01mraise\u001b[39;00m \u001b[38;5;28mself\u001b[39m._result\n\u001b[32m    764\u001b[39m     \u001b[38;5;28;01mreturn\u001b[39;00m \u001b[38;5;28mself\u001b[39m._result\n\u001b[32m    765\u001b[39m \u001b[38;5;28;01mfinally\u001b[39;00m:\n",
      "\u001b[31mMemoryError\u001b[39m: Unable to allocate 368. MiB for an array with shape (125536, 768) and data type float32"
     ]
    }
   ],
   "source": [
    "from sklearn.svm import LinearSVC\n",
    "from sklearn.model_selection import GridSearchCV\n",
    "\n",
    "# Define parameter grid for tuning\n",
    "param_grid = {\n",
    "    'C': [0.1, 1, 10, 100],\n",
    "    'max_iter': [1000, 2000, 3000],\n",
    "    'tol': [1e-4, 1e-3, 1e-2]\n",
    "}\n",
    "\n",
    "base_svc = LinearSVC()\n",
    "grid_search = GridSearchCV(base_svc, param_grid, cv=5, n_jobs=-1)\n",
    "grid_search.fit(train_X_smote, train_Y_smote)\n",
    "\n",
    "svm_model = grid_search.best_estimator_\n"
   ]
  },
  {
   "cell_type": "markdown",
   "metadata": {},
   "source": [
    "##### 5.3 Simple Neural Network"
   ]
  },
  {
   "cell_type": "code",
   "execution_count": 25,
   "metadata": {},
   "outputs": [],
   "source": [
    "# Model Architecture Hyperparameters\n",
    "input_shape = X_train.shape[1]\n",
    "dense_1_units = 64\n",
    "dense_1_activation = \"relu\"  \n",
    "dropout_1_rate = 0.0\n",
    "dense_2_units = 32\n",
    "dense_2_activation = \"relu\"  \n",
    "dropout_2_rate = 0.0\n",
    "output_units = len(np.unique(y_train))\n",
    "output_activation = \"softmax\"\n",
    "\n",
    "# Training Hyperparameters\n",
    "optimizer = \"sgd\"\n",
    "learning_rate = 0.001\n",
    "loss_function = \"sparse_categorical_crossentropy\"\n",
    "metrics = [\"accuracy\"]\n",
    "\n",
    "# Training Parameters\n",
    "batch_size = 16\n",
    "epochs = 15\n",
    "validation_data = (X_valid, y_valid)\n",
    "\n",
    "# Model Compilation & Training\n",
    "snn_model = tf.keras.Sequential([\n",
    "    tf.keras.layers.Input(shape=(input_shape,)),\n",
    "    tf.keras.layers.Dense(dense_1_units, activation = dense_1_activation),\n",
    "    tf.keras.layers.Dropout(dropout_1_rate),\n",
    "    tf.keras.layers.Dense(dense_2_units, activation = dense_2_activation),\n",
    "    tf.keras.layers.Dropout(dropout_2_rate),\n",
    "    tf.keras.layers.Dense(output_units, activation = output_activation)\n",
    "])\n",
    "\n",
    "snn_model.compile(optimizer=optimizer,\n",
    "              loss=loss_function,\n",
    "              metrics=metrics)\n",
    "\n",
    "history = snn_model.fit(X_train, y_train, validation_data=validation_data,\n",
    "                    epochs=epochs, batch_size=batch_size)"
   ]
  },
  {
   "cell_type": "markdown",
   "metadata": {},
   "source": [
    "##### 5.4 Logistic Regression"
   ]
  },
  {
   "cell_type": "code",
   "execution_count": 25,
   "metadata": {},
   "outputs": [],
   "source": [
    "param_grid = {\n",
    "    'C': [0.01, 0.1, 1, 10, 100],\n",
    "    'penalty': ['l2'],\n",
    "    'solver': ['lbfgs'],\n",
    "    'class_weight': ['balanced']\n",
    "}\n",
    "\n",
    "# Initialize base model\n",
    "base_model = LogisticRegression(max_iter=1000)\n",
    "\n",
    "# GridSearchCV setup\n",
    "grid_search = GridSearchCV(base_model, param_grid, cv=5, scoring='f1_macro')\n",
    "grid_search.fit(X_train_scaled, y_train)\n",
    "\n",
    "# Assign best model\n",
    "logistic_regression_model = grid_search.best_estimator_"
   ]
  },
  {
   "cell_type": "code",
   "execution_count": 26,
   "metadata": {},
   "outputs": [
    {
     "name": "stdout",
     "output_type": "stream",
     "text": [
      "{'C': 0.01, 'class_weight': 'balanced', 'penalty': 'l2', 'solver': 'lbfgs'}\n"
     ]
    }
   ],
   "source": [
    "print(grid_search.best_params_)\n"
   ]
  },
  {
   "cell_type": "markdown",
   "metadata": {},
   "source": [
    "##### 5.5 Image-Based Classifier\n",
    "The image-based classifier code can be found in models/image_scripts"
   ]
  },
  {
   "cell_type": "markdown",
   "metadata": {},
   "source": [
    "### 6. Alternative Models 🤷‍♂️"
   ]
  },
  {
   "cell_type": "markdown",
   "metadata": {},
   "source": [
    "##### 6.1 Transformer"
   ]
  },
  {
   "cell_type": "code",
   "execution_count": null,
   "metadata": {},
   "outputs": [],
   "source": [
    "def positional_encoding(seq_len, dim_model):\n",
    "    positions = np.arange(seq_len)[:, np.newaxis]\n",
    "    dims = np.arange(dim_model)[np.newaxis : 1]\n",
    "\n",
    "    angle_rate = 1 / np.power(10000, (2 * dims//2)) / np.float32(dim_model)\n",
    "    angle_radians = positions * angle_rate\n",
    "    sines = np.sin(angle_radians[:, 0::2])\n",
    "    cosines = np.cos(angle_radians[:, 1::2])\n",
    "    pos_encoding = np.zeros(angle_radians.shape)\n",
    "    pos_encoding[:, 0::2] = sines\n",
    "    pos_encoding[:, 1::2] = cosines\n",
    "    return tf.cast(pos_encoding, dtype = tf.float32)\n",
    "\n",
    "def feed_forward(dim_model, dim_feedforward):\n",
    "    return tf.keras.Sequential([\n",
    "        tf.keras.layers.Dense(dim_feedforward, activation = \"relu\"),\n",
    "        tf.keras.layers.Dense(dim_model, activation = \"linear\")\n",
    "    ])\n",
    "\n",
    "def create_look_ahead_mask(seq_len): # needed to have the output of Multi Head Attention pass-able to other layers\n",
    "    mask = 1 - tf.linalg.band_part(tf.ones((seq_len, seq_len)), -1, 0)\n",
    "    return mask[tf.newaxis, tf.newaxis, :, :]"
   ]
  },
  {
   "cell_type": "code",
   "execution_count": null,
   "metadata": {},
   "outputs": [],
   "source": [
    "class EncoderLayer(tf.keras.layers.Layer):\n",
    "    def __init__(self, dim_model, num_heads, dim_feedforward, dropout_rate = 0.1):\n",
    "        super().__init__()\n",
    "        self.multi_head_attention = tf.keras.layers.MultiHeadAttention(num_heads = num_heads, key_dim = dim_model//num_heads)\n",
    "        self.feedforward = feed_forward(dim_model, dim_feedforward)\n",
    "        self.norm1 = tf.keras.layers.LayerNormalization(epsilon = 1e-6)\n",
    "        self.dropout1 = tf.keras.layers.Dropout(dropout_rate)\n",
    "        self.norm2 = tf.keras.layers.LayerNormalization(epsilon = 1e-6)\n",
    "        self.dropout2 = tf.keras.layers.Dropout(dropout_rate)\n",
    "    \n",
    "    def call(self, x, training, mask = None):\n",
    "        attention = self.multi_head_attention(query = x, value = x, key = x, attention_mask = mask)\n",
    "        attention = self.dropout1(attention, training = training)\n",
    "        step_1 = self.norm1(x + attention)\n",
    "        step_2 = self.feedforward(step_1)\n",
    "        step_3 = self.dropout2(step_2, training = training)\n",
    "        res = self.norm2(step_1 + step_3)\n",
    "        return res\n",
    "    \n",
    "class DecoderLayer(tf.keras.layers.Layer):\n",
    "    def __init__(self, dim_model, num_heads, dim_feedforward, dropout_rate = 0.1):\n",
    "        super().__init__()\n",
    "        self.multi_head_attention_1 = tf.keras.layers.MultiHeadAttention(num_heads = num_heads, key_dim = dim_model//num_heads)\n",
    "        self.multi_head_attention_2 = tf.keras.layers.MultiHeadAttention(num_heads = num_heads, key_dim = dim_model//num_heads)\n",
    "        self.feedforward = feed_forward(dim_model, dim_feedforward)\n",
    "        self.norm1 = tf.keras.layers.LayerNormalization(epsilon = 1e-6)\n",
    "        self.norm2 = tf.keras.layers.LayerNormalization(epsilon = 1e-6)\n",
    "        self.norm3 = tf.keras.layers.LayerNormalization(epsilon = 1e-6)\n",
    "        self.dropout1 = tf.keras.layers.Dropout(dropout_rate)\n",
    "        self.dropout2 = tf.keras.layers.Dropout(dropout_rate)\n",
    "        self.dropout3 = tf.keras.layers.Dropout(dropout_rate)\n",
    "\n",
    "    def call(self, x, encode_res, training, look_ahead_mask = None, padding_mask = None):\n",
    "        attention = self.multi_head_attention_1(query = x, value = x, key = x, attention_mask = look_ahead_mask)\n",
    "        attention = self.dropout1(attention, training = training)\n",
    "        step_1 = self.norm1(x + attention)\n",
    "\n",
    "        attention2 = self.multi_head_attention_2(query = step_1, value =encode_res, key = encode_res, attention_mask = padding_mask)\n",
    "        attention2 = self.dropout2(attention2, training = training)\n",
    "        step_2 = self.norm2(step_1 + attention2)\n",
    "\n",
    "        step_3 = self.feedforward(step_2)\n",
    "        step_4 = self.dropout3(step_3, training = training)\n",
    "        res = self.norm3(step_2 + step_4)\n",
    "        return res\n",
    "    \n",
    "class Encoder(tf.keras.layers.Layer):\n",
    "    def __init__(self, num_layers, dim_model, num_heads, dim_feedforward, input_size, max_pos_encoding, dropout_rate = 0.1):\n",
    "        super().__init__()\n",
    "        self.dim_model = dim_model\n",
    "        self.num_layers = num_layers\n",
    "\n",
    "        self.embedding = tf.keras.layers.Embedding(input_size, dim_model)\n",
    "        self.pos_encoding = positional_encoding(max_pos_encoding, dim_model)\n",
    "        self.encode_layers = [EncoderLayer(dim_model, num_heads, dim_feedforward, dropout_rate) for _ in range(num_layers)]\n",
    "        self.dropout = tf.keras.layers.Dropout(dropout_rate) # don't know if this is needed tho\n",
    "\n",
    "    def call(self, x, training, mask = None):\n",
    "        seq_len = tf.shape(x)[1]\n",
    "        x = self.embedding * tf.math.sqrt(tf.cast(self.dim_model, tf.float32)) + self.pos_encoding[:seq_len, :]\n",
    "        x = self.dropout(x, training = training)\n",
    "        for i in range(self.num_layers):\n",
    "            x = self.encode_layers[i](x, training, mask)\n",
    "        return x\n",
    "    \n",
    "\n",
    "class Decoder(tf.keras.layers.Layer):\n",
    "    def __init__(self, num_layers, dim_model, num_heads, dim_feedforward, input_size, max_pos_encoding, dropout_rate = 0.1):\n",
    "        super().__init__()\n",
    "        self.dim_model = dim_model\n",
    "        self.num_layers = num_layers\n",
    "\n",
    "        self.embedding = tf.keras.layers.Embedding(input_size, dim_model)\n",
    "        self.pos_encoding = positional_encoding(max_pos_encoding, dim_model)\n",
    "        self.decode_layers = [DecoderLayer(dim_model, num_heads, dim_feedforward, dropout_rate) for _ in range(num_layers)]\n",
    "        self.dropout = tf.keras.layers.Dropout(dropout_rate) # don't know if this is needed tho, hopefully yes\n",
    "\n",
    "    def call(self, x, encode_output, training, look_ahead_mask = None, padding_mask = None ):\n",
    "        seq_len = tf.shape(x)[1]\n",
    "        x = self.embedding * tf.math.sqrt(tf.cast(self.dim_model, tf.float32)) + self.pos_encoding[:seq_len, :]\n",
    "        x = self.dropout(x, training = training)\n",
    "        for i in range(self.num_layers):\n",
    "            x = self.decode_layers[i](x, encode_output, training, look_ahead_mask, padding_mask)\n",
    "        return x\n",
    "\n",
    "class Transformer(tf.keras.Model):\n",
    "    def __init__(self, num_layers, dim_model, num_heads, dim_feedforward,\n",
    "                 input_size, target_size,\n",
    "                 pe_input, pe_target, rate=0.1):\n",
    "        super().__init__()\n",
    "        self.look_ahead_mask = create_look_ahead_mask(pe_target)\n",
    "        self.encoder = Encoder(num_layers, dim_model, num_heads, dim_feedforward,\n",
    "                               input_size, pe_input, rate)\n",
    "        self.decoder = Decoder(num_layers, dim_model, num_heads, dim_feedforward,\n",
    "                               target_size, pe_target, rate)\n",
    "        self.final_layer = tf.keras.layers.Dense(target_size)\n",
    "    \n",
    "    def call(self, input, target, training, look_ahead_mask = None):\n",
    "        if look_ahead_mask == None:\n",
    "            look_ahead_mask = self.look_ahead_mask\n",
    "        encode_output = self.encoder(input, training, mask = None)\n",
    "        decode_output = self.decoder(target, encode_output, training, look_ahead_mask, padding_mask = None)\n",
    "        final_output = self.final_layer(decode_output)\n",
    "        return final_output"
   ]
  },
  {
   "cell_type": "code",
   "execution_count": null,
   "metadata": {},
   "outputs": [],
   "source": [
    "num_layers = 1\n",
    "dim_model = 128\n",
    "dim_feedforward = 512\n",
    "num_heads = 8\n",
    "input_size = 10101\n",
    "target_size = 8000\n",
    "max_seq_len = 50\n",
    "dropout_rate = 0.1"
   ]
  },
  {
   "cell_type": "code",
   "execution_count": null,
   "metadata": {},
   "outputs": [],
   "source": [
    "auto_correct = Transformer(\n",
    "    num_layers = num_layers,\n",
    "    dim_model = dim_model,\n",
    "    num_heads = num_heads,\n",
    "    dim_feedforward = dim_feedforward,\n",
    "    input_size = input_size,\n",
    "    target_size = target_size,\n",
    "    pe_input = max_seq_len,\n",
    "    pe_target = max_seq_len,\n",
    "    dropout_rate = dropout_rate\n",
    ")"
   ]
  },
  {
   "cell_type": "code",
   "execution_count": null,
   "metadata": {},
   "outputs": [],
   "source": [
    "initial_learning_rate = 1e-3\n",
    "lr_schedule = tf.keras.optimizers.schedules.CosineDecay(\n",
    "    initial_learning_rate=initial_learning_rate,\n",
    "    decay_steps=10000,\n",
    "    alpha=0.0\n",
    ")\n",
    "\n",
    "optimizer = tf.keras.optimizers.Adam(learning_rate=lr_schedule)\n",
    "loss_object = tf.keras.losses.SparseCategoricalCrossentropy(from_logits=True, reduction='none')\n",
    "\n",
    "def loss_function(real, pred):\n",
    "    loss_ = loss_object(real, pred)\n",
    "    mask = tf.cast(tf.math.not_equal(real, 0), dtype=loss_.dtype)\n",
    "    loss_ *= mask\n",
    "    return tf.reduce_sum(loss_) / tf.reduce_sum(mask)\n",
    "\n",
    "auto_correct.compile(optimizer=optimizer, loss=loss_function)\n",
    "\n",
    "num_samples = 10000\n",
    "sequence_length = 128\n",
    "vocab_size = 20000\n",
    "\n",
    "BATCH_SIZE = 32\n",
    "dataset = tf.data.Dataset.from_tensor_slices((df_train[\"sentence\"], df_train[\"processed\"]))\n",
    "dataset = dataset.shuffle(buffer_size=1000).batch(BATCH_SIZE).prefetch(tf.data.AUTOTUNE)\n",
    "\n",
    "callbacks = [\n",
    "    tf.keras.callbacks.EarlyStopping(monitor='loss', patience=5, restore_best_weights=True),\n",
    "    tf.keras.callbacks.ModelCheckpoint(filepath='transformer_checkpoint.h5',\n",
    "                                       monitor='loss', save_best_only=True, verbose=1)\n",
    "]\n",
    "\n",
    "EPOCHS = 50\n",
    "history = auto_correct.fit(dataset, epochs=EPOCHS, verbose = 2, callbacks=callbacks)\n",
    "\n",
    "print(\"Training loss history:\", history.history['loss'])"
   ]
  },
  {
   "cell_type": "markdown",
   "metadata": {},
   "source": [
    "### 7. Model Caching 🌚"
   ]
  },
  {
   "cell_type": "markdown",
   "metadata": {},
   "source": [
    "#### 7.1. Naming the Models / Caching Config"
   ]
  },
  {
   "cell_type": "code",
   "execution_count": 20,
   "metadata": {},
   "outputs": [
    {
     "ename": "NameError",
     "evalue": "name 'DecisionTree_model' is not defined",
     "output_type": "error",
     "traceback": [
      "\u001b[31m---------------------------------------------------------------------------\u001b[39m",
      "\u001b[31mNameError\u001b[39m                                 Traceback (most recent call last)",
      "\u001b[36mCell\u001b[39m\u001b[36m \u001b[39m\u001b[32mIn[20]\u001b[39m\u001b[32m, line 1\u001b[39m\n\u001b[32m----> \u001b[39m\u001b[32m1\u001b[39m list_of_models = [\u001b[43mDecisionTree_model\u001b[49m,\n\u001b[32m      2\u001b[39m                   RandomForest_model,\n\u001b[32m      3\u001b[39m                   ExtraTreeClassifier_model,\n\u001b[32m      4\u001b[39m                   svm_model, \n\u001b[32m      5\u001b[39m                   snn_model,\n\u001b[32m      6\u001b[39m                   logistic_regression_model\n\u001b[32m      7\u001b[39m                   ]\n\u001b[32m      9\u001b[39m \u001b[38;5;66;03m# make sure this list is updated if you add on to the list of models above\u001b[39;00m\n\u001b[32m     10\u001b[39m model_names = [\n\u001b[32m     11\u001b[39m     \u001b[33m\"\u001b[39m\u001b[33mdecision_tree\u001b[39m\u001b[33m\"\u001b[39m,\n\u001b[32m     12\u001b[39m     \u001b[33m\"\u001b[39m\u001b[33mrandom_forest\u001b[39m\u001b[33m\"\u001b[39m,\n\u001b[32m   (...)\u001b[39m\u001b[32m     16\u001b[39m     \u001b[33m\"\u001b[39m\u001b[33mlogistic_regression\u001b[39m\u001b[33m\"\u001b[39m\n\u001b[32m     17\u001b[39m ]\n",
      "\u001b[31mNameError\u001b[39m: name 'DecisionTree_model' is not defined"
     ]
    }
   ],
   "source": [
    "list_of_models = [DecisionTree_model,\n",
    "                  RandomForest_model,\n",
    "                  ExtraTreeClassifier_model,\n",
    "                  svm_model, \n",
    "                  snn_model,\n",
    "                  logistic_regression_model\n",
    "                  ]\n",
    "\n",
    "\n",
    "\n",
    "assert len(model_names) == len(list_of_models)"
   ]
  },
  {
   "cell_type": "code",
   "execution_count": 22,
   "metadata": {},
   "outputs": [],
   "source": [
    "# make sure this list is updated if you add on to the list of models above\n",
    "model_names = [\n",
    "    \"decision_tree\",\n",
    "    \"random_forest\",\n",
    "    \"extra_tree\"\n",
    "    \"svm\",\n",
    "    \"simple_neural\",\n",
    "    \"logistic_regression\"\n",
    "]"
   ]
  },
  {
   "cell_type": "markdown",
   "metadata": {},
   "source": [
    "#### 7.2. Actually Caching the Models"
   ]
  },
  {
   "cell_type": "markdown",
   "metadata": {},
   "source": [
    "##### 7.2.1. Local Cache\n",
    "Would recommend running this so that your testing later on isn't slow / disrupted, but also do run 7.2.2. so that other people will be able to use your model"
   ]
  },
  {
   "cell_type": "code",
   "execution_count": 38,
   "metadata": {},
   "outputs": [
    {
     "name": "stdout",
     "output_type": "stream",
     "text": [
      "Skipping random_forest (model is not set up yet aka None)\n",
      "Saved model: svm.pkl\n",
      "Skipping simple_neural (model is not set up yet aka None)\n",
      "Skipping cnn (model is not set up yet aka None)\n",
      "Saved model: logistic_regression.pkl\n",
      "Skipping image (model is not set up yet aka None)\n"
     ]
    }
   ],
   "source": [
    "def save_models(list_of_models, model_names, save_dir=\"models\"):\n",
    "    for model, name in zip(list_of_models, model_names):\n",
    "        if model is None:\n",
    "            print(f\"Skipping {name} (model is not set up yet aka None)\")\n",
    "            continue\n",
    "\n",
    "        # Keras models\n",
    "        if isinstance(model, Model):\n",
    "            path = os.path.join(save_dir, f\"{name}.keras\")\n",
    "            model.save(path)\n",
    "            print(f\"Saved model: {name}.keras\")\n",
    "\n",
    "        # SKlearn models\n",
    "        else:\n",
    "            path = os.path.join(save_dir, f\"{name}.pkl\")\n",
    "            with open(path, \"wb\") as f:\n",
    "                pickle.dump(model, f)\n",
    "            print(f\"Saved model: {name}.pkl\")\n",
    "\n",
    "save_models(list_of_models, model_names, save_dir=\"models\")"
   ]
  },
  {
   "cell_type": "markdown",
   "metadata": {},
   "source": [
    "#### 7.2.2. S3 Cache\n",
    "Please use this 🙏"
   ]
  },
  {
   "cell_type": "markdown",
   "metadata": {},
   "source": [
    "#### "
   ]
  },
  {
   "cell_type": "code",
   "execution_count": 40,
   "metadata": {},
   "outputs": [
    {
     "ename": "NoCredentialsError",
     "evalue": "Unable to locate credentials",
     "output_type": "error",
     "traceback": [
      "\u001b[0;31m---------------------------------------------------------------------------\u001b[0m",
      "\u001b[0;31mNoCredentialsError\u001b[0m                        Traceback (most recent call last)",
      "Cell \u001b[0;32mIn[40], line 21\u001b[0m\n\u001b[1;32m     17\u001b[0m         s3\u001b[38;5;241m.\u001b[39mupload_file(local_path, bucket_name, s3_key)\n\u001b[1;32m     19\u001b[0m     \u001b[38;5;28mprint\u001b[39m(\u001b[38;5;124m\"\u001b[39m\u001b[38;5;124mModel saving complete\u001b[39m\u001b[38;5;124m\"\u001b[39m)\n\u001b[0;32m---> 21\u001b[0m save_models_s3(\n\u001b[1;32m     22\u001b[0m     session\u001b[38;5;241m=\u001b[39msession,\n\u001b[1;32m     23\u001b[0m     local_dir\u001b[38;5;241m=\u001b[39m\u001b[38;5;124m\"\u001b[39m\u001b[38;5;124mmodels\u001b[39m\u001b[38;5;124m\"\u001b[39m,\n\u001b[1;32m     24\u001b[0m     bucket_name\u001b[38;5;241m=\u001b[39m\u001b[38;5;124m\"\u001b[39m\u001b[38;5;124mcs3244-twemoji-ay2425-s2\u001b[39m\u001b[38;5;124m\"\u001b[39m,\n\u001b[1;32m     25\u001b[0m     s3_prefix\u001b[38;5;241m=\u001b[39m\u001b[38;5;124m\"\u001b[39m\u001b[38;5;124mmodels/\u001b[39m\u001b[38;5;124m\"\u001b[39m\n\u001b[1;32m     26\u001b[0m )\n",
      "Cell \u001b[0;32mIn[40], line 9\u001b[0m, in \u001b[0;36msave_models_s3\u001b[0;34m(session, local_dir, bucket_name, s3_prefix)\u001b[0m\n\u001b[1;32m      6\u001b[0m s3_key \u001b[38;5;241m=\u001b[39m os\u001b[38;5;241m.\u001b[39mpath\u001b[38;5;241m.\u001b[39mjoin(s3_prefix, filename)\n\u001b[1;32m      8\u001b[0m \u001b[38;5;66;03m# check if file alr exists!\u001b[39;00m\n\u001b[0;32m----> 9\u001b[0m response \u001b[38;5;241m=\u001b[39m s3\u001b[38;5;241m.\u001b[39mlist_objects_v2(Bucket\u001b[38;5;241m=\u001b[39mbucket_name, Prefix\u001b[38;5;241m=\u001b[39ms3_key)\n\u001b[1;32m     10\u001b[0m exists \u001b[38;5;241m=\u001b[39m \u001b[38;5;124m\"\u001b[39m\u001b[38;5;124mContents\u001b[39m\u001b[38;5;124m\"\u001b[39m \u001b[38;5;129;01min\u001b[39;00m response \u001b[38;5;129;01mand\u001b[39;00m \u001b[38;5;28many\u001b[39m(obj[\u001b[38;5;124m\"\u001b[39m\u001b[38;5;124mKey\u001b[39m\u001b[38;5;124m\"\u001b[39m] \u001b[38;5;241m==\u001b[39m s3_key \u001b[38;5;28;01mfor\u001b[39;00m obj \u001b[38;5;129;01min\u001b[39;00m response[\u001b[38;5;124m\"\u001b[39m\u001b[38;5;124mContents\u001b[39m\u001b[38;5;124m\"\u001b[39m])\n\u001b[1;32m     12\u001b[0m \u001b[38;5;28;01mif\u001b[39;00m exists:\n",
      "File \u001b[0;32m/opt/anaconda3/lib/python3.12/site-packages/botocore/client.py:570\u001b[0m, in \u001b[0;36mClientCreator._create_api_method.<locals>._api_call\u001b[0;34m(self, *args, **kwargs)\u001b[0m\n\u001b[1;32m    566\u001b[0m     \u001b[38;5;28;01mraise\u001b[39;00m \u001b[38;5;167;01mTypeError\u001b[39;00m(\n\u001b[1;32m    567\u001b[0m         \u001b[38;5;124mf\u001b[39m\u001b[38;5;124m\"\u001b[39m\u001b[38;5;132;01m{\u001b[39;00mpy_operation_name\u001b[38;5;132;01m}\u001b[39;00m\u001b[38;5;124m() only accepts keyword arguments.\u001b[39m\u001b[38;5;124m\"\u001b[39m\n\u001b[1;32m    568\u001b[0m     )\n\u001b[1;32m    569\u001b[0m \u001b[38;5;66;03m# The \"self\" in this scope is referring to the BaseClient.\u001b[39;00m\n\u001b[0;32m--> 570\u001b[0m \u001b[38;5;28;01mreturn\u001b[39;00m \u001b[38;5;28mself\u001b[39m\u001b[38;5;241m.\u001b[39m_make_api_call(operation_name, kwargs)\n",
      "File \u001b[0;32m/opt/anaconda3/lib/python3.12/site-packages/botocore/context.py:124\u001b[0m, in \u001b[0;36mwith_current_context.<locals>.decorator.<locals>.wrapper\u001b[0;34m(*args, **kwargs)\u001b[0m\n\u001b[1;32m    122\u001b[0m \u001b[38;5;28;01mif\u001b[39;00m hook:\n\u001b[1;32m    123\u001b[0m     hook()\n\u001b[0;32m--> 124\u001b[0m \u001b[38;5;28;01mreturn\u001b[39;00m func(\u001b[38;5;241m*\u001b[39margs, \u001b[38;5;241m*\u001b[39m\u001b[38;5;241m*\u001b[39mkwargs)\n",
      "File \u001b[0;32m/opt/anaconda3/lib/python3.12/site-packages/botocore/client.py:1013\u001b[0m, in \u001b[0;36mBaseClient._make_api_call\u001b[0;34m(self, operation_name, api_params)\u001b[0m\n\u001b[1;32m   1009\u001b[0m     maybe_compress_request(\n\u001b[1;32m   1010\u001b[0m         \u001b[38;5;28mself\u001b[39m\u001b[38;5;241m.\u001b[39mmeta\u001b[38;5;241m.\u001b[39mconfig, request_dict, operation_model\n\u001b[1;32m   1011\u001b[0m     )\n\u001b[1;32m   1012\u001b[0m     apply_request_checksum(request_dict)\n\u001b[0;32m-> 1013\u001b[0m     http, parsed_response \u001b[38;5;241m=\u001b[39m \u001b[38;5;28mself\u001b[39m\u001b[38;5;241m.\u001b[39m_make_request(\n\u001b[1;32m   1014\u001b[0m         operation_model, request_dict, request_context\n\u001b[1;32m   1015\u001b[0m     )\n\u001b[1;32m   1017\u001b[0m \u001b[38;5;28mself\u001b[39m\u001b[38;5;241m.\u001b[39mmeta\u001b[38;5;241m.\u001b[39mevents\u001b[38;5;241m.\u001b[39memit(\n\u001b[1;32m   1018\u001b[0m     \u001b[38;5;124mf\u001b[39m\u001b[38;5;124m'\u001b[39m\u001b[38;5;124mafter-call.\u001b[39m\u001b[38;5;132;01m{\u001b[39;00mservice_id\u001b[38;5;132;01m}\u001b[39;00m\u001b[38;5;124m.\u001b[39m\u001b[38;5;132;01m{\u001b[39;00moperation_name\u001b[38;5;132;01m}\u001b[39;00m\u001b[38;5;124m'\u001b[39m,\n\u001b[1;32m   1019\u001b[0m     http_response\u001b[38;5;241m=\u001b[39mhttp,\n\u001b[0;32m   (...)\u001b[0m\n\u001b[1;32m   1022\u001b[0m     context\u001b[38;5;241m=\u001b[39mrequest_context,\n\u001b[1;32m   1023\u001b[0m )\n\u001b[1;32m   1025\u001b[0m \u001b[38;5;28;01mif\u001b[39;00m http\u001b[38;5;241m.\u001b[39mstatus_code \u001b[38;5;241m>\u001b[39m\u001b[38;5;241m=\u001b[39m \u001b[38;5;241m300\u001b[39m:\n",
      "File \u001b[0;32m/opt/anaconda3/lib/python3.12/site-packages/botocore/client.py:1037\u001b[0m, in \u001b[0;36mBaseClient._make_request\u001b[0;34m(self, operation_model, request_dict, request_context)\u001b[0m\n\u001b[1;32m   1035\u001b[0m \u001b[38;5;28;01mdef\u001b[39;00m \u001b[38;5;21m_make_request\u001b[39m(\u001b[38;5;28mself\u001b[39m, operation_model, request_dict, request_context):\n\u001b[1;32m   1036\u001b[0m     \u001b[38;5;28;01mtry\u001b[39;00m:\n\u001b[0;32m-> 1037\u001b[0m         \u001b[38;5;28;01mreturn\u001b[39;00m \u001b[38;5;28mself\u001b[39m\u001b[38;5;241m.\u001b[39m_endpoint\u001b[38;5;241m.\u001b[39mmake_request(operation_model, request_dict)\n\u001b[1;32m   1038\u001b[0m     \u001b[38;5;28;01mexcept\u001b[39;00m \u001b[38;5;167;01mException\u001b[39;00m \u001b[38;5;28;01mas\u001b[39;00m e:\n\u001b[1;32m   1039\u001b[0m         \u001b[38;5;28mself\u001b[39m\u001b[38;5;241m.\u001b[39mmeta\u001b[38;5;241m.\u001b[39mevents\u001b[38;5;241m.\u001b[39memit(\n\u001b[1;32m   1040\u001b[0m             \u001b[38;5;124mf\u001b[39m\u001b[38;5;124m'\u001b[39m\u001b[38;5;124mafter-call-error.\u001b[39m\u001b[38;5;132;01m{\u001b[39;00m\u001b[38;5;28mself\u001b[39m\u001b[38;5;241m.\u001b[39m_service_model\u001b[38;5;241m.\u001b[39mservice_id\u001b[38;5;241m.\u001b[39mhyphenize()\u001b[38;5;132;01m}\u001b[39;00m\u001b[38;5;124m.\u001b[39m\u001b[38;5;132;01m{\u001b[39;00moperation_model\u001b[38;5;241m.\u001b[39mname\u001b[38;5;132;01m}\u001b[39;00m\u001b[38;5;124m'\u001b[39m,\n\u001b[1;32m   1041\u001b[0m             exception\u001b[38;5;241m=\u001b[39me,\n\u001b[1;32m   1042\u001b[0m             context\u001b[38;5;241m=\u001b[39mrequest_context,\n\u001b[1;32m   1043\u001b[0m         )\n",
      "File \u001b[0;32m/opt/anaconda3/lib/python3.12/site-packages/botocore/endpoint.py:119\u001b[0m, in \u001b[0;36mEndpoint.make_request\u001b[0;34m(self, operation_model, request_dict)\u001b[0m\n\u001b[1;32m    113\u001b[0m \u001b[38;5;28;01mdef\u001b[39;00m \u001b[38;5;21mmake_request\u001b[39m(\u001b[38;5;28mself\u001b[39m, operation_model, request_dict):\n\u001b[1;32m    114\u001b[0m     logger\u001b[38;5;241m.\u001b[39mdebug(\n\u001b[1;32m    115\u001b[0m         \u001b[38;5;124m\"\u001b[39m\u001b[38;5;124mMaking request for \u001b[39m\u001b[38;5;132;01m%s\u001b[39;00m\u001b[38;5;124m with params: \u001b[39m\u001b[38;5;132;01m%s\u001b[39;00m\u001b[38;5;124m\"\u001b[39m,\n\u001b[1;32m    116\u001b[0m         operation_model,\n\u001b[1;32m    117\u001b[0m         request_dict,\n\u001b[1;32m    118\u001b[0m     )\n\u001b[0;32m--> 119\u001b[0m     \u001b[38;5;28;01mreturn\u001b[39;00m \u001b[38;5;28mself\u001b[39m\u001b[38;5;241m.\u001b[39m_send_request(request_dict, operation_model)\n",
      "File \u001b[0;32m/opt/anaconda3/lib/python3.12/site-packages/botocore/endpoint.py:196\u001b[0m, in \u001b[0;36mEndpoint._send_request\u001b[0;34m(self, request_dict, operation_model)\u001b[0m\n\u001b[1;32m    194\u001b[0m context \u001b[38;5;241m=\u001b[39m request_dict[\u001b[38;5;124m'\u001b[39m\u001b[38;5;124mcontext\u001b[39m\u001b[38;5;124m'\u001b[39m]\n\u001b[1;32m    195\u001b[0m \u001b[38;5;28mself\u001b[39m\u001b[38;5;241m.\u001b[39m_update_retries_context(context, attempts)\n\u001b[0;32m--> 196\u001b[0m request \u001b[38;5;241m=\u001b[39m \u001b[38;5;28mself\u001b[39m\u001b[38;5;241m.\u001b[39mcreate_request(request_dict, operation_model)\n\u001b[1;32m    197\u001b[0m success_response, exception \u001b[38;5;241m=\u001b[39m \u001b[38;5;28mself\u001b[39m\u001b[38;5;241m.\u001b[39m_get_response(\n\u001b[1;32m    198\u001b[0m     request, operation_model, context\n\u001b[1;32m    199\u001b[0m )\n\u001b[1;32m    200\u001b[0m \u001b[38;5;28;01mwhile\u001b[39;00m \u001b[38;5;28mself\u001b[39m\u001b[38;5;241m.\u001b[39m_needs_retry(\n\u001b[1;32m    201\u001b[0m     attempts,\n\u001b[1;32m    202\u001b[0m     operation_model,\n\u001b[0;32m   (...)\u001b[0m\n\u001b[1;32m    205\u001b[0m     exception,\n\u001b[1;32m    206\u001b[0m ):\n",
      "File \u001b[0;32m/opt/anaconda3/lib/python3.12/site-packages/botocore/endpoint.py:132\u001b[0m, in \u001b[0;36mEndpoint.create_request\u001b[0;34m(self, params, operation_model)\u001b[0m\n\u001b[1;32m    130\u001b[0m     service_id \u001b[38;5;241m=\u001b[39m operation_model\u001b[38;5;241m.\u001b[39mservice_model\u001b[38;5;241m.\u001b[39mservice_id\u001b[38;5;241m.\u001b[39mhyphenize()\n\u001b[1;32m    131\u001b[0m     event_name \u001b[38;5;241m=\u001b[39m \u001b[38;5;124mf\u001b[39m\u001b[38;5;124m'\u001b[39m\u001b[38;5;124mrequest-created.\u001b[39m\u001b[38;5;132;01m{\u001b[39;00mservice_id\u001b[38;5;132;01m}\u001b[39;00m\u001b[38;5;124m.\u001b[39m\u001b[38;5;132;01m{\u001b[39;00moperation_model\u001b[38;5;241m.\u001b[39mname\u001b[38;5;132;01m}\u001b[39;00m\u001b[38;5;124m'\u001b[39m\n\u001b[0;32m--> 132\u001b[0m     \u001b[38;5;28mself\u001b[39m\u001b[38;5;241m.\u001b[39m_event_emitter\u001b[38;5;241m.\u001b[39memit(\n\u001b[1;32m    133\u001b[0m         event_name,\n\u001b[1;32m    134\u001b[0m         request\u001b[38;5;241m=\u001b[39mrequest,\n\u001b[1;32m    135\u001b[0m         operation_name\u001b[38;5;241m=\u001b[39moperation_model\u001b[38;5;241m.\u001b[39mname,\n\u001b[1;32m    136\u001b[0m     )\n\u001b[1;32m    137\u001b[0m prepared_request \u001b[38;5;241m=\u001b[39m \u001b[38;5;28mself\u001b[39m\u001b[38;5;241m.\u001b[39mprepare_request(request)\n\u001b[1;32m    138\u001b[0m \u001b[38;5;28;01mreturn\u001b[39;00m prepared_request\n",
      "File \u001b[0;32m/opt/anaconda3/lib/python3.12/site-packages/botocore/hooks.py:412\u001b[0m, in \u001b[0;36mEventAliaser.emit\u001b[0;34m(self, event_name, **kwargs)\u001b[0m\n\u001b[1;32m    410\u001b[0m \u001b[38;5;28;01mdef\u001b[39;00m \u001b[38;5;21memit\u001b[39m(\u001b[38;5;28mself\u001b[39m, event_name, \u001b[38;5;241m*\u001b[39m\u001b[38;5;241m*\u001b[39mkwargs):\n\u001b[1;32m    411\u001b[0m     aliased_event_name \u001b[38;5;241m=\u001b[39m \u001b[38;5;28mself\u001b[39m\u001b[38;5;241m.\u001b[39m_alias_event_name(event_name)\n\u001b[0;32m--> 412\u001b[0m     \u001b[38;5;28;01mreturn\u001b[39;00m \u001b[38;5;28mself\u001b[39m\u001b[38;5;241m.\u001b[39m_emitter\u001b[38;5;241m.\u001b[39memit(aliased_event_name, \u001b[38;5;241m*\u001b[39m\u001b[38;5;241m*\u001b[39mkwargs)\n",
      "File \u001b[0;32m/opt/anaconda3/lib/python3.12/site-packages/botocore/hooks.py:256\u001b[0m, in \u001b[0;36mHierarchicalEmitter.emit\u001b[0;34m(self, event_name, **kwargs)\u001b[0m\n\u001b[1;32m    245\u001b[0m \u001b[38;5;28;01mdef\u001b[39;00m \u001b[38;5;21memit\u001b[39m(\u001b[38;5;28mself\u001b[39m, event_name, \u001b[38;5;241m*\u001b[39m\u001b[38;5;241m*\u001b[39mkwargs):\n\u001b[1;32m    246\u001b[0m \u001b[38;5;250m    \u001b[39m\u001b[38;5;124;03m\"\"\"\u001b[39;00m\n\u001b[1;32m    247\u001b[0m \u001b[38;5;124;03m    Emit an event by name with arguments passed as keyword args.\u001b[39;00m\n\u001b[1;32m    248\u001b[0m \n\u001b[0;32m   (...)\u001b[0m\n\u001b[1;32m    254\u001b[0m \u001b[38;5;124;03m             handlers.\u001b[39;00m\n\u001b[1;32m    255\u001b[0m \u001b[38;5;124;03m    \"\"\"\u001b[39;00m\n\u001b[0;32m--> 256\u001b[0m     \u001b[38;5;28;01mreturn\u001b[39;00m \u001b[38;5;28mself\u001b[39m\u001b[38;5;241m.\u001b[39m_emit(event_name, kwargs)\n",
      "File \u001b[0;32m/opt/anaconda3/lib/python3.12/site-packages/botocore/hooks.py:239\u001b[0m, in \u001b[0;36mHierarchicalEmitter._emit\u001b[0;34m(self, event_name, kwargs, stop_on_response)\u001b[0m\n\u001b[1;32m    237\u001b[0m \u001b[38;5;28;01mfor\u001b[39;00m handler \u001b[38;5;129;01min\u001b[39;00m handlers_to_call:\n\u001b[1;32m    238\u001b[0m     logger\u001b[38;5;241m.\u001b[39mdebug(\u001b[38;5;124m'\u001b[39m\u001b[38;5;124mEvent \u001b[39m\u001b[38;5;132;01m%s\u001b[39;00m\u001b[38;5;124m: calling handler \u001b[39m\u001b[38;5;132;01m%s\u001b[39;00m\u001b[38;5;124m'\u001b[39m, event_name, handler)\n\u001b[0;32m--> 239\u001b[0m     response \u001b[38;5;241m=\u001b[39m handler(\u001b[38;5;241m*\u001b[39m\u001b[38;5;241m*\u001b[39mkwargs)\n\u001b[1;32m    240\u001b[0m     responses\u001b[38;5;241m.\u001b[39mappend((handler, response))\n\u001b[1;32m    241\u001b[0m     \u001b[38;5;28;01mif\u001b[39;00m stop_on_response \u001b[38;5;129;01mand\u001b[39;00m response \u001b[38;5;129;01mis\u001b[39;00m \u001b[38;5;129;01mnot\u001b[39;00m \u001b[38;5;28;01mNone\u001b[39;00m:\n",
      "File \u001b[0;32m/opt/anaconda3/lib/python3.12/site-packages/botocore/signers.py:106\u001b[0m, in \u001b[0;36mRequestSigner.handler\u001b[0;34m(self, operation_name, request, **kwargs)\u001b[0m\n\u001b[1;32m    101\u001b[0m \u001b[38;5;28;01mdef\u001b[39;00m \u001b[38;5;21mhandler\u001b[39m(\u001b[38;5;28mself\u001b[39m, operation_name\u001b[38;5;241m=\u001b[39m\u001b[38;5;28;01mNone\u001b[39;00m, request\u001b[38;5;241m=\u001b[39m\u001b[38;5;28;01mNone\u001b[39;00m, \u001b[38;5;241m*\u001b[39m\u001b[38;5;241m*\u001b[39mkwargs):\n\u001b[1;32m    102\u001b[0m     \u001b[38;5;66;03m# This is typically hooked up to the \"request-created\" event\u001b[39;00m\n\u001b[1;32m    103\u001b[0m     \u001b[38;5;66;03m# from a client's event emitter.  When a new request is created\u001b[39;00m\n\u001b[1;32m    104\u001b[0m     \u001b[38;5;66;03m# this method is invoked to sign the request.\u001b[39;00m\n\u001b[1;32m    105\u001b[0m     \u001b[38;5;66;03m# Don't call this method directly.\u001b[39;00m\n\u001b[0;32m--> 106\u001b[0m     \u001b[38;5;28;01mreturn\u001b[39;00m \u001b[38;5;28mself\u001b[39m\u001b[38;5;241m.\u001b[39msign(operation_name, request)\n",
      "File \u001b[0;32m/opt/anaconda3/lib/python3.12/site-packages/botocore/signers.py:198\u001b[0m, in \u001b[0;36mRequestSigner.sign\u001b[0;34m(self, operation_name, request, region_name, signing_type, expires_in, signing_name)\u001b[0m\n\u001b[1;32m    195\u001b[0m     \u001b[38;5;28;01melse\u001b[39;00m:\n\u001b[1;32m    196\u001b[0m         \u001b[38;5;28;01mraise\u001b[39;00m e\n\u001b[0;32m--> 198\u001b[0m auth\u001b[38;5;241m.\u001b[39madd_auth(request)\n",
      "File \u001b[0;32m/opt/anaconda3/lib/python3.12/site-packages/botocore/auth.py:424\u001b[0m, in \u001b[0;36mSigV4Auth.add_auth\u001b[0;34m(self, request)\u001b[0m\n\u001b[1;32m    422\u001b[0m \u001b[38;5;28;01mdef\u001b[39;00m \u001b[38;5;21madd_auth\u001b[39m(\u001b[38;5;28mself\u001b[39m, request):\n\u001b[1;32m    423\u001b[0m     \u001b[38;5;28;01mif\u001b[39;00m \u001b[38;5;28mself\u001b[39m\u001b[38;5;241m.\u001b[39mcredentials \u001b[38;5;129;01mis\u001b[39;00m \u001b[38;5;28;01mNone\u001b[39;00m:\n\u001b[0;32m--> 424\u001b[0m         \u001b[38;5;28;01mraise\u001b[39;00m NoCredentialsError()\n\u001b[1;32m    425\u001b[0m     datetime_now \u001b[38;5;241m=\u001b[39m datetime\u001b[38;5;241m.\u001b[39mdatetime\u001b[38;5;241m.\u001b[39mutcnow()\n\u001b[1;32m    426\u001b[0m     request\u001b[38;5;241m.\u001b[39mcontext[\u001b[38;5;124m'\u001b[39m\u001b[38;5;124mtimestamp\u001b[39m\u001b[38;5;124m'\u001b[39m] \u001b[38;5;241m=\u001b[39m datetime_now\u001b[38;5;241m.\u001b[39mstrftime(SIGV4_TIMESTAMP)\n",
      "\u001b[0;31mNoCredentialsError\u001b[0m: Unable to locate credentials"
     ]
    }
   ],
   "source": [
    "def save_models_s3(session, local_dir=\"models\", bucket_name=\"cs3244-twemoji-ay2425-s2\", s3_prefix=\"models/\"):\n",
    "    s3 = session.client(\"s3\")\n",
    "\n",
    "    for filename in os.listdir(local_dir):\n",
    "        local_path = os.path.join(local_dir, filename)\n",
    "        s3_key = os.path.join(s3_prefix, filename)\n",
    "\n",
    "        # check if file alr exists!\n",
    "        response = s3.list_objects_v2(Bucket=bucket_name, Prefix=s3_key)\n",
    "        exists = \"Contents\" in response and any(obj[\"Key\"] == s3_key for obj in response[\"Contents\"])\n",
    "\n",
    "        if exists:\n",
    "            print(f\"Skipping {filename} (already exists in S3)\")\n",
    "            continue\n",
    "\n",
    "        print(f\"Uploading {filename} → s3://{bucket_name}/{s3_key}\")\n",
    "        s3.upload_file(local_path, bucket_name, s3_key)\n",
    "\n",
    "    print(\"Model saving complete\")\n",
    "\n",
    "save_models_s3(\n",
    "    session=session,\n",
    "    local_dir=\"models\",\n",
    "    bucket_name=\"cs3244-twemoji-ay2425-s2\",\n",
    "    s3_prefix=\"models/\"\n",
    ")"
   ]
  },
  {
   "cell_type": "markdown",
   "metadata": {},
   "source": [
    "### 8. Reloading Models 💡"
   ]
  },
  {
   "cell_type": "markdown",
   "metadata": {},
   "source": [
    "#### 8.1.1. Local Loading (Optional / Not Recommended)\n",
    "Not recommended for first-time, you are not likely to have all of the models cached into your models folder"
   ]
  },
  {
   "cell_type": "code",
   "execution_count": 34,
   "metadata": {},
   "outputs": [
    {
     "name": "stdout",
     "output_type": "stream",
     "text": [
      "Loaded Keras model: baseline_nn_weights\n",
      "Loaded joblib model: CatBoost\n",
      "Loaded joblib model: Decision_Tree\n",
      "Loaded joblib model: LightGBM\n",
      "Loaded joblib model: logistic_regression\n",
      "Loaded joblib model: XGBoost\n"
     ]
    },
    {
     "name": "stderr",
     "output_type": "stream",
     "text": [
      "c:\\Users\\Jason\\Documents\\GitHub\\cs3244\\venv\\Lib\\site-packages\\keras\\src\\saving\\saving_lib.py:757: UserWarning: Skipping variable loading for optimizer 'rmsprop', because it has 8 variables whereas the saved optimizer has 2 variables. \n",
      "  saveable.load_own_variables(weights_store.get(inner_path))\n",
      "c:\\Users\\Jason\\Documents\\GitHub\\cs3244\\venv\\Lib\\site-packages\\sklearn\\base.py:380: InconsistentVersionWarning: Trying to unpickle estimator DecisionTreeClassifier from version 1.4.2 when using version 1.6.1. This might lead to breaking code or invalid results. Use at your own risk. For more info please refer to:\n",
      "https://scikit-learn.org/stable/model_persistence.html#security-maintainability-limitations\n",
      "  warnings.warn(\n",
      "c:\\Users\\Jason\\Documents\\GitHub\\cs3244\\venv\\Lib\\site-packages\\sklearn\\base.py:380: InconsistentVersionWarning: Trying to unpickle estimator LabelEncoder from version 1.4.2 when using version 1.6.1. This might lead to breaking code or invalid results. Use at your own risk. For more info please refer to:\n",
      "https://scikit-learn.org/stable/model_persistence.html#security-maintainability-limitations\n",
      "  warnings.warn(\n",
      "c:\\Users\\Jason\\Documents\\GitHub\\cs3244\\venv\\Lib\\site-packages\\sklearn\\base.py:380: InconsistentVersionWarning: Trying to unpickle estimator LogisticRegression from version 1.4.1.post1 when using version 1.6.1. This might lead to breaking code or invalid results. Use at your own risk. For more info please refer to:\n",
      "https://scikit-learn.org/stable/model_persistence.html#security-maintainability-limitations\n",
      "  warnings.warn(\n"
     ]
    }
   ],
   "source": [
    "def load_models(model_dir=\"models\"):\n",
    "    loaded_models = {}\n",
    "\n",
    "    for file in os.listdir(model_dir):\n",
    "        full_path = os.path.join(model_dir, file)\n",
    "\n",
    "        if not os.path.isfile(full_path):\n",
    "            continue\n",
    "\n",
    "        model_name, ext = os.path.splitext(file)\n",
    "\n",
    "        try:\n",
    "            if ext == \".pkl\":\n",
    "                # Try joblib first\n",
    "                try:\n",
    "                    loaded_models[model_name] = joblib.load(full_path)\n",
    "                    print(f\"Loaded joblib model: {model_name}\")\n",
    "                except Exception as e:\n",
    "                    print(f\"Joblib failed on {file}, trying pickle...\")\n",
    "\n",
    "                    with open(full_path, \"rb\") as f:\n",
    "                        first_byte = f.read(1)\n",
    "                        f.seek(0)\n",
    "                        if first_byte == b'\\x80':\n",
    "                            loaded_models[model_name] = pickle.load(f)\n",
    "                            print(f\"Loaded pickle model: {model_name}\")\n",
    "                        else:\n",
    "                            print(f\"Skipped non-pickle .pkl file: {file}\")\n",
    "\n",
    "            elif ext == \".keras\":\n",
    "                loaded_models[model_name] = keras_load_model(full_path)\n",
    "                print(f\"Loaded Keras model: {model_name}\")\n",
    "\n",
    "            else:\n",
    "                print(f\"Skipped unrelated file: {file}\")\n",
    "\n",
    "        except Exception as e:\n",
    "            print(f\"Error loading {file}: {e}\")\n",
    "\n",
    "    return loaded_models\n",
    "\n",
    "\n",
    "# Usage\n",
    "models = load_models(model_dir=\"models\")\n"
   ]
  },
  {
   "cell_type": "markdown",
   "metadata": {},
   "source": [
    "#### 8.1.2 S3-Based Loading (Recommended)\n",
    "OK to run regardless of whether you're first-time or not, but do note that this is definitely slower lol so use the local loading option once you're finished loading the cache files into your local"
   ]
  },
  {
   "cell_type": "code",
   "execution_count": null,
   "metadata": {},
   "outputs": [],
   "source": [
    "def load_models_from_s3(session, model_names, model_dir=\"models\", bucket_name=\"cs3244-twemoji-ay2425-s2\", s3_prefix=\"models/\"):\n",
    "    os.makedirs(model_dir, exist_ok=True)\n",
    "    s3 = session.client(\"s3\")\n",
    "    loaded_models = {}\n",
    "\n",
    "    for name in model_names:\n",
    "        pkl_path = os.path.join(model_dir, f\"{name}.pkl\")\n",
    "        keras_path = os.path.join(model_dir, f\"{name}.keras\")\n",
    "\n",
    "        # check if we alr loaded itin aka the person running this is\n",
    "        # the one who made and cached this one specific model\n",
    "        if not os.path.exists(pkl_path) and not os.path.exists(keras_path):\n",
    "            print(f\"{name} not found locally. Downloading from S3!\")\n",
    "\n",
    "            for ext in [\"pkl\", \"keras\"]: # if for some reason ur cache is in diff extension, pls extend this list\n",
    "                key = f\"{s3_prefix}{name}.{ext}\"\n",
    "                local_path = os.path.join(model_dir, f\"{name}.{ext}\")\n",
    "\n",
    "                try:\n",
    "                    s3.download_file(bucket_name, key, local_path)\n",
    "                    print(f\"Downloaded {name}.{ext} from S3\")\n",
    "                    break\n",
    "                except Exception as e:\n",
    "                    continue # must be the next extension then \n",
    "\n",
    "        # Now try loading\n",
    "        if os.path.exists(pkl_path):\n",
    "            with open(pkl_path, \"rb\") as f:\n",
    "                loaded_models[name] = pickle.load(f)\n",
    "            print(f\"Loaded sKlearn model: {name}\")\n",
    "\n",
    "        elif os.path.exists(keras_path):\n",
    "            loaded_models[name] = keras_load_model(keras_path)\n",
    "            print(f\"Loaded Keras model: {name}\")\n",
    "\n",
    "        else:\n",
    "            print(f\"Model file for {name} not found locally or on S3.\")\n",
    "\n",
    "    return loaded_models\n",
    "\n",
    "models = load_models_from_s3(\n",
    "    session=session,\n",
    "    model_names=model_names,\n",
    "    model_dir=\"models\",  # local save path\n",
    "    bucket_name=\"cs3244-twemoji-ay2425-s2\",\n",
    "    s3_prefix=\"models/\"\n",
    ")"
   ]
  },
  {
   "cell_type": "code",
   "execution_count": 29,
   "metadata": {},
   "outputs": [
    {
     "name": "stdout",
     "output_type": "stream",
     "text": [
      "dict_keys(['baseline_nn_weights', 'CatBoost', 'Decision_Tree', 'image_simpleCNN', 'LightGBM', 'logistic_regression', 'XGBoost'])\n"
     ]
    }
   ],
   "source": [
    "print(models.keys())"
   ]
  },
  {
   "cell_type": "markdown",
   "metadata": {},
   "source": [
    "### 9. Model Evaluations and Comparisons 🤔"
   ]
  },
  {
   "cell_type": "code",
   "execution_count": 35,
   "metadata": {},
   "outputs": [],
   "source": [
    "def evaluate_models(\n",
    "    models,\n",
    "    X_valid,\n",
    "    y_valid,\n",
    "    X_test,\n",
    "    y_test,\n",
    "    scaled_model_names=None,\n",
    "    normalised_model_names=None,\n",
    "    show_confusion=False,\n",
    "    k=3\n",
    "):\n",
    "    results = []\n",
    "\n",
    "    for name, model in models.items():\n",
    "        print(f\"\\nCurrently evaluating the model: {name}\")\n",
    "        \n",
    "        # Select input data variant\n",
    "        if scaled_model_names and name in scaled_model_names:\n",
    "            x_val = X_valid_scaled\n",
    "            x_test = X_test_scaled\n",
    "        elif normalised_model_names and name in normalised_model_names:\n",
    "            x_val = X_valid_normalised\n",
    "            x_test = X_test_normalised\n",
    "        else:\n",
    "            x_val = X_valid\n",
    "            x_test = X_test\n",
    "\n",
    "        # Infer if it's a Keras model\n",
    "        is_keras = \"tensorflow\" in str(type(model)).lower()\n",
    "\n",
    "        try:\n",
    "            # ---- LATENCY TEST ----\n",
    "            sample = x_test[0]\n",
    "\n",
    "            if is_keras:\n",
    "                expected_shape = model.input_shape[1:]\n",
    "\n",
    "                if len(expected_shape) == 1:\n",
    "                    # MLP-style: (features,)\n",
    "                    sample = sample.reshape(1, -1)\n",
    "                    x_val_input = x_val\n",
    "                    x_test_input = x_test\n",
    "\n",
    "                elif len(expected_shape) == 3:\n",
    "                    # CNN-style: (height, width, channels)\n",
    "                    sample = sample.reshape((1, *expected_shape))\n",
    "                    x_val_input = x_val.reshape((-1, *expected_shape))\n",
    "                    x_test_input = x_test.reshape((-1, *expected_shape))\n",
    "\n",
    "                else:\n",
    "                    raise ValueError(f\"Unsupported input shape: {expected_shape}\")\n",
    "\n",
    "                start_time = time.time()\n",
    "                _ = model.predict(sample)\n",
    "                latency_ms = (time.time() - start_time) * 1000\n",
    "\n",
    "                y_val_prob = model.predict(x_val_input)\n",
    "                y_test_prob = model.predict(x_test_input)\n",
    "                y_val_pred = y_val_prob.argmax(axis=1)\n",
    "                y_test_pred = y_test_prob.argmax(axis=1)\n",
    "                topk_val = top_k_accuracy_score(y_valid, y_val_prob, k=k)\n",
    "                topk_test = top_k_accuracy_score(y_test, y_test_prob, k=k)\n",
    "\n",
    "            else:\n",
    "                # sklearn-style\n",
    "                sample = sample.reshape(1, -1)\n",
    "                start_time = time.time()\n",
    "                _ = model.predict(sample)\n",
    "                latency_ms = (time.time() - start_time) * 1000\n",
    "\n",
    "                if hasattr(model, \"predict_proba\"):\n",
    "                    y_val_prob = model.predict_proba(x_val)\n",
    "                    y_test_prob = model.predict_proba(x_test)\n",
    "                    y_val_pred = np.argmax(y_val_prob, axis=1)\n",
    "                    y_test_pred = np.argmax(y_test_prob, axis=1)\n",
    "                    topk_val = top_k_accuracy_score(y_valid, y_val_prob, k=k)\n",
    "                    topk_test = top_k_accuracy_score(y_test, y_test_prob, k=k)\n",
    "                else:\n",
    "                    y_val_pred = model.predict(x_val)\n",
    "                    y_test_pred = model.predict(x_test)\n",
    "                    if len(y_test_pred.shape) > 1:\n",
    "                        y_val_pred = y_val_pred.argmax(axis=1)\n",
    "                        y_test_pred = y_test_pred.argmax(axis=1)\n",
    "                    topk_val = topk_test = None\n",
    "\n",
    "            acc_val = accuracy_score(y_valid, y_val_pred)\n",
    "            acc_test = accuracy_score(y_test, y_test_pred)\n",
    "            macro_f1 = f1_score(y_test, y_test_pred, average=\"macro\")\n",
    "\n",
    "            if show_confusion:\n",
    "                cm = confusion_matrix(y_test, y_test_pred)\n",
    "                disp = ConfusionMatrixDisplay(confusion_matrix=cm)\n",
    "                disp.plot(cmap=\"Blues\")\n",
    "                plt.title(f\"Confusion Matrix: {name}\")\n",
    "                plt.show()\n",
    "\n",
    "            results.append({\n",
    "                \"Model\": name,\n",
    "                \"Val Accuracy\": round(acc_val, 4),\n",
    "                \"Test Accuracy\": round(acc_test, 4),\n",
    "                f\"Top-{k} Accuracy\": round(topk_test, 4) if topk_test is not None else \"N/A\",\n",
    "                \"Macro-F1\": round(macro_f1, 4),\n",
    "                \"Latency (ms)\": round(latency_ms, 2)\n",
    "            })\n",
    "\n",
    "        except Exception as e:\n",
    "            print(f\"❌ Skipping model '{name}' due to error: {e}\")\n",
    "            continue\n",
    "\n",
    "    df = pd.DataFrame(results).sort_values(\"Test Accuracy\", ascending=False)\n",
    "\n",
    "    # 🏆 Podium\n",
    "    podium = df.head(3)\n",
    "    medals = [\"🥇\", \"🥈\", \"🥉\"]\n",
    "    for i in range(len(podium)):\n",
    "        model_name = podium.iloc[i][\"Model\"]\n",
    "        display(Markdown(f\"### {medals[i]} **{model_name}** with {podium.iloc[i]['Test Accuracy']*100:.2f}% test accuracy!\"))\n",
    "\n",
    "    display(df.reset_index(drop=True))\n",
    "    return df\n"
   ]
  },
  {
   "cell_type": "code",
   "execution_count": 36,
   "metadata": {},
   "outputs": [
    {
     "name": "stdout",
     "output_type": "stream",
     "text": [
      "\n",
      "Currently evaluating the model: baseline_nn_weights\n",
      "\u001b[1m1/1\u001b[0m \u001b[32m━━━━━━━━━━━━━━━━━━━━\u001b[0m\u001b[37m\u001b[0m \u001b[1m0s\u001b[0m 55ms/step\n",
      "\u001b[1m539/539\u001b[0m \u001b[32m━━━━━━━━━━━━━━━━━━━━\u001b[0m\u001b[37m\u001b[0m \u001b[1m1s\u001b[0m 1ms/step\n",
      "\u001b[1m534/534\u001b[0m \u001b[32m━━━━━━━━━━━━━━━━━━━━\u001b[0m\u001b[37m\u001b[0m \u001b[1m1s\u001b[0m 1ms/step\n"
     ]
    },
    {
     "data": {
      "image/png": "[encoded data removed]",
      "text/plain": [
       "<Figure size 640x480 with 2 Axes>"
      ]
     },
     "metadata": {},
     "output_type": "display_data"
    },
    {
     "name": "stdout",
     "output_type": "stream",
     "text": [
      "\n",
      "Currently evaluating the model: CatBoost\n"
     ]
    },
    {
     "data": {
      "image/png": "[encoded data removed]",
      "text/plain": [
       "<Figure size 640x480 with 2 Axes>"
      ]
     },
     "metadata": {},
     "output_type": "display_data"
    },
    {
     "name": "stdout",
     "output_type": "stream",
     "text": [
      "\n",
      "Currently evaluating the model: Decision_Tree\n"
     ]
    },
    {
     "data": {
      "image/png": "[encoded data removed]",
      "text/plain": [
       "<Figure size 640x480 with 2 Axes>"
      ]
     },
     "metadata": {},
     "output_type": "display_data"
    },
    {
     "name": "stdout",
     "output_type": "stream",
     "text": [
      "\n",
      "Currently evaluating the model: LightGBM\n"
     ]
    },
    {
     "name": "stderr",
     "output_type": "stream",
     "text": [
      "c:\\Users\\Jason\\Documents\\GitHub\\cs3244\\venv\\Lib\\site-packages\\sklearn\\utils\\validation.py:2739: UserWarning: X does not have valid feature names, but LGBMClassifier was fitted with feature names\n",
      "  warnings.warn(\n",
      "c:\\Users\\Jason\\Documents\\GitHub\\cs3244\\venv\\Lib\\site-packages\\sklearn\\utils\\validation.py:2739: UserWarning: X does not have valid feature names, but LGBMClassifier was fitted with feature names\n",
      "  warnings.warn(\n",
      "c:\\Users\\Jason\\Documents\\GitHub\\cs3244\\venv\\Lib\\site-packages\\sklearn\\utils\\validation.py:2739: UserWarning: X does not have valid feature names, but LGBMClassifier was fitted with feature names\n",
      "  warnings.warn(\n"
     ]
    },
    {
     "data": {
      "image/png": "[encoded data removed]",
      "text/plain": [
       "<Figure size 640x480 with 2 Axes>"
      ]
     },
     "metadata": {},
     "output_type": "display_data"
    },
    {
     "name": "stdout",
     "output_type": "stream",
     "text": [
      "\n",
      "Currently evaluating the model: logistic_regression\n"
     ]
    },
    {
     "data": {
      "image/png": "[encoded data removed]",
      "text/plain": [
       "<Figure size 640x480 with 2 Axes>"
      ]
     },
     "metadata": {},
     "output_type": "display_data"
    },
    {
     "name": "stdout",
     "output_type": "stream",
     "text": [
      "\n",
      "Currently evaluating the model: XGBoost\n"
     ]
    },
    {
     "data": {
      "image/png": "[encoded data removed]",
      "text/plain": [
       "<Figure size 640x480 with 2 Axes>"
      ]
     },
     "metadata": {},
     "output_type": "display_data"
    },
    {
     "data": {
      "text/markdown": [
       "### 🥇 **baseline_nn_weights** with 44.28% test accuracy!"
      ],
      "text/plain": [
       "<IPython.core.display.Markdown object>"
      ]
     },
     "metadata": {},
     "output_type": "display_data"
    },
    {
     "data": {
      "text/markdown": [
       "### 🥈 **CatBoost** with 43.93% test accuracy!"
      ],
      "text/plain": [
       "<IPython.core.display.Markdown object>"
      ]
     },
     "metadata": {},
     "output_type": "display_data"
    },
    {
     "data": {
      "text/markdown": [
       "### 🥉 **logistic_regression** with 43.21% test accuracy!"
      ],
      "text/plain": [
       "<IPython.core.display.Markdown object>"
      ]
     },
     "metadata": {},
     "output_type": "display_data"
    },
    {
     "data": {
      "text/html": [
       "<div>\n",
       "<style scoped>\n",
       "    .dataframe tbody tr th:only-of-type {\n",
       "        vertical-align: middle;\n",
       "    }\n",
       "\n",
       "    .dataframe tbody tr th {\n",
       "        vertical-align: top;\n",
       "    }\n",
       "\n",
       "    .dataframe thead th {\n",
       "        text-align: right;\n",
       "    }\n",
       "</style>\n",
       "<table border=\"1\" class=\"dataframe\">\n",
       "  <thead>\n",
       "    <tr style=\"text-align: right;\">\n",
       "      <th></th>\n",
       "      <th>Model</th>\n",
       "      <th>Val Accuracy</th>\n",
       "      <th>Test Accuracy</th>\n",
       "      <th>Top-3 Accuracy</th>\n",
       "      <th>Macro-F1</th>\n",
       "      <th>Latency (ms)</th>\n",
       "    </tr>\n",
       "  </thead>\n",
       "  <tbody>\n",
       "    <tr>\n",
       "      <th>0</th>\n",
       "      <td>baseline_nn_weights</td>\n",
       "      <td>0.4400</td>\n",
       "      <td>0.4428</td>\n",
       "      <td>N/A</td>\n",
       "      <td>0.4201</td>\n",
       "      <td>115.96</td>\n",
       "    </tr>\n",
       "    <tr>\n",
       "      <th>1</th>\n",
       "      <td>CatBoost</td>\n",
       "      <td>0.4436</td>\n",
       "      <td>0.4393</td>\n",
       "      <td>0.8446</td>\n",
       "      <td>0.4243</td>\n",
       "      <td>4.00</td>\n",
       "    </tr>\n",
       "    <tr>\n",
       "      <th>2</th>\n",
       "      <td>logistic_regression</td>\n",
       "      <td>0.4344</td>\n",
       "      <td>0.4321</td>\n",
       "      <td>0.8363</td>\n",
       "      <td>0.4231</td>\n",
       "      <td>0.00</td>\n",
       "    </tr>\n",
       "    <tr>\n",
       "      <th>3</th>\n",
       "      <td>XGBoost</td>\n",
       "      <td>0.4337</td>\n",
       "      <td>0.4302</td>\n",
       "      <td>0.8341</td>\n",
       "      <td>0.4154</td>\n",
       "      <td>6.93</td>\n",
       "    </tr>\n",
       "    <tr>\n",
       "      <th>4</th>\n",
       "      <td>LightGBM</td>\n",
       "      <td>0.4351</td>\n",
       "      <td>0.4286</td>\n",
       "      <td>0.8329</td>\n",
       "      <td>0.4123</td>\n",
       "      <td>12.90</td>\n",
       "    </tr>\n",
       "    <tr>\n",
       "      <th>5</th>\n",
       "      <td>Decision_Tree</td>\n",
       "      <td>0.3458</td>\n",
       "      <td>0.3403</td>\n",
       "      <td>0.7571</td>\n",
       "      <td>0.3249</td>\n",
       "      <td>0.00</td>\n",
       "    </tr>\n",
       "  </tbody>\n",
       "</table>\n",
       "</div>"
      ],
      "text/plain": [
       "                 Model  Val Accuracy  Test Accuracy Top-3 Accuracy  Macro-F1  \\\n",
       "0  baseline_nn_weights        0.4400         0.4428            N/A    0.4201   \n",
       "1             CatBoost        0.4436         0.4393         0.8446    0.4243   \n",
       "2  logistic_regression        0.4344         0.4321         0.8363    0.4231   \n",
       "3              XGBoost        0.4337         0.4302         0.8341    0.4154   \n",
       "4             LightGBM        0.4351         0.4286         0.8329    0.4123   \n",
       "5        Decision_Tree        0.3458         0.3403         0.7571    0.3249   \n",
       "\n",
       "   Latency (ms)  \n",
       "0        115.96  \n",
       "1          4.00  \n",
       "2          0.00  \n",
       "3          6.93  \n",
       "4         12.90  \n",
       "5          0.00  "
      ]
     },
     "metadata": {},
     "output_type": "display_data"
    }
   ],
   "source": [
    "df_results = evaluate_models(\n",
    "    models,\n",
    "    X_valid,\n",
    "    y_valid,\n",
    "    X_test,\n",
    "    y_test,\n",
    "    scaled_model_names=[\"logistic_regression\", \"svm\", \"simple_neural\", \"cnn\"],\n",
    "    show_confusion=True,\n",
    "    k=3\n",
    ")\n"
   ]
  },
  {
   "cell_type": "markdown",
   "metadata": {},
   "source": [
    "### 10. Conclusion 😎"
   ]
  }
 ],
 "metadata": {
  "kernelspec": {
   "display_name": "venv",
   "language": "python",
   "name": "python3"
  },
  "language_info": {
   "codemirror_mode": {
    "name": "ipython",
    "version": 3
   },
   "file_extension": ".py",
   "mimetype": "text/x-python",
   "name": "python",
   "nbconvert_exporter": "python",
   "pygments_lexer": "ipython3",
   "version": "3.12.5"
  }
 },
 "nbformat": 4,
 "nbformat_minor": 4
}
