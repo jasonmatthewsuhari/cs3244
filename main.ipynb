{
 "cells": [
  {
   "cell_type": "markdown",
   "metadata": {},
   "source": [
    "# 🤖 Twemoji Classifier – CS3244 AY24/25 Sem 2\n",
    "\n",
    "**Group Members:**  \n",
    "- Jason Matthew Suhari  \n",
    "- Bryan Castorius Halim  \n",
    "- Nigel Eng Wee Kiat  \n",
    "- Muhammad Salman Al Farisi  \n",
    "- Ng Jia Hao Sherwin  \n",
    "- Ryan Justyn\n",
    "\n",
    "This notebook builds and evaluates baseline models for classifying tweets into emojis using the Twemoji dataset. It's the main entry point!"
   ]
  },
  {
   "cell_type": "markdown",
   "metadata": {},
   "source": [
    "### 1. Imports and Setup 📩"
   ]
  },
  {
   "cell_type": "markdown",
   "metadata": {},
   "source": [
    "#### 1.1 Utility Imports"
   ]
  },
  {
   "cell_type": "code",
   "execution_count": 25,
   "metadata": {},
   "outputs": [],
   "source": [
    "# Imports\n",
    "import os\n",
    "import numpy as np\n",
    "import pandas as pd\n",
    "import joblib\n",
    "import requests\n",
    "from pathlib import Path\n",
    "from tensorflow.keras.models import load_model as keras_load_model\n",
    "import pandas as pd\n",
    "import numpy as np\n",
    "import os\n",
    "from IPython.display import HTML, display\n",
    "import matplotlib.pyplot as plt"
   ]
  },
  {
   "cell_type": "markdown",
   "metadata": {},
   "source": [
    "#### 1.2 ML Imports"
   ]
  },
  {
   "cell_type": "code",
   "execution_count": 35,
   "metadata": {},
   "outputs": [],
   "source": [
    "from sklearn.linear_model import LogisticRegression\n",
    "from sklearn.datasets import make_classification\n",
    "from sklearn.model_selection import train_test_split\n",
    "from sklearn.metrics import classification_report, confusion_matrix, accuracy_score\n",
    "from sklearn.preprocessing import StandardScaler"
   ]
  },
  {
   "cell_type": "markdown",
   "metadata": {},
   "source": [
    "### 2. S3 Bucket Data Loading 🪣"
   ]
  },
  {
   "cell_type": "code",
   "execution_count": 21,
   "metadata": {},
   "outputs": [
    {
     "name": "stdout",
     "output_type": "stream",
     "text": [
      "test_bert_embeddings.npy already exists. Skipping download.\n",
      "train_bert_embeddings.npy already exists. Skipping download.\n",
      "valid_bert_embeddings.npy already exists. Skipping download.\n",
      "train_with_bert_embeddings.csv already exists. Skipping download.\n",
      "valid_with_bert_embeddings.csv already exists. Skipping download.\n",
      "test_with_bert_embeddings.csv already exists. Skipping download.\n"
     ]
    }
   ],
   "source": [
    "# all of the s3 item urls are kept in urls.txt, maybe we should wrap this into a function in case it isnt\n",
    "with open(\"urls.txt\", \"r\") as f:\n",
    "    urls = [line.strip() for line in f.readlines() if line.strip()]\n",
    "\n",
    "\n",
    "loaded_data = {}\n",
    "for url in urls:\n",
    "    filename = os.path.basename(url)\n",
    "    filepath = os.path.join(\"data\", filename)\n",
    "\n",
    "    if not os.path.exists(filepath):\n",
    "        print(f\"Downloading {filename} from the s3 bucket...\")\n",
    "        response = requests.get(url)\n",
    "        if response.status_code == 200:\n",
    "            with open(filepath, \"wb\") as f:\n",
    "                f.write(response.content)\n",
    "        else:\n",
    "            print(f\"Failed to download {filename}: {response.status_code}\")\n",
    "            continue\n",
    "    else:\n",
    "        print(f\"{filename} already exists. Skipping download.\")\n",
    "\n",
    "    try:\n",
    "        if filename.endswith(\".npy\"):\n",
    "            loaded_data[filename] = np.load(filepath, allow_pickle=True)\n",
    "        elif filename.endswith(\".csv\"):\n",
    "            loaded_data[filename] = pd.read_csv(filepath)\n",
    "        else:\n",
    "            print(f\"Unsupported file type: {filename}\")\n",
    "    except Exception as e:\n",
    "        print(f\"Failed to load {filename}: {e}\")\n"
   ]
  },
  {
   "cell_type": "markdown",
   "metadata": {},
   "source": [
    "### 3. Exploratory Data Analysis (EDA) 🔍\n",
    "Full EDA code can be found in the eda.ipynb folder. To save space in the main notebook, we have collated just the figures."
   ]
  },
  {
   "cell_type": "code",
   "execution_count": null,
   "metadata": {},
   "outputs": [
    {
     "data": {
      "text/html": [
       "\n",
       "<style>\n",
       "  body {\n",
       "    margin: 0;\n",
       "    padding: 0;\n",
       "  }\n",
       "\n",
       "  .grid-wrapper {\n",
       "    padding: 40px 20px 60px 20px;\n",
       "  }\n",
       "\n",
       "  .grid-container {\n",
       "    display: grid;\n",
       "    grid-template-columns: repeat(auto-fill, minmax(250px, 1fr));\n",
       "    gap: 16px;\n",
       "  }\n",
       "\n",
       "  .grid-item {\n",
       "    text-align: center;\n",
       "  }\n",
       "\n",
       "  .grid-item img {\n",
       "    width: 100%;\n",
       "    height: auto;\n",
       "    border-radius: 8px;\n",
       "    cursor: pointer;\n",
       "    box-shadow: 0 4px 8px rgba(0,0,0,0.1);\n",
       "    transition: transform 0.2s ease-in-out;\n",
       "  }\n",
       "\n",
       "  .grid-item img:hover {\n",
       "    transform: scale(1.05);\n",
       "  }\n",
       "\n",
       "  dialog::backdrop {\n",
       "    background: rgba(0, 0, 0, 0.9);\n",
       "  }\n",
       "\n",
       "  dialog {\n",
       "    border: none;\n",
       "    background: transparent;\n",
       "    padding: 0;\n",
       "    margin: auto;\n",
       "    z-index: 9999;\n",
       "  }\n",
       "\n",
       "  dialog img {\n",
       "    max-width: 90vw;\n",
       "    max-height: 90vh;\n",
       "    display: block;\n",
       "    margin: auto;\n",
       "    border-radius: 10px;\n",
       "    box-shadow: 0 6px 20px rgba(0,0,0,0.4);\n",
       "  }\n",
       "</style>\n",
       "\n",
       "<div class=\"grid-wrapper\">\n",
       "  <div class=\"grid-container\">\n",
       "\n",
       "    <div class=\"grid-item\">\n",
       "      <img src=\"plots/annotation_frequency.png\" onclick=\"document.getElementById('dialog0').showModal()\">\n",
       "      <p style=\"font-size: 14px;\">annotation_frequency.png</p>\n",
       "    </div>\n",
       "    <dialog id=\"dialog0\" onclick=\"this.close()\">\n",
       "      <img src=\"plots/annotation_frequency.png\" alt=\"annotation_frequency.png\">\n",
       "    </dialog>\n",
       "    \n",
       "    <div class=\"grid-item\">\n",
       "      <img src=\"plots/avg_word_length.png\" onclick=\"document.getElementById('dialog1').showModal()\">\n",
       "      <p style=\"font-size: 14px;\">avg_word_length.png</p>\n",
       "    </div>\n",
       "    <dialog id=\"dialog1\" onclick=\"this.close()\">\n",
       "      <img src=\"plots/avg_word_length.png\" alt=\"avg_word_length.png\">\n",
       "    </dialog>\n",
       "    \n",
       "    <div class=\"grid-item\">\n",
       "      <img src=\"plots/bert_scores.png\" onclick=\"document.getElementById('dialog2').showModal()\">\n",
       "      <p style=\"font-size: 14px;\">bert_scores.png</p>\n",
       "    </div>\n",
       "    <dialog id=\"dialog2\" onclick=\"this.close()\">\n",
       "      <img src=\"plots/bert_scores.png\" alt=\"bert_scores.png\">\n",
       "    </dialog>\n",
       "    \n",
       "    <div class=\"grid-item\">\n",
       "      <img src=\"plots/polarity_dist.png\" onclick=\"document.getElementById('dialog3').showModal()\">\n",
       "      <p style=\"font-size: 14px;\">polarity_dist.png</p>\n",
       "    </div>\n",
       "    <dialog id=\"dialog3\" onclick=\"this.close()\">\n",
       "      <img src=\"plots/polarity_dist.png\" alt=\"polarity_dist.png\">\n",
       "    </dialog>\n",
       "    \n",
       "    <div class=\"grid-item\">\n",
       "      <img src=\"plots/repeated_words.png\" onclick=\"document.getElementById('dialog4').showModal()\">\n",
       "      <p style=\"font-size: 14px;\">repeated_words.png</p>\n",
       "    </div>\n",
       "    <dialog id=\"dialog4\" onclick=\"this.close()\">\n",
       "      <img src=\"plots/repeated_words.png\" alt=\"repeated_words.png\">\n",
       "    </dialog>\n",
       "    \n",
       "    <div class=\"grid-item\">\n",
       "      <img src=\"plots/sentiment_dist.png\" onclick=\"document.getElementById('dialog5').showModal()\">\n",
       "      <p style=\"font-size: 14px;\">sentiment_dist.png</p>\n",
       "    </div>\n",
       "    <dialog id=\"dialog5\" onclick=\"this.close()\">\n",
       "      <img src=\"plots/sentiment_dist.png\" alt=\"sentiment_dist.png\">\n",
       "    </dialog>\n",
       "    \n",
       "    <div class=\"grid-item\">\n",
       "      <img src=\"plots/stop_words.png\" onclick=\"document.getElementById('dialog6').showModal()\">\n",
       "      <p style=\"font-size: 14px;\">stop_words.png</p>\n",
       "    </div>\n",
       "    <dialog id=\"dialog6\" onclick=\"this.close()\">\n",
       "      <img src=\"plots/stop_words.png\" alt=\"stop_words.png\">\n",
       "    </dialog>\n",
       "    \n",
       "    <div class=\"grid-item\">\n",
       "      <img src=\"plots/text_length.png\" onclick=\"document.getElementById('dialog7').showModal()\">\n",
       "      <p style=\"font-size: 14px;\">text_length.png</p>\n",
       "    </div>\n",
       "    <dialog id=\"dialog7\" onclick=\"this.close()\">\n",
       "      <img src=\"plots/text_length.png\" alt=\"text_length.png\">\n",
       "    </dialog>\n",
       "    \n",
       "    <div class=\"grid-item\">\n",
       "      <img src=\"plots/typo_counts.png\" onclick=\"document.getElementById('dialog8').showModal()\">\n",
       "      <p style=\"font-size: 14px;\">typo_counts.png</p>\n",
       "    </div>\n",
       "    <dialog id=\"dialog8\" onclick=\"this.close()\">\n",
       "      <img src=\"plots/typo_counts.png\" alt=\"typo_counts.png\">\n",
       "    </dialog>\n",
       "    \n",
       "    <div class=\"grid-item\">\n",
       "      <img src=\"plots/word_cloud.png\" onclick=\"document.getElementById('dialog9').showModal()\">\n",
       "      <p style=\"font-size: 14px;\">word_cloud.png</p>\n",
       "    </div>\n",
       "    <dialog id=\"dialog9\" onclick=\"this.close()\">\n",
       "      <img src=\"plots/word_cloud.png\" alt=\"word_cloud.png\">\n",
       "    </dialog>\n",
       "    \n",
       "    <div class=\"grid-item\">\n",
       "      <img src=\"plots/word_counts.png\" onclick=\"document.getElementById('dialog10').showModal()\">\n",
       "      <p style=\"font-size: 14px;\">word_counts.png</p>\n",
       "    </div>\n",
       "    <dialog id=\"dialog10\" onclick=\"this.close()\">\n",
       "      <img src=\"plots/word_counts.png\" alt=\"word_counts.png\">\n",
       "    </dialog>\n",
       "    \n",
       "  </div>\n",
       "</div>\n",
       "\n",
       "<script>\n",
       "  // Optional: ESC to close the dialog\n",
       "  document.addEventListener(\"keydown\", function(event) {\n",
       "    if (event.key === \"Escape\") {\n",
       "      document.querySelectorAll(\"dialog[open]\").forEach(d => d.close());\n",
       "    }\n",
       "  });\n",
       "</script>\n"
      ],
      "text/plain": [
       "<IPython.core.display.HTML object>"
      ]
     },
     "metadata": {},
     "output_type": "display_data"
    }
   ],
   "source": [
    "import os\n",
    "from IPython.display import display, HTML\n",
    "\n",
    "plot_folder = \"plots/\"\n",
    "image_files = sorted([\n",
    "    f for f in os.listdir(plot_folder)\n",
    "    if f.lower().endswith((\".png\", \".jpg\", \".jpeg\"))\n",
    "])\n",
    "\n",
    "html_str = \"\"\"\n",
    "<style>\n",
    "  body {\n",
    "    margin: 0;\n",
    "    padding: 0;\n",
    "  }\n",
    "\n",
    "  .grid-wrapper {\n",
    "    padding: 40px 20px 60px 20px;\n",
    "  }\n",
    "\n",
    "  .grid-container {\n",
    "    display: grid;\n",
    "    grid-template-columns: repeat(auto-fill, minmax(250px, 1fr));\n",
    "    gap: 16px;\n",
    "  }\n",
    "\n",
    "  .grid-item {\n",
    "    text-align: center;\n",
    "  }\n",
    "\n",
    "  .grid-item img {\n",
    "    width: 100%;\n",
    "    height: auto;\n",
    "    border-radius: 8px;\n",
    "    cursor: pointer;\n",
    "    box-shadow: 0 4px 8px rgba(0,0,0,0.1);\n",
    "    transition: transform 0.2s ease-in-out;\n",
    "  }\n",
    "\n",
    "  .grid-item img:hover {\n",
    "    transform: scale(1.05);\n",
    "  }\n",
    "\n",
    "  dialog::backdrop {\n",
    "    background: rgba(0, 0, 0, 0.9);\n",
    "  }\n",
    "\n",
    "  dialog {\n",
    "    border: none;\n",
    "    background: transparent;\n",
    "    padding: 0;\n",
    "    margin: auto;\n",
    "    z-index: 9999;\n",
    "  }\n",
    "\n",
    "  dialog img {\n",
    "    max-width: 90vw;\n",
    "    max-height: 90vh;\n",
    "    display: block;\n",
    "    margin: auto;\n",
    "    border-radius: 10px;\n",
    "    box-shadow: 0 6px 20px rgba(0,0,0,0.4);\n",
    "  }\n",
    "</style>\n",
    "\n",
    "<div class=\"grid-wrapper\">\n",
    "  <div class=\"grid-container\">\n",
    "\"\"\"\n",
    "\n",
    "for idx, image in enumerate(image_files):\n",
    "    img_path = os.path.join(plot_folder, image).replace(\"\\\\\", \"/\")\n",
    "    html_str += f\"\"\"\n",
    "    <div class=\"grid-item\">\n",
    "      <img src=\"{img_path}\" onclick=\"document.getElementById('dialog{idx}').showModal()\">\n",
    "      <p style=\"font-size: 14px;\">{image}</p>\n",
    "    </div>\n",
    "    <dialog id=\"dialog{idx}\" onclick=\"this.close()\">\n",
    "      <img src=\"{img_path}\" alt=\"{image}\">\n",
    "    </dialog>\n",
    "    \"\"\"\n",
    "\n",
    "html_str += \"\"\"\n",
    "  </div>\n",
    "</div>\n",
    "\n",
    "<script>\n",
    "  // Optional: ESC to close the dialog\n",
    "  document.addEventListener(\"keydown\", function(event) {\n",
    "    if (event.key === \"Escape\") {\n",
    "      document.querySelectorAll(\"dialog[open]\").forEach(d => d.close());\n",
    "    }\n",
    "  });\n",
    "</script>\n",
    "\"\"\"\n",
    "\n",
    "display(HTML(html_str))\n",
    "\n",
    "#TODO: fix the weird clipping that happens when u open up one of the images\n"
   ]
  },
  {
   "cell_type": "markdown",
   "metadata": {},
   "source": [
    "### 4. Preprocessing ⚙️\n",
    "\n",
    "todo: someone pls add the preproc code here"
   ]
  },
  {
   "cell_type": "markdown",
   "metadata": {},
   "source": [
    "### 5. Baseline Model Training 🏋️"
   ]
  },
  {
   "cell_type": "markdown",
   "metadata": {},
   "source": [
    "Before we do any of the model training, probably best to explcitly define the data based on train-test-valid, instead of relying on just loaded_data."
   ]
  },
  {
   "cell_type": "code",
   "execution_count": 33,
   "metadata": {},
   "outputs": [],
   "source": [
    "train_df = loaded_data['train_with_bert_embeddings.csv']\n",
    "valid_df = loaded_data['valid_with_bert_embeddings.csv']\n",
    "test_df  = loaded_data['test_with_bert_embeddings.csv']\n",
    "\n",
    "X_train_full = loaded_data['train_bert_embeddings.npy']\n",
    "X_valid_full = loaded_data['valid_bert_embeddings.npy']\n",
    "X_test_full  = loaded_data['test_bert_embeddings.npy']\n",
    "\n",
    "X_train = np.array([X_train_full[i] for i in train_df['embedding_index']])\n",
    "y_train = train_df['label'].values\n",
    "\n",
    "X_valid = np.array([X_valid_full[i] for i in valid_df['embedding_index']])\n",
    "y_valid = valid_df['label'].values\n",
    "\n",
    "X_test = np.array([X_test_full[i] for i in test_df['embedding_index']])\n",
    "y_test = test_df['label'].values\n"
   ]
  },
  {
   "cell_type": "markdown",
   "metadata": {},
   "source": [
    "##### 5.1 Random Forest"
   ]
  },
  {
   "cell_type": "code",
   "execution_count": null,
   "metadata": {},
   "outputs": [],
   "source": [
    "# insert code for random forest model here\n",
    "rf_model = None"
   ]
  },
  {
   "cell_type": "markdown",
   "metadata": {},
   "source": [
    "##### 5.2 Support Vector Machine"
   ]
  },
  {
   "cell_type": "code",
   "execution_count": null,
   "metadata": {},
   "outputs": [],
   "source": [
    "# insert code for svm model here\n",
    "svm_model = None"
   ]
  },
  {
   "cell_type": "markdown",
   "metadata": {},
   "source": [
    "##### 5.3 Simple Neural Network"
   ]
  },
  {
   "cell_type": "code",
   "execution_count": null,
   "metadata": {},
   "outputs": [],
   "source": [
    "# insert code for nn model here\n",
    "snn_model = None"
   ]
  },
  {
   "cell_type": "markdown",
   "metadata": {},
   "source": [
    "##### 5.4 Convolutional Neural Network"
   ]
  },
  {
   "cell_type": "code",
   "execution_count": null,
   "metadata": {},
   "outputs": [],
   "source": [
    "# insert code for cnn model here\n",
    "cnn_model = None"
   ]
  },
  {
   "cell_type": "markdown",
   "metadata": {},
   "source": [
    "##### 5.5 Logistic Regression"
   ]
  },
  {
   "cell_type": "code",
   "execution_count": null,
   "metadata": {},
   "outputs": [
    {
     "name": "stdout",
     "output_type": "stream",
     "text": [
      "📊 Validation Accuracy: 0.4344190907507403\n",
      "              precision    recall  f1-score   support\n",
      "\n",
      "           0       0.57      0.55      0.56      4137\n",
      "           1       0.38      0.32      0.34      3493\n",
      "           2       0.35      0.33      0.34      2919\n",
      "           3       0.45      0.50      0.47      3671\n",
      "           4       0.38      0.43      0.41      3003\n",
      "\n",
      "    accuracy                           0.43     17223\n",
      "   macro avg       0.42      0.43      0.42     17223\n",
      "weighted avg       0.43      0.43      0.43     17223\n",
      "\n",
      "🧪 Test Accuracy: 0.4321045537127117\n",
      "              precision    recall  f1-score   support\n",
      "\n",
      "           0       0.55      0.55      0.55      3934\n",
      "           1       0.38      0.31      0.34      3546\n",
      "           2       0.35      0.35      0.35      2911\n",
      "           3       0.46      0.51      0.48      3619\n",
      "           4       0.38      0.41      0.40      3053\n",
      "\n",
      "    accuracy                           0.43     17063\n",
      "   macro avg       0.42      0.43      0.42     17063\n",
      "weighted avg       0.43      0.43      0.43     17063\n",
      "\n"
     ]
    }
   ],
   "source": [
    "logistic_regression_model = LogisticRegression(max_iter=1000, class_weight='balanced')\n",
    "logistic_regression_model.fit(X_train_scaled, y_train)\n"
   ]
  },
  {
   "cell_type": "markdown",
   "metadata": {},
   "source": [
    "##### 5.6 Image-Based Classifier"
   ]
  },
  {
   "cell_type": "code",
   "execution_count": null,
   "metadata": {},
   "outputs": [],
   "source": [
    "# insert code for image-based model here\n",
    "ib_classifier_model = None"
   ]
  },
  {
   "cell_type": "markdown",
   "metadata": {},
   "source": [
    "### 6. Alternative Models 🤷‍♂️"
   ]
  },
  {
   "cell_type": "markdown",
   "metadata": {},
   "source": [
    "### 7. Model Caching 🌚"
   ]
  },
  {
   "cell_type": "markdown",
   "metadata": {},
   "source": [
    "### 8. Reloading Models 💡"
   ]
  },
  {
   "cell_type": "code",
   "execution_count": null,
   "metadata": {},
   "outputs": [],
   "source": [
    "def load_all_models(model_dir=\"models/\"):\n",
    "    \"\"\"\n",
    "    Load all .pkl (joblib) and .h5 (Keras) models from a given directory.\n",
    "\n",
    "    Returns:\n",
    "        dict: { \"model_name\": model_object }\n",
    "    \"\"\"\n",
    "    model_dir = Path(model_dir)\n",
    "    models = {}\n",
    "    for model_path in model_dir.glob(\"*\"):\n",
    "        name = model_path.stem #todo: make sure that all of the models are named based on what they are e.g. logistic_regression.pkl\n",
    "        if model_path.suffix == \".pkl\":\n",
    "            model = joblib.load(model_path)\n",
    "            models[name] = {\"model\": model, \"is_keras\": False}\n",
    "\n",
    "        elif model_path.suffix == \".h5\":\n",
    "            model = keras_load_model(model_path)\n",
    "            models[name] = {\"model\": model, \"is_keras\": True}\n",
    "\n",
    "        else:\n",
    "            print(f\"Not a model file: {model_path.name}\")\n",
    "\n",
    "    return models"
   ]
  },
  {
   "cell_type": "code",
   "execution_count": null,
   "metadata": {},
   "outputs": [],
   "source": [
    "all_models = load_all_models(\"models/\")\n",
    "for name, model_entry in all_models.items():\n",
    "    print(f\"Loaded {name}: IsKeras = {model_entry['is_keras']}\")"
   ]
  },
  {
   "cell_type": "markdown",
   "metadata": {},
   "source": [
    "### 9. Model Evaluations and Comparisons 🤔"
   ]
  },
  {
   "cell_type": "code",
   "execution_count": null,
   "metadata": {},
   "outputs": [],
   "source": []
  }
 ],
 "metadata": {
  "kernelspec": {
   "display_name": "Python 3",
   "language": "python",
   "name": "python3"
  },
  "language_info": {
   "codemirror_mode": {
    "name": "ipython",
    "version": 3
   },
   "file_extension": ".py",
   "mimetype": "text/x-python",
   "name": "python",
   "nbconvert_exporter": "python",
   "pygments_lexer": "ipython3",
   "version": "3.12.5"
  }
 },
 "nbformat": 4,
 "nbformat_minor": 2
}
